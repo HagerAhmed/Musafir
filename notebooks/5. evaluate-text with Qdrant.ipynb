{
 "cells": [
  {
   "cell_type": "code",
   "execution_count": 1,
   "id": "4577bc52-fbab-45cc-86d6-772bd4a0ca58",
   "metadata": {},
   "outputs": [],
   "source": [
    "import os\n",
    "os.environ[\"SSL_CERT_FILE\"] = \"/mnt/d/Travel Assistant/Musafir/Fortinet_CA_SSL(15).cer\"\n",
    "os.environ[\"REQUESTS_CA_BUNDLE\"] = \"/mnt/d/Travel Assistant/Musafir/Fortinet_CA_SSL(15).cer\""
   ]
  },
  {
   "cell_type": "code",
   "execution_count": 2,
   "id": "beec5161-21ec-4fb3-a40a-9cb22aab8ad3",
   "metadata": {},
   "outputs": [
    {
     "name": "stderr",
     "output_type": "stream",
     "text": [
      "/mnt/d/Travel Assistant/Musafir/venv/lib/python3.12/site-packages/tqdm/auto.py:21: TqdmWarning: IProgress not found. Please update jupyter and ipywidgets. See https://ipywidgets.readthedocs.io/en/stable/user_install.html\n",
      "  from .autonotebook import tqdm as notebook_tqdm\n"
     ]
    }
   ],
   "source": [
    "from qdrant_client import QdrantClient, models\n",
    "import requests\n",
    "from fastembed import TextEmbedding\n",
    "import json\n",
    "import random\n",
    "import pandas as pd\n",
    "from tqdm.auto import tqdm\n"
   ]
  },
  {
   "cell_type": "code",
   "execution_count": 3,
   "id": "cfdcff3d-ad93-4434-85f4-0318fe7794d1",
   "metadata": {},
   "outputs": [],
   "source": [
    "# import the data \n",
    "with open('../data/processed_data/documents-with-ids.json', 'rt') as f_in:\n",
    "    documents = json.load(f_in)\n"
   ]
  },
  {
   "cell_type": "code",
   "execution_count": 4,
   "id": "19424633-c7dd-4c7e-b047-223bd962dc20",
   "metadata": {},
   "outputs": [
    {
     "data": {
      "text/plain": [
       "{'city': 'Cairo',\n",
       " 'section': 'Stay safe',\n",
       " 'subsection': 'Emergency services',\n",
       " 'text': 'Ambulance , ☏ 123 .',\n",
       " 'id': 'bff9ff8c'}"
      ]
     },
     "execution_count": 4,
     "metadata": {},
     "output_type": "execute_result"
    }
   ],
   "source": [
    "documents[11]"
   ]
  },
  {
   "cell_type": "code",
   "execution_count": 5,
   "id": "0bda450c-5dc5-4822-b07d-717115fd842e",
   "metadata": {},
   "outputs": [],
   "source": [
    "# Ground Truth data\n",
    "df_gt = pd.read_csv('../data/result/groud-truth-retrieval.csv')"
   ]
  },
  {
   "cell_type": "code",
   "execution_count": 6,
   "id": "3c8f9e85-f453-4619-8845-dfd0d432eac1",
   "metadata": {},
   "outputs": [
    {
     "data": {
      "text/html": [
       "<div>\n",
       "<style scoped>\n",
       "    .dataframe tbody tr th:only-of-type {\n",
       "        vertical-align: middle;\n",
       "    }\n",
       "\n",
       "    .dataframe tbody tr th {\n",
       "        vertical-align: top;\n",
       "    }\n",
       "\n",
       "    .dataframe thead th {\n",
       "        text-align: right;\n",
       "    }\n",
       "</style>\n",
       "<table border=\"1\" class=\"dataframe\">\n",
       "  <thead>\n",
       "    <tr style=\"text-align: right;\">\n",
       "      <th></th>\n",
       "      <th>id</th>\n",
       "      <th>city</th>\n",
       "      <th>question</th>\n",
       "    </tr>\n",
       "  </thead>\n",
       "  <tbody>\n",
       "    <tr>\n",
       "      <th>0</th>\n",
       "      <td>f7845786</td>\n",
       "      <td>Cairo</td>\n",
       "      <td>What is the name of the oldest known pyramid i...</td>\n",
       "    </tr>\n",
       "    <tr>\n",
       "      <th>1</th>\n",
       "      <td>f7845786</td>\n",
       "      <td>Cairo</td>\n",
       "      <td>Which pyramid in Dahshur has an entrance to th...</td>\n",
       "    </tr>\n",
       "    <tr>\n",
       "      <th>2</th>\n",
       "      <td>f7845786</td>\n",
       "      <td>Cairo</td>\n",
       "      <td>What is the distinctive feature of the Bent Py...</td>\n",
       "    </tr>\n",
       "    <tr>\n",
       "      <th>3</th>\n",
       "      <td>f7845786</td>\n",
       "      <td>Cairo</td>\n",
       "      <td>How many pyramids are mentioned to be in the D...</td>\n",
       "    </tr>\n",
       "    <tr>\n",
       "      <th>4</th>\n",
       "      <td>f7845786</td>\n",
       "      <td>Cairo</td>\n",
       "      <td>What is the atmosphere around Dahshur Pyramids...</td>\n",
       "    </tr>\n",
       "  </tbody>\n",
       "</table>\n",
       "</div>"
      ],
      "text/plain": [
       "         id   city                                           question\n",
       "0  f7845786  Cairo  What is the name of the oldest known pyramid i...\n",
       "1  f7845786  Cairo  Which pyramid in Dahshur has an entrance to th...\n",
       "2  f7845786  Cairo  What is the distinctive feature of the Bent Py...\n",
       "3  f7845786  Cairo  How many pyramids are mentioned to be in the D...\n",
       "4  f7845786  Cairo  What is the atmosphere around Dahshur Pyramids..."
      ]
     },
     "execution_count": 6,
     "metadata": {},
     "output_type": "execute_result"
    }
   ],
   "source": [
    "df_gt.head()"
   ]
  },
  {
   "cell_type": "code",
   "execution_count": 7,
   "id": "a40b49a7-caef-43bc-a804-1556a3c2c84b",
   "metadata": {},
   "outputs": [],
   "source": [
    "ground_truth = df_gt.to_dict(orient='records')"
   ]
  },
  {
   "cell_type": "code",
   "execution_count": 8,
   "id": "a662ed09-1526-4977-9159-9e9ddf41ae64",
   "metadata": {},
   "outputs": [
    {
     "data": {
      "text/plain": [
       "{'id': 'bff9ff8c',\n",
       " 'city': 'Cairo',\n",
       " 'question': 'What number should I dial for an ambulance in Cairo?'}"
      ]
     },
     "execution_count": 8,
     "metadata": {},
     "output_type": "execute_result"
    }
   ],
   "source": [
    "ground_truth[55]"
   ]
  },
  {
   "cell_type": "code",
   "execution_count": 9,
   "id": "0d3dbb85-d315-43aa-a2c6-812d6c3669b0",
   "metadata": {},
   "outputs": [
    {
     "name": "stderr",
     "output_type": "stream",
     "text": [
      "/tmp/ipykernel_3714/2923977033.py:2: UserWarning: Qdrant client version 1.15.1 is incompatible with server version 1.12.4. Major versions should match and minor version difference must not exceed 1. Set check_compatibility=False to skip version check.\n",
      "  qdrant_client = QdrantClient(url=\"http://localhost:6333\")\n"
     ]
    }
   ],
   "source": [
    "#connecting to local Qdrant instance\n",
    "qdrant_client = QdrantClient(url=\"http://localhost:6333\")"
   ]
  },
  {
   "cell_type": "code",
   "execution_count": 10,
   "id": "ff37d4db-4b3f-4c11-93c4-669227df8841",
   "metadata": {},
   "outputs": [
    {
     "data": {
      "text/plain": [
       "<qdrant_client.qdrant_client.QdrantClient at 0x73cda7077140>"
      ]
     },
     "execution_count": 10,
     "metadata": {},
     "output_type": "execute_result"
    }
   ],
   "source": [
    "qdrant_client"
   ]
  },
  {
   "cell_type": "code",
   "execution_count": 11,
   "id": "45c5bf07-5eaa-4eb4-8a54-c753689c8f27",
   "metadata": {},
   "outputs": [
    {
     "name": "stdout",
     "output_type": "stream",
     "text": [
      "There are 30 models supported\n"
     ]
    },
    {
     "data": {
      "text/plain": [
       "[{'model': 'BAAI/bge-base-en',\n",
       "  'sources': {'hf': 'Qdrant/fast-bge-base-en',\n",
       "   'url': 'https://storage.googleapis.com/qdrant-fastembed/fast-bge-base-en.tar.gz',\n",
       "   '_deprecated_tar_struct': True},\n",
       "  'model_file': 'model_optimized.onnx',\n",
       "  'description': 'Text embeddings, Unimodal (text), English, 512 input tokens truncation, Prefixes for queries/documents: necessary, 2023 year.',\n",
       "  'license': 'mit',\n",
       "  'size_in_GB': 0.42,\n",
       "  'additional_files': [],\n",
       "  'dim': 768,\n",
       "  'tasks': {}},\n",
       " {'model': 'BAAI/bge-base-en-v1.5',\n",
       "  'sources': {'hf': 'qdrant/bge-base-en-v1.5-onnx-q',\n",
       "   'url': 'https://storage.googleapis.com/qdrant-fastembed/fast-bge-base-en-v1.5.tar.gz',\n",
       "   '_deprecated_tar_struct': True},\n",
       "  'model_file': 'model_optimized.onnx',\n",
       "  'description': 'Text embeddings, Unimodal (text), English, 512 input tokens truncation, Prefixes for queries/documents: not so necessary, 2023 year.',\n",
       "  'license': 'mit',\n",
       "  'size_in_GB': 0.21,\n",
       "  'additional_files': [],\n",
       "  'dim': 768,\n",
       "  'tasks': {}},\n",
       " {'model': 'BAAI/bge-large-en-v1.5',\n",
       "  'sources': {'hf': 'qdrant/bge-large-en-v1.5-onnx',\n",
       "   'url': None,\n",
       "   '_deprecated_tar_struct': False},\n",
       "  'model_file': 'model.onnx',\n",
       "  'description': 'Text embeddings, Unimodal (text), English, 512 input tokens truncation, Prefixes for queries/documents: not so necessary, 2023 year.',\n",
       "  'license': 'mit',\n",
       "  'size_in_GB': 1.2,\n",
       "  'additional_files': [],\n",
       "  'dim': 1024,\n",
       "  'tasks': {}},\n",
       " {'model': 'BAAI/bge-small-en',\n",
       "  'sources': {'hf': 'Qdrant/bge-small-en',\n",
       "   'url': 'https://storage.googleapis.com/qdrant-fastembed/BAAI-bge-small-en.tar.gz',\n",
       "   '_deprecated_tar_struct': True},\n",
       "  'model_file': 'model_optimized.onnx',\n",
       "  'description': 'Text embeddings, Unimodal (text), English, 512 input tokens truncation, Prefixes for queries/documents: necessary, 2023 year.',\n",
       "  'license': 'mit',\n",
       "  'size_in_GB': 0.13,\n",
       "  'additional_files': [],\n",
       "  'dim': 384,\n",
       "  'tasks': {}},\n",
       " {'model': 'BAAI/bge-small-en-v1.5',\n",
       "  'sources': {'hf': 'qdrant/bge-small-en-v1.5-onnx-q',\n",
       "   'url': None,\n",
       "   '_deprecated_tar_struct': False},\n",
       "  'model_file': 'model_optimized.onnx',\n",
       "  'description': 'Text embeddings, Unimodal (text), English, 512 input tokens truncation, Prefixes for queries/documents: not so necessary, 2023 year.',\n",
       "  'license': 'mit',\n",
       "  'size_in_GB': 0.067,\n",
       "  'additional_files': [],\n",
       "  'dim': 384,\n",
       "  'tasks': {}},\n",
       " {'model': 'BAAI/bge-small-zh-v1.5',\n",
       "  'sources': {'hf': 'Qdrant/bge-small-zh-v1.5',\n",
       "   'url': 'https://storage.googleapis.com/qdrant-fastembed/fast-bge-small-zh-v1.5.tar.gz',\n",
       "   '_deprecated_tar_struct': True},\n",
       "  'model_file': 'model_optimized.onnx',\n",
       "  'description': 'Text embeddings, Unimodal (text), Chinese, 512 input tokens truncation, Prefixes for queries/documents: not so necessary, 2023 year.',\n",
       "  'license': 'mit',\n",
       "  'size_in_GB': 0.09,\n",
       "  'additional_files': [],\n",
       "  'dim': 512,\n",
       "  'tasks': {}},\n",
       " {'model': 'mixedbread-ai/mxbai-embed-large-v1',\n",
       "  'sources': {'hf': 'mixedbread-ai/mxbai-embed-large-v1',\n",
       "   'url': None,\n",
       "   '_deprecated_tar_struct': False},\n",
       "  'model_file': 'onnx/model.onnx',\n",
       "  'description': 'Text embeddings, Unimodal (text), English, 512 input tokens truncation, Prefixes for queries/documents: necessary, 2024 year.',\n",
       "  'license': 'apache-2.0',\n",
       "  'size_in_GB': 0.64,\n",
       "  'additional_files': [],\n",
       "  'dim': 1024,\n",
       "  'tasks': {}},\n",
       " {'model': 'snowflake/snowflake-arctic-embed-xs',\n",
       "  'sources': {'hf': 'snowflake/snowflake-arctic-embed-xs',\n",
       "   'url': None,\n",
       "   '_deprecated_tar_struct': False},\n",
       "  'model_file': 'onnx/model.onnx',\n",
       "  'description': 'Text embeddings, Unimodal (text), English, 512 input tokens truncation, Prefixes for queries/documents: necessary, 2024 year.',\n",
       "  'license': 'apache-2.0',\n",
       "  'size_in_GB': 0.09,\n",
       "  'additional_files': [],\n",
       "  'dim': 384,\n",
       "  'tasks': {}},\n",
       " {'model': 'snowflake/snowflake-arctic-embed-s',\n",
       "  'sources': {'hf': 'snowflake/snowflake-arctic-embed-s',\n",
       "   'url': None,\n",
       "   '_deprecated_tar_struct': False},\n",
       "  'model_file': 'onnx/model.onnx',\n",
       "  'description': 'Text embeddings, Unimodal (text), English, 512 input tokens truncation, Prefixes for queries/documents: necessary, 2024 year.',\n",
       "  'license': 'apache-2.0',\n",
       "  'size_in_GB': 0.13,\n",
       "  'additional_files': [],\n",
       "  'dim': 384,\n",
       "  'tasks': {}},\n",
       " {'model': 'snowflake/snowflake-arctic-embed-m',\n",
       "  'sources': {'hf': 'Snowflake/snowflake-arctic-embed-m',\n",
       "   'url': None,\n",
       "   '_deprecated_tar_struct': False},\n",
       "  'model_file': 'onnx/model.onnx',\n",
       "  'description': 'Text embeddings, Unimodal (text), English, 512 input tokens truncation, Prefixes for queries/documents: necessary, 2024 year.',\n",
       "  'license': 'apache-2.0',\n",
       "  'size_in_GB': 0.43,\n",
       "  'additional_files': [],\n",
       "  'dim': 768,\n",
       "  'tasks': {}}]"
      ]
     },
     "execution_count": 11,
     "metadata": {},
     "output_type": "execute_result"
    }
   ],
   "source": [
    "emb_models = TextEmbedding.list_supported_models()\n",
    "print(f\"There are {len(emb_models)} models supported\")\n",
    "emb_models[0:10]"
   ]
  },
  {
   "cell_type": "code",
   "execution_count": 12,
   "id": "b604e49a-4f78-4e04-beda-e4d66281d979",
   "metadata": {},
   "outputs": [],
   "source": [
    "model_handle = \"jinaai/jina-embeddings-v2-small-en\""
   ]
  },
  {
   "cell_type": "markdown",
   "id": "060c3ccc-72f3-4809-aa15-663ff23bdc5d",
   "metadata": {},
   "source": [
    "## Create collection "
   ]
  },
  {
   "cell_type": "code",
   "execution_count": 13,
   "id": "eea08b18-01f6-4098-9405-cae9329a220c",
   "metadata": {},
   "outputs": [
    {
     "name": "stdout",
     "output_type": "stream",
     "text": [
      "Delete the currrent collection traveller-rag\n"
     ]
    }
   ],
   "source": [
    "# Define the collection name\n",
    "collection_name = \"traveller-rag\"\n",
    "# Delete a connection \n",
    "if qdrant_client.collection_exists(collection_name=collection_name):\n",
    "    qdrant_client.delete_collection(collection_name=collection_name)\n",
    "    print(f\"Delete the currrent collection {collection_name}\")\n"
   ]
  },
  {
   "cell_type": "code",
   "execution_count": 15,
   "id": "e3b79166-3049-4a70-a752-bbf8e814005d",
   "metadata": {},
   "outputs": [],
   "source": [
    "# Create the collection with specified vector parameters\n",
    "qdrant_client.create_collection(\n",
    "    collection_name=collection_name,\n",
    "    vectors_config=models.VectorParams(\n",
    "        size = 512,\n",
    "        distance=models.Distance.COSINE\n",
    "    )\n",
    ")"
   ]
  },
  {
   "cell_type": "markdown",
   "id": "835c20a1-6283-4341-b022-e70155741373",
   "metadata": {},
   "source": [
    "## Create, Embed & Insert Points into the Collection\n"
   ]
  },
  {
   "cell_type": "code",
   "execution_count": 20,
   "id": "223ba9e5-1a07-4d9e-b188-5d6f28199398",
   "metadata": {},
   "outputs": [],
   "source": [
    "points = []\n",
    "id = 0\n",
    "\n",
    "for doc in documents:\n",
    "    point = models.PointStruct(\n",
    "        id=id,\n",
    "        vector=models.Document(text=doc['text'], model=model_handle),\n",
    "        payload={\n",
    "            \"id\": doc['id'],\n",
    "            \"text\": doc['text'],\n",
    "            \"city\": doc['city'],\n",
    "            \"section\": doc['section'],\n",
    "            \"subsection\": doc['subsection']\n",
    "\n",
    "        }\n",
    "    )\n",
    "\n",
    "    points.append(point)\n",
    "\n",
    "    id+=1"
   ]
  },
  {
   "cell_type": "code",
   "execution_count": 21,
   "id": "bd5d0fff-4968-45c9-9e96-db73ab3f2c4b",
   "metadata": {},
   "outputs": [
    {
     "data": {
      "text/plain": [
       "UpdateResult(operation_id=0, status=<UpdateStatus.COMPLETED: 'completed'>)"
      ]
     },
     "execution_count": 21,
     "metadata": {},
     "output_type": "execute_result"
    }
   ],
   "source": [
    "qdrant_client.upsert(\n",
    "    collection_name=collection_name, \n",
    "    points=points\n",
    ")"
   ]
  },
  {
   "cell_type": "markdown",
   "id": "0dfce170-8ba3-494b-8bb2-9b2726c853ac",
   "metadata": {},
   "source": [
    "# Start the evaluation process"
   ]
  },
  {
   "cell_type": "code",
   "execution_count": 22,
   "id": "b118a2f6-ac01-41be-bd79-08c096c077c0",
   "metadata": {},
   "outputs": [],
   "source": [
    "#Hit Rate (HR) or Recall at k\n",
    "def hit_rate(relevance_total):\n",
    "    cnt = 0\n",
    "\n",
    "    for line in relevance_total:\n",
    "        if True in line:\n",
    "            cnt = cnt + 1\n",
    "\n",
    "    return cnt / len(relevance_total)"
   ]
  },
  {
   "cell_type": "code",
   "execution_count": 23,
   "id": "3590a857-0158-4639-917f-29c7fb4548e6",
   "metadata": {},
   "outputs": [],
   "source": [
    "# Mean Reciprocal Rank (MRR)\n",
    "def mrr(relevance_total):\n",
    "    total_score = 0.0\n",
    "\n",
    "    for line in relevance_total:\n",
    "        for rank in range(len(line)):\n",
    "            if line[rank] == True:\n",
    "                total_score = total_score + 1 / (rank + 1)\n",
    "\n",
    "    return total_score / len(relevance_total)"
   ]
  },
  {
   "cell_type": "code",
   "execution_count": 37,
   "id": "fefcdaf8-88b0-4217-b723-21aaf559d6f7",
   "metadata": {},
   "outputs": [],
   "source": [
    "def evaluate(ground_truth, search_function):\n",
    "    relevance_total = []\n",
    "\n",
    "    for q in tqdm(ground_truth):\n",
    "        gt_id = q['id']\n",
    "        results = search_function(q)\n",
    "\n",
    "        points = results.points if hasattr(results, \"points\") else results\n",
    "\n",
    "        relevance = [\n",
    "            point.payload.get('id') == gt_id\n",
    "            for point in points\n",
    "            if hasattr(point, \"payload\")\n",
    "        ]\n",
    "        relevance_total.append(relevance)\n",
    "\n",
    "    return {\n",
    "        'hit_rate': hit_rate(relevance_total),\n",
    "        'mrr': mrr(relevance_total),\n",
    "    }\n"
   ]
  },
  {
   "cell_type": "markdown",
   "id": "09c2cdb1-fa86-406a-9a1e-6c4f0211d3d8",
   "metadata": {},
   "source": [
    "# Semantic Search"
   ]
  },
  {
   "cell_type": "markdown",
   "id": "cfa79e0f-b88d-4810-a83b-94d56c401f45",
   "metadata": {},
   "source": [
    "## Basline"
   ]
  },
  {
   "cell_type": "code",
   "execution_count": null,
   "id": "161edbb4-db40-42ef-88c0-28815485a973",
   "metadata": {},
   "outputs": [],
   "source": []
  },
  {
   "cell_type": "code",
   "execution_count": 52,
   "id": "16836584-ebf7-4d82-8eef-3ebd83070c97",
   "metadata": {},
   "outputs": [],
   "source": [
    "def qdrant_search(query, limit=5):\n",
    "\n",
    "    results = qdrant_client.query_points(\n",
    "        collection_name=collection_name,\n",
    "        query=models.Document(\n",
    "            text=query,\n",
    "            model=model_handle\n",
    "        ),\n",
    "        limit=limit,\n",
    "        with_payload=True\n",
    "    \n",
    "    )\n",
    "\n",
    "    return results"
   ]
  },
  {
   "cell_type": "code",
   "execution_count": 53,
   "id": "af69f709-4581-44e7-8863-0290afc4c89c",
   "metadata": {},
   "outputs": [
    {
     "name": "stderr",
     "output_type": "stream",
     "text": [
      "100%|█████████████████████████████████████████████████████████████████████████████████████████████████████████████████████████████████████████| 2715/2715 [00:28<00:00, 93.93it/s]"
     ]
    },
    {
     "name": "stdout",
     "output_type": "stream",
     "text": [
      "{'hit_rate': 0.8596685082872928, 'mrr': 0.7520933087783905}\n"
     ]
    },
    {
     "name": "stderr",
     "output_type": "stream",
     "text": [
      "\n"
     ]
    }
   ],
   "source": [
    "basline_qd_search = evaluate(ground_truth, lambda q: qdrant_search(q['question']))\n",
    "print(basline_qd_search)"
   ]
  },
  {
   "cell_type": "markdown",
   "id": "5b31dc6a-2a59-484c-918d-c4781878310c",
   "metadata": {},
   "source": [
    "return more result improve the evaluation matrix "
   ]
  },
  {
   "cell_type": "markdown",
   "id": "173b0cc0-c1da-4d08-92e2-38c5e81dfcef",
   "metadata": {},
   "source": [
    "## Search with filter\n"
   ]
  },
  {
   "cell_type": "code",
   "execution_count": 40,
   "id": "f5db619b-3c47-44a4-95b1-97cadb32e635",
   "metadata": {},
   "outputs": [
    {
     "data": {
      "text/plain": [
       "UpdateResult(operation_id=2, status=<UpdateStatus.COMPLETED: 'completed'>)"
      ]
     },
     "execution_count": 40,
     "metadata": {},
     "output_type": "execute_result"
    }
   ],
   "source": [
    "qdrant_client.create_payload_index(\n",
    "    collection_name=collection_name, \n",
    "    field_name=\"city\",\n",
    "    field_schema=\"keyword\"\n",
    ")"
   ]
  },
  {
   "cell_type": "code",
   "execution_count": 47,
   "id": "ebaeb87c-212b-49e6-838e-4a32bda4c180",
   "metadata": {},
   "outputs": [],
   "source": [
    "def qd_search_filter(query, city, limit):\n",
    "    results=qdrant_client.query_points(\n",
    "        collection_name=collection_name,\n",
    "        query=models.Document(\n",
    "            text=query,\n",
    "            model=model_handle\n",
    "        ),\n",
    "        query_filter=models.Filter(\n",
    "            must=[\n",
    "                models.FieldCondition(\n",
    "                    key=\"city\",\n",
    "                    match=models.MatchValue(value=city)\n",
    "                )\n",
    "            ]\n",
    "        ),\n",
    "        limit = limit,\n",
    "        with_payload=True\n",
    "    )\n",
    "\n",
    "    return results"
   ]
  },
  {
   "cell_type": "code",
   "execution_count": 49,
   "id": "c91c13ad-af28-482d-bc3c-ff3890db3ae0",
   "metadata": {},
   "outputs": [
    {
     "name": "stderr",
     "output_type": "stream",
     "text": [
      "100%|█████████████████████████████████████████████████████████████████████████████████████████████████████████████████████████████████████████| 2715/2715 [00:27<00:00, 98.98it/s]"
     ]
    },
    {
     "name": "stdout",
     "output_type": "stream",
     "text": [
      "{'hit_rate': 0.8674033149171271, 'mrr': 0.7655125844076113}\n"
     ]
    },
    {
     "name": "stderr",
     "output_type": "stream",
     "text": [
      "\n"
     ]
    }
   ],
   "source": [
    "filter_qd_search = evaluate(ground_truth, lambda q: qd_search_filter(q['question'], q['city'], 5))\n",
    "print(filter_qd_search)"
   ]
  },
  {
   "cell_type": "code",
   "execution_count": 73,
   "id": "1ccd315f-11e3-4f49-8645-e1405587e7d3",
   "metadata": {},
   "outputs": [
    {
     "ename": "TypeError",
     "evalue": "Object of type QueryResponse is not JSON serializable",
     "output_type": "error",
     "traceback": [
      "\u001b[31m---------------------------------------------------------------------------\u001b[39m",
      "\u001b[31mTypeError\u001b[39m                                 Traceback (most recent call last)",
      "\u001b[36mCell\u001b[39m\u001b[36m \u001b[39m\u001b[32mIn[73]\u001b[39m\u001b[32m, line 1\u001b[39m\n\u001b[32m----> \u001b[39m\u001b[32m1\u001b[39m \u001b[38;5;28mprint\u001b[39m(\u001b[43mjson\u001b[49m\u001b[43m.\u001b[49m\u001b[43mdumps\u001b[49m\u001b[43m(\u001b[49m\u001b[43mqd_search_filter\u001b[49m\u001b[43m(\u001b[49m\u001b[33;43m\"\u001b[39;49m\u001b[33;43mWhat museum I should visit?\u001b[39;49m\u001b[33;43m\"\u001b[39;49m\u001b[43m,\u001b[49m\u001b[43m \u001b[49m\u001b[33;43m\"\u001b[39;49m\u001b[33;43mRome\u001b[39;49m\u001b[33;43m\"\u001b[39;49m\u001b[43m,\u001b[49m\u001b[43m \u001b[49m\u001b[32;43m5\u001b[39;49m\u001b[43m)\u001b[49m\u001b[43m,\u001b[49m\u001b[43m \u001b[49m\u001b[43mindent\u001b[49m\u001b[43m=\u001b[49m\u001b[32;43m2\u001b[39;49m\u001b[43m)\u001b[49m)\n",
      "\u001b[36mFile \u001b[39m\u001b[32m~/home/hager/miniconda33/lib/python3.12/json/__init__.py:238\u001b[39m, in \u001b[36mdumps\u001b[39m\u001b[34m(obj, skipkeys, ensure_ascii, check_circular, allow_nan, cls, indent, separators, default, sort_keys, **kw)\u001b[39m\n\u001b[32m    232\u001b[39m \u001b[38;5;28;01mif\u001b[39;00m \u001b[38;5;28mcls\u001b[39m \u001b[38;5;129;01mis\u001b[39;00m \u001b[38;5;28;01mNone\u001b[39;00m:\n\u001b[32m    233\u001b[39m     \u001b[38;5;28mcls\u001b[39m = JSONEncoder\n\u001b[32m    234\u001b[39m \u001b[38;5;28;01mreturn\u001b[39;00m \u001b[38;5;28;43mcls\u001b[39;49m\u001b[43m(\u001b[49m\n\u001b[32m    235\u001b[39m \u001b[43m    \u001b[49m\u001b[43mskipkeys\u001b[49m\u001b[43m=\u001b[49m\u001b[43mskipkeys\u001b[49m\u001b[43m,\u001b[49m\u001b[43m \u001b[49m\u001b[43mensure_ascii\u001b[49m\u001b[43m=\u001b[49m\u001b[43mensure_ascii\u001b[49m\u001b[43m,\u001b[49m\n\u001b[32m    236\u001b[39m \u001b[43m    \u001b[49m\u001b[43mcheck_circular\u001b[49m\u001b[43m=\u001b[49m\u001b[43mcheck_circular\u001b[49m\u001b[43m,\u001b[49m\u001b[43m \u001b[49m\u001b[43mallow_nan\u001b[49m\u001b[43m=\u001b[49m\u001b[43mallow_nan\u001b[49m\u001b[43m,\u001b[49m\u001b[43m \u001b[49m\u001b[43mindent\u001b[49m\u001b[43m=\u001b[49m\u001b[43mindent\u001b[49m\u001b[43m,\u001b[49m\n\u001b[32m    237\u001b[39m \u001b[43m    \u001b[49m\u001b[43mseparators\u001b[49m\u001b[43m=\u001b[49m\u001b[43mseparators\u001b[49m\u001b[43m,\u001b[49m\u001b[43m \u001b[49m\u001b[43mdefault\u001b[49m\u001b[43m=\u001b[49m\u001b[43mdefault\u001b[49m\u001b[43m,\u001b[49m\u001b[43m \u001b[49m\u001b[43msort_keys\u001b[49m\u001b[43m=\u001b[49m\u001b[43msort_keys\u001b[49m\u001b[43m,\u001b[49m\n\u001b[32m--> \u001b[39m\u001b[32m238\u001b[39m \u001b[43m    \u001b[49m\u001b[43m*\u001b[49m\u001b[43m*\u001b[49m\u001b[43mkw\u001b[49m\u001b[43m)\u001b[49m\u001b[43m.\u001b[49m\u001b[43mencode\u001b[49m\u001b[43m(\u001b[49m\u001b[43mobj\u001b[49m\u001b[43m)\u001b[49m\n",
      "\u001b[36mFile \u001b[39m\u001b[32m~/home/hager/miniconda33/lib/python3.12/json/encoder.py:202\u001b[39m, in \u001b[36mJSONEncoder.encode\u001b[39m\u001b[34m(self, o)\u001b[39m\n\u001b[32m    200\u001b[39m chunks = \u001b[38;5;28mself\u001b[39m.iterencode(o, _one_shot=\u001b[38;5;28;01mTrue\u001b[39;00m)\n\u001b[32m    201\u001b[39m \u001b[38;5;28;01mif\u001b[39;00m \u001b[38;5;129;01mnot\u001b[39;00m \u001b[38;5;28misinstance\u001b[39m(chunks, (\u001b[38;5;28mlist\u001b[39m, \u001b[38;5;28mtuple\u001b[39m)):\n\u001b[32m--> \u001b[39m\u001b[32m202\u001b[39m     chunks = \u001b[38;5;28;43mlist\u001b[39;49m\u001b[43m(\u001b[49m\u001b[43mchunks\u001b[49m\u001b[43m)\u001b[49m\n\u001b[32m    203\u001b[39m \u001b[38;5;28;01mreturn\u001b[39;00m \u001b[33m'\u001b[39m\u001b[33m'\u001b[39m.join(chunks)\n",
      "\u001b[36mFile \u001b[39m\u001b[32m~/home/hager/miniconda33/lib/python3.12/json/encoder.py:439\u001b[39m, in \u001b[36m_make_iterencode.<locals>._iterencode\u001b[39m\u001b[34m(o, _current_indent_level)\u001b[39m\n\u001b[32m    437\u001b[39m         \u001b[38;5;28;01mraise\u001b[39;00m \u001b[38;5;167;01mValueError\u001b[39;00m(\u001b[33m\"\u001b[39m\u001b[33mCircular reference detected\u001b[39m\u001b[33m\"\u001b[39m)\n\u001b[32m    438\u001b[39m     markers[markerid] = o\n\u001b[32m--> \u001b[39m\u001b[32m439\u001b[39m o = \u001b[43m_default\u001b[49m\u001b[43m(\u001b[49m\u001b[43mo\u001b[49m\u001b[43m)\u001b[49m\n\u001b[32m    440\u001b[39m \u001b[38;5;28;01myield from\u001b[39;00m _iterencode(o, _current_indent_level)\n\u001b[32m    441\u001b[39m \u001b[38;5;28;01mif\u001b[39;00m markers \u001b[38;5;129;01mis\u001b[39;00m \u001b[38;5;129;01mnot\u001b[39;00m \u001b[38;5;28;01mNone\u001b[39;00m:\n",
      "\u001b[36mFile \u001b[39m\u001b[32m~/home/hager/miniconda33/lib/python3.12/json/encoder.py:180\u001b[39m, in \u001b[36mJSONEncoder.default\u001b[39m\u001b[34m(self, o)\u001b[39m\n\u001b[32m    161\u001b[39m \u001b[38;5;28;01mdef\u001b[39;00m\u001b[38;5;250m \u001b[39m\u001b[34mdefault\u001b[39m(\u001b[38;5;28mself\u001b[39m, o):\n\u001b[32m    162\u001b[39m \u001b[38;5;250m    \u001b[39m\u001b[33;03m\"\"\"Implement this method in a subclass such that it returns\u001b[39;00m\n\u001b[32m    163\u001b[39m \u001b[33;03m    a serializable object for ``o``, or calls the base implementation\u001b[39;00m\n\u001b[32m    164\u001b[39m \u001b[33;03m    (to raise a ``TypeError``).\u001b[39;00m\n\u001b[32m   (...)\u001b[39m\u001b[32m    178\u001b[39m \n\u001b[32m    179\u001b[39m \u001b[33;03m    \"\"\"\u001b[39;00m\n\u001b[32m--> \u001b[39m\u001b[32m180\u001b[39m     \u001b[38;5;28;01mraise\u001b[39;00m \u001b[38;5;167;01mTypeError\u001b[39;00m(\u001b[33mf\u001b[39m\u001b[33m'\u001b[39m\u001b[33mObject of type \u001b[39m\u001b[38;5;132;01m{\u001b[39;00mo.\u001b[34m__class__\u001b[39m.\u001b[34m__name__\u001b[39m\u001b[38;5;132;01m}\u001b[39;00m\u001b[33m \u001b[39m\u001b[33m'\u001b[39m\n\u001b[32m    181\u001b[39m                     \u001b[33mf\u001b[39m\u001b[33m'\u001b[39m\u001b[33mis not JSON serializable\u001b[39m\u001b[33m'\u001b[39m)\n",
      "\u001b[31mTypeError\u001b[39m: Object of type QueryResponse is not JSON serializable"
     ]
    }
   ],
   "source": [
    "print(json.dumps(qd_search_filter(\"What museum I should visit?\", \"Rome\", 5), indent=2))\n"
   ]
  },
  {
   "cell_type": "code",
   "execution_count": 80,
   "id": "ad42e034-24d0-4179-9285-cebbd656d692",
   "metadata": {},
   "outputs": [
    {
     "name": "stdout",
     "output_type": "stream",
     "text": [
      "[\n",
      "  {\n",
      "    \"score\": 0.84569573,\n",
      "    \"payload\": {\n",
      "      \"id\": \"1eed9c8a\",\n",
      "      \"text\": \"If you have plenty of time there is absolutely no shortage of other museums covering a wide variety of interests. Examples include the Museum of the Walls (see Rome/South ), the Musical Instrument Museum and a museum devoted to the liberation of Rome from German occupation in the Second World War ( Rome/Esquilino-San Giovanni ).\",\n",
      "      \"city\": \"Rome\",\n",
      "      \"section\": \"See\",\n",
      "      \"subsection\": \"Museums\"\n",
      "    }\n",
      "  },\n",
      "  {\n",
      "    \"score\": 0.8343532,\n",
      "    \"payload\": {\n",
      "      \"id\": \"18f7911a\",\n",
      "      \"text\": \"If you are in Rome for the Arts there are several world-class museums in the city. The natural starting point is a visit to the area of Villa Borghese in Rome/North Center , where there is a cluster of art museums in and around the Borghese Gardens. Galleria Borghese houses a previously private art collection of the Borghese family, Museo Nazionale di Villa Giulia is home of the world's largest Etruscan art collection, and Galleria Nazionale d'Arte Moderna houses many Italian masterpieces as well as a few pieces by artists such as C\\u00e9zanne, Degas, Monet and Van Gogh.\",\n",
      "      \"city\": \"Rome\",\n",
      "      \"section\": \"See\",\n",
      "      \"subsection\": \"Museums\"\n",
      "    }\n",
      "  },\n",
      "  {\n",
      "    \"score\": 0.8336104,\n",
      "    \"payload\": {\n",
      "      \"id\": \"278a2ec7\",\n",
      "      \"text\": \"Rome's Wax Museum . 67 Piazza di Santi Apostoli, next to Piazza Venezia. Few good reports about this museum. Comments invited.\",\n",
      "      \"city\": \"Rome\",\n",
      "      \"section\": \"See\",\n",
      "      \"subsection\": \"Rome for kids\"\n",
      "    }\n",
      "  },\n",
      "  {\n",
      "    \"score\": 0.8297386,\n",
      "    \"payload\": {\n",
      "      \"id\": \"de7c6285\",\n",
      "      \"text\": \"The Capitoline Museums in the Colosseo district opens their doors to the city's most important collection of antique Roman and Greek art and sculptures. Visit the Galleria d'Arte Antica , housed in the Barberini palace in the Modern centre , for Italian Renaissance and Baroque art.\",\n",
      "      \"city\": \"Rome\",\n",
      "      \"section\": \"See\",\n",
      "      \"subsection\": \"Museums\"\n",
      "    }\n",
      "  },\n",
      "  {\n",
      "    \"score\": 0.8285947,\n",
      "    \"payload\": {\n",
      "      \"id\": \"5de773a9\",\n",
      "      \"text\": \"If you want to buy souvenirs or gifts, a museum would be the worst choice since there are many stalls along the streets of tourist areas that offer reasonable prices. It is likely that the same item in the gift shop of any museum will cost much more.\",\n",
      "      \"city\": \"Rome\",\n",
      "      \"section\": \"Buy\",\n",
      "      \"subsection\": null\n",
      "    }\n",
      "  }\n",
      "]\n"
     ]
    }
   ],
   "source": [
    "results = qd_search_filter(\"What museum I should visit?\", \"Rome\", 5)\n",
    "\n",
    "points = [\n",
    "    {\n",
    "        \"score\": point.score,\n",
    "        \"payload\": point.payload\n",
    "    }\n",
    "    for point in results.points\n",
    "]\n",
    "\n",
    "print(json.dumps(points, indent=2))"
   ]
  },
  {
   "cell_type": "code",
   "execution_count": null,
   "id": "2c811ec6-68c4-4a38-9c63-49ec7480a371",
   "metadata": {},
   "outputs": [],
   "source": []
  },
  {
   "cell_type": "code",
   "execution_count": null,
   "id": "477959d0-1503-4fe4-86fc-083139dabf11",
   "metadata": {},
   "outputs": [],
   "source": [
    "from mistralai import Mistral\n",
    "from mistralai.models import UserMessage\n",
    "import os\n",
    "from dotenv import load_dotenv\n"
   ]
  },
  {
   "cell_type": "code",
   "execution_count": null,
   "id": "c73d75c4-313a-44df-a970-7d0a30035239",
   "metadata": {},
   "outputs": [],
   "source": [
    "# loads variables from .env\n",
    "load_dotenv()  "
   ]
  },
  {
   "cell_type": "code",
   "execution_count": null,
   "id": "94f9f107-9814-4f3b-b94b-4de6f34273ff",
   "metadata": {},
   "outputs": [],
   "source": [
    "api_key = os.getenv(\"API_KEY\")"
   ]
  },
  {
   "cell_type": "code",
   "execution_count": null,
   "id": "5ec19cee-875d-4aaa-bd60-db5f9bf08c99",
   "metadata": {},
   "outputs": [],
   "source": [
    "llm_client = Mistral(api_key = api_key)"
   ]
  },
  {
   "cell_type": "code",
   "execution_count": null,
   "id": "a34257e8-b57c-4b8c-b568-729c4b33a50b",
   "metadata": {},
   "outputs": [],
   "source": [
    "def build_prompt(query, search_results):\n",
    "    context_template = \"Q: {question}\\n A: {text}\"\n",
    "\n",
    "    context_parts = []\n",
    "    for point in search_results.points:  # iterate over .points\n",
    "        payload = point.payload\n",
    "        context_parts.append(\n",
    "            context_template.format(\n",
    "                question=query,\n",
    "                text=payload.get(\"text\", \"\")\n",
    "            )\n",
    "        )\n",
    "\n",
    "    context = \"\\n\\n\".join(context_parts)\n",
    "    \n",
    "    prompt_template = \"\"\"\n",
    "You're a travel assistant. Answer the QUESTION based on the CONTEXT from the FAQ database.\n",
    "Use only the facts from the CONTEXT when answering the QUESTION.\n",
    "\n",
    "QUESTION: {question}\n",
    "\n",
    "CONTEXT:\n",
    "{context}\n",
    "\n",
    "    \"\"\".strip()\n",
    "    \n",
    "    prompt = prompt_template.format(question=query, context=context)\n",
    "    return prompt\n"
   ]
  },
  {
   "cell_type": "code",
   "execution_count": null,
   "id": "f0ff4c32-ae75-4cdd-9455-39cc26b436ed",
   "metadata": {},
   "outputs": [],
   "source": [
    "def llm(prompt):\n",
    "    response = llm_client.chat.complete(\n",
    "        model= \"ministral-8b-latest\",\n",
    "        messages=[UserMessage(content=prompt)],\n",
    "    )\n",
    "\n",
    "    return response.choices[0].message.content"
   ]
  },
  {
   "cell_type": "code",
   "execution_count": null,
   "id": "995b51f8-0dfa-45f5-ae61-4fa41a43fd3a",
   "metadata": {},
   "outputs": [],
   "source": [
    "def rag(query):\n",
    "    search_results = qdrant_search(query=query)\n",
    "    prompt = build_prompt(query, search_results)\n",
    "    answer = llm(prompt)\n",
    "\n",
    "    return answer"
   ]
  },
  {
   "cell_type": "code",
   "execution_count": null,
   "id": "5fb31f85-fe89-44d2-b19d-44dabaaa98c8",
   "metadata": {},
   "outputs": [],
   "source": [
    "answer = rag(query)\n",
    "print(answer)"
   ]
  },
  {
   "cell_type": "code",
   "execution_count": null,
   "id": "4520a256-8fda-477b-85c3-61800dfe3ead",
   "metadata": {},
   "outputs": [],
   "source": []
  },
  {
   "cell_type": "markdown",
   "id": "1fb4c60b-1515-41d8-a173-eb1eed28c396",
   "metadata": {},
   "source": [
    "# hybrid_search"
   ]
  },
  {
   "cell_type": "markdown",
   "id": "ae8be95c-edc2-4260-9c76-e943bfdfedb7",
   "metadata": {},
   "source": [
    "## Sparse vector search with BM25\n"
   ]
  },
  {
   "cell_type": "code",
   "execution_count": null,
   "id": "48b241c9-cee3-44fd-ad6e-f50b6b2717c9",
   "metadata": {},
   "outputs": [],
   "source": [
    "import uuid"
   ]
  },
  {
   "cell_type": "code",
   "execution_count": null,
   "id": "c8c142b1-7899-44ac-be3f-50f0fb8d8ac5",
   "metadata": {},
   "outputs": [],
   "source": [
    "# Define the collection name\n",
    "collection_name = \"traveller-sparse\"\n",
    "\n",
    "# Create the collection with specified sparse vector parameters\n",
    "qdrant_client.create_collection(\n",
    "    collection_name = collection_name,\n",
    "    sparse_vectors_config={\n",
    "        \"bm25\":models.SparseVectorParams(\n",
    "            modifier=models.Modifier.IDF\n",
    "        )\n",
    "    }\n",
    ")"
   ]
  },
  {
   "cell_type": "code",
   "execution_count": null,
   "id": "35f9e92c-33b0-498b-828b-c18f0ab85f6d",
   "metadata": {},
   "outputs": [],
   "source": [
    "# Send the points to the collection\n",
    "qdrant_client.upsert(\n",
    "    collection_name = collection_name,\n",
    "    points=[\n",
    "        models.PointStruct(\n",
    "            id=uuid.uuid4().hex,\n",
    "            vector={\n",
    "                \"bm25\": models.Document(\n",
    "                    text=doc[\"text\"],\n",
    "                    model=\"Qdrant/bm25\",\n",
    "                )\n",
    "            }, \n",
    "            payload={\n",
    "            \"id\": doc['id'],\n",
    "            \"text\": doc['text'],\n",
    "            \"city\": doc['city'],\n",
    "            \"section\": doc['section'],\n",
    "            \"subsection\": doc['subsection']\n",
    "\n",
    "            }\n",
    "        )\n",
    "        for doc in documents\n",
    "    ]\n",
    ")"
   ]
  },
  {
   "cell_type": "markdown",
   "id": "c159657f-8f6e-4b1f-a4b1-85f3e891dc63",
   "metadata": {},
   "source": [
    "## Running sparse vector search with BM25"
   ]
  },
  {
   "cell_type": "code",
   "execution_count": null,
   "id": "b273b58e-52b9-444e-809b-555c3203903d",
   "metadata": {},
   "outputs": [],
   "source": [
    "def bm_search(query: str, limit: int =1) -> list[models.ScoredPoint]:\n",
    "    results = qdrant_client.query_points(\n",
    "        collection_name = collection_name, \n",
    "        query=models.Document(\n",
    "            text=query, \n",
    "            model=\"Qdrant/bm25\",\n",
    "        ),\n",
    "        using=\"bm25\",\n",
    "        limit=limit,\n",
    "        with_payload=True\n",
    "    )\n",
    "    return results.points"
   ]
  },
  {
   "cell_type": "code",
   "execution_count": null,
   "id": "9cf01339-20bc-45c9-8728-ffa883331b61",
   "metadata": {},
   "outputs": [],
   "source": [
    "results = bm_search(\"Qdrant\")\n",
    "results"
   ]
  },
  {
   "cell_type": "code",
   "execution_count": null,
   "id": "5bac947d-40f6-4f30-9609-7f11647b51b7",
   "metadata": {},
   "outputs": [],
   "source": [
    "results = bm_search(\"Roma\")\n",
    "print(results[0].payload['text'])"
   ]
  },
  {
   "cell_type": "code",
   "execution_count": null,
   "id": "436a5c23-6df6-49bd-a058-b330447de0d6",
   "metadata": {},
   "outputs": [],
   "source": [
    "results[0].score"
   ]
  },
  {
   "cell_type": "code",
   "execution_count": null,
   "id": "203c840e-a4e2-4a74-b5ee-fb6abb1c777f",
   "metadata": {},
   "outputs": [],
   "source": [
    "random.seed(202506)\n",
    "city_piece=random.choice(documents)\n",
    "print(json.dumps(city_piece, indent=2))"
   ]
  },
  {
   "cell_type": "code",
   "execution_count": null,
   "id": "52e52e84-1b29-460b-8173-078a1763331b",
   "metadata": {},
   "outputs": [],
   "source": [
    "results = bm_search(city_piece[\"text\"])\n",
    "print(results[0].payload[\"text\"])"
   ]
  },
  {
   "cell_type": "markdown",
   "id": "b1869d66-c8bb-41fc-8283-52c05fc0966a",
   "metadata": {},
   "source": [
    "##  Qdrant Universal Query API - prefetching"
   ]
  },
  {
   "cell_type": "code",
   "execution_count": null,
   "id": "c7d016c9-d723-46eb-90c6-45286302610a",
   "metadata": {},
   "outputs": [],
   "source": [
    "# Create the collection with both vector types\n",
    "collection_name_mx=\"traveller-sparse-and-dense\"\n",
    "qdrant_client.create_collection(\n",
    "    collection_name=collection_name_mx,\n",
    "    vectors_config={\n",
    "        # Named dense vector for jinaai/jina-embeddings-v2-small-en\n",
    "        'jina-small':models.VectorParams(\n",
    "            size=512,\n",
    "            distance=models.Distance.COSINE\n",
    "        ),\n",
    "    },\n",
    "    sparse_vectors_config={\n",
    "        \"bm25\":models.SparseVectorParams(\n",
    "            modifier=models.Modifier.IDF,\n",
    "        )\n",
    "    }\n",
    ")"
   ]
  },
  {
   "cell_type": "code",
   "execution_count": null,
   "id": "e7bc7541-149d-46c3-9dbb-9943f5eb84a8",
   "metadata": {},
   "outputs": [],
   "source": [
    "qdrant_client.upsert(\n",
    "    collection_name=collection_name_mx,\n",
    "    points=[\n",
    "        models.PointStruct(\n",
    "            id=uuid.uuid4().hex,\n",
    "            vector={\n",
    "                \"jina-small\": models.Document(\n",
    "                    text=doc[\"text\"],\n",
    "                    model=\"jinaai/jina-embeddings-v2-small-en\",\n",
    "                ),\n",
    "                \"bm25\": models.Document(\n",
    "                    text=doc[\"text\"], \n",
    "                    model=\"Qdrant/bm25\",\n",
    "                ),\n",
    "            },\n",
    "            payload={\n",
    "            \"id\": doc['id'],\n",
    "            \"text\": doc['text'],\n",
    "            \"city\": doc['city'],\n",
    "            \"section\": doc['section'],\n",
    "            \"subsection\": doc['subsection']}\n",
    "\n",
    "        )\n",
    "        for doc in documents\n",
    "    ]\n",
    ")\n"
   ]
  },
  {
   "cell_type": "code",
   "execution_count": null,
   "id": "a7fd03da-a899-4bb6-a1aa-e83f4f25234d",
   "metadata": {},
   "outputs": [],
   "source": [
    "def multi_stage_search(query: str, limit: int = 1) -> list[models.ScoredPoint]:\n",
    "    results = qdrant_client.query_points(\n",
    "        collection_name=\"traveller-sparse-and-dense\",\n",
    "        prefetch=[\n",
    "            models.Prefetch(\n",
    "                query=models.Document(\n",
    "                    text=query,\n",
    "                    model=\"jinaai/jina-embeddings-v2-small-en\",\n",
    "                ),\n",
    "                using=\"jina-small\",\n",
    "                # Prefetch ten times more results, then\n",
    "                # expected to return, so we can really rerank\n",
    "                limit=(10 * limit),\n",
    "            ),\n",
    "        ],\n",
    "        query=models.Document(\n",
    "            text=query,\n",
    "            model=\"Qdrant/bm25\", \n",
    "        ),\n",
    "        using=\"bm25\",\n",
    "        limit=limit,\n",
    "        with_payload=True,\n",
    "    )\n",
    "\n",
    "    return results.points"
   ]
  },
  {
   "cell_type": "code",
   "execution_count": null,
   "id": "273ba9ed-f862-47b2-8bf4-48455e389d79",
   "metadata": {},
   "outputs": [],
   "source": [
    "print(json.dumps(city_piece, indent=2))"
   ]
  },
  {
   "cell_type": "markdown",
   "id": "eb153c77-6b5f-43b1-bfab-293c1908b45e",
   "metadata": {},
   "source": [
    "## Building Hybrid Search"
   ]
  },
  {
   "cell_type": "code",
   "execution_count": null,
   "id": "35eea9e7-e592-44b5-bcfa-1a1c62e2ba5b",
   "metadata": {},
   "outputs": [],
   "source": [
    "def rrf_search(query: str, limit: int = 1) -> list[models.ScoredPoint]:\n",
    "    results = qdrant_client.query_points(\n",
    "        collection_name=\"traveller-sparse-and-dense\",\n",
    "        prefetch=[\n",
    "            models.Prefetch(\n",
    "                query=models.Document(\n",
    "                    text=query,\n",
    "                    model=\"jinaai/jina-embeddings-v2-small-en\",\n",
    "                ),\n",
    "                using=\"jina-small\",\n",
    "                limit=(5 * limit),\n",
    "            ),\n",
    "            models.Prefetch(\n",
    "                query=models.Document(\n",
    "                    text=query,\n",
    "                    model=\"Qdrant/bm25\",\n",
    "                ),\n",
    "                using=\"bm25\",\n",
    "                limit=(5 * limit),\n",
    "            ),\n",
    "        ],\n",
    "        # Fusion query enables fusion on the prefetched results\n",
    "        query=models.FusionQuery(fusion=models.Fusion.RRF),\n",
    "        with_payload=True,\n",
    "    )\n",
    "\n",
    "    return results.points"
   ]
  },
  {
   "cell_type": "code",
   "execution_count": null,
   "id": "4be8e78b-a796-4c97-af5d-43c3a73d6656",
   "metadata": {},
   "outputs": [],
   "source": [
    "results = rrf_search(city_piece[\"text\"])\n",
    "print(json.dumps(city_piece, indent=2))\n",
    "print(results[0].payload[\"text\"])"
   ]
  },
  {
   "cell_type": "markdown",
   "id": "c8b3cfc7-7ca9-4008-8da4-5b117ae422e2",
   "metadata": {},
   "source": [
    "# hybrid-search-and-reranking-es"
   ]
  },
  {
   "cell_type": "code",
   "execution_count": null,
   "id": "f554cab4-8554-464a-bf19-9ccfe714008d",
   "metadata": {},
   "outputs": [],
   "source": [
    "import json\n",
    "import pandas as pd\n",
    "from tqdm.auto import tqdm\n",
    "from sentence_transformers import SentenceTransformer\n",
    "from elasticsearch import Elasticsearch"
   ]
  },
  {
   "cell_type": "code",
   "execution_count": null,
   "id": "80bb334e-1d62-439e-ad38-e1918c8dc1d7",
   "metadata": {},
   "outputs": [],
   "source": [
    "import numpy as np\n",
    "np.float_ = np.float64"
   ]
  },
  {
   "cell_type": "code",
   "execution_count": null,
   "id": "bfa1e255-4bf3-46ef-98cc-61ed5c387ca2",
   "metadata": {},
   "outputs": [],
   "source": [
    "model_name = 'multi-qa-MiniLM-L6-cos-v1'\n",
    "model = SentenceTransformer(model_name)"
   ]
  },
  {
   "cell_type": "code",
   "execution_count": null,
   "id": "f346386d-360b-49da-8406-2b2f2c50d13f",
   "metadata": {},
   "outputs": [],
   "source": []
  }
 ],
 "metadata": {
  "kernelspec": {
   "display_name": "Python 3 (ipykernel)",
   "language": "python",
   "name": "python3"
  },
  "language_info": {
   "codemirror_mode": {
    "name": "ipython",
    "version": 3
   },
   "file_extension": ".py",
   "mimetype": "text/x-python",
   "name": "python",
   "nbconvert_exporter": "python",
   "pygments_lexer": "ipython3",
   "version": "3.12.2"
  }
 },
 "nbformat": 4,
 "nbformat_minor": 5
}
