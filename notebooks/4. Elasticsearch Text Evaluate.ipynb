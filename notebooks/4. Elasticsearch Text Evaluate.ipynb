{
 "cells": [
  {
   "cell_type": "code",
   "execution_count": null,
   "id": "ed3c1541-2fc6-4d2f-9b59-423e77cf0cda",
   "metadata": {},
   "outputs": [],
   "source": [
    "# import os\n",
    "# os.environ[\"SSL_CERT_FILE\"] = \"/mnt/d/Travel Assistant/Musafir/Fortinet_CA_SSL(15).cer\"\n",
    "# os.environ[\"REQUESTS_CA_BUNDLE\"] = \"/mnt/d/Travel Assistant/Musafir/Fortinet_CA_SSL(15).cer\""
   ]
  },
  {
   "cell_type": "code",
   "execution_count": null,
   "id": "3c4199f1-5b0f-4e79-b96b-55086f894580",
   "metadata": {},
   "outputs": [
    {
     "name": "stderr",
     "output_type": "stream",
     "text": [
      "/mnt/d/Travel Assistant/Musafir/venv/lib/python3.12/site-packages/tqdm/auto.py:21: TqdmWarning: IProgress not found. Please update jupyter and ipywidgets. See https://ipywidgets.readthedocs.io/en/stable/user_install.html\n",
      "  from .autonotebook import tqdm as notebook_tqdm\n"
     ]
    }
   ],
   "source": [
    "import json\n",
    "import pandas as pd\n",
    "from tqdm.auto import tqdm\n",
    "from sentence_transformers import SentenceTransformer\n",
    "import os\n"
   ]
  },
  {
   "cell_type": "code",
   "execution_count": 3,
   "id": "217c69f9-4690-4441-b03e-39c8d2ee5448",
   "metadata": {},
   "outputs": [],
   "source": [
    "with open('../data/processed_data/documents-with-ids.json', 'rt') as f_in:\n",
    "    documents = json.load(f_in)\n"
   ]
  },
  {
   "cell_type": "code",
   "execution_count": 4,
   "id": "c386aa46-162b-4a24-9814-1b57e76739e0",
   "metadata": {},
   "outputs": [
    {
     "data": {
      "text/plain": [
       "{'city': 'Rome',\n",
       " 'section': 'Eat',\n",
       " 'subsection': 'Pricing',\n",
       " 'text': 'Chinese restaurants are still quite cheap but other ethnic restaurants (Thai, Indian) are generally expensive (think €30 upwards per person). Sushi is very expensive (€40 minimum per person).',\n",
       " 'id': '89a82dd4'}"
      ]
     },
     "execution_count": 4,
     "metadata": {},
     "output_type": "execute_result"
    }
   ],
   "source": [
    "documents[365]"
   ]
  },
  {
   "cell_type": "code",
   "execution_count": 5,
   "id": "eae7faa7-9a8c-4260-941f-c864b3e0fd65",
   "metadata": {},
   "outputs": [],
   "source": [
    "# Ground Truth data\n",
    "df_gt = pd.read_csv('../data/result/groud-truth-retrieval.csv')"
   ]
  },
  {
   "cell_type": "code",
   "execution_count": 6,
   "id": "14feb44a-9da8-4ee5-bae9-91320acea370",
   "metadata": {},
   "outputs": [
    {
     "data": {
      "text/html": [
       "<div>\n",
       "<style scoped>\n",
       "    .dataframe tbody tr th:only-of-type {\n",
       "        vertical-align: middle;\n",
       "    }\n",
       "\n",
       "    .dataframe tbody tr th {\n",
       "        vertical-align: top;\n",
       "    }\n",
       "\n",
       "    .dataframe thead th {\n",
       "        text-align: right;\n",
       "    }\n",
       "</style>\n",
       "<table border=\"1\" class=\"dataframe\">\n",
       "  <thead>\n",
       "    <tr style=\"text-align: right;\">\n",
       "      <th></th>\n",
       "      <th>id</th>\n",
       "      <th>city</th>\n",
       "      <th>question</th>\n",
       "    </tr>\n",
       "  </thead>\n",
       "  <tbody>\n",
       "    <tr>\n",
       "      <th>0</th>\n",
       "      <td>f7845786</td>\n",
       "      <td>Cairo</td>\n",
       "      <td>What is the name of the oldest known pyramid i...</td>\n",
       "    </tr>\n",
       "    <tr>\n",
       "      <th>1</th>\n",
       "      <td>f7845786</td>\n",
       "      <td>Cairo</td>\n",
       "      <td>Which pyramid in Dahshur has an entrance to th...</td>\n",
       "    </tr>\n",
       "    <tr>\n",
       "      <th>2</th>\n",
       "      <td>f7845786</td>\n",
       "      <td>Cairo</td>\n",
       "      <td>What is the distinctive feature of the Bent Py...</td>\n",
       "    </tr>\n",
       "    <tr>\n",
       "      <th>3</th>\n",
       "      <td>f7845786</td>\n",
       "      <td>Cairo</td>\n",
       "      <td>How many pyramids are mentioned to be in the D...</td>\n",
       "    </tr>\n",
       "    <tr>\n",
       "      <th>4</th>\n",
       "      <td>f7845786</td>\n",
       "      <td>Cairo</td>\n",
       "      <td>What is the atmosphere around Dahshur Pyramids...</td>\n",
       "    </tr>\n",
       "    <tr>\n",
       "      <th>...</th>\n",
       "      <td>...</td>\n",
       "      <td>...</td>\n",
       "      <td>...</td>\n",
       "    </tr>\n",
       "    <tr>\n",
       "      <th>2710</th>\n",
       "      <td>feb11863</td>\n",
       "      <td>Seoul</td>\n",
       "      <td>What is the estimated price range for dining o...</td>\n",
       "    </tr>\n",
       "    <tr>\n",
       "      <th>2711</th>\n",
       "      <td>feb11863</td>\n",
       "      <td>Seoul</td>\n",
       "      <td>Will I need more than ₩35,000 for a meal in Se...</td>\n",
       "    </tr>\n",
       "    <tr>\n",
       "      <th>2712</th>\n",
       "      <td>feb11863</td>\n",
       "      <td>Seoul</td>\n",
       "      <td>Can I find a meal for under ₩15,000 in Seoul?</td>\n",
       "    </tr>\n",
       "    <tr>\n",
       "      <th>2713</th>\n",
       "      <td>feb11863</td>\n",
       "      <td>Seoul</td>\n",
       "      <td>What is the lowest amount I can expect to spen...</td>\n",
       "    </tr>\n",
       "    <tr>\n",
       "      <th>2714</th>\n",
       "      <td>feb11863</td>\n",
       "      <td>Seoul</td>\n",
       "      <td>What is the approximate high-end cost for a me...</td>\n",
       "    </tr>\n",
       "  </tbody>\n",
       "</table>\n",
       "<p>2715 rows × 3 columns</p>\n",
       "</div>"
      ],
      "text/plain": [
       "            id   city                                           question\n",
       "0     f7845786  Cairo  What is the name of the oldest known pyramid i...\n",
       "1     f7845786  Cairo  Which pyramid in Dahshur has an entrance to th...\n",
       "2     f7845786  Cairo  What is the distinctive feature of the Bent Py...\n",
       "3     f7845786  Cairo  How many pyramids are mentioned to be in the D...\n",
       "4     f7845786  Cairo  What is the atmosphere around Dahshur Pyramids...\n",
       "...        ...    ...                                                ...\n",
       "2710  feb11863  Seoul  What is the estimated price range for dining o...\n",
       "2711  feb11863  Seoul  Will I need more than ₩35,000 for a meal in Se...\n",
       "2712  feb11863  Seoul      Can I find a meal for under ₩15,000 in Seoul?\n",
       "2713  feb11863  Seoul  What is the lowest amount I can expect to spen...\n",
       "2714  feb11863  Seoul  What is the approximate high-end cost for a me...\n",
       "\n",
       "[2715 rows x 3 columns]"
      ]
     },
     "execution_count": 6,
     "metadata": {},
     "output_type": "execute_result"
    }
   ],
   "source": [
    "df_gt"
   ]
  },
  {
   "cell_type": "code",
   "execution_count": 7,
   "id": "830585dd-1bb7-4430-8819-115b852e5f42",
   "metadata": {},
   "outputs": [],
   "source": [
    "ground_truth = df_gt.to_dict(orient='records')"
   ]
  },
  {
   "cell_type": "code",
   "execution_count": 8,
   "id": "e72654aa-0e42-48be-9a11-5f597a8d1875",
   "metadata": {},
   "outputs": [],
   "source": [
    "from elasticsearch import Elasticsearch\n",
    "import requests\n"
   ]
  },
  {
   "cell_type": "code",
   "execution_count": 9,
   "id": "71bbcce2-eaab-4a43-a630-eaa9d5ce109f",
   "metadata": {},
   "outputs": [
    {
     "name": "stdout",
     "output_type": "stream",
     "text": [
      "{'name': '9125275addfa', 'cluster_name': 'docker-cluster', 'cluster_uuid': 'M25oUGE6Qe6ICaWjniVYiw', 'version': {'number': '8.13.0', 'build_flavor': 'default', 'build_type': 'docker', 'build_hash': '09df99393193b2c53d92899662a8b8b3c55b45cd', 'build_date': '2024-03-22T03:35:46.757803203Z', 'build_snapshot': False, 'lucene_version': '9.10.0', 'minimum_wire_compatibility_version': '7.17.0', 'minimum_index_compatibility_version': '7.0.0'}, 'tagline': 'You Know, for Search'}\n"
     ]
    }
   ],
   "source": [
    "es_client = Elasticsearch('http://localhost:9200')\n",
    "print(es_client.info())"
   ]
  },
  {
   "cell_type": "code",
   "execution_count": 10,
   "id": "75fe6599-ac10-4d4e-ae38-0b48e8ea47f6",
   "metadata": {},
   "outputs": [],
   "source": [
    "index_name = \"travel_assistant\""
   ]
  },
  {
   "cell_type": "code",
   "execution_count": 11,
   "id": "eff4861b-db1f-4909-9589-18104e0e0299",
   "metadata": {},
   "outputs": [
    {
     "name": "stdout",
     "output_type": "stream",
     "text": [
      "Delete existing index: travel_assistant\n"
     ]
    }
   ],
   "source": [
    "if es_client.indices.exists(index=index_name):\n",
    "    es_client.indices.delete(index=index_name)\n",
    "    print(f\"Delete existing index: {index_name}\")"
   ]
  },
  {
   "cell_type": "code",
   "execution_count": 12,
   "id": "4384101a-16dd-4a98-89cc-a48625a58d48",
   "metadata": {},
   "outputs": [
    {
     "data": {
      "text/plain": [
       "['city', 'section', 'subsection', 'text', 'id']"
      ]
     },
     "execution_count": 12,
     "metadata": {},
     "output_type": "execute_result"
    }
   ],
   "source": [
    "list(documents[0].keys())"
   ]
  },
  {
   "cell_type": "code",
   "execution_count": 13,
   "id": "4d27ef7c-60fb-484b-8f75-321e0184ab90",
   "metadata": {},
   "outputs": [
    {
     "data": {
      "text/plain": [
       "ObjectApiResponse({'acknowledged': True, 'shards_acknowledged': True, 'index': 'travel_assistant'})"
      ]
     },
     "execution_count": 13,
     "metadata": {},
     "output_type": "execute_result"
    }
   ],
   "source": [
    "# Index doc by 'city' and 'section' value and the rest is the text \n",
    "\n",
    "index_settings = {\n",
    "    \"settings\":{\n",
    "        \"number_of_shards\":1,\n",
    "        \"number_of_replicas\":0\n",
    "    },\n",
    "    \"mappings\":{\n",
    "        \"properties\":{\n",
    "            \"city\":{\"type\":\"keyword\"},\n",
    "            \"section\":{\"type\":\"text\"},\n",
    "            \"subsection\":{\"type\":\"text\"},\n",
    "            \"text\":{\"type\":\"text\"},\n",
    "        }\n",
    "    }\n",
    "}\n",
    "\n",
    "es_client.indices.create(index=index_name, body=index_settings)"
   ]
  },
  {
   "cell_type": "code",
   "execution_count": 14,
   "id": "faa33dfe-b1dc-4535-a56a-39033950f3d1",
   "metadata": {},
   "outputs": [],
   "source": [
    "# replace none value with null\n",
    "import math\n",
    "\n",
    "def clean_doc(doc):\n",
    "    for k, v in doc.items():\n",
    "        if isinstance(v, float) and math.isnan(v):\n",
    "            doc[k] = None  \n",
    "    return doc"
   ]
  },
  {
   "cell_type": "code",
   "execution_count": 15,
   "id": "2a43021c-e305-4da5-9db1-d7b6bd3afcc4",
   "metadata": {},
   "outputs": [
    {
     "name": "stderr",
     "output_type": "stream",
     "text": [
      "100%|███████████████████████████████████████████████████████████████████████████████████████████████████████████████████████████████████████████| 543/543 [01:18<00:00,  6.94it/s]\n"
     ]
    }
   ],
   "source": [
    "# Set the index for the whole docs\n",
    "\n",
    "for doc in tqdm(documents):\n",
    "    es_client.index(index=index_name, document=clean_doc(doc))\n"
   ]
  },
  {
   "cell_type": "markdown",
   "id": "7bee5dad-492a-425a-a807-67148a5ec05c",
   "metadata": {},
   "source": [
    "## Start the evaluation process"
   ]
  },
  {
   "cell_type": "code",
   "execution_count": 16,
   "id": "9888b684-4bbf-40b4-889c-9f4a5d099043",
   "metadata": {},
   "outputs": [],
   "source": [
    "#Hit Rate (HR) or Recall at k\n",
    "def hit_rate(relevance_total):\n",
    "    cnt = 0\n",
    "\n",
    "    for line in relevance_total:\n",
    "        if True in line:\n",
    "            cnt = cnt + 1\n",
    "\n",
    "    return cnt / len(relevance_total)"
   ]
  },
  {
   "cell_type": "code",
   "execution_count": 17,
   "id": "1e22d5ed-5b05-42b1-bc51-be7411c4b864",
   "metadata": {},
   "outputs": [],
   "source": [
    "# Mean Reciprocal Rank (MRR)\n",
    "def mrr(relevance_total):\n",
    "    total_score = 0.0\n",
    "\n",
    "    for line in relevance_total:\n",
    "        for rank in range(len(line)):\n",
    "            if line[rank] == True:\n",
    "                total_score = total_score + 1 / (rank + 1)\n",
    "\n",
    "    return total_score / len(relevance_total)"
   ]
  },
  {
   "cell_type": "code",
   "execution_count": 18,
   "id": "72283b89-329b-4827-858c-459322f6c287",
   "metadata": {},
   "outputs": [],
   "source": [
    "def evaluate(ground_truth, search_function):\n",
    "    relevance_total = []\n",
    "\n",
    "    for q in tqdm(ground_truth):\n",
    "        doc_id = q['id']\n",
    "        results = search_function(q)\n",
    "        relevance = [d['id'] == doc_id for d in results]\n",
    "        relevance_total.append(relevance)\n",
    "\n",
    "    return {\n",
    "        'hit_rate': hit_rate(relevance_total),\n",
    "        'mrr': mrr(relevance_total),\n",
    "    }\n"
   ]
  },
  {
   "cell_type": "markdown",
   "id": "6c1612dd-4777-4757-af8e-f962705806e3",
   "metadata": {},
   "source": [
    "## Start testing different elastic search method"
   ]
  },
  {
   "cell_type": "code",
   "execution_count": 19,
   "id": "0364ad44-b57f-4df6-9bf7-bc92ec41bdc6",
   "metadata": {},
   "outputs": [],
   "source": [
    "# Define the basline elastic search \n",
    "\n",
    "def elastic_search(query):\n",
    "    search_query = {\n",
    "        \"query\": {\n",
    "            \"bool\": {\n",
    "                \"must\": [\n",
    "                    {\n",
    "                        \"multi_match\": {\n",
    "                            \"query\": query, \n",
    "                            \"fields\": ['city', 'section', 'subsection', 'text'],\n",
    "                            \"type\": \"best_fields\"\n",
    "                        }\n",
    "                    }\n",
    "                ]\n",
    "            }\n",
    "        }\n",
    "    }\n",
    "\n",
    "    response = es_client.search(index=index_name, body=search_query)\n",
    "    result_docs = []\n",
    "\n",
    "    for hit in response['hits']['hits']:\n",
    "        result_docs.append(hit['_source'])\n",
    "\n",
    "    return result_docs\n",
    "    "
   ]
  },
  {
   "cell_type": "code",
   "execution_count": 20,
   "id": "9189abc9-408b-4307-8c10-869c09444d62",
   "metadata": {},
   "outputs": [
    {
     "name": "stderr",
     "output_type": "stream",
     "text": [
      "100%|████████████████████████████████████████████████████████████████████████████████████████████████████████████████████████████████████████| 2715/2715 [00:16<00:00, 169.68it/s]\n"
     ]
    },
    {
     "data": {
      "text/plain": [
       "{'hit_rate': 0.8629834254143647, 'mrr': 0.7413546142827905}"
      ]
     },
     "execution_count": 20,
     "metadata": {},
     "output_type": "execute_result"
    }
   ],
   "source": [
    "Basline_es = evaluate(ground_truth, lambda q: elastic_search(q['question']))\n",
    "Basline_es"
   ]
  },
  {
   "cell_type": "code",
   "execution_count": 21,
   "id": "69253f32-bd42-4045-8f81-73a7a623baa3",
   "metadata": {},
   "outputs": [],
   "source": [
    "def elastic_search_filter(query, city_filter=None):\n",
    "\n",
    "    search_query = {\n",
    "        \"size\": 5,\n",
    "        \"query\": {\n",
    "            \"bool\": {\n",
    "                \"must\": [\n",
    "                    {\n",
    "                        \"multi_match\": {\n",
    "                            \"query\": query,\n",
    "                            \"fields\": ['city', 'section', 'subsection', 'text'],\n",
    "                            \"type\": \"best_fields\"\n",
    "                        }\n",
    "                    }\n",
    "                ]\n",
    "            }\n",
    "        }\n",
    "    }\n",
    "\n",
    "    # Add filter \n",
    "    if city_filter:\n",
    "        search_query[\"query\"][\"bool\"][\"filter\"] = {\n",
    "            \"term\": {\n",
    "                \"city\": city_filter\n",
    "            }\n",
    "        }\n",
    "\n",
    "\n",
    "    response = es_client.search(index=index_name, body=search_query)\n",
    "    \n",
    "    result_docs = []\n",
    "\n",
    "    for hit in response['hits']['hits']:\n",
    "        result_docs.append(hit['_source'])     \n",
    "    \n",
    "    return result_docs"
   ]
  },
  {
   "cell_type": "code",
   "execution_count": 22,
   "id": "f82d839b-ad68-4ee2-b1c8-ef093e847316",
   "metadata": {},
   "outputs": [
    {
     "name": "stderr",
     "output_type": "stream",
     "text": [
      "100%|████████████████████████████████████████████████████████████████████████████████████████████████████████████████████████████████████████| 2715/2715 [00:14<00:00, 181.93it/s]\n"
     ]
    },
    {
     "data": {
      "text/plain": [
       "{'hit_rate': 0.8537753222836095, 'mrr': 0.7651995089011661}"
      ]
     },
     "execution_count": 22,
     "metadata": {},
     "output_type": "execute_result"
    }
   ],
   "source": [
    "filter_es = evaluate(ground_truth, lambda q: elastic_search_filter(q['question'], q['city']))\n",
    "filter_es"
   ]
  },
  {
   "cell_type": "markdown",
   "id": "9e9f9f1a-9379-423d-a697-a4642df4fa01",
   "metadata": {},
   "source": [
    "Basline elastic search \n",
    "\n",
    "{'Recall': 0.8629834254143647,\n",
    "\n",
    " 'hit_rate': 0.8629834254143647,\n",
    " \n",
    " 'mrr': 0.7413546142827905}"
   ]
  },
  {
   "cell_type": "markdown",
   "id": "d0e3972a-deb4-4de0-8c88-a55740a5ef5d",
   "metadata": {},
   "source": [
    "### Semantic Search "
   ]
  },
  {
   "cell_type": "markdown",
   "id": "148a29b0-fc50-4091-8628-8eeccbbaa051",
   "metadata": {},
   "source": [
    "### Pre-trained models \n",
    "https://www.sbert.net/docs/sentence_transformer/pretrained_models.html"
   ]
  },
  {
   "cell_type": "code",
   "execution_count": 23,
   "id": "e26ebcd0-29a0-482e-aab1-c0db7c68dbfe",
   "metadata": {},
   "outputs": [],
   "source": [
    "model_name = \"multi-qa-distilbert-cos-v1\"\n",
    "model = SentenceTransformer(model_name)"
   ]
  },
  {
   "cell_type": "code",
   "execution_count": 24,
   "id": "df34847e-cf26-47f5-af73-13af3572c706",
   "metadata": {},
   "outputs": [
    {
     "data": {
      "text/plain": [
       "SentenceTransformer(\n",
       "  (0): Transformer({'max_seq_length': 512, 'do_lower_case': False, 'architecture': 'DistilBertModel'})\n",
       "  (1): Pooling({'word_embedding_dimension': 768, 'pooling_mode_cls_token': False, 'pooling_mode_mean_tokens': True, 'pooling_mode_max_tokens': False, 'pooling_mode_mean_sqrt_len_tokens': False, 'pooling_mode_weightedmean_tokens': False, 'pooling_mode_lasttoken': False, 'include_prompt': True})\n",
       "  (2): Normalize()\n",
       ")"
      ]
     },
     "execution_count": 24,
     "metadata": {},
     "output_type": "execute_result"
    }
   ],
   "source": [
    "model"
   ]
  },
  {
   "cell_type": "code",
   "execution_count": 25,
   "id": "05e7e87d-7c1e-4230-9382-4c1b89dbf1fc",
   "metadata": {},
   "outputs": [
    {
     "name": "stderr",
     "output_type": "stream",
     "text": [
      "100%|███████████████████████████████████████████████████████████████████████████████████████████████████████████████████████████████████████████| 543/543 [01:08<00:00,  7.92it/s]\n"
     ]
    }
   ],
   "source": [
    "for doc in tqdm(documents):\n",
    "    city = doc['city']\n",
    "    section = doc['section']\n",
    "    text = doc['text']\n",
    "    cst = city + ' ' + section + ' ' + text \n",
    "\n",
    "    doc['city_vector'] = model.encode(city)\n",
    "    doc['section_vector'] = model.encode(section)\n",
    "    doc['text_vector'] = model.encode(text)\n",
    "    doc['all_data_vector'] = model.encode(cst)"
   ]
  },
  {
   "cell_type": "code",
   "execution_count": 26,
   "id": "c0b559c2-83a1-444e-bbc1-9711b8a49961",
   "metadata": {},
   "outputs": [],
   "source": [
    "index_name_vec = \"traveller_vector\""
   ]
  },
  {
   "cell_type": "code",
   "execution_count": 27,
   "id": "1a5605fe-fb9b-46cd-8e90-971fd81630e0",
   "metadata": {},
   "outputs": [
    {
     "data": {
      "text/plain": [
       "ObjectApiResponse({'acknowledged': True, 'shards_acknowledged': True, 'index': 'traveller_vector'})"
      ]
     },
     "execution_count": 27,
     "metadata": {},
     "output_type": "execute_result"
    }
   ],
   "source": [
    "index_settings_vect = {\n",
    "    \"settings\": {\n",
    "        \"number_of_shards\": 1,\n",
    "        \"number_of_replicas\": 0\n",
    "    },\n",
    "    \"mappings\": {\n",
    "        \"properties\": {\n",
    "            \"city\": {\"type\": \"keyword\"},\n",
    "            \"section\": {\"type\": \"text\"},\n",
    "            \"subsection\": {\"type\": \"text\"},\n",
    "            \"text\": {\"type\": \"text\"},\n",
    "            \"id\": {\"type\": \"keyword\"},\n",
    "            \"city_vector\":{\n",
    "                \"type\": \"dense_vector\",\n",
    "                \"dims\": 768,\n",
    "                \"index\": True,\n",
    "                \"similarity\": \"cosine\"\n",
    "            },\n",
    "            \"section_vector\": {\n",
    "                \"type\": \"dense_vector\",\n",
    "                \"dims\": 768,\n",
    "                \"index\": True,\n",
    "                \"similarity\": \"cosine\"\n",
    "            }, \n",
    "            \"text_vector\": {\n",
    "                \"type\": \"dense_vector\",\n",
    "                \"dims\": 768,\n",
    "                \"index\": True,\n",
    "                \"similarity\": \"cosine\"\n",
    "\n",
    "            },\n",
    "            \"all_data_vector\": {\n",
    "                \"type\": \"dense_vector\",\n",
    "                \"dims\": 768,\n",
    "                \"index\": True,\n",
    "                \"similarity\": \"cosine\"\n",
    "            }\n",
    "            \n",
    "        }\n",
    "    }\n",
    "}\n",
    "\n",
    "es_client.indices.delete(index=index_name_vec, ignore_unavailable=True)\n",
    "es_client.indices.create(index=index_name_vec, body=index_settings_vect)"
   ]
  },
  {
   "cell_type": "code",
   "execution_count": 28,
   "id": "73061a84-c464-4943-8ec8-f2b0cfc4a167",
   "metadata": {},
   "outputs": [
    {
     "name": "stderr",
     "output_type": "stream",
     "text": [
      "100%|███████████████████████████████████████████████████████████████████████████████████████████████████████████████████████████████████████████| 543/543 [01:19<00:00,  6.82it/s]\n"
     ]
    }
   ],
   "source": [
    "for doc in tqdm(documents):\n",
    "    es_client.index(index=index_name_vec, document=doc)\n",
    "\n"
   ]
  },
  {
   "cell_type": "code",
   "execution_count": null,
   "id": "f178e818-e9e9-4945-a1cf-02e5f3d8a797",
   "metadata": {},
   "outputs": [],
   "source": []
  },
  {
   "cell_type": "code",
   "execution_count": null,
   "id": "2f503331-50bd-4337-813d-31ae676f96e8",
   "metadata": {},
   "outputs": [],
   "source": []
  },
  {
   "cell_type": "code",
   "execution_count": 29,
   "id": "8ae13bb8-cbc2-4573-8e56-7752eb607a36",
   "metadata": {},
   "outputs": [],
   "source": [
    "city = \"Cairo\"\n",
    "query = \"what transport I should use?\""
   ]
  },
  {
   "cell_type": "code",
   "execution_count": 30,
   "id": "00fa11e2-397b-4c01-a448-c0965acf3cfb",
   "metadata": {},
   "outputs": [],
   "source": [
    "v_q = model.encode(query)"
   ]
  },
  {
   "cell_type": "code",
   "execution_count": 31,
   "id": "7f191059-a21e-4985-93a1-26659a3cb0a0",
   "metadata": {},
   "outputs": [],
   "source": [
    "# Vector (kNN) query\n",
    "knn_query = {\n",
    "    \"field\": \"text_vector\",\n",
    "    \"query_vector\": v_q,\n",
    "    \"k\": 5,\n",
    "    \"num_candidates\": 10000,\n",
    "    \"boost\": 0.5,\n",
    "    \"filter\": {\n",
    "        \"term\": {\n",
    "            \"city\": city\n",
    "        }\n",
    "    }\n",
    "}"
   ]
  },
  {
   "cell_type": "code",
   "execution_count": 32,
   "id": "d25a10ea-36ab-4d11-8851-58aea5a1e842",
   "metadata": {},
   "outputs": [],
   "source": [
    "# Keyword query\n",
    "keyword_query = {\n",
    "    \"bool\": {\n",
    "        \"must\": {\n",
    "            \"multi_match\": {\n",
    "                \"query\": query,\n",
    "                \"fields\": [\"city^3\", 'section', 'subsection', 'text'], \n",
    "                \"type\": \"best_fields\",\n",
    "                \"boost\": 0.5,\n",
    "            }\n",
    "        },\n",
    "        \"filter\": {\n",
    "            \"term\": {\n",
    "                \"city\": city\n",
    "            }\n",
    "        }\n",
    "    }\n",
    "}"
   ]
  },
  {
   "cell_type": "code",
   "execution_count": 33,
   "id": "575d36ab-96b3-435a-b480-d104ef0563a5",
   "metadata": {},
   "outputs": [],
   "source": [
    "response = es_client.search(\n",
    "    index=index_name_vec,\n",
    "    query=keyword_query,\n",
    "    knn=knn_query,\n",
    "    size=5\n",
    ")"
   ]
  },
  {
   "cell_type": "markdown",
   "id": "caa700f0-f265-4ac0-a0e1-fc8b87cfe249",
   "metadata": {},
   "source": [
    "### Hybrid search pipeline\n"
   ]
  },
  {
   "cell_type": "code",
   "execution_count": 34,
   "id": "116118ea-7c91-483a-98f0-51ec813b7dbe",
   "metadata": {},
   "outputs": [],
   "source": [
    "def elastic_search_hybrid(field, query, vector, city):\n",
    "    knn_query = {\n",
    "        \"field\": field,\n",
    "        \"query_vector\": vector,\n",
    "        \"k\": 5,\n",
    "        \"num_candidates\": 10000,\n",
    "        \"boost\": 0.5,\n",
    "        \"filter\": {\n",
    "            \"term\": {\n",
    "                \"city\": city\n",
    "            }\n",
    "        }\n",
    "    }\n",
    "\n",
    "    keyword_query = {\n",
    "        \"bool\": {\n",
    "            \"must\": {\n",
    "                \"multi_match\": {\n",
    "                    \"query\": query,\n",
    "                    \"fields\": [\"city^3\", 'section', 'subsection', 'text'],\n",
    "                    \"type\": \"best_fields\",\n",
    "                    \"boost\": 0.5,\n",
    "                }\n",
    "            },\n",
    "            \"filter\": {\n",
    "                \"term\": {\n",
    "                    \"city\": city\n",
    "                }\n",
    "            }\n",
    "        }\n",
    "    }\n",
    "\n",
    "    search_query = {\n",
    "        \"knn\": knn_query,\n",
    "        \"query\": keyword_query,\n",
    "        \"size\": 5,\n",
    "        \"_source\": [\"city\", 'section', 'subsection', 'text', \"id\"]\n",
    "    }\n",
    "\n",
    "    es_results = es_client.search(\n",
    "        index=index_name_vec,\n",
    "        body=search_query\n",
    "    )\n",
    "    \n",
    "    result_docs = []\n",
    "    \n",
    "    for hit in es_results['hits']['hits']:\n",
    "        result_docs.append(hit['_source'])\n",
    "\n",
    "    return result_docs"
   ]
  },
  {
   "cell_type": "code",
   "execution_count": 35,
   "id": "b79eebc8-6229-476c-9435-0391eeb190ee",
   "metadata": {},
   "outputs": [],
   "source": [
    "def text_hybrid(q):\n",
    "    question = q['question']\n",
    "    city = q['city']\n",
    "\n",
    "    v_q = model.encode(question)\n",
    "\n",
    "    return elastic_search_hybrid('text_vector', question, v_q, city)\n"
   ]
  },
  {
   "cell_type": "code",
   "execution_count": 36,
   "id": "d8b79fff-8acc-45aa-b1f1-12d44a51471f",
   "metadata": {},
   "outputs": [
    {
     "name": "stderr",
     "output_type": "stream",
     "text": [
      "100%|█████████████████████████████████████████████████████████████████████████████████████████████████████████████████████████████████████████| 2715/2715 [01:17<00:00, 34.89it/s]\n"
     ]
    },
    {
     "data": {
      "text/plain": [
       "{'hit_rate': 0.8714548802946593, 'mrr': 0.7861080417434002}"
      ]
     },
     "execution_count": 36,
     "metadata": {},
     "output_type": "execute_result"
    }
   ],
   "source": [
    "text_hybrid_es = evaluate(ground_truth, text_hybrid)\n",
    "text_hybrid_es"
   ]
  },
  {
   "cell_type": "code",
   "execution_count": 37,
   "id": "25b585f6-1681-4686-a54c-cdc401e13941",
   "metadata": {},
   "outputs": [],
   "source": [
    "def city_hybrid(q):\n",
    "    question = q['question']\n",
    "    city = q['city']\n",
    "\n",
    "    v_q = model.encode(question)\n",
    "\n",
    "    return elastic_search_hybrid('city_vector', question, v_q, city)"
   ]
  },
  {
   "cell_type": "code",
   "execution_count": 38,
   "id": "fcb35191-bd20-4bb2-a4cc-f666557b3454",
   "metadata": {},
   "outputs": [
    {
     "name": "stderr",
     "output_type": "stream",
     "text": [
      "100%|█████████████████████████████████████████████████████████████████████████████████████████████████████████████████████████████████████████| 2715/2715 [01:19<00:00, 34.36it/s]\n"
     ]
    },
    {
     "data": {
      "text/plain": [
       "{'hit_rate': 0.8556169429097605, 'mrr': 0.7665009208103126}"
      ]
     },
     "execution_count": 38,
     "metadata": {},
     "output_type": "execute_result"
    }
   ],
   "source": [
    "city_hybrid_es = evaluate(ground_truth, city_hybrid)\n",
    "city_hybrid_es"
   ]
  },
  {
   "cell_type": "code",
   "execution_count": 44,
   "id": "823e7089-2ed1-4be8-9062-1586289f47be",
   "metadata": {},
   "outputs": [],
   "source": [
    "def section_hybrid(q):\n",
    "    question = q['question']\n",
    "    city = q['city']\n",
    "\n",
    "    v_q = model.encode(question)\n",
    "\n",
    "    return elastic_search_hybrid('section_vector', question, v_q, city)"
   ]
  },
  {
   "cell_type": "code",
   "execution_count": 45,
   "id": "f963ac2f-5d1a-483c-bc18-d3760a4d1784",
   "metadata": {},
   "outputs": [
    {
     "name": "stderr",
     "output_type": "stream",
     "text": [
      "100%|█████████████████████████████████████████████████████████████████████████████████████████████████████████████████████████████████████████| 2715/2715 [01:21<00:00, 33.25it/s]\n"
     ]
    },
    {
     "data": {
      "text/plain": [
       "{'hit_rate': 0.8556169429097605, 'mrr': 0.767127071823204}"
      ]
     },
     "execution_count": 45,
     "metadata": {},
     "output_type": "execute_result"
    }
   ],
   "source": [
    "section_hybrid_es = evaluate(ground_truth, section_hybrid)\n",
    "section_hybrid_es"
   ]
  },
  {
   "cell_type": "code",
   "execution_count": 41,
   "id": "d690af63-6c9d-4565-a74e-c48074760958",
   "metadata": {},
   "outputs": [],
   "source": [
    "def all_data_hybrid(q):\n",
    "    question = q['question']\n",
    "    city = q['city']\n",
    "\n",
    "    v_q = model.encode(question)\n",
    "\n",
    "    return elastic_search_hybrid('all_data_vector', question, v_q, city)\n",
    "\n"
   ]
  },
  {
   "cell_type": "code",
   "execution_count": 42,
   "id": "1b9ba8d2-43a8-47e6-a437-b2b15d113bda",
   "metadata": {},
   "outputs": [
    {
     "name": "stderr",
     "output_type": "stream",
     "text": [
      "100%|█████████████████████████████████████████████████████████████████████████████████████████████████████████████████████████████████████████| 2715/2715 [01:19<00:00, 33.97it/s]\n"
     ]
    },
    {
     "data": {
      "text/plain": [
       "{'hit_rate': 0.8751381215469614, 'mrr': 0.7886372007366476}"
      ]
     },
     "execution_count": 42,
     "metadata": {},
     "output_type": "execute_result"
    }
   ],
   "source": [
    "all_data_es = evaluate(ground_truth, all_data_hybrid)\n",
    "all_data_es"
   ]
  },
  {
   "cell_type": "markdown",
   "id": "069749e1-8c78-4acf-b115-0fc28803e870",
   "metadata": {},
   "source": [
    "### Reranking"
   ]
  },
  {
   "cell_type": "code",
   "execution_count": 56,
   "id": "543cb7dd-42af-485f-bfcc-c75d34d4a0de",
   "metadata": {},
   "outputs": [],
   "source": [
    "def compute_rrf(rank, k=60):\n",
    "    \"\"\" Our own implementation of the relevance score \"\"\"\n",
    "    return 1 / (k + rank)\n",
    "\n",
    "def elastic_search_hybrid_rrf(field, query, vector, course, k=60):\n",
    "    knn_query = {\n",
    "        \"field\": field,\n",
    "        \"query_vector\": vector,\n",
    "        \"k\": 10,\n",
    "        \"num_candidates\": 10000,\n",
    "        \"boost\": 0.5,\n",
    "        \"filter\": {\n",
    "            \"term\": {\n",
    "                \"city\": city\n",
    "            }\n",
    "        }\n",
    "    }\n",
    "\n",
    "    keyword_query = {\n",
    "        \"bool\": {\n",
    "            \"must\": {\n",
    "                \"multi_match\": {\n",
    "                    \"query\": query,\n",
    "                    \"fields\": [\"city^3\", 'section', 'subsection', 'text'],\n",
    "                    \"type\": \"best_fields\",\n",
    "                    \"boost\": 0.5,\n",
    "                }\n",
    "            },\n",
    "            \"filter\": {\n",
    "                \"term\": {\n",
    "                    \"city\": city\n",
    "                }\n",
    "            }\n",
    "        }\n",
    "    }\n",
    "\n",
    "    knn_results = es_client.search(\n",
    "        index=index_name_vec, \n",
    "        body={\n",
    "            \"knn\": knn_query, \n",
    "            \"size\": 10\n",
    "        }\n",
    "    )['hits']['hits']\n",
    "    \n",
    "    keyword_results = es_client.search(\n",
    "        index=index_name_vec, \n",
    "        body={\n",
    "            \"query\": keyword_query, \n",
    "            \"size\": 10\n",
    "        }\n",
    "    )['hits']['hits']\n",
    "    \n",
    "    rrf_scores = {}\n",
    "    # Calculate RRF using vector search results\n",
    "    for rank, hit in enumerate(knn_results):\n",
    "        doc_id = hit['_id']\n",
    "        rrf_scores[doc_id] = compute_rrf(rank + 1, k)\n",
    "\n",
    "    # Adding keyword search result scores\n",
    "    for rank, hit in enumerate(keyword_results):\n",
    "        doc_id = hit['_id']\n",
    "        if doc_id in rrf_scores:\n",
    "            rrf_scores[doc_id] += compute_rrf(rank + 1, k)\n",
    "        else:\n",
    "            rrf_scores[doc_id] = compute_rrf(rank + 1, k)\n",
    "\n",
    "    # Sort RRF scores in descending order\n",
    "    reranked_docs = sorted(rrf_scores.items(), key=lambda x: x[1], reverse=True)\n",
    "    \n",
    "    # Get top-K documents by the score\n",
    "    final_results = []\n",
    "    for doc_id, score in reranked_docs[:5]:\n",
    "        doc = es_client.get(index=index_name_vec, id=doc_id)\n",
    "        final_results.append(doc['_source'])\n",
    "    \n",
    "    return final_results"
   ]
  },
  {
   "cell_type": "code",
   "execution_count": 57,
   "id": "884ee33c-4330-418e-94f0-9de7f24e8019",
   "metadata": {},
   "outputs": [],
   "source": [
    "def all_data_hybrid_rrf(q):\n",
    "    question = q['question']\n",
    "    city = q['city']\n",
    "\n",
    "    v_q = model.encode(question)\n",
    "\n",
    "    return elastic_search_hybrid_rrf('all_data_vector', question, v_q, city)\n",
    "\n"
   ]
  },
  {
   "cell_type": "code",
   "execution_count": 58,
   "id": "0ee38156-09a7-416f-abb5-bbee2bcd7fd1",
   "metadata": {},
   "outputs": [
    {
     "name": "stderr",
     "output_type": "stream",
     "text": [
      "100%|█████████████████████████████████████████████████████████████████████████████████████████████████████████████████████████████████████████| 2715/2715 [03:40<00:00, 12.34it/s]\n"
     ]
    },
    {
     "data": {
      "text/plain": [
       "{'hit_rate': 0.13996316758747698, 'mrr': 0.12633517495395943}"
      ]
     },
     "execution_count": 58,
     "metadata": {},
     "output_type": "execute_result"
    }
   ],
   "source": [
    "all_data_hybrid_rrf_es = evaluate(ground_truth, all_data_hybrid_rrf)\n",
    "all_data_hybrid_rrf_es"
   ]
  },
  {
   "cell_type": "code",
   "execution_count": 63,
   "id": "174d569c-6c1d-4749-9f74-8ea3665d242a",
   "metadata": {},
   "outputs": [],
   "source": [
    "from tabulate import tabulate"
   ]
  },
  {
   "cell_type": "code",
   "execution_count": 64,
   "id": "b54c2206-bfbb-46c0-b1ee-21356bc6cef8",
   "metadata": {},
   "outputs": [
    {
     "name": "stdout",
     "output_type": "stream",
     "text": [
      "| Section         | Method                 |   Hit Rate |      MRR |\n",
      "|-----------------|------------------------|------------|----------|\n",
      "| Baseline        | Basline_es             |   0.862983 | 0.741355 |\n",
      "| Baseline        | Filter_es              |   0.853775 | 0.7652   |\n",
      "| Semantic Search | Text_hybrid_es         |   0.871455 | 0.786108 |\n",
      "| Semantic Search | City_hybrid_es         |   0.855617 | 0.766501 |\n",
      "| Semantic Search | Section_hybrid_es      |   0.855617 | 0.767127 |\n",
      "| Semantic Search | All_data_es            |   0.875138 | 0.788637 |\n",
      "| Reranking       | All_data_hybrid_rrf_es |   0.139963 | 0.126335 |\n"
     ]
    }
   ],
   "source": [
    "# build table rows\n",
    "table = [\n",
    "    [\"Baseline\", \"Basline_es\", Basline_es['hit_rate'], Basline_es['mrr']],\n",
    "    [\"Baseline\", \"Filter_es\", filter_es['hit_rate'], filter_es['mrr']],\n",
    "    [\"Semantic Search\", \"Text_hybrid_es\", text_hybrid_es['hit_rate'], text_hybrid_es['mrr']],\n",
    "    [\"Semantic Search\", \"City_hybrid_es\", city_hybrid_es['hit_rate'], city_hybrid_es['mrr']],\n",
    "    [\"Semantic Search\", \"Section_hybrid_es\", section_hybrid_es['hit_rate'], section_hybrid_es['mrr']],\n",
    "    [\"Semantic Search\", \"All_data_es\", all_data_es['hit_rate'], all_data_es['mrr']],\n",
    "    [\"Reranking\", \"All_data_hybrid_rrf_es\", all_data_hybrid_rrf_es['hit_rate'], all_data_hybrid_rrf_es['mrr']],\n",
    "]\n",
    "\n",
    "# print table\n",
    "print(tabulate(table, headers=[\"Section\", \"Method\", \"Hit Rate\", \"MRR\"], tablefmt=\"github\"))"
   ]
  },
  {
   "cell_type": "markdown",
   "id": "ada7ce5b-641c-4fe6-b4d6-eaa620fd195f",
   "metadata": {},
   "source": [
    "## RAG Flow "
   ]
  },
  {
   "cell_type": "code",
   "execution_count": 65,
   "id": "1b18ffcd-d617-4b3a-aec4-2c87ee0919ab",
   "metadata": {},
   "outputs": [],
   "source": [
    "from mistralai import Mistral\n",
    "from mistralai.models import UserMessage\n",
    "import os\n",
    "from dotenv import load_dotenv"
   ]
  },
  {
   "cell_type": "code",
   "execution_count": 84,
   "id": "d8413d86-07fe-4607-9aea-a46c786684f4",
   "metadata": {},
   "outputs": [],
   "source": [
    "# searching\n",
    "f_query = \"Where should I eat?\"\n",
    "city = \"Rome\"  \n",
    "\n",
    "# Encode the query\n",
    "v_q = model.encode(f_query)\n",
    "\n",
    "# Run hybrid search on all_data_vector\n",
    "results = elastic_search_hybrid(\"all_data_vector\", f_query, v_q, city)\n"
   ]
  },
  {
   "cell_type": "code",
   "execution_count": 85,
   "id": "25432023-650e-4d6f-9bf9-c5feaf4c17f5",
   "metadata": {},
   "outputs": [
    {
     "name": "stdout",
     "output_type": "stream",
     "text": [
      "Result 1:\n",
      "  City: Rome\n",
      "  Section: Drink\n",
      "  Subsection: Clubbing &amp; Night Life\n",
      "  Text: On the other side of the River Tiber (Tevere) is Trastevere district where there are many places to eat and drink. This is also a good place where to enjoy a walk in crowded streets at night. In summer time on Isola Tiberina , the island in the Tiber, temporary bar are built and there are all sorts of things to do.\n",
      "--------------------------------------------------\n",
      "Result 2:\n",
      "  City: Rome\n",
      "  Section: Eat\n",
      "  Subsection: None\n",
      "  Text: Many of the good restaurants in Rome are hard to find, but a good tip is to go where Italians live and eat. The downside is that waitstaff at these restaurants usually do not speak English, so be prepared to have to speak some Italian. On the top of the green, old mountain (Monte Verde Vecchio) there are some trattorias with authentic Italian cuisine at an affordable price. Rome also has many beautiful spots to eat, so buying some delicacies to make up a picnic can be a great experience. In Via Marmorata you find Volpetti's which is known for its amazing selection of cheese, prosciutto and delicious pastries (and also for its prices!). A more affordable choice is to go to a local supermarket which will also have good fresh foods for lunch.\n",
      "--------------------------------------------------\n",
      "Result 3:\n",
      "  City: Rome\n",
      "  Section: Eat\n",
      "  Subsection: Pizza\n",
      "  Text: Most pizza restaurants serve it only in the evening. Try some of the fried things like baccala (battered salt cod) for a starter, followed by a pizza for a really Roman meal.  Roman pizzas tend to be very thin crusted. Avoid the tourist areas where you'll often pay double the going rate just to get a badly reheated frozen pizza. Your best bet is to cross the river and find a restaurant in Trastevere--the food is authentic and a lot cheaper than in the rest of downtown Rome. Make sure you eat it with a fork and knife; Romans don't eat this kind of pizza with their hands.\n",
      "--------------------------------------------------\n",
      "Result 4:\n",
      "  City: Rome\n",
      "  Section: Eat\n",
      "  Subsection: Pricing\n",
      "  Text: €15-20 - At lunchtime if you go to a restaurant you'll be spending between €15 for a set menu (not always good, try to go where you see Italian office people having their lunch as your best bet) and €20. For this you should get a pasta dish and a second course (meat) ending with coffee. Obviously if you have special wine the price will increase.\n",
      "--------------------------------------------------\n",
      "Result 5:\n",
      "  City: Rome\n",
      "  Section: Eat\n",
      "  Subsection: Vegetarians\n",
      "  Text: Vegetarians should have an easy time. Buffets in many restaurants usually have a good range of delicious vegetarian stuff - e.g. gratinated roast peppers/aubergines, etc. Vegans should do all right too; pizzas don't always have cheese - a Marinara for example, is just tomato, garlic and oregano.\n",
      "--------------------------------------------------\n"
     ]
    }
   ],
   "source": [
    "# Show results\n",
    "for i, r in enumerate(results, 1):\n",
    "    print(f\"Result {i}:\")\n",
    "    print(f\"  City: {r['city']}\")\n",
    "    print(f\"  Section: {r['section']}\")\n",
    "    print(f\"  Subsection: {r['subsection']}\")\n",
    "    print(f\"  Text: {r['text']}\")\n",
    "    print(\"-\" * 50)"
   ]
  },
  {
   "cell_type": "code",
   "execution_count": 86,
   "id": "3005e48f-dfc7-44b3-b213-f36760a2c439",
   "metadata": {},
   "outputs": [
    {
     "data": {
      "text/plain": [
       "True"
      ]
     },
     "execution_count": 86,
     "metadata": {},
     "output_type": "execute_result"
    }
   ],
   "source": [
    "# loads variables from .env\n",
    "load_dotenv()  "
   ]
  },
  {
   "cell_type": "code",
   "execution_count": 87,
   "id": "4445b8be-d4cd-4e96-8aac-0d8696cf3a7c",
   "metadata": {},
   "outputs": [],
   "source": [
    "api_key = os.getenv(\"API_KEY\")"
   ]
  },
  {
   "cell_type": "code",
   "execution_count": 88,
   "id": "7c08203e-c8b1-4ca1-874e-335d6ace4369",
   "metadata": {},
   "outputs": [],
   "source": [
    "client = Mistral(api_key = api_key)"
   ]
  },
  {
   "cell_type": "code",
   "execution_count": 99,
   "id": "a2880cc6-2711-48b9-b091-d40eb4662b3f",
   "metadata": {},
   "outputs": [],
   "source": [
    "def build_prompt(query, search_results):\n",
    "    context_template = \"Q: {question}\\n A: {text}\"\n",
    "\n",
    "    context_parts = []\n",
    "    for source in search_results:\n",
    "        context_parts.append(context_template.format(question=source.get('question', ''), text=source.get('text', '')))\n",
    "\n",
    "    context = \"\\n\\n\".join(context_parts)\n",
    "\n",
    "    prompt_template = \"\"\"\n",
    "You're a travel assistant. Answer the QUESTION based on the CONTEXT from the FAQ database.\n",
    "Use only the facts from the CONTEXT when answering the QUESTION.\n",
    "\n",
    "QUESTION: {question}\n",
    "\n",
    "CONTEXT:\n",
    "{context}\n",
    "\n",
    "    \"\"\".strip()\n",
    "    \n",
    "    prompt = prompt_template.format(question=query, context=context)\n",
    "\n",
    "    return prompt\n"
   ]
  },
  {
   "cell_type": "code",
   "execution_count": 100,
   "id": "c13bd496-5412-421c-a75e-691cd2adfbe5",
   "metadata": {},
   "outputs": [],
   "source": [
    "def llm(prompt):\n",
    "    response = client.chat.complete(\n",
    "        model= \"mistral-medium-latest\",\n",
    "        messages=[UserMessage(content=prompt)],\n",
    "    )\n",
    "\n",
    "\n",
    "    return response.choices[0].message.content"
   ]
  },
  {
   "cell_type": "code",
   "execution_count": 101,
   "id": "83022759-7b1a-46da-b3f3-057679a90a38",
   "metadata": {},
   "outputs": [],
   "source": [
    "def rag(query):\n",
    "    v_q = model.encode(query)\n",
    "    search_results = elastic_search_hybrid(\"all_data_vector\", query, v_q, city)\n",
    "    prompt = build_prompt(query, search_results)\n",
    "    answer = llm(prompt)\n",
    "\n",
    "    return answer"
   ]
  },
  {
   "cell_type": "code",
   "execution_count": 102,
   "id": "70b9cce8-5bfd-4085-addf-09c978ccb946",
   "metadata": {},
   "outputs": [
    {
     "name": "stdout",
     "output_type": "stream",
     "text": [
      "\n",
      " Answer: Here are some great places to eat in Rome based on the context:\n",
      "\n",
      "1. **Trastevere District** – Cross the River Tiber to find many authentic and affordable restaurants, especially for pizza (served in the evening). Avoid tourist areas for better quality and prices.\n",
      "\n",
      "2. **Monte Verde Vecchio** – A green, old mountain with trattorias offering authentic Italian cuisine at reasonable prices.\n",
      "\n",
      "3. **Via Marmorata (Volpetti’s)** – A famous deli with high-quality cheese, prosciutto, and pastries (though prices are higher). For a budget option, try a local supermarket for fresh picnic foods.\n",
      "\n",
      "4. **Roman Pizza Tips** – Try fried starters like *baccala* (battered salt cod) followed by a thin-crust pizza. Eat it with a fork and knife, as Romans do.\n",
      "\n",
      "5. **Vegetarian/Vegan Options** – Many restaurants have buffets with grilled vegetables, and pizzas like *Marinara* (tomato, garlic, oregano) are vegan-friendly.\n",
      "\n",
      "For a budget meal (€15–20), look for places where Italian office workers eat—these often offer good set menus.\n"
     ]
    }
   ],
   "source": [
    "answer = rag(f_query)\n",
    "print(\"\\n Answer:\", answer)"
   ]
  },
  {
   "cell_type": "code",
   "execution_count": 104,
   "id": "a673eb22-a0e5-4085-8d10-bd1b63edaff2",
   "metadata": {},
   "outputs": [
    {
     "name": "stdout",
     "output_type": "stream",
     "text": [
      "\n",
      " Answer: Here’s a well-balanced **2-day Rome itinerary** based on the provided context, optimized for efficiency and cost savings with the **Roma Pass 48-Hours (€36.50)**:\n",
      "\n",
      "---\n",
      "### **Day 1: Ancient Rome & Iconic Landmarks**\n",
      "**Morning:**\n",
      "- **Colosseum (Colosseo)** – Use your **Roma Pass for free entry + skip-the-line access** (save 1+ hour waiting). Book a timed slot in advance.\n",
      "- **Palatine Hill (Palatino Hill)** – Included in the same ticket as the Colosseum. Explore the ruins of imperial palaces and the birthplace of Rome.\n",
      "\n",
      "**Afternoon:**\n",
      "- **Roman Forum** – Walk through the heart of ancient Rome (entry included with Colosseum ticket).\n",
      "- **Lunch**: Quick bite near **Monti district** (e.g., *La Carbonara* for authentic pasta).\n",
      "- **Baths of Caracalla (Terme di Caracalla)** – Use your **second free Roma Pass entry** (massive imperial baths, less crowded than the Forum).\n",
      "\n",
      "**Evening:**\n",
      "- **Piazza Venezia & Altare della Patria** – Free panoramic views of Rome from the terrace.\n",
      "- **Dinner**: *Roscioli* (near Campo de’ Fiori) for Roman-Jewish cuisine or *Emma Pizzeria* for wood-fired pizza.\n",
      "\n",
      "---\n",
      "### **Day 2: Vatican & Hidden Gems**\n",
      "**Morning:**\n",
      "- **Vatican Museums + Sistine Chapel** – *Not covered by Roma Pass 48h*; book a **skip-the-line ticket (€17–€27)** for 8:30 AM entry to avoid crowds.\n",
      "- **St. Peter’s Basilica** – Free entry (dress modestly). Climb the dome (€8 stairs/€10 elevator) for views.\n",
      "\n",
      "**Afternoon:**\n",
      "- **Lunch**: *Pizzarium Bonci* (near Vatican) for gourmet pizza al taglio.\n",
      "- **Castel Sant’Angelo** – Use **Roma Pass discount** (€10.50 instead of €15). Walk along the Tiber River afterward.\n",
      "- **Alternative**: **Catacombs** (e.g., San Callisto) – Free with Roma Pass if you prefer underground history.\n",
      "\n",
      "**Evening:**\n",
      "- **Trastevere** – Wander the medieval streets, stop at *Tonnarello* for cacio e pepe.\n",
      "- **Optional**: Sunset at **Gianicolo Hill** (free panoramic view).\n",
      "\n",
      "---\n",
      "### **Key Tips:**\n",
      "1. **Roma Pass 48h Strategy**:\n",
      "   - Use **free entries** for **Colosseum/Palatine Hill** (counts as 1 site) and **Baths of Caracalla** (or Catacombs).\n",
      "   - Get **discounts** for Castel Sant’Angelo or other museums.\n",
      "   - **Public transport** is included (metro/buses to Vatican, Trastevere, etc.).\n",
      "\n",
      "2. **Avoid**:\n",
      "   - Wearing **A.S. Roma/S.S. Lazio colors** (risk of confrontation).\n",
      "   - Long queues at the Colosseum/Vatican by booking early slots.\n",
      "\n",
      "3. **Budget**:\n",
      "   - **Pass**: €36.50\n",
      "   - **Vatican ticket**: ~€20\n",
      "   - **Food**: €30–€50/day (mid-range)\n",
      "   - **Extras**: Dome climb (€10), gelato (€3–€5).\n",
      "\n",
      "---\n",
      "### **If You Prefer the OMNIA Pass (€113)**:\n",
      "- **Pros**: Includes Vatican skip-the-line, hop-on-hop-off bus, and Roma Pass benefits.\n",
      "- **Cons**: Overkill for 2 days unless you prioritize the bus tour and Vatican fast-track.\n",
      "- **Adjust itinerary**: Replace Baths of Caracalla with **Borghese Gallery** (free with OMNIA).\n"
     ]
    }
   ],
   "source": [
    "answer = rag(\"Plan two days trip to Roma\")\n",
    "print(\"\\n Answer:\", answer)"
   ]
  },
  {
   "cell_type": "code",
   "execution_count": 105,
   "id": "b52d911a-9c67-4eea-aebc-a9e2efcfea22",
   "metadata": {},
   "outputs": [
    {
     "name": "stdout",
     "output_type": "stream",
     "text": [
      "\n",
      " Answer: I’m unable to provide a three-day itinerary for **Dubai** based on the given **CONTEXT**, as the provided information pertains exclusively to **Rome** (e.g., accommodation taxes, museums, water fountains, and shopping malls in Rome).\n",
      "\n",
      "For a Dubai itinerary, I’d need relevant details about attractions, transportation, cultural norms, and seasonal considerations specific to Dubai.\n"
     ]
    }
   ],
   "source": [
    "answer = rag(\"Plan three-day itinerary for Dubai\")\n",
    "print(\"\\n Answer:\", answer)"
   ]
  },
  {
   "cell_type": "code",
   "execution_count": 108,
   "id": "8d019a15-13a1-489a-91d1-6b299efec549",
   "metadata": {},
   "outputs": [
    {
     "name": "stdout",
     "output_type": "stream",
     "text": [
      "\n",
      " Answer: I’m sorry, but the provided **CONTEXT** does not contain any information about transportation in **Seoul**.\n",
      "\n",
      "Would you like me to provide general transportation advice for Seoul based on standard travel knowledge? Let me know!\n"
     ]
    }
   ],
   "source": [
    "answer = rag(\"what trasnportation I should use in Seoul\")\n",
    "print(\"\\n Answer:\", answer)"
   ]
  },
  {
   "cell_type": "code",
   "execution_count": null,
   "id": "0a571fe3-d26a-4cec-890b-35435a57d9e9",
   "metadata": {},
   "outputs": [],
   "source": []
  }
 ],
 "metadata": {
  "kernelspec": {
   "display_name": "Python 3 (ipykernel)",
   "language": "python",
   "name": "python3"
  },
  "language_info": {
   "codemirror_mode": {
    "name": "ipython",
    "version": 3
   },
   "file_extension": ".py",
   "mimetype": "text/x-python",
   "name": "python",
   "nbconvert_exporter": "python",
   "pygments_lexer": "ipython3",
   "version": "3.12.2"
  }
 },
 "nbformat": 4,
 "nbformat_minor": 5
}
