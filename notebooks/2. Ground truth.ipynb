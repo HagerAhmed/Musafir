{
 "cells": [
  {
   "cell_type": "code",
   "execution_count": 1,
   "id": "b449869e-a5f4-4e9c-86f4-4492fad84aa8",
   "metadata": {},
   "outputs": [],
   "source": [
    "import os\n",
    "os.environ[\"SSL_CERT_FILE\"] = \"/mnt/d/Travel Assistant/Musafir/Fortinet_CA_SSL(15).cer\"\n",
    "os.environ[\"REQUESTS_CA_BUNDLE\"] = \"/mnt/d/Travel Assistant/Musafir/Fortinet_CA_SSL(15).cer\""
   ]
  },
  {
   "cell_type": "code",
   "execution_count": 2,
   "id": "577b72c7-ba1b-4a0f-ad62-18ce2cdad615",
   "metadata": {},
   "outputs": [],
   "source": [
    "import pandas as pd"
   ]
  },
  {
   "cell_type": "code",
   "execution_count": 3,
   "id": "cdabe484-0163-4489-8338-919b7a9b5e5b",
   "metadata": {},
   "outputs": [],
   "source": [
    "df = pd.read_csv(\"../data/processed_data/all_cities_combined_clean.csv\")"
   ]
  },
  {
   "cell_type": "code",
   "execution_count": 4,
   "id": "730ac6f5-412a-44d9-a98b-46e503cfc399",
   "metadata": {},
   "outputs": [
    {
     "data": {
      "text/html": [
       "<div>\n",
       "<style scoped>\n",
       "    .dataframe tbody tr th:only-of-type {\n",
       "        vertical-align: middle;\n",
       "    }\n",
       "\n",
       "    .dataframe tbody tr th {\n",
       "        vertical-align: top;\n",
       "    }\n",
       "\n",
       "    .dataframe thead th {\n",
       "        text-align: right;\n",
       "    }\n",
       "</style>\n",
       "<table border=\"1\" class=\"dataframe\">\n",
       "  <thead>\n",
       "    <tr style=\"text-align: right;\">\n",
       "      <th></th>\n",
       "      <th>city</th>\n",
       "      <th>section</th>\n",
       "      <th>subsection</th>\n",
       "      <th>text</th>\n",
       "    </tr>\n",
       "  </thead>\n",
       "  <tbody>\n",
       "    <tr>\n",
       "      <th>0</th>\n",
       "      <td>Cairo</td>\n",
       "      <td>See</td>\n",
       "      <td>Further afield</td>\n",
       "      <td>29.8 31.233333 1 Dahshur Pyramids . For a cont...</td>\n",
       "    </tr>\n",
       "    <tr>\n",
       "      <th>1</th>\n",
       "      <td>Cairo</td>\n",
       "      <td>See</td>\n",
       "      <td>NaN</td>\n",
       "      <td>30.0405 31.2646 2 Al-Azhar Park . A landscaped...</td>\n",
       "    </tr>\n",
       "    <tr>\n",
       "      <th>2</th>\n",
       "      <td>Cairo</td>\n",
       "      <td>See</td>\n",
       "      <td>NaN</td>\n",
       "      <td>30.0417 31.2483 4 Abdeen Palace . About 1 km e...</td>\n",
       "    </tr>\n",
       "    <tr>\n",
       "      <th>3</th>\n",
       "      <td>Cairo</td>\n",
       "      <td>See</td>\n",
       "      <td>NaN</td>\n",
       "      <td>30.0475 31.262222 3 Khan El Khalily . Cairo's ...</td>\n",
       "    </tr>\n",
       "    <tr>\n",
       "      <th>4</th>\n",
       "      <td>Cairo</td>\n",
       "      <td>See</td>\n",
       "      <td>NaN</td>\n",
       "      <td>30.047778 31.233333 1 Egyptian Museum ( 250 m ...</td>\n",
       "    </tr>\n",
       "    <tr>\n",
       "      <th>...</th>\n",
       "      <td>...</td>\n",
       "      <td>...</td>\n",
       "      <td>...</td>\n",
       "      <td>...</td>\n",
       "    </tr>\n",
       "    <tr>\n",
       "      <th>538</th>\n",
       "      <td>Seoul</td>\n",
       "      <td>Districts</td>\n",
       "      <td>NaN</td>\n",
       "      <td>West ( Gangseo-gu, Yangcheon-gu ) Western area...</td>\n",
       "    </tr>\n",
       "    <tr>\n",
       "      <th>539</th>\n",
       "      <td>Seoul</td>\n",
       "      <td>See</td>\n",
       "      <td>NaN</td>\n",
       "      <td>While Seoul today is mostly known as a super-m...</td>\n",
       "    </tr>\n",
       "    <tr>\n",
       "      <th>540</th>\n",
       "      <td>Seoul</td>\n",
       "      <td>Districts</td>\n",
       "      <td>NaN</td>\n",
       "      <td>Yeongdeungpo &amp; Guro (영등포 / 구로) ( Yeongdeungpo-...</td>\n",
       "    </tr>\n",
       "    <tr>\n",
       "      <th>541</th>\n",
       "      <td>Seoul</td>\n",
       "      <td>Districts</td>\n",
       "      <td>NaN</td>\n",
       "      <td>Yongsan (용산) ( Yongsan-gu ) Yongsan is home to...</td>\n",
       "    </tr>\n",
       "    <tr>\n",
       "      <th>542</th>\n",
       "      <td>Seoul</td>\n",
       "      <td>Eat</td>\n",
       "      <td>NaN</td>\n",
       "      <td>₩15,000–35,000</td>\n",
       "    </tr>\n",
       "  </tbody>\n",
       "</table>\n",
       "<p>543 rows × 4 columns</p>\n",
       "</div>"
      ],
      "text/plain": [
       "      city    section      subsection  \\\n",
       "0    Cairo        See  Further afield   \n",
       "1    Cairo        See             NaN   \n",
       "2    Cairo        See             NaN   \n",
       "3    Cairo        See             NaN   \n",
       "4    Cairo        See             NaN   \n",
       "..     ...        ...             ...   \n",
       "538  Seoul  Districts             NaN   \n",
       "539  Seoul        See             NaN   \n",
       "540  Seoul  Districts             NaN   \n",
       "541  Seoul  Districts             NaN   \n",
       "542  Seoul        Eat             NaN   \n",
       "\n",
       "                                                  text  \n",
       "0    29.8 31.233333 1 Dahshur Pyramids . For a cont...  \n",
       "1    30.0405 31.2646 2 Al-Azhar Park . A landscaped...  \n",
       "2    30.0417 31.2483 4 Abdeen Palace . About 1 km e...  \n",
       "3    30.0475 31.262222 3 Khan El Khalily . Cairo's ...  \n",
       "4    30.047778 31.233333 1 Egyptian Museum ( 250 m ...  \n",
       "..                                                 ...  \n",
       "538  West ( Gangseo-gu, Yangcheon-gu ) Western area...  \n",
       "539  While Seoul today is mostly known as a super-m...  \n",
       "540  Yeongdeungpo & Guro (영등포 / 구로) ( Yeongdeungpo-...  \n",
       "541  Yongsan (용산) ( Yongsan-gu ) Yongsan is home to...  \n",
       "542                                     ₩15,000–35,000  \n",
       "\n",
       "[543 rows x 4 columns]"
      ]
     },
     "execution_count": 4,
     "metadata": {},
     "output_type": "execute_result"
    }
   ],
   "source": [
    "df"
   ]
  },
  {
   "cell_type": "code",
   "execution_count": 5,
   "id": "ee42b466-6cb1-4760-b011-f4b5f7719a22",
   "metadata": {},
   "outputs": [],
   "source": [
    "# change csv to json \n",
    "documents = df.to_dict(orient='records')"
   ]
  },
  {
   "cell_type": "code",
   "execution_count": 6,
   "id": "9c031ca3-2615-4496-9cdc-0db803350fe7",
   "metadata": {},
   "outputs": [
    {
     "data": {
      "text/plain": [
       "[{'city': 'Seoul',\n",
       "  'section': 'Stay safe',\n",
       "  'subsection': nan,\n",
       "  'text': 'Fake monks have been known to operate in Seoul, notably around the Jogyesa temple. They are dressed as Buddhist monks requesting donations from people on the street in return for blessings, although they do not actually belong to any Buddhist order and just keep the cash for themselves. Actual monks would never seek donations in this manner. If you want to donate money, put it into the donation box in temples.'},\n",
       " {'city': 'Seoul',\n",
       "  'section': 'Buy',\n",
       "  'subsection': 'Fashion',\n",
       "  'text': \"Fashion shopping in Seoul isn't a mere industry, it's an art form. Trends often begin in University areas like Hongdae . Hongik University boasts Korea's most famous art school, thus fashion in this area is often influenced by the students' artistic sensibilities. The shops in this area feature funky, punky, boho, and vintage style. Ewha Women's University also has a big shopping area in front of its main gate, as do many of the Women's colleges. Many trends also originate here. There are even seamstresses who can help you make your own designs come to life.\"},\n",
       " {'city': 'Seoul',\n",
       "  'section': 'Districts',\n",
       "  'subsection': nan,\n",
       "  'text': \"Gangnam & Seocho (강남 / 서초) ( Gangnam-gu, Seocho-gu ) Famed for 'Gangnam Style', this affluent area is the glitzy center of modern Seoul, home to hundreds of glass and steel skyscrapers, neon billboards, and some of the most expensive real estate in the country.\"},\n",
       " {'city': 'Seoul',\n",
       "  'section': 'Sleep',\n",
       "  'subsection': nan,\n",
       "  'text': 'Gangnam has a wide range of luxury with the Imperial Palace Hotel, the Park Hyatt Seoul and the Ritz-Carlton Seoul.'},\n",
       " {'city': 'Seoul',\n",
       "  'section': 'See',\n",
       "  'subsection': 'Palaces, shrines, and walls of Joseon Dynasty and other traditional sites',\n",
       "  'text': 'Gyeongbokgung Palace. In 1-91, Sejongno, Jongno-gu. The Gyeongbokgung, which means \"Palace Greatly Blessed by Heaven.\", was built in 1395 in Joseon Dynasty. It was the heart of Joseon Dynasty because the government ministry district was focused here. Even after it was razed by the Japanese during Hideyoshi invasions of 1592–1598, it was reconstructed in 1876, only for many buildings to be razed again by the Japanese during the occupation from 1910–1945. Nevertheless, Gyeongbokgung remains one of the most magnificent and historically most significant places in Seoul, and restoration to its pre-Japanese occupation state continues to be take place at a painstaking pace. It opens everyday except Tuesday. There is also a free guide tour for tourists every day (English\\xa0: 11:00, 13:30, 15:30). It is also good to take the opportunity of night opening, which is held a few days every a year, you have to reserve a place online. You can access the palace by subway (Gyeongbokgung Palace station Exit 5, Subway line 3) or Seoul City Tour Bus.'}]"
      ]
     },
     "execution_count": 6,
     "metadata": {},
     "output_type": "execute_result"
    }
   ],
   "source": [
    "documents[495:500]"
   ]
  },
  {
   "cell_type": "markdown",
   "id": "8bdeaf2c-26a0-4fbc-848a-c5e2c846dece",
   "metadata": {},
   "source": [
    "## Create hashid for the text "
   ]
  },
  {
   "cell_type": "code",
   "execution_count": 7,
   "id": "cb2c7182-210e-448e-ab60-6a418df78915",
   "metadata": {},
   "outputs": [
    {
     "name": "stderr",
     "output_type": "stream",
     "text": [
      "/mnt/d/Travel Assistant/Musafir/venv/lib/python3.12/site-packages/tqdm/auto.py:21: TqdmWarning: IProgress not found. Please update jupyter and ipywidgets. See https://ipywidgets.readthedocs.io/en/stable/user_install.html\n",
      "  from .autonotebook import tqdm as notebook_tqdm\n"
     ]
    }
   ],
   "source": [
    "import hashlib\n",
    "from tqdm.auto import tqdm\n",
    "import json"
   ]
  },
  {
   "cell_type": "code",
   "execution_count": 8,
   "id": "b4dc0072-b034-49d5-a2f5-492922968d8b",
   "metadata": {},
   "outputs": [],
   "source": [
    "def generate_document_id(doc):\n",
    "    combined = f\"{doc['city']}-{doc['section']}-{doc['text'][:50]}\" # to be sure the data is unqiue \n",
    "    hash_object = hashlib.md5(combined.encode())\n",
    "    hash_hex = hash_object.hexdigest()\n",
    "    document_id = hash_hex[:8]\n",
    "    return document_id"
   ]
  },
  {
   "cell_type": "code",
   "execution_count": 9,
   "id": "d75917a0-94bd-441a-be75-127fce548b97",
   "metadata": {},
   "outputs": [
    {
     "name": "stderr",
     "output_type": "stream",
     "text": [
      "100%|████████████████████████████████████████████████████████████████████████████████████████████████████████████████████████████████████████████████████████| 543/543 [00:00<00:00, 539310.22it/s]\n"
     ]
    }
   ],
   "source": [
    "for doc in tqdm(documents):\n",
    "    doc['id'] = generate_document_id(doc)"
   ]
  },
  {
   "cell_type": "code",
   "execution_count": 10,
   "id": "7e747626-a8bc-49af-8ecb-29a54c85eb4b",
   "metadata": {},
   "outputs": [
    {
     "data": {
      "text/plain": [
       "[{'city': 'Cairo',\n",
       "  'section': 'See',\n",
       "  'subsection': 'Further afield',\n",
       "  'text': '29.8 31.233333 1 Dahshur Pyramids . For a contrast to touristy Pyramids of Giza, head south to the oldest known pyramid, the Red Pyramid. The neglected Dahshur Pyramids are interesting and worth a visit, considering its history and the hassle-free atmosphere. Also, see the weird Bent Pyramid there and hike around the area to the Black Pyramid. The Red Pyramid has an entrance to the inside, which you can climb down. ( updated Jan 2018 )',\n",
       "  'id': 'f7845786'},\n",
       " {'city': 'Cairo',\n",
       "  'section': 'See',\n",
       "  'subsection': nan,\n",
       "  'text': '30.0405 31.2646 2 Al-Azhar Park . A landscaped garden overlooking the Citadel',\n",
       "  'id': 'fca551b1'},\n",
       " {'city': 'Cairo',\n",
       "  'section': 'See',\n",
       "  'subsection': nan,\n",
       "  'text': '30.0417 31.2483 4 Abdeen Palace . About 1 km east of Midan El-Tahrir, it was the royal residence until the Egyptian monarchy was deposed in 1952. ( updated Jan 2018 )',\n",
       "  'id': '91c82200'},\n",
       " {'city': 'Cairo',\n",
       "  'section': 'See',\n",
       "  'subsection': nan,\n",
       "  'text': \"30.0475 31.262222 3 Khan El Khalily . Cairo's souk area where visitors will find many merchants selling perfume, spices, gold, Egyptian handicrafts.\",\n",
       "  'id': 'a4b7a503'},\n",
       " {'city': 'Cairo',\n",
       "  'section': 'See',\n",
       "  'subsection': nan,\n",
       "  'text': \"30.047778 31.233333 1 Egyptian Museum ( 250 m north of Tahrir square ), ☏ +20 2 25796948 . The Museum of Egyptian Antiquities (known by all as the Egyptian Museum) hosts the world's premier collection of ancient Egyptian artifacts. Parts of its collections are being moved to the new Grand Egyptian Museum in Giza, which is to open in 2022. Adult 200 LE, student: 100 LE; photography (personal use, without flash): camera 50 LE, video 300 LE . ( updated Oct 2021 )\",\n",
       "  'id': '84d1da2a'},\n",
       " {'city': 'Cairo',\n",
       "  'section': 'Drink',\n",
       "  'subsection': 'Fruit juice stalls',\n",
       "  'text': 'A health reminder Use extra care if you choose to consume beverages from fruit stalls. In general, food handling procedures are not up to Western food sanitation standards. Some vendors mix their fruit juices with less-than-perfect tap-water.',\n",
       "  'id': 'a889ec32'}]"
      ]
     },
     "execution_count": 10,
     "metadata": {},
     "output_type": "execute_result"
    }
   ],
   "source": [
    "documents[:6]"
   ]
  },
  {
   "cell_type": "code",
   "execution_count": 11,
   "id": "3b81c4c1-f641-4b3c-b56b-b2ff941c5283",
   "metadata": {},
   "outputs": [
    {
     "name": "stdout",
     "output_type": "stream",
     "text": [
      "All IDs are unique\n"
     ]
    }
   ],
   "source": [
    "# Extract all IDs\n",
    "ids = [doc[\"id\"] for doc in documents]\n",
    "\n",
    "# Check duplicates\n",
    "duplicates = set([i for i in ids if ids.count(i) > 1])\n",
    "\n",
    "if duplicates:\n",
    "    print(\"Duplicated IDs found:\", duplicates)\n",
    "else:\n",
    "    print(\"All IDs are unique\")\n"
   ]
  },
  {
   "cell_type": "code",
   "execution_count": 12,
   "id": "a7018b86-3a8a-4440-b121-37ef881842d3",
   "metadata": {},
   "outputs": [],
   "source": [
    "# Save the updated json file \n",
    "\n",
    "with open(\"../data/processed_data/documents-with-ids.json\", \"wt\") as f_out:\n",
    "    json.dump(documents, f_out, indent=2)"
   ]
  },
  {
   "cell_type": "code",
   "execution_count": 13,
   "id": "ae9be155-4873-4118-888d-da4ae979f5f1",
   "metadata": {},
   "outputs": [
    {
     "name": "stdout",
     "output_type": "stream",
     "text": [
      "[\n",
      "  {\n",
      "    \"city\": \"Cairo\",\n",
      "    \"section\": \"See\",\n",
      "    \"subsection\": \"Further afield\",\n",
      "    \"text\": \"29.8 31.233333 1 Dahshur Pyramids . For a contrast to touristy Pyramids of Giza, head south to the oldest known pyramid, the Red Pyramid. The neglected Dahshur Pyramids are interesting and worth a visit, considering its history and the hassle-free atmosphere. Also, see the weird Bent Pyramid there and hike around the area to the Black Pyramid. The Red Pyramid has an entrance to the inside, which you can climb down. ( updated Jan 2018 )\",\n",
      "    \"id\": \"f7845786\"\n",
      "  },\n",
      "  {\n",
      "    \"city\": \"Cairo\",\n"
     ]
    }
   ],
   "source": [
    "!head ../data/processed_data/documents-with-ids.json"
   ]
  },
  {
   "cell_type": "markdown",
   "id": "fb067864-71d3-42ad-91cc-d8cd8024673e",
   "metadata": {},
   "source": [
    "## Genrated the ground_truth dataste "
   ]
  },
  {
   "cell_type": "code",
   "execution_count": 14,
   "id": "a35e5f5b-b369-4269-ad95-5096cd488b5e",
   "metadata": {},
   "outputs": [],
   "source": [
    "prompt_template = \"\"\"\n",
    "You are a traveller using our travel assistant app.\n",
    "From the provided travel text, create 5 realistic questions a traveller might ask.  \n",
    "- Each question must be specific and self-contained.  \n",
    "- Do not copy long phrases verbatim from the text; paraphrase naturally.  \n",
    "- Each question must have a short, factual answer derived only from the text.  \n",
    "- Avoid generic or overly broad questions.\n",
    "\n",
    "The record: \n",
    "City: {city},\n",
    "Section: {section},\n",
    "Subsection: {subsection},\n",
    "Text: {text}\n",
    "\n",
    "Provide the output in parsable JSON without using code blocks:\n",
    "\n",
    "{{\"questions\": [\"question1\", \"question2\", ..., \"question5\"]}}\n",
    "\"\"\".strip()"
   ]
  },
  {
   "cell_type": "code",
   "execution_count": 15,
   "id": "60262318-1119-46e0-bb4f-ec1b28398418",
   "metadata": {},
   "outputs": [],
   "source": [
    "prompt = prompt_template.format(**documents[0])"
   ]
  },
  {
   "cell_type": "code",
   "execution_count": 16,
   "id": "6a7620ba-0793-4edf-b14c-80237eb626c8",
   "metadata": {},
   "outputs": [
    {
     "name": "stdout",
     "output_type": "stream",
     "text": [
      "You are a traveller using our travel assistant app.\n",
      "From the provided travel text, create 5 realistic questions a traveller might ask.  \n",
      "- Each question must be specific and self-contained.  \n",
      "- Do not copy long phrases verbatim from the text; paraphrase naturally.  \n",
      "- Each question must have a short, factual answer derived only from the text.  \n",
      "- Avoid generic or overly broad questions.\n",
      "\n",
      "The record: \n",
      "City: Cairo,\n",
      "Section: See,\n",
      "Subsection: Further afield,\n",
      "Text: 29.8 31.233333 1 Dahshur Pyramids . For a contrast to touristy Pyramids of Giza, head south to the oldest known pyramid, the Red Pyramid. The neglected Dahshur Pyramids are interesting and worth a visit, considering its history and the hassle-free atmosphere. Also, see the weird Bent Pyramid there and hike around the area to the Black Pyramid. The Red Pyramid has an entrance to the inside, which you can climb down. ( updated Jan 2018 )\n",
      "\n",
      "Provide the output in parsable JSON without using code blocks:\n",
      "\n",
      "{\"questions\": [\"question1\", \"question2\", ..., \"question5\"]}\n"
     ]
    }
   ],
   "source": [
    "print(prompt)"
   ]
  },
  {
   "cell_type": "code",
   "execution_count": 17,
   "id": "76121246-4ab7-414c-bdba-d229c0fd045b",
   "metadata": {},
   "outputs": [],
   "source": [
    "from mistralai import Mistral\n",
    "from mistralai.models import UserMessage\n",
    "import os\n",
    "from dotenv import load_dotenv"
   ]
  },
  {
   "cell_type": "code",
   "execution_count": 18,
   "id": "69ea431f-c87e-4bbd-a8a8-cabc69b542d9",
   "metadata": {},
   "outputs": [
    {
     "data": {
      "text/plain": [
       "True"
      ]
     },
     "execution_count": 18,
     "metadata": {},
     "output_type": "execute_result"
    }
   ],
   "source": [
    "# loads variables from .env\n",
    "load_dotenv()  "
   ]
  },
  {
   "cell_type": "code",
   "execution_count": 19,
   "id": "06115665-c0ab-4091-b65e-42e902bfeb02",
   "metadata": {},
   "outputs": [],
   "source": [
    "api_key = os.getenv(\"API_KEY\")"
   ]
  },
  {
   "cell_type": "code",
   "execution_count": 20,
   "id": "22637b42-00c5-4eb2-9989-eb2959c32421",
   "metadata": {},
   "outputs": [
    {
     "name": "stdout",
     "output_type": "stream",
     "text": [
      "{\"questions\": [\n",
      "  \"What is the name of the oldest known pyramid in Dahshur?\",\n",
      "  \"Can I enter the Red Pyramid and climb down inside?\",\n",
      "  \"What is the name of the pyramid with a bent shape in Dahshur?\",\n",
      "  \"How far is the Bent Pyramid from the Red Pyramid?\",\n",
      "  \"What is the name of the pyramid located near the Black Pyramid?\"\n",
      "]}\n"
     ]
    }
   ],
   "source": [
    "client = Mistral(api_key = api_key)\n",
    "response = client.chat.complete(\n",
    "    model= \"ministral-8b-latest\",\n",
    "    messages=[UserMessage(content=prompt)],\n",
    ")\n",
    "\n",
    "print(response.choices[0].message.content)"
   ]
  },
  {
   "cell_type": "markdown",
   "id": "13c9781a-a803-4980-b966-27a5b3c1eef8",
   "metadata": {},
   "source": [
    "## Generate Questions\n"
   ]
  },
  {
   "cell_type": "code",
   "execution_count": 21,
   "id": "076771f7-b1f7-4c8d-926f-49ba14ff8305",
   "metadata": {},
   "outputs": [],
   "source": [
    "def generate_question(doc):\n",
    "    prompt = prompt_template.format(**doc)\n",
    "    client = Mistral(api_key = api_key)\n",
    "    response = client.chat.complete(\n",
    "        model= 'mistral-large-2411',\n",
    "        messages=[UserMessage(content=prompt)],\n",
    "    )    \n",
    "    json_response = response.choices[0].message.content\n",
    "    return json_response"
   ]
  },
  {
   "cell_type": "code",
   "execution_count": 22,
   "id": "220a6602-32d7-4dd3-960d-645cca71f221",
   "metadata": {},
   "outputs": [],
   "source": [
    "results = {}"
   ]
  },
  {
   "cell_type": "code",
   "execution_count": 39,
   "id": "a49d4af9-dd6c-4cf1-abf4-d8d2e86396ce",
   "metadata": {},
   "outputs": [
    {
     "name": "stderr",
     "output_type": "stream",
     "text": [
      "100%|████████████████████████████████████████████████████████████████████████████████████████████████████████████████████████████████████████████████████████████| 543/543 [00:10<00:00, 50.86it/s]\n"
     ]
    }
   ],
   "source": [
    "for doc in tqdm(documents):\n",
    "    doc_id = doc['id']\n",
    "    if doc_id in results:\n",
    "        continue \n",
    "    question_raw = generate_question(doc)\n",
    "    question = json.loads(question_raw)\n",
    "    results[doc_id]=question['questions']"
   ]
  },
  {
   "cell_type": "code",
   "execution_count": 43,
   "id": "dee8a77a-c988-4e66-973a-30ed28228093",
   "metadata": {},
   "outputs": [
    {
     "data": {
      "text/plain": [
       "['What are the names of the two districts west of Jongro and Jung?',\n",
       " 'Which areas in Seoul are known for their vibrant nightlife?',\n",
       " 'What kind of institutions are prevalent in Seodaemun and Mapo?',\n",
       " 'Can you name the two nightlife districts in the Seodaemun and Mapo area?',\n",
       " 'Which district in Seoul is known for Hongdae?']"
      ]
     },
     "execution_count": 43,
     "metadata": {},
     "output_type": "execute_result"
    }
   ],
   "source": [
    "results['845d3951']"
   ]
  },
  {
   "cell_type": "code",
   "execution_count": 56,
   "id": "612156a2-09ff-4a25-bf39-4e4cb3882411",
   "metadata": {},
   "outputs": [
    {
     "data": {
      "text/plain": [
       "543"
      ]
     },
     "execution_count": 56,
     "metadata": {},
     "output_type": "execute_result"
    }
   ],
   "source": [
    "len(results)"
   ]
  },
  {
   "cell_type": "code",
   "execution_count": 57,
   "id": "c1efb72d-394d-4889-a835-d70a2da7e380",
   "metadata": {},
   "outputs": [],
   "source": [
    "# save the results\n",
    "\n",
    "final_results = []\n",
    "for doc_id, qs in results.items():\n",
    "    for q in qs:\n",
    "        final_results.append((doc_id, q))"
   ]
  },
  {
   "cell_type": "code",
   "execution_count": 62,
   "id": "acae070a-86a4-415b-90d2-34743edfa959",
   "metadata": {},
   "outputs": [
    {
     "data": {
      "text/plain": [
       "[('f7845786', 'What is the name of the oldest known pyramid in Dahshur?'),\n",
       " ('f7845786', 'Which pyramid in Dahshur has an entrance to the inside?'),\n",
       " ('f7845786', 'What is the distinctive feature of the Bent Pyramid?'),\n",
       " ('f7845786', 'How many pyramids are mentioned to be in the Dahshur area?'),\n",
       " ('f7845786',\n",
       "  'What is the atmosphere around Dahshur Pyramids like compared to Giza?')]"
      ]
     },
     "execution_count": 62,
     "metadata": {},
     "output_type": "execute_result"
    }
   ],
   "source": [
    "final_results[:5]"
   ]
  },
  {
   "cell_type": "code",
   "execution_count": 64,
   "id": "3a8b5532-c569-4068-8a2c-443cf87ff04b",
   "metadata": {},
   "outputs": [
    {
     "name": "stdout",
     "output_type": "stream",
     "text": [
      "The length of the final result is: 2715\n"
     ]
    }
   ],
   "source": [
    "print(f\"The length of the final result is: {len(final_results)}\")"
   ]
  },
  {
   "cell_type": "code",
   "execution_count": 63,
   "id": "6054c8b5-acf2-4379-82b0-44025310d39b",
   "metadata": {},
   "outputs": [],
   "source": [
    "df_gt = pd.DataFrame(final_results, columns=['id', 'question'])"
   ]
  },
  {
   "cell_type": "code",
   "execution_count": 67,
   "id": "82009e1c-562f-4af0-b5c5-9da93bfaf3ae",
   "metadata": {},
   "outputs": [],
   "source": [
    "RESULT_FOLDER = \"../data/result\"\n",
    "os.makedirs(RESULT_FOLDER, exist_ok=True)\n",
    "\n"
   ]
  },
  {
   "cell_type": "code",
   "execution_count": 68,
   "id": "86ca3a27-5b94-4344-9feb-0e9284a7c814",
   "metadata": {},
   "outputs": [],
   "source": [
    "df_gt.to_csv(f\"{RESULT_FOLDER}/groud-truth-retrieval.csv\", index=False)"
   ]
  },
  {
   "cell_type": "code",
   "execution_count": null,
   "id": "2f709e29-e5b4-4070-b2e4-ad07e4ee65d1",
   "metadata": {},
   "outputs": [],
   "source": []
  },
  {
   "cell_type": "code",
   "execution_count": null,
   "id": "6a4e3378-59da-4094-9ca1-2f63eacf2296",
   "metadata": {},
   "outputs": [],
   "source": []
  },
  {
   "cell_type": "code",
   "execution_count": null,
   "id": "389cd104-6da7-4f2f-bc0c-89a445a58f9c",
   "metadata": {},
   "outputs": [],
   "source": []
  }
 ],
 "metadata": {
  "kernelspec": {
   "display_name": "Python 3 (ipykernel)",
   "language": "python",
   "name": "python3"
  },
  "language_info": {
   "codemirror_mode": {
    "name": "ipython",
    "version": 3
   },
   "file_extension": ".py",
   "mimetype": "text/x-python",
   "name": "python",
   "nbconvert_exporter": "python",
   "pygments_lexer": "ipython3",
   "version": "3.12.2"
  }
 },
 "nbformat": 4,
 "nbformat_minor": 5
}
