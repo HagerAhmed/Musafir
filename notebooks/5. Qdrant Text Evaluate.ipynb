{
 "cells": [
  {
   "cell_type": "code",
   "execution_count": null,
   "id": "4577bc52-fbab-45cc-86d6-772bd4a0ca58",
   "metadata": {},
   "outputs": [],
   "source": [
    "# import os\n",
    "# os.environ[\"SSL_CERT_FILE\"] = \"/mnt/d/Travel Assistant/Musafir/Fortinet_CA_SSL(15).cer\"\n",
    "# os.environ[\"REQUESTS_CA_BUNDLE\"] = \"/mnt/d/Travel Assistant/Musafir/Fortinet_CA_SSL(15).cer\""
   ]
  },
  {
   "cell_type": "code",
   "execution_count": null,
   "id": "beec5161-21ec-4fb3-a40a-9cb22aab8ad3",
   "metadata": {},
   "outputs": [],
   "source": [
    "from qdrant_client import QdrantClient, models\n",
    "import requests\n",
    "from fastembed import TextEmbedding\n",
    "import json\n",
    "import random\n",
    "import pandas as pd\n",
    "from tqdm.auto import tqdm\n",
    "import uuid\n",
    "import os\n"
   ]
  },
  {
   "cell_type": "code",
   "execution_count": 3,
   "id": "cfdcff3d-ad93-4434-85f4-0318fe7794d1",
   "metadata": {},
   "outputs": [],
   "source": [
    "# import the data \n",
    "with open('../data/processed_data/documents-with-ids.json', 'rt') as f_in:\n",
    "    documents = json.load(f_in)\n"
   ]
  },
  {
   "cell_type": "code",
   "execution_count": 4,
   "id": "19424633-c7dd-4c7e-b047-223bd962dc20",
   "metadata": {},
   "outputs": [
    {
     "data": {
      "text/plain": [
       "{'city': 'Cairo',\n",
       " 'section': 'Stay safe',\n",
       " 'subsection': 'Emergency services',\n",
       " 'text': 'Ambulance , ☏ 123 .',\n",
       " 'id': 'bff9ff8c'}"
      ]
     },
     "execution_count": 4,
     "metadata": {},
     "output_type": "execute_result"
    }
   ],
   "source": [
    "documents[11]"
   ]
  },
  {
   "cell_type": "code",
   "execution_count": 5,
   "id": "0bda450c-5dc5-4822-b07d-717115fd842e",
   "metadata": {},
   "outputs": [],
   "source": [
    "# Ground Truth data\n",
    "df_gt = pd.read_csv('../data/result/groud-truth-retrieval.csv')"
   ]
  },
  {
   "cell_type": "code",
   "execution_count": 6,
   "id": "3c8f9e85-f453-4619-8845-dfd0d432eac1",
   "metadata": {},
   "outputs": [
    {
     "data": {
      "text/html": [
       "<div>\n",
       "<style scoped>\n",
       "    .dataframe tbody tr th:only-of-type {\n",
       "        vertical-align: middle;\n",
       "    }\n",
       "\n",
       "    .dataframe tbody tr th {\n",
       "        vertical-align: top;\n",
       "    }\n",
       "\n",
       "    .dataframe thead th {\n",
       "        text-align: right;\n",
       "    }\n",
       "</style>\n",
       "<table border=\"1\" class=\"dataframe\">\n",
       "  <thead>\n",
       "    <tr style=\"text-align: right;\">\n",
       "      <th></th>\n",
       "      <th>id</th>\n",
       "      <th>city</th>\n",
       "      <th>question</th>\n",
       "    </tr>\n",
       "  </thead>\n",
       "  <tbody>\n",
       "    <tr>\n",
       "      <th>0</th>\n",
       "      <td>f7845786</td>\n",
       "      <td>Cairo</td>\n",
       "      <td>What is the name of the oldest known pyramid i...</td>\n",
       "    </tr>\n",
       "    <tr>\n",
       "      <th>1</th>\n",
       "      <td>f7845786</td>\n",
       "      <td>Cairo</td>\n",
       "      <td>Which pyramid in Dahshur has an entrance to th...</td>\n",
       "    </tr>\n",
       "    <tr>\n",
       "      <th>2</th>\n",
       "      <td>f7845786</td>\n",
       "      <td>Cairo</td>\n",
       "      <td>What is the distinctive feature of the Bent Py...</td>\n",
       "    </tr>\n",
       "    <tr>\n",
       "      <th>3</th>\n",
       "      <td>f7845786</td>\n",
       "      <td>Cairo</td>\n",
       "      <td>How many pyramids are mentioned to be in the D...</td>\n",
       "    </tr>\n",
       "    <tr>\n",
       "      <th>4</th>\n",
       "      <td>f7845786</td>\n",
       "      <td>Cairo</td>\n",
       "      <td>What is the atmosphere around Dahshur Pyramids...</td>\n",
       "    </tr>\n",
       "  </tbody>\n",
       "</table>\n",
       "</div>"
      ],
      "text/plain": [
       "         id   city                                           question\n",
       "0  f7845786  Cairo  What is the name of the oldest known pyramid i...\n",
       "1  f7845786  Cairo  Which pyramid in Dahshur has an entrance to th...\n",
       "2  f7845786  Cairo  What is the distinctive feature of the Bent Py...\n",
       "3  f7845786  Cairo  How many pyramids are mentioned to be in the D...\n",
       "4  f7845786  Cairo  What is the atmosphere around Dahshur Pyramids..."
      ]
     },
     "execution_count": 6,
     "metadata": {},
     "output_type": "execute_result"
    }
   ],
   "source": [
    "df_gt.head()"
   ]
  },
  {
   "cell_type": "code",
   "execution_count": 7,
   "id": "a40b49a7-caef-43bc-a804-1556a3c2c84b",
   "metadata": {},
   "outputs": [],
   "source": [
    "ground_truth = df_gt.to_dict(orient='records')"
   ]
  },
  {
   "cell_type": "code",
   "execution_count": 8,
   "id": "a662ed09-1526-4977-9159-9e9ddf41ae64",
   "metadata": {},
   "outputs": [
    {
     "data": {
      "text/plain": [
       "{'id': 'bff9ff8c',\n",
       " 'city': 'Cairo',\n",
       " 'question': 'What number should I dial for an ambulance in Cairo?'}"
      ]
     },
     "execution_count": 8,
     "metadata": {},
     "output_type": "execute_result"
    }
   ],
   "source": [
    "ground_truth[55]"
   ]
  },
  {
   "cell_type": "code",
   "execution_count": 9,
   "id": "0d3dbb85-d315-43aa-a2c6-812d6c3669b0",
   "metadata": {},
   "outputs": [
    {
     "name": "stderr",
     "output_type": "stream",
     "text": [
      "/tmp/ipykernel_1508/2923977033.py:2: UserWarning: Qdrant client version 1.15.1 is incompatible with server version 1.12.4. Major versions should match and minor version difference must not exceed 1. Set check_compatibility=False to skip version check.\n",
      "  qdrant_client = QdrantClient(url=\"http://localhost:6333\")\n"
     ]
    }
   ],
   "source": [
    "#connecting to local Qdrant instance\n",
    "qdrant_client = QdrantClient(url=\"http://localhost:6333\")"
   ]
  },
  {
   "cell_type": "code",
   "execution_count": 10,
   "id": "ff37d4db-4b3f-4c11-93c4-669227df8841",
   "metadata": {},
   "outputs": [
    {
     "data": {
      "text/plain": [
       "<qdrant_client.qdrant_client.QdrantClient at 0x7698cba7ee10>"
      ]
     },
     "execution_count": 10,
     "metadata": {},
     "output_type": "execute_result"
    }
   ],
   "source": [
    "qdrant_client"
   ]
  },
  {
   "cell_type": "code",
   "execution_count": 11,
   "id": "45c5bf07-5eaa-4eb4-8a54-c753689c8f27",
   "metadata": {},
   "outputs": [
    {
     "name": "stdout",
     "output_type": "stream",
     "text": [
      "There are 30 models supported\n"
     ]
    },
    {
     "data": {
      "text/plain": [
       "[{'model': 'BAAI/bge-base-en',\n",
       "  'sources': {'hf': 'Qdrant/fast-bge-base-en',\n",
       "   'url': 'https://storage.googleapis.com/qdrant-fastembed/fast-bge-base-en.tar.gz',\n",
       "   '_deprecated_tar_struct': True},\n",
       "  'model_file': 'model_optimized.onnx',\n",
       "  'description': 'Text embeddings, Unimodal (text), English, 512 input tokens truncation, Prefixes for queries/documents: necessary, 2023 year.',\n",
       "  'license': 'mit',\n",
       "  'size_in_GB': 0.42,\n",
       "  'additional_files': [],\n",
       "  'dim': 768,\n",
       "  'tasks': {}},\n",
       " {'model': 'BAAI/bge-base-en-v1.5',\n",
       "  'sources': {'hf': 'qdrant/bge-base-en-v1.5-onnx-q',\n",
       "   'url': 'https://storage.googleapis.com/qdrant-fastembed/fast-bge-base-en-v1.5.tar.gz',\n",
       "   '_deprecated_tar_struct': True},\n",
       "  'model_file': 'model_optimized.onnx',\n",
       "  'description': 'Text embeddings, Unimodal (text), English, 512 input tokens truncation, Prefixes for queries/documents: not so necessary, 2023 year.',\n",
       "  'license': 'mit',\n",
       "  'size_in_GB': 0.21,\n",
       "  'additional_files': [],\n",
       "  'dim': 768,\n",
       "  'tasks': {}},\n",
       " {'model': 'BAAI/bge-large-en-v1.5',\n",
       "  'sources': {'hf': 'qdrant/bge-large-en-v1.5-onnx',\n",
       "   'url': None,\n",
       "   '_deprecated_tar_struct': False},\n",
       "  'model_file': 'model.onnx',\n",
       "  'description': 'Text embeddings, Unimodal (text), English, 512 input tokens truncation, Prefixes for queries/documents: not so necessary, 2023 year.',\n",
       "  'license': 'mit',\n",
       "  'size_in_GB': 1.2,\n",
       "  'additional_files': [],\n",
       "  'dim': 1024,\n",
       "  'tasks': {}},\n",
       " {'model': 'BAAI/bge-small-en',\n",
       "  'sources': {'hf': 'Qdrant/bge-small-en',\n",
       "   'url': 'https://storage.googleapis.com/qdrant-fastembed/BAAI-bge-small-en.tar.gz',\n",
       "   '_deprecated_tar_struct': True},\n",
       "  'model_file': 'model_optimized.onnx',\n",
       "  'description': 'Text embeddings, Unimodal (text), English, 512 input tokens truncation, Prefixes for queries/documents: necessary, 2023 year.',\n",
       "  'license': 'mit',\n",
       "  'size_in_GB': 0.13,\n",
       "  'additional_files': [],\n",
       "  'dim': 384,\n",
       "  'tasks': {}},\n",
       " {'model': 'BAAI/bge-small-en-v1.5',\n",
       "  'sources': {'hf': 'qdrant/bge-small-en-v1.5-onnx-q',\n",
       "   'url': None,\n",
       "   '_deprecated_tar_struct': False},\n",
       "  'model_file': 'model_optimized.onnx',\n",
       "  'description': 'Text embeddings, Unimodal (text), English, 512 input tokens truncation, Prefixes for queries/documents: not so necessary, 2023 year.',\n",
       "  'license': 'mit',\n",
       "  'size_in_GB': 0.067,\n",
       "  'additional_files': [],\n",
       "  'dim': 384,\n",
       "  'tasks': {}},\n",
       " {'model': 'BAAI/bge-small-zh-v1.5',\n",
       "  'sources': {'hf': 'Qdrant/bge-small-zh-v1.5',\n",
       "   'url': 'https://storage.googleapis.com/qdrant-fastembed/fast-bge-small-zh-v1.5.tar.gz',\n",
       "   '_deprecated_tar_struct': True},\n",
       "  'model_file': 'model_optimized.onnx',\n",
       "  'description': 'Text embeddings, Unimodal (text), Chinese, 512 input tokens truncation, Prefixes for queries/documents: not so necessary, 2023 year.',\n",
       "  'license': 'mit',\n",
       "  'size_in_GB': 0.09,\n",
       "  'additional_files': [],\n",
       "  'dim': 512,\n",
       "  'tasks': {}},\n",
       " {'model': 'mixedbread-ai/mxbai-embed-large-v1',\n",
       "  'sources': {'hf': 'mixedbread-ai/mxbai-embed-large-v1',\n",
       "   'url': None,\n",
       "   '_deprecated_tar_struct': False},\n",
       "  'model_file': 'onnx/model.onnx',\n",
       "  'description': 'Text embeddings, Unimodal (text), English, 512 input tokens truncation, Prefixes for queries/documents: necessary, 2024 year.',\n",
       "  'license': 'apache-2.0',\n",
       "  'size_in_GB': 0.64,\n",
       "  'additional_files': [],\n",
       "  'dim': 1024,\n",
       "  'tasks': {}},\n",
       " {'model': 'snowflake/snowflake-arctic-embed-xs',\n",
       "  'sources': {'hf': 'snowflake/snowflake-arctic-embed-xs',\n",
       "   'url': None,\n",
       "   '_deprecated_tar_struct': False},\n",
       "  'model_file': 'onnx/model.onnx',\n",
       "  'description': 'Text embeddings, Unimodal (text), English, 512 input tokens truncation, Prefixes for queries/documents: necessary, 2024 year.',\n",
       "  'license': 'apache-2.0',\n",
       "  'size_in_GB': 0.09,\n",
       "  'additional_files': [],\n",
       "  'dim': 384,\n",
       "  'tasks': {}},\n",
       " {'model': 'snowflake/snowflake-arctic-embed-s',\n",
       "  'sources': {'hf': 'snowflake/snowflake-arctic-embed-s',\n",
       "   'url': None,\n",
       "   '_deprecated_tar_struct': False},\n",
       "  'model_file': 'onnx/model.onnx',\n",
       "  'description': 'Text embeddings, Unimodal (text), English, 512 input tokens truncation, Prefixes for queries/documents: necessary, 2024 year.',\n",
       "  'license': 'apache-2.0',\n",
       "  'size_in_GB': 0.13,\n",
       "  'additional_files': [],\n",
       "  'dim': 384,\n",
       "  'tasks': {}},\n",
       " {'model': 'snowflake/snowflake-arctic-embed-m',\n",
       "  'sources': {'hf': 'Snowflake/snowflake-arctic-embed-m',\n",
       "   'url': None,\n",
       "   '_deprecated_tar_struct': False},\n",
       "  'model_file': 'onnx/model.onnx',\n",
       "  'description': 'Text embeddings, Unimodal (text), English, 512 input tokens truncation, Prefixes for queries/documents: necessary, 2024 year.',\n",
       "  'license': 'apache-2.0',\n",
       "  'size_in_GB': 0.43,\n",
       "  'additional_files': [],\n",
       "  'dim': 768,\n",
       "  'tasks': {}}]"
      ]
     },
     "execution_count": 11,
     "metadata": {},
     "output_type": "execute_result"
    }
   ],
   "source": [
    "emb_models = TextEmbedding.list_supported_models()\n",
    "print(f\"There are {len(emb_models)} models supported\")\n",
    "emb_models[0:10]"
   ]
  },
  {
   "cell_type": "code",
   "execution_count": 12,
   "id": "b604e49a-4f78-4e04-beda-e4d66281d979",
   "metadata": {},
   "outputs": [],
   "source": [
    "model_handle = \"jinaai/jina-embeddings-v2-small-en\""
   ]
  },
  {
   "cell_type": "markdown",
   "id": "060c3ccc-72f3-4809-aa15-663ff23bdc5d",
   "metadata": {},
   "source": [
    "## Create collection "
   ]
  },
  {
   "cell_type": "code",
   "execution_count": 89,
   "id": "eea08b18-01f6-4098-9405-cae9329a220c",
   "metadata": {},
   "outputs": [
    {
     "name": "stdout",
     "output_type": "stream",
     "text": [
      "Delete the currrent collection traveller-rag\n"
     ]
    }
   ],
   "source": [
    "# Define the collection name\n",
    "collection_name = \"traveller-rag\"\n",
    "# Delete a connection \n",
    "if qdrant_client.collection_exists(collection_name=collection_name):\n",
    "    qdrant_client.delete_collection(collection_name=collection_name)\n",
    "    print(f\"Delete the currrent collection {collection_name}\")\n"
   ]
  },
  {
   "cell_type": "code",
   "execution_count": 91,
   "id": "e3b79166-3049-4a70-a752-bbf8e814005d",
   "metadata": {},
   "outputs": [
    {
     "data": {
      "text/plain": [
       "True"
      ]
     },
     "execution_count": 91,
     "metadata": {},
     "output_type": "execute_result"
    }
   ],
   "source": [
    "# Create the collection with specified vector parameters\n",
    "qdrant_client.create_collection(\n",
    "    collection_name=collection_name,\n",
    "    vectors_config=models.VectorParams(\n",
    "        size = 512,\n",
    "        distance=models.Distance.COSINE\n",
    "    )\n",
    ")"
   ]
  },
  {
   "cell_type": "markdown",
   "id": "835c20a1-6283-4341-b022-e70155741373",
   "metadata": {},
   "source": [
    "## Create, Embed & Insert Points into the Collection\n"
   ]
  },
  {
   "cell_type": "code",
   "execution_count": 92,
   "id": "223ba9e5-1a07-4d9e-b188-5d6f28199398",
   "metadata": {},
   "outputs": [],
   "source": [
    "points = []\n",
    "id = 0\n",
    "\n",
    "for doc in documents:\n",
    "    point = models.PointStruct(\n",
    "        id=id,\n",
    "        vector=models.Document(text=doc['text'], model=model_handle),\n",
    "        payload={\n",
    "            \"id\": doc['id'],\n",
    "            \"text\": doc['text'],\n",
    "            \"city\": doc['city'],\n",
    "            \"section\": doc['section'],\n",
    "            \"subsection\": doc['subsection']\n",
    "\n",
    "        }\n",
    "    )\n",
    "\n",
    "    points.append(point)\n",
    "\n",
    "    id+=1"
   ]
  },
  {
   "cell_type": "code",
   "execution_count": 93,
   "id": "bd5d0fff-4968-45c9-9e96-db73ab3f2c4b",
   "metadata": {},
   "outputs": [
    {
     "data": {
      "text/plain": [
       "UpdateResult(operation_id=0, status=<UpdateStatus.COMPLETED: 'completed'>)"
      ]
     },
     "execution_count": 93,
     "metadata": {},
     "output_type": "execute_result"
    }
   ],
   "source": [
    "qdrant_client.upsert(\n",
    "    collection_name=collection_name, \n",
    "    points=points\n",
    ")"
   ]
  },
  {
   "cell_type": "markdown",
   "id": "0dfce170-8ba3-494b-8bb2-9b2726c853ac",
   "metadata": {},
   "source": [
    "# Start the evaluation process"
   ]
  },
  {
   "cell_type": "code",
   "execution_count": 13,
   "id": "b118a2f6-ac01-41be-bd79-08c096c077c0",
   "metadata": {},
   "outputs": [],
   "source": [
    "#Hit Rate (HR) or Recall at k\n",
    "def hit_rate(relevance_total):\n",
    "    cnt = 0\n",
    "\n",
    "    for line in relevance_total:\n",
    "        if True in line:\n",
    "            cnt = cnt + 1\n",
    "\n",
    "    return cnt / len(relevance_total)"
   ]
  },
  {
   "cell_type": "code",
   "execution_count": 14,
   "id": "3590a857-0158-4639-917f-29c7fb4548e6",
   "metadata": {},
   "outputs": [],
   "source": [
    "# Mean Reciprocal Rank (MRR)\n",
    "def mrr(relevance_total):\n",
    "    total_score = 0.0\n",
    "\n",
    "    for line in relevance_total:\n",
    "        for rank in range(len(line)):\n",
    "            if line[rank] == True:\n",
    "                total_score = total_score + 1 / (rank + 1)\n",
    "\n",
    "    return total_score / len(relevance_total)"
   ]
  },
  {
   "cell_type": "code",
   "execution_count": 94,
   "id": "fefcdaf8-88b0-4217-b723-21aaf559d6f7",
   "metadata": {},
   "outputs": [],
   "source": [
    "def evaluate(ground_truth, search_function):\n",
    "    relevance_total = []\n",
    "\n",
    "    for q in tqdm(ground_truth):\n",
    "        gt_id = q['id']\n",
    "        results = search_function(q)\n",
    "\n",
    "        points = results.points if hasattr(results, \"points\") else results\n",
    "\n",
    "        relevance = [\n",
    "            point.payload.get('id') == gt_id\n",
    "            for point in points\n",
    "            if hasattr(point, \"payload\")\n",
    "        ]\n",
    "        relevance_total.append(relevance)\n",
    "\n",
    "    return {\n",
    "        'hit_rate': hit_rate(relevance_total),\n",
    "        'mrr': mrr(relevance_total),\n",
    "    }\n"
   ]
  },
  {
   "cell_type": "markdown",
   "id": "09c2cdb1-fa86-406a-9a1e-6c4f0211d3d8",
   "metadata": {},
   "source": [
    "# Semantic Search"
   ]
  },
  {
   "cell_type": "markdown",
   "id": "cfa79e0f-b88d-4810-a83b-94d56c401f45",
   "metadata": {},
   "source": [
    "## Basline"
   ]
  },
  {
   "cell_type": "code",
   "execution_count": null,
   "id": "161edbb4-db40-42ef-88c0-28815485a973",
   "metadata": {},
   "outputs": [],
   "source": []
  },
  {
   "cell_type": "code",
   "execution_count": 95,
   "id": "16836584-ebf7-4d82-8eef-3ebd83070c97",
   "metadata": {},
   "outputs": [],
   "source": [
    "def qdrant_search(query, limit=5):\n",
    "\n",
    "    results = qdrant_client.query_points(\n",
    "        collection_name=collection_name,\n",
    "        query=models.Document(\n",
    "            text=query,\n",
    "            model=model_handle\n",
    "        ),\n",
    "        limit=limit,\n",
    "        with_payload=True\n",
    "    \n",
    "    )\n",
    "\n",
    "    return results"
   ]
  },
  {
   "cell_type": "code",
   "execution_count": 96,
   "id": "af69f709-4581-44e7-8863-0290afc4c89c",
   "metadata": {},
   "outputs": [
    {
     "name": "stderr",
     "output_type": "stream",
     "text": [
      "100%|█████████████████████████████████████████████████████████████████████████████████████████████████████████████████████████████████████████| 2715/2715 [00:32<00:00, 83.06it/s]"
     ]
    },
    {
     "name": "stdout",
     "output_type": "stream",
     "text": [
      "{'hit_rate': 0.8593001841620627, 'mrr': 0.7512829957028841}\n"
     ]
    },
    {
     "name": "stderr",
     "output_type": "stream",
     "text": [
      "\n"
     ]
    }
   ],
   "source": [
    "basline_qd_search = evaluate(ground_truth, lambda q: qdrant_search(q['question']))\n",
    "print(basline_qd_search)"
   ]
  },
  {
   "cell_type": "markdown",
   "id": "5b31dc6a-2a59-484c-918d-c4781878310c",
   "metadata": {},
   "source": [
    "return more result improve the evaluation matrix "
   ]
  },
  {
   "cell_type": "markdown",
   "id": "173b0cc0-c1da-4d08-92e2-38c5e81dfcef",
   "metadata": {},
   "source": [
    "## Search with filter\n"
   ]
  },
  {
   "cell_type": "code",
   "execution_count": 97,
   "id": "f5db619b-3c47-44a4-95b1-97cadb32e635",
   "metadata": {},
   "outputs": [
    {
     "data": {
      "text/plain": [
       "UpdateResult(operation_id=2, status=<UpdateStatus.COMPLETED: 'completed'>)"
      ]
     },
     "execution_count": 97,
     "metadata": {},
     "output_type": "execute_result"
    }
   ],
   "source": [
    "qdrant_client.create_payload_index(\n",
    "    collection_name=collection_name, \n",
    "    field_name=\"city\",\n",
    "    field_schema=\"keyword\"\n",
    ")"
   ]
  },
  {
   "cell_type": "code",
   "execution_count": 98,
   "id": "ebaeb87c-212b-49e6-838e-4a32bda4c180",
   "metadata": {},
   "outputs": [],
   "source": [
    "def qd_search_filter(query, city, limit):\n",
    "    results=qdrant_client.query_points(\n",
    "        collection_name=collection_name,\n",
    "        query=models.Document(\n",
    "            text=query,\n",
    "            model=model_handle\n",
    "        ),\n",
    "        query_filter=models.Filter(\n",
    "            must=[\n",
    "                models.FieldCondition(\n",
    "                    key=\"city\",\n",
    "                    match=models.MatchValue(value=city)\n",
    "                )\n",
    "            ]\n",
    "        ),\n",
    "        limit = limit,\n",
    "        with_payload=True\n",
    "    )\n",
    "\n",
    "    return results"
   ]
  },
  {
   "cell_type": "code",
   "execution_count": 99,
   "id": "c91c13ad-af28-482d-bc3c-ff3890db3ae0",
   "metadata": {},
   "outputs": [
    {
     "name": "stderr",
     "output_type": "stream",
     "text": [
      "100%|█████████████████████████████████████████████████████████████████████████████████████████████████████████████████████████████████████████| 2715/2715 [00:31<00:00, 86.39it/s]"
     ]
    },
    {
     "name": "stdout",
     "output_type": "stream",
     "text": [
      "{'hit_rate': 0.8674033149171271, 'mrr': 0.7655125844076113}\n"
     ]
    },
    {
     "name": "stderr",
     "output_type": "stream",
     "text": [
      "\n"
     ]
    }
   ],
   "source": [
    "filter_qd_search = evaluate(ground_truth, lambda q: qd_search_filter(q['question'], q['city'], 5))\n",
    "print(filter_qd_search)"
   ]
  },
  {
   "cell_type": "code",
   "execution_count": 100,
   "id": "ad42e034-24d0-4179-9285-cebbd656d692",
   "metadata": {},
   "outputs": [
    {
     "name": "stdout",
     "output_type": "stream",
     "text": [
      "[\n",
      "  {\n",
      "    \"score\": 0.84569573,\n",
      "    \"payload\": {\n",
      "      \"id\": \"1eed9c8a\",\n",
      "      \"text\": \"If you have plenty of time there is absolutely no shortage of other museums covering a wide variety of interests. Examples include the Museum of the Walls (see Rome/South ), the Musical Instrument Museum and a museum devoted to the liberation of Rome from German occupation in the Second World War ( Rome/Esquilino-San Giovanni ).\",\n",
      "      \"city\": \"Rome\",\n",
      "      \"section\": \"See\",\n",
      "      \"subsection\": \"Museums\"\n",
      "    }\n",
      "  },\n",
      "  {\n",
      "    \"score\": 0.8343532,\n",
      "    \"payload\": {\n",
      "      \"id\": \"18f7911a\",\n",
      "      \"text\": \"If you are in Rome for the Arts there are several world-class museums in the city. The natural starting point is a visit to the area of Villa Borghese in Rome/North Center , where there is a cluster of art museums in and around the Borghese Gardens. Galleria Borghese houses a previously private art collection of the Borghese family, Museo Nazionale di Villa Giulia is home of the world's largest Etruscan art collection, and Galleria Nazionale d'Arte Moderna houses many Italian masterpieces as well as a few pieces by artists such as C\\u00e9zanne, Degas, Monet and Van Gogh.\",\n",
      "      \"city\": \"Rome\",\n",
      "      \"section\": \"See\",\n",
      "      \"subsection\": \"Museums\"\n",
      "    }\n",
      "  },\n",
      "  {\n",
      "    \"score\": 0.8336104,\n",
      "    \"payload\": {\n",
      "      \"id\": \"278a2ec7\",\n",
      "      \"text\": \"Rome's Wax Museum . 67 Piazza di Santi Apostoli, next to Piazza Venezia. Few good reports about this museum. Comments invited.\",\n",
      "      \"city\": \"Rome\",\n",
      "      \"section\": \"See\",\n",
      "      \"subsection\": \"Rome for kids\"\n",
      "    }\n",
      "  },\n",
      "  {\n",
      "    \"score\": 0.8297386,\n",
      "    \"payload\": {\n",
      "      \"id\": \"de7c6285\",\n",
      "      \"text\": \"The Capitoline Museums in the Colosseo district opens their doors to the city's most important collection of antique Roman and Greek art and sculptures. Visit the Galleria d'Arte Antica , housed in the Barberini palace in the Modern centre , for Italian Renaissance and Baroque art.\",\n",
      "      \"city\": \"Rome\",\n",
      "      \"section\": \"See\",\n",
      "      \"subsection\": \"Museums\"\n",
      "    }\n",
      "  },\n",
      "  {\n",
      "    \"score\": 0.8285947,\n",
      "    \"payload\": {\n",
      "      \"id\": \"5de773a9\",\n",
      "      \"text\": \"If you want to buy souvenirs or gifts, a museum would be the worst choice since there are many stalls along the streets of tourist areas that offer reasonable prices. It is likely that the same item in the gift shop of any museum will cost much more.\",\n",
      "      \"city\": \"Rome\",\n",
      "      \"section\": \"Buy\",\n",
      "      \"subsection\": null\n",
      "    }\n",
      "  }\n",
      "]\n"
     ]
    }
   ],
   "source": [
    "results = qd_search_filter(\"What museum I should visit?\", \"Rome\", 5)\n",
    "\n",
    "points = [\n",
    "    {\n",
    "        \"score\": point.score,\n",
    "        \"payload\": point.payload\n",
    "    }\n",
    "    for point in results.points\n",
    "]\n",
    "\n",
    "print(json.dumps(points, indent=2))"
   ]
  },
  {
   "cell_type": "markdown",
   "id": "ff1d5354-13a8-41de-be4f-1b56edf8ab4a",
   "metadata": {},
   "source": [
    "# Sparse vector search with BM25"
   ]
  },
  {
   "cell_type": "code",
   "execution_count": 16,
   "id": "50724fb2-e1ad-4ab9-84b3-a87bf1f39061",
   "metadata": {},
   "outputs": [],
   "source": [
    "collection_name_sparse = \"traveller-sparse\""
   ]
  },
  {
   "cell_type": "code",
   "execution_count": 20,
   "id": "90151a93-7144-460e-95f2-02eaad07f6f2",
   "metadata": {},
   "outputs": [],
   "source": [
    "# Create a collection for sparse vector parameters \n",
    "qdrant_client.create_collection(\n",
    "    collection_name=collection_name_sparse,\n",
    "    sparse_vectors_config={\n",
    "        \"bm25\":models.SparseVectorParams(\n",
    "            modifier=models.Modifier.IDF\n",
    "        )\n",
    "    }\n",
    ")"
   ]
  },
  {
   "cell_type": "code",
   "execution_count": 21,
   "id": "ad2d6927-de6f-4e28-beed-886eecf9c444",
   "metadata": {},
   "outputs": [
    {
     "name": "stderr",
     "output_type": "stream",
     "text": [
      "Fetching 18 files: 100%|██████████████████████████████████████████████████████████████████████████████████████████████████████████████████████████| 18/18 [00:01<00:00, 14.69it/s]\n"
     ]
    },
    {
     "data": {
      "text/plain": [
       "UpdateResult(operation_id=0, status=<UpdateStatus.COMPLETED: 'completed'>)"
      ]
     },
     "execution_count": 21,
     "metadata": {},
     "output_type": "execute_result"
    }
   ],
   "source": [
    "# Send the points to the collection\n",
    "qdrant_client.upsert(\n",
    "    collection_name=collection_name_sparse,\n",
    "    points=[\n",
    "        models.PointStruct(\n",
    "            id=uuid.uuid4().hex,\n",
    "            vector={\n",
    "                \"bm25\":models.Document(\n",
    "                    text=doc[\"text\"],\n",
    "                    model=\"Qdrant/bm25\",\n",
    "                )\n",
    "            },\n",
    "            payload={\n",
    "            \"id\": doc['id'],\n",
    "            \"text\": doc['text'],\n",
    "            \"city\": doc['city'],\n",
    "            \"section\": doc['section'],\n",
    "            \"subsection\": doc['subsection']\n",
    "\n",
    "            }\n",
    "        )\n",
    "        for doc in documents\n",
    "    ]\n",
    ")"
   ]
  },
  {
   "cell_type": "markdown",
   "id": "2cb86bf0-a10c-4cb6-ade0-b4e176696fca",
   "metadata": {},
   "source": [
    "## Running sparse vector search with BM25"
   ]
  },
  {
   "cell_type": "code",
   "execution_count": 24,
   "id": "987822ec-fc82-4791-93f5-770e61780bbb",
   "metadata": {},
   "outputs": [],
   "source": [
    "def bm_search(query: str, limit: int =5) -> list[models.ScoredPoint]:\n",
    "    results = qdrant_client.query_points(\n",
    "        collection_name=collection_name_sparse,\n",
    "        query=models.Document(\n",
    "            text=query,\n",
    "            model=\"Qdrant/bm25\",\n",
    "        ),\n",
    "        using=\"bm25\",\n",
    "        limit=limit,\n",
    "        with_payload=True\n",
    "    )\n",
    "\n",
    "    return results.points"
   ]
  },
  {
   "cell_type": "code",
   "execution_count": 51,
   "id": "790a6892-e1d4-41bd-ad88-1e497478e515",
   "metadata": {},
   "outputs": [
    {
     "name": "stderr",
     "output_type": "stream",
     "text": [
      "100%|████████████████████████████████████████████████████████████████████████████████████████████████████████████████████████████████████████| 2715/2715 [00:09<00:00, 297.88it/s]"
     ]
    },
    {
     "name": "stdout",
     "output_type": "stream",
     "text": [
      "{'hit_rate': 0.8471454880294659, 'mrr': 0.7386863106200116}\n"
     ]
    },
    {
     "name": "stderr",
     "output_type": "stream",
     "text": [
      "\n"
     ]
    }
   ],
   "source": [
    "bm_qd_search = evaluate(ground_truth, lambda q: bm_search(q['question']))\n",
    "print(bm_qd_search)"
   ]
  },
  {
   "cell_type": "code",
   "execution_count": 55,
   "id": "2f3b02c4-1886-47dc-a4f1-6298b8dfcc8c",
   "metadata": {},
   "outputs": [
    {
     "name": "stdout",
     "output_type": "stream",
     "text": [
      "Score: 7.376323\n",
      "City: Rome\n",
      "Section: See\n",
      "Subsection: Rome for kids\n",
      "Text: The Time Elevator [dead link] . Via dei Santi Apostoli, 20 on a side street between Piazza Venezia and the Trevi Fountain. Daily 10.30 to 19.30. \"Five-dimensional\" shows on the Origins of Life and on the History of Rome, plus \"The House of Horrors\". Not for the faint-hearted: your seats move all over the place. Kids love it.\n",
      "====================================================================================================\n",
      "Score: 7.286756\n",
      "City: Rome\n",
      "Section: See\n",
      "Subsection: The Piazzas\n",
      "Text: Moving back to the Modern Centre you have to see the Trevi Fountain , surely a part of everyone's Roman holiday. Visitors are always amazed that such a big and famous fountain is tucked away in a small piazza in the middle of side streets. Take extra-special care of your possessions here. Further up the Via del Tritone you will come to Piazza Barberini , now full of traffic but the lovely Bernini fountain is not to be missed.\n",
      "====================================================================================================\n",
      "Score: 7.0142126\n",
      "City: London\n",
      "Section: Drink\n",
      "Subsection: Nightclubs\n",
      "Text: The area around Mayfair is home to the more upmarket clubs in London. This area attracts a rather more showy crowd who love to flaunt what they have and is a must go to celebrity spot. Beware that drinks are ridiculously expensive and many clubs operate a guestlist-only policy. Music played here is often of the commercial chart, funky house, hip hop and R&B genre. Notable clubs include China White, Luxx, Maddox, Jalouse, Funky Buddha, Whisky Mist, Mahiki, No 5 Cavendish Square, Embassy, Vendome and Maya.\n",
      "====================================================================================================\n",
      "Score: 6.138831\n",
      "City: London\n",
      "Section: Drink\n",
      "Subsection: Pubs and bars\n",
      "Text: It's hard to say which pub in London is truly the oldest but it's easy to find contenders for the title. Many pubs were destroyed in the Great Fire of London – indeed, Samuel Pepys supposedly watched the disaster from the comfort of the Anchor in Borough . Pubs were rebuilt on sites that claimed to have been working pubs since the 13th century. Ye Olde Cheshire Cheese in Fleet Street is on the site of an old monastery and its cellar dates back to the 13th century. The Princess Louise and Cittie of Yorke are two lovely pubs close by along High Holborn with interesting decor; as is the Jerusalem Tavern of Farringdon, a converted Georgian coffee shop, which sells the Norfolk beer, St. Peters. The Royal Oak of Borough, is another pub which is the only representative of an out-of-town brewery in London, that of Harvey's of Lewes. The food is fantastic as is the atmosphere. Those interested in London's historic and literary connections can't miss The Spaniard's Inn in Hampstead . Dick Turpin is said to have been born here; John Keats and Charles Dickens both drank here; it's mentioned in Dickens' The Pickwick Papers and Bram Stoker's Dracula . The Goose at Catford , was reputedly a favourite hole of Karl Marx.\n",
      "====================================================================================================\n"
     ]
    }
   ],
   "source": [
    "results = bm_search(\"love\")\n",
    "for point in results:\n",
    "    print(\n",
    "        f\"Score: {point.score}\\n\"\n",
    "        f\"City: {point.payload.get('city')}\\n\"\n",
    "        f\"Section: {point.payload.get('section')}\\n\"\n",
    "        f\"Subsection: {point.payload.get('subsection')}\\n\"\n",
    "        f\"Text: {point.payload.get('text')}\"\n",
    "    )\n",
    "    print(\"==\"*50)\n",
    "    \n",
    "        \n"
   ]
  },
  {
   "cell_type": "markdown",
   "id": "9e046919-cb2b-4769-9b68-243836485073",
   "metadata": {},
   "source": [
    "# Multi-step search dense vector search, and rerank  with sparse search"
   ]
  },
  {
   "cell_type": "code",
   "execution_count": 57,
   "id": "f3359820-137c-4546-b46e-cfb867d10b70",
   "metadata": {},
   "outputs": [],
   "source": [
    "collection_name_dense_sparse=\"traveller-dense-and-sparse\""
   ]
  },
  {
   "cell_type": "code",
   "execution_count": 59,
   "id": "9f17bdaf-c0a8-4f0f-84a0-aec1d79ece69",
   "metadata": {},
   "outputs": [],
   "source": [
    "# Create the collection with both vector types\n",
    "qdrant_client.create_collection(\n",
    "    collection_name=collection_name_dense_sparse,\n",
    "    vectors_config={\n",
    "        'jina-small':models.VectorParams(\n",
    "            size=512,\n",
    "            distance=models.Distance.COSINE\n",
    "        ),\n",
    "    },\n",
    "    sparse_vectors_config={\n",
    "        \"bm25\":models.SparseVectorParams(\n",
    "            modifier=models.Modifier.IDF\n",
    "        )\n",
    "    }\n",
    ")"
   ]
  },
  {
   "cell_type": "code",
   "execution_count": 60,
   "id": "a058609c-7478-469e-bf3b-19ef72a4826d",
   "metadata": {},
   "outputs": [
    {
     "name": "stderr",
     "output_type": "stream",
     "text": [
      "Fetching 5 files: 100%|█████████████████████████████████████████████████████████████████████████████████████████████████████████████████████████████| 5/5 [00:05<00:00,  1.17s/it]\n"
     ]
    },
    {
     "data": {
      "text/plain": [
       "UpdateResult(operation_id=0, status=<UpdateStatus.COMPLETED: 'completed'>)"
      ]
     },
     "execution_count": 60,
     "metadata": {},
     "output_type": "execute_result"
    }
   ],
   "source": [
    "qdrant_client.upsert(\n",
    "    collection_name=collection_name_dense_sparse,\n",
    "    points=[\n",
    "        models.PointStruct(\n",
    "            id=uuid.uuid4().hex,\n",
    "            vector={\n",
    "                \"jina-small\": models.Document(\n",
    "                    text=doc[\"text\"],\n",
    "                    model=\"jinaai/jina-embeddings-v2-small-en\",\n",
    "                ),\n",
    "                \"bm25\": models.Document(\n",
    "                    text=doc[\"text\"], \n",
    "                    model=\"Qdrant/bm25\",\n",
    "                ),\n",
    "            },\n",
    "            payload={\n",
    "            \"id\": doc['id'],\n",
    "            \"text\": doc['text'],\n",
    "            \"city\": doc['city'],\n",
    "            \"section\": doc['section'],\n",
    "            \"subsection\": doc['subsection']}\n",
    "\n",
    "        )\n",
    "        for doc in documents\n",
    "    ]\n",
    ")\n"
   ]
  },
  {
   "cell_type": "code",
   "execution_count": 70,
   "id": "40856f4f-7e7b-47bf-9bc8-0fa6575eff52",
   "metadata": {},
   "outputs": [],
   "source": [
    "def dense_sparse_search(query: str, limit: int = 5) -> list[models.ScoredPoint]:\n",
    "    results = qdrant_client.query_points(\n",
    "        collection_name=collection_name_dense_sparse,\n",
    "        prefetch=[\n",
    "            models.Prefetch(\n",
    "                query=models.Document(\n",
    "                    text=query,\n",
    "                    model=\"jinaai/jina-embeddings-v2-small-en\",\n",
    "                ),\n",
    "                using=\"jina-small\",\n",
    "                limit=(10 * limit),\n",
    "            ),\n",
    "        ],\n",
    "        query=models.Document(\n",
    "            text=query,\n",
    "            model=\"Qdrant/bm25\", \n",
    "        ),\n",
    "        using=\"bm25\",\n",
    "        limit=limit,\n",
    "        with_payload=True,\n",
    "    )\n",
    "\n",
    "    return results.points"
   ]
  },
  {
   "cell_type": "code",
   "execution_count": 71,
   "id": "1d59e884-e075-40e8-8e9d-f94c9c7d2486",
   "metadata": {},
   "outputs": [
    {
     "name": "stderr",
     "output_type": "stream",
     "text": [
      "100%|█████████████████████████████████████████████████████████████████████████████████████████████████████████████████████████████████████████| 2715/2715 [00:35<00:00, 76.99it/s]"
     ]
    },
    {
     "name": "stdout",
     "output_type": "stream",
     "text": [
      "{'hit_rate': 0.8666666666666667, 'mrr': 0.7567280540208713}\n"
     ]
    },
    {
     "name": "stderr",
     "output_type": "stream",
     "text": [
      "\n"
     ]
    }
   ],
   "source": [
    "dense_sparse_search_eva = evaluate(ground_truth, lambda q: dense_sparse_search(q['question']))\n",
    "print(dense_sparse_search_eva)"
   ]
  },
  {
   "cell_type": "code",
   "execution_count": 76,
   "id": "5a21894f-709e-4d3e-870a-f2b38d8fba22",
   "metadata": {},
   "outputs": [
    {
     "name": "stdout",
     "output_type": "stream",
     "text": [
      "Score: 12.055727\n",
      "City: London\n",
      "Section: Drink\n",
      "Subsection: Pubs and bars\n",
      "Text: Many local pubs, especially those run by chains like Wetherspoons and Scream, tend to be more reasonably priced with good drink promotions on weekday nights and during the day. As with the rest of the UK, chain pubs abound which Londoners tend to avoid like the plague. A good place to get cheap beer is at any one of the Sam Smith pubs found across Central London, including Soho and the City.\n",
      "====================================================================================================\n",
      "Score: 10.048122\n",
      "City: London\n",
      "Section: Stay safe\n",
      "Subsection: Crime\n",
      "Text: The main problem throughout London to various degrees is drunken behaviour, particularly on Friday and Saturday nights and after football matches. Loud and rowdy behaviour is to be expected and fights and acts of aggression also occur. If you are harassed, it is best to simply ignore and walk away from those concerned. Trouble spots can be expected around popular drinking locations such as Soho and in various suburban centres.\n",
      "====================================================================================================\n",
      "Score: 9.574356\n",
      "City: London\n",
      "Section: Drink\n",
      "Subsection: Pubs and bars\n",
      "Text: For the best view in the city, try pubs on the banks of the Thames. The South Bank has lots of good bars with views of iconic bridges and buildings. One lesser-known cocktail bar sits in the OXO Tower, which is a secret that most tourists walk by every day. Heading towards Bermondsey , pub crowds become a little less touristy. For something historic try the Prospect of Whitby' in Wapping which has been on its site since 1520 and claims to be the world’s oldest riverside tavern.\n",
      "====================================================================================================\n",
      "Score: 9.1545105\n",
      "City: London\n",
      "Section: Eat\n",
      "Subsection: None\n",
      "Text: Of course, the quintessential British dish fish and chips is widely available in London, but the standards can be pretty disappointing in the tourist trap pubs. The best-rated fish and chips shops in London are generally located in the suburbs, away from all the tourist fare in central London.\n",
      "====================================================================================================\n",
      "Score: 7.2632265\n",
      "City: London\n",
      "Section: Districts\n",
      "Subsection: Central London\n",
      "Text: Soho ( Carnaby Street, Soho Square ) Dense concentration of highly fashionable restaurants, cafés, clubs and  jazz bars, as well as London's gay village all mixed in with a cluster of sex shops and seedier adult entertainment venues.\n",
      "====================================================================================================\n"
     ]
    }
   ],
   "source": [
    "results = dense_sparse_search(\"what is the best pub in Soho?\")\n",
    "for point in results:\n",
    "    print(\n",
    "        f\"Score: {point.score}\\n\"\n",
    "        f\"City: {point.payload.get('city')}\\n\"\n",
    "        f\"Section: {point.payload.get('section')}\\n\"\n",
    "        f\"Subsection: {point.payload.get('subsection')}\\n\"\n",
    "        f\"Text: {point.payload.get('text')}\"\n",
    "    )\n",
    "    print(\"==\"*50)\n"
   ]
  },
  {
   "cell_type": "markdown",
   "id": "98dabe95-a3a0-440f-9a94-ccf9fcc1562a",
   "metadata": {},
   "source": [
    "# Hybrid Search"
   ]
  },
  {
   "cell_type": "code",
   "execution_count": 81,
   "id": "18f98dff-423f-4baa-8f4b-697a1f3f9a9a",
   "metadata": {},
   "outputs": [],
   "source": [
    "def rrf_search(query: str, limit: int = 5) -> list[models.ScoredPoint]:\n",
    "    results = qdrant_client.query_points(\n",
    "        collection_name=collection_name_dense_sparse,\n",
    "        prefetch=[\n",
    "            models.Prefetch(\n",
    "                query=models.Document(\n",
    "                    text=query,\n",
    "                    model=\"jinaai/jina-embeddings-v2-small-en\",\n",
    "                ),\n",
    "                using=\"jina-small\",\n",
    "                limit=(5 * limit),\n",
    "            ),\n",
    "            models.Prefetch(\n",
    "                query=models.Document(\n",
    "                    text=query,\n",
    "                    model=\"Qdrant/bm25\",\n",
    "                ),\n",
    "                using=\"bm25\",\n",
    "                limit=(5 * limit),\n",
    "            ),\n",
    "        ],\n",
    "        query=models.FusionQuery(fusion=models.Fusion.RRF),\n",
    "        with_payload=True,\n",
    "    )\n",
    "\n",
    "    return results.points"
   ]
  },
  {
   "cell_type": "code",
   "execution_count": 82,
   "id": "65662629-4db4-4936-bae5-c155cf1883cf",
   "metadata": {},
   "outputs": [
    {
     "name": "stderr",
     "output_type": "stream",
     "text": [
      "100%|█████████████████████████████████████████████████████████████████████████████████████████████████████████████████████████████████████████| 2715/2715 [01:42<00:00, 26.61it/s]"
     ]
    },
    {
     "name": "stdout",
     "output_type": "stream",
     "text": [
      "{'hit_rate': 0.9152854511970534, 'mrr': 0.8050549562980494}\n"
     ]
    },
    {
     "name": "stderr",
     "output_type": "stream",
     "text": [
      "\n"
     ]
    }
   ],
   "source": [
    "hybrid_search_eva = evaluate(ground_truth, lambda q: rrf_search(q['question']))\n",
    "print(hybrid_search_eva)"
   ]
  },
  {
   "cell_type": "code",
   "execution_count": 84,
   "id": "b1ba116b-13c7-46b1-9951-276cfa0c285b",
   "metadata": {},
   "outputs": [
    {
     "name": "stdout",
     "output_type": "stream",
     "text": [
      "Score: 1.0\n",
      "City: Cairo\n",
      "Section: See\n",
      "Subsection: Further afield\n",
      "Text: Also, the pyramids of Saqqara and Memphis offer an easy day trip out of Cairo.\n",
      "====================================================================================================\n",
      "Score: 0.33333334\n",
      "City: Cairo\n",
      "Section: See\n",
      "Subsection: None\n",
      "Text: Pharaonic Village . Welcome to Egyptland! Especially if you've kids in tow, this showground and retail park will give you an instant Egypt-in-miniature. In Giza about 20 minutes drive from Downtown. ( updated Jan 2018 )\n",
      "====================================================================================================\n",
      "Score: 0.33333334\n",
      "City: London\n",
      "Section: See\n",
      "Subsection: None\n",
      "Text: Feeling overwhelmed? Not sure how to begin planning your trip? Transport for London have produced their own useful list of itineraries for tourists . They include famous landmarks and iconic transport icons on their various public transport networks, among others.\n",
      "====================================================================================================\n",
      "Score: 0.25396827\n",
      "City: Cairo\n",
      "Section: description\n",
      "Subsection: None\n",
      "Text: On the Nile river, Cairo is famous for its own history, preserved in the fabulous medieval Islamic city and Coptic sites in Old Cairo — with historic Cairo inscribed on the UNESCO World Heritage list . The Egyptian Museum in the city centre is a must see, with its countless Ancient Egyptian artefacts, as is shopping at the Khan al-Khalili bazaar. No trip to Cairo would be complete without a visit to the Giza Pyramids and to the nearby Saqqara Pyramid Complex , where visitors will see Egypt's first step pyramid built by the architect Imhotep for the third dynasty pharaoh Djoser.\n",
      "====================================================================================================\n",
      "Score: 0.25\n",
      "City: Cairo\n",
      "Section: Sleep\n",
      "Subsection: None\n",
      "Text: Cairo has a tremendous range of accommodation, from low-rent budget hotels downtown to five-star palaces along the Nile. See individual district articles for hotel listings.\n",
      "====================================================================================================\n",
      "Score: 0.25\n",
      "City: London\n",
      "Section: See\n",
      "Subsection: None\n",
      "Text: Transport for London Itineraries Feeling overwhelmed? Not sure how to begin planning your trip? Transport for London have produced their own useful list of itineraries for tourists . They include famous landmarks and iconic transport icons on their various public transport networks, among others.\n",
      "====================================================================================================\n",
      "Score: 0.21929824\n",
      "City: Cairo\n",
      "Section: Districts\n",
      "Subsection: None\n",
      "Text: Eastern districts A series of planned communities which have been built away from the congestion of historic Cairo. From oldest to newest, they include Heliopolis, Nasr City, and New Cairo. These areas are mostly upper-class and commercial centres. Cairo's airport is also here.\n",
      "====================================================================================================\n",
      "Score: 0.2\n",
      "City: Cairo\n",
      "Section: Eat\n",
      "Subsection: Western and Asian food\n",
      "Text: There is also a cute TGI Friday's [dead link] on the Nile banks at the entrance of Maadi, serving beer but no wine. Gezira also has its very own Chili's. For burgers, you can also try Fuddrucker's (Maadi and Mohandesseen) or Lucille's in Ma'adi (54 Road n° 9) which is owned by an American woman. Maison Thomas has several branches throughout Cairo, including Mohandiseen, Zamalek, and Maadi, and serves some of the best pizza in Cairo. There is an Italian place called the Mint in Mohandesseen 30 Gezirt Al Arab St. open 9AM-1:30AM, which boasts a very stylish interior, however it's alcohol free. If you prefer more stylish international dining, Cairo offers a wide variety: Italian, Chinese and Japanese outlets in addition to the ambiguous continental cooking abound, especially in areas like Zamalek, Mohandseen and Dokki. Rossini fish restaurant 66 Omar Ibn El Khatab ST +202 2291-8282, Cedars 42 Gezerit Al Arab Mohandeseen +202 3345-0088, this Lebanese restaurant is a favorite with Mohandesseen's ladies who can order grills and salads in a specious outdoor terrace.\n",
      "====================================================================================================\n",
      "Score: 0.2\n",
      "City: London\n",
      "Section: Sleep\n",
      "Subsection: None\n",
      "Text: London has hundreds of options for accommodation to suit all budgets from hostels through historic bed and breakfasts (B&Bs), mainstream chain hotels and apartments all the way to some of the most exclusive luxury hotels in the world such as The Savoy, The Ritz and Claridges where a stay in a top suite will cost upwards of £1,000 per night. The average cost of hotel accommodation in London is higher than in any other major British city. Prices invariably become inflated close to major sporting tournaments (such as the London Marathon, Wimbledon or major England football/rugby fixtures), or other important events taking place in the city - so it pays to plan your trip around such occasions or book your accommodation well in advance.\n",
      "====================================================================================================\n",
      "Score: 0.16666667\n",
      "City: Cairo\n",
      "Section: description\n",
      "Subsection: None\n",
      "Text: Cairo (pronounced KY-roh ; Arabic : القاهرة al-Qāhirah ) is the capital of Egypt (until the New Administrative Capital is completed) and, with a total population of Greater Cairo metropolitan area in excess of 16 million people, one of the largest cities in both Africa and the Middle East (the regions which it conveniently straddles). It is also the 19th largest city in the world, and among the world's most densely populated cities.\n",
      "====================================================================================================\n"
     ]
    }
   ],
   "source": [
    "results = rrf_search(\"Plan three days trip to Cairo?\")\n",
    "for point in results:\n",
    "    print(\n",
    "        f\"Score: {point.score}\\n\"\n",
    "        f\"City: {point.payload.get('city')}\\n\"\n",
    "        f\"Section: {point.payload.get('section')}\\n\"\n",
    "        f\"Subsection: {point.payload.get('subsection')}\\n\"\n",
    "        f\"Text: {point.payload.get('text')}\"\n",
    "    )\n",
    "    print(\"==\"*50)\n"
   ]
  },
  {
   "cell_type": "markdown",
   "id": "d0a57527-5ce2-4188-8049-d862c6160519",
   "metadata": {},
   "source": [
    "# Evaluation Summary "
   ]
  },
  {
   "cell_type": "code",
   "execution_count": 85,
   "id": "183943e3-a716-4e15-b612-23bb8df67837",
   "metadata": {},
   "outputs": [],
   "source": [
    "from tabulate import tabulate"
   ]
  },
  {
   "cell_type": "code",
   "execution_count": 141,
   "id": "a10891b7-c603-427b-b35b-7f94332698f9",
   "metadata": {},
   "outputs": [
    {
     "name": "stdout",
     "output_type": "stream",
     "text": [
      "╭───────────────────┬─────────────────────────────┬────────────┬──────────╮\n",
      "│ Section           │ Method                      │   Hit Rate │      MRR │\n",
      "├───────────────────┼─────────────────────────────┼────────────┼──────────┤\n",
      "│ Semantic Search   │ Semantic Search basline     │   0.8593   │ 0.751283 │\n",
      "├───────────────────┼─────────────────────────────┼────────────┼──────────┤\n",
      "│ Semantic Search   │ Semantic Search with filter │   0.867403 │ 0.765513 │\n",
      "├───────────────────┼─────────────────────────────┼────────────┼──────────┤\n",
      "│ Sparse vector     │ Sparse vector with BM25     │   0.847145 │ 0.738686 │\n",
      "├───────────────────┼─────────────────────────────┼────────────┼──────────┤\n",
      "│ Multi-step search │ Dense and sparse            │   0.866667 │ 0.756728 │\n",
      "├───────────────────┼─────────────────────────────┼────────────┼──────────┤\n",
      "│ Hybrid Search     │ Hybrid Search               │   0.915285 │ 0.805055 │\n",
      "╰───────────────────┴─────────────────────────────┴────────────┴──────────╯\n"
     ]
    }
   ],
   "source": [
    "# build table rows\n",
    "table = [\n",
    "    [\"Semantic Search\", \"Semantic Search basline\", basline_qd_search['hit_rate'], basline_qd_search['mrr']],\n",
    "    [\"Semantic Search\", \"Semantic Search with filter\", filter_qd_search['hit_rate'], filter_qd_search['mrr']],\n",
    "    [\"Sparse vector\", \"Sparse vector with BM25\", bm_qd_search['hit_rate'], bm_qd_search['mrr']],\n",
    "    [\"Multi-step search\", \"Dense and sparse\", dense_sparse_search_eva['hit_rate'], dense_sparse_search_eva['mrr']],\n",
    "    [\"Hybrid Search\", \"Hybrid Search\", hybrid_search_eva['hit_rate'], hybrid_search_eva['mrr']],\n",
    "]\n",
    "\n",
    "# print table\n",
    "print(tabulate(table, headers=[\"Section\", \"Method\", \"Hit Rate\", \"MRR\"], tablefmt=\"rounded_grid\"))"
   ]
  },
  {
   "cell_type": "markdown",
   "id": "b14201ab-84f2-41f9-b1bd-faf76db52d1c",
   "metadata": {},
   "source": [
    "# RAG Flow"
   ]
  },
  {
   "cell_type": "code",
   "execution_count": 142,
   "id": "40603f8b-ff22-476c-9c7f-9e277bc6cc2b",
   "metadata": {},
   "outputs": [],
   "source": [
    "from mistralai import Mistral\n",
    "from mistralai.models import UserMessage\n",
    "import os\n",
    "from dotenv import load_dotenv\n"
   ]
  },
  {
   "cell_type": "code",
   "execution_count": 143,
   "id": "c73d75c4-313a-44df-a970-7d0a30035239",
   "metadata": {},
   "outputs": [
    {
     "data": {
      "text/plain": [
       "True"
      ]
     },
     "execution_count": 143,
     "metadata": {},
     "output_type": "execute_result"
    }
   ],
   "source": [
    "# loads variables from .env\n",
    "load_dotenv()  "
   ]
  },
  {
   "cell_type": "code",
   "execution_count": 144,
   "id": "94f9f107-9814-4f3b-b94b-4de6f34273ff",
   "metadata": {},
   "outputs": [],
   "source": [
    "api_key = os.getenv(\"API_KEY\")"
   ]
  },
  {
   "cell_type": "code",
   "execution_count": 145,
   "id": "5ec19cee-875d-4aaa-bd60-db5f9bf08c99",
   "metadata": {},
   "outputs": [],
   "source": [
    "llm_client = Mistral(api_key = api_key)"
   ]
  },
  {
   "cell_type": "code",
   "execution_count": 177,
   "id": "a34257e8-b57c-4b8c-b568-729c4b33a50b",
   "metadata": {},
   "outputs": [],
   "source": [
    "def build_prompt(query, search_results):\n",
    "    context_template = \"Q: {question}\\n A: {text}\"\n",
    "\n",
    "    context_parts = []\n",
    "    for point in search_results: \n",
    "        payload = point.payload\n",
    "        context_parts.append(\n",
    "            context_template.format(\n",
    "                question=query,\n",
    "                text=payload.get(\"text\", \"\")\n",
    "            )\n",
    "        )\n",
    "\n",
    "    context = \"\\n\\n\".join(context_parts)\n",
    "    \n",
    "    prompt_template = \"\"\"\n",
    "You're a travel assistant. Answer the QUESTION based on the CONTEXT from the traveller database.\n",
    "Use only the facts from the CONTEXT when answering the QUESTION. If the QUESTION doesn't have a CONTEXT data just mention\n",
    "you cannot answer the question.\n",
    "\n",
    "QUESTION: {question}\n",
    "\n",
    "CONTEXT:\n",
    "{context}\n",
    "\n",
    "    \"\"\".strip()\n",
    "    \n",
    "    prompt = prompt_template.format(question=query, context=context)\n",
    "    return prompt\n"
   ]
  },
  {
   "cell_type": "code",
   "execution_count": 178,
   "id": "f0ff4c32-ae75-4cdd-9455-39cc26b436ed",
   "metadata": {},
   "outputs": [],
   "source": [
    "def llm(prompt):\n",
    "    response = llm_client.chat.complete(\n",
    "        model= \"ministral-8b-latest\",\n",
    "        messages=[UserMessage(content=prompt)],\n",
    "    )\n",
    "\n",
    "    return response.choices[0].message.content"
   ]
  },
  {
   "cell_type": "code",
   "execution_count": 179,
   "id": "995b51f8-0dfa-45f5-ae61-4fa41a43fd3a",
   "metadata": {},
   "outputs": [],
   "source": [
    "def rag(query):\n",
    "    search_results = rrf_search(query=query)\n",
    "    prompt = build_prompt(query, search_results)\n",
    "    answer = llm(prompt)\n",
    "\n",
    "    return answer"
   ]
  },
  {
   "cell_type": "code",
   "execution_count": 180,
   "id": "5fb31f85-fe89-44d2-b19d-44dabaaa98c8",
   "metadata": {},
   "outputs": [
    {
     "name": "stdout",
     "output_type": "stream",
     "text": [
      "Based on the provided context, here are three trip plans to Cairo:\n",
      "\n",
      "1. **Historical Cairo and Pyramids:**\n",
      "   - Day 1: Visit the Egyptian Museum, Khan al-Khalili bazaar, and the medieval Islamic city.\n",
      "   - Day 2: Explore the Giza Pyramids and the nearby Saqqara Pyramid Complex.\n",
      "   - Day 3: Relax at Al-Azhar Park and enjoy a felucca ride on the Nile.\n",
      "\n",
      "2. **Modern Cairo and Suburbs:**\n",
      "   - Day 1: Visit the Midan Tahrir area, Zamalek, and Ma'adi.\n",
      "   - Day 2: Explore the Eastern districts (Heliopolis, Nasr City, and New Cairo).\n",
      "   - Day 3: Visit the Cairo Citadel and enjoy the city's vibrant nightlife.\n",
      "\n",
      "3. **Cultural and Foodie Cairo:**\n",
      "   - Day 1: Visit the Coptic sites in Old Cairo and explore the Khan al-Khalili bazaar.\n",
      "   - Day 2: Try local Egyptian cuisine at various restaurants and cafes.\n",
      "   - Day 3: Visit the Cairo Citadel, enjoy a felucca ride on the Nile, and explore the city's fast food scene.\n"
     ]
    }
   ],
   "source": [
    "answer = rag(\"Plan three trip to Cairo?\")\n",
    "print(answer)"
   ]
  },
  {
   "cell_type": "code",
   "execution_count": 181,
   "id": "4520a256-8fda-477b-85c3-61800dfe3ead",
   "metadata": {},
   "outputs": [
    {
     "name": "stdout",
     "output_type": "stream",
     "text": [
      "I cannot answer the question as there is no context data related to Brussels.\n"
     ]
    }
   ],
   "source": [
    "answer = rag(\"Plan three-day itinerary for Brussels?\")\n",
    "print(answer)"
   ]
  },
  {
   "cell_type": "code",
   "execution_count": null,
   "id": "f346386d-360b-49da-8406-2b2f2c50d13f",
   "metadata": {},
   "outputs": [],
   "source": []
  },
  {
   "cell_type": "code",
   "execution_count": null,
   "id": "4ede7aa1-4703-4798-bab1-89d3e9f834ee",
   "metadata": {},
   "outputs": [],
   "source": []
  }
 ],
 "metadata": {
  "kernelspec": {
   "display_name": "Python 3 (ipykernel)",
   "language": "python",
   "name": "python3"
  },
  "language_info": {
   "codemirror_mode": {
    "name": "ipython",
    "version": 3
   },
   "file_extension": ".py",
   "mimetype": "text/x-python",
   "name": "python",
   "nbconvert_exporter": "python",
   "pygments_lexer": "ipython3",
   "version": "3.12.2"
  }
 },
 "nbformat": 4,
 "nbformat_minor": 5
}
