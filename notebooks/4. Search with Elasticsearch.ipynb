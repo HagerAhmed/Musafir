{
 "cells": [
  {
   "cell_type": "code",
   "execution_count": 1,
   "id": "ed3c1541-2fc6-4d2f-9b59-423e77cf0cda",
   "metadata": {},
   "outputs": [],
   "source": [
    "import os\n",
    "os.environ[\"SSL_CERT_FILE\"] = \"/mnt/d/Travel Assistant/Musafir/Fortinet_CA_SSL(15).cer\"\n",
    "os.environ[\"REQUESTS_CA_BUNDLE\"] = \"/mnt/d/Travel Assistant/Musafir/Fortinet_CA_SSL(15).cer\""
   ]
  },
  {
   "cell_type": "code",
   "execution_count": 2,
   "id": "3c4199f1-5b0f-4e79-b96b-55086f894580",
   "metadata": {},
   "outputs": [],
   "source": [
    "import pandas as pd"
   ]
  },
  {
   "cell_type": "code",
   "execution_count": 3,
   "id": "217c69f9-4690-4441-b03e-39c8d2ee5448",
   "metadata": {},
   "outputs": [],
   "source": [
    "df = pd.read_csv(\"../data/processed_data/all_cities_combined_clean.csv\")"
   ]
  },
  {
   "cell_type": "code",
   "execution_count": 4,
   "id": "c386aa46-162b-4a24-9814-1b57e76739e0",
   "metadata": {},
   "outputs": [],
   "source": [
    "documents = df.to_dict(orient='records')"
   ]
  },
  {
   "cell_type": "code",
   "execution_count": 5,
   "id": "e72654aa-0e42-48be-9a11-5f597a8d1875",
   "metadata": {},
   "outputs": [
    {
     "name": "stderr",
     "output_type": "stream",
     "text": [
      "/mnt/d/Travel Assistant/Musafir/venv/lib/python3.12/site-packages/tqdm/auto.py:21: TqdmWarning: IProgress not found. Please update jupyter and ipywidgets. See https://ipywidgets.readthedocs.io/en/stable/user_install.html\n",
      "  from .autonotebook import tqdm as notebook_tqdm\n"
     ]
    }
   ],
   "source": [
    "from elasticsearch import Elasticsearch\n",
    "import requests\n",
    "from tqdm.auto import tqdm"
   ]
  },
  {
   "cell_type": "code",
   "execution_count": 6,
   "id": "e9a46ebd-f0d6-4efb-a3d3-d3ba34a861cf",
   "metadata": {},
   "outputs": [],
   "source": [
    "from mistralai import Mistral\n",
    "from mistralai.models import UserMessage\n",
    "import os\n",
    "from dotenv import load_dotenv\n",
    "import tiktoken"
   ]
  },
  {
   "cell_type": "code",
   "execution_count": 7,
   "id": "71bbcce2-eaab-4a43-a630-eaa9d5ce109f",
   "metadata": {},
   "outputs": [
    {
     "name": "stdout",
     "output_type": "stream",
     "text": [
      "{'name': '9125275addfa', 'cluster_name': 'docker-cluster', 'cluster_uuid': 'M25oUGE6Qe6ICaWjniVYiw', 'version': {'number': '8.13.0', 'build_flavor': 'default', 'build_type': 'docker', 'build_hash': '09df99393193b2c53d92899662a8b8b3c55b45cd', 'build_date': '2024-03-22T03:35:46.757803203Z', 'build_snapshot': False, 'lucene_version': '9.10.0', 'minimum_wire_compatibility_version': '7.17.0', 'minimum_index_compatibility_version': '7.0.0'}, 'tagline': 'You Know, for Search'}\n"
     ]
    }
   ],
   "source": [
    "es_client = Elasticsearch('http://localhost:9200')\n",
    "print(es_client.info())"
   ]
  },
  {
   "cell_type": "code",
   "execution_count": 8,
   "id": "cbc9d72d-bc75-4b85-b860-9e1bfc443223",
   "metadata": {},
   "outputs": [
    {
     "name": "stdout",
     "output_type": "stream",
     "text": [
      "0, value: {'id': 0, 'city': 'Cairo', 'section': 'See', 'subsection': 'Further afield', 'text': '29.8 31.233333 1 Dahshur Pyramids . For a contrast to touristy Pyramids of Giza, head south to the oldest known pyramid, the Red Pyramid. The neglected Dahshur Pyramids are interesting and worth a visit, considering its history and the hassle-free atmosphere. Also, see the weird Bent Pyramid there and hike around the area to the Black Pyramid. The Red Pyramid has an entrance to the inside, which you can climb down. ( updated Jan 2018 )'}\n",
      "*************************\n",
      "1, value: {'id': 1, 'city': 'Cairo', 'section': 'See', 'subsection': nan, 'text': '29.8 31.233333 5 Dahshur Pyramids . For a contrast to touristy Pyramids of Giza, head south to the oldest known pyramid, the Red Pyramid. The neglected Dahshur Pyramids are interesting and worth a visit, considering its history and the hassle-free atmosphere. Also, see the weird Bent Pyramid there and hike around the area to the Black Pyramid. The Red Pyramid has an entrance to the inside, which you can climb down. ( updated Jan 2018 )'}\n",
      "*************************\n",
      "2, value: {'id': 2, 'city': 'Cairo', 'section': 'See', 'subsection': nan, 'text': '30.0405 31.2646 2 Al-Azhar Park . A landscaped garden overlooking the Citadel'}\n",
      "*************************\n",
      "3, value: {'id': 3, 'city': 'Cairo', 'section': 'See', 'subsection': nan, 'text': '30.0417 31.2483 4 Abdeen Palace . About 1 km east of Midan El-Tahrir, it was the royal residence until the Egyptian monarchy was deposed in 1952. ( updated Jan 2018 )'}\n",
      "*************************\n",
      "4, value: {'id': 4, 'city': 'Cairo', 'section': 'See', 'subsection': nan, 'text': \"30.0475 31.262222 3 Khan El Khalily . Cairo's souk area where visitors will find many merchants selling perfume, spices, gold, Egyptian handicrafts.\"}\n",
      "*************************\n"
     ]
    }
   ],
   "source": [
    "for index, value in enumerate(documents[:5]):\n",
    "    print(f\"{index}, value: {value}\")\n",
    "    print(\"*\" * 25)"
   ]
  },
  {
   "cell_type": "code",
   "execution_count": 9,
   "id": "75fe6599-ac10-4d4e-ae38-0b48e8ea47f6",
   "metadata": {},
   "outputs": [],
   "source": [
    "index_name = \"travel_assistant\""
   ]
  },
  {
   "cell_type": "code",
   "execution_count": 10,
   "id": "eff4861b-db1f-4909-9589-18104e0e0299",
   "metadata": {},
   "outputs": [
    {
     "name": "stdout",
     "output_type": "stream",
     "text": [
      "Delete existing index: travel_assistant\n"
     ]
    }
   ],
   "source": [
    "if es_client.indices.exists(index=index_name):\n",
    "    es_client.indices.delete(index=index_name)\n",
    "    print(f\"Delete existing index: {index_name}\")"
   ]
  },
  {
   "cell_type": "code",
   "execution_count": 11,
   "id": "4384101a-16dd-4a98-89cc-a48625a58d48",
   "metadata": {},
   "outputs": [
    {
     "data": {
      "text/plain": [
       "['id', 'city', 'section', 'subsection', 'text']"
      ]
     },
     "execution_count": 11,
     "metadata": {},
     "output_type": "execute_result"
    }
   ],
   "source": [
    "list(documents[0].keys())"
   ]
  },
  {
   "cell_type": "code",
   "execution_count": 12,
   "id": "4d27ef7c-60fb-484b-8f75-321e0184ab90",
   "metadata": {},
   "outputs": [
    {
     "data": {
      "text/plain": [
       "ObjectApiResponse({'acknowledged': True, 'shards_acknowledged': True, 'index': 'travel_assistant'})"
      ]
     },
     "execution_count": 12,
     "metadata": {},
     "output_type": "execute_result"
    }
   ],
   "source": [
    "# Index doc by 'city' and 'section' value and the rest is the text \n",
    "\n",
    "index_settings = {\n",
    "    \"settings\":{\n",
    "        \"number_of_shards\":1,\n",
    "        \"number_of_replicas\":0\n",
    "    },\n",
    "    \"mappings\":{\n",
    "        \"properties\":{\n",
    "            \"city\":{\"type\":\"keyword\"},\n",
    "            \"section\":{\"type\":\"keyword\"},\n",
    "            \"subsection\":{\"type\":\"text\"},\n",
    "            \"text\":{\"type\":\"text\"},\n",
    "        }\n",
    "    }\n",
    "}\n",
    "\n",
    "es_client.indices.create(index=index_name, body=index_settings)"
   ]
  },
  {
   "cell_type": "code",
   "execution_count": 13,
   "id": "faa33dfe-b1dc-4535-a56a-39033950f3d1",
   "metadata": {},
   "outputs": [],
   "source": [
    "# replace none value with null\n",
    "import math\n",
    "\n",
    "def clean_doc(doc):\n",
    "    for k, v in doc.items():\n",
    "        if isinstance(v, float) and math.isnan(v):\n",
    "            doc[k] = None  \n",
    "    return doc"
   ]
  },
  {
   "cell_type": "code",
   "execution_count": 14,
   "id": "2a43021c-e305-4da5-9db1-d7b6bd3afcc4",
   "metadata": {},
   "outputs": [
    {
     "name": "stderr",
     "output_type": "stream",
     "text": [
      "100%|███████████████████████████████████████████████████████████████████████████████████████████████████████████████████████████████████████| 544/544 [01:38<00:00,  5.52it/s]\n"
     ]
    }
   ],
   "source": [
    "# Set the index for the whole docs\n",
    "\n",
    "for doc in tqdm(documents):\n",
    "    es_client.index(index=index_name, document=clean_doc(doc))\n"
   ]
  },
  {
   "cell_type": "code",
   "execution_count": 27,
   "id": "69253f32-bd42-4045-8f81-73a7a623baa3",
   "metadata": {},
   "outputs": [],
   "source": [
    "def elastic_search(query, size, city_filter=None):\n",
    "\n",
    "    search_query = {\n",
    "        \"size\": size,\n",
    "        \"query\": {\n",
    "            \"bool\": {\n",
    "                \"must\": [\n",
    "                    {\n",
    "                        \"multi_match\": {\n",
    "                            \"query\": query,\n",
    "                            \"fields\": ['city', 'section', 'subsection', 'text'],\n",
    "                            \"type\": \"best_fields\"\n",
    "                        }\n",
    "                    }\n",
    "                ]\n",
    "            }\n",
    "        }\n",
    "    }\n",
    "\n",
    "    # Add filter \n",
    "    if city_filter:\n",
    "        search_query[\"query\"][\"bool\"][\"filter\"] = {\n",
    "            \"term\": {\n",
    "                \"city\": city_filter\n",
    "            }\n",
    "        }\n",
    "\n",
    "\n",
    "    response = es_client.search(index=index_name, body=search_query)\n",
    "    \n",
    "    result_docs = []\n",
    "\n",
    "    for hit in response['hits']['hits']:\n",
    "        result_docs.append(hit)     \n",
    "    \n",
    "    return result_docs"
   ]
  },
  {
   "cell_type": "code",
   "execution_count": 32,
   "id": "d8413d86-07fe-4607-9aea-a46c786684f4",
   "metadata": {},
   "outputs": [
    {
     "data": {
      "text/plain": [
       "[{'_index': 'travel_assistant',\n",
       "  '_id': '7hhIe5kBylxcUMKE_i9W',\n",
       "  '_score': 10.650509,\n",
       "  '_source': {'id': 318,\n",
       "   'city': 'London',\n",
       "   'section': 'Eat',\n",
       "   'subsection': 'Restaurant streets',\n",
       "   'text': 'While central London is full of restaurants and cafes, there are some areas where the majority of diners are Londoners, rather than tourists, and in general you will get a much more pleasant, better value, and less crowded eating experience than you will find in the West End. These places are best visited in the evenings.'}},\n",
       " {'_index': 'travel_assistant',\n",
       "  '_id': 'YRhJe5kBylxcUMKERjAp',\n",
       "  '_score': 10.606996,\n",
       "  '_source': {'id': 433,\n",
       "   'city': 'Rome',\n",
       "   'section': 'Eat',\n",
       "   'subsection': None,\n",
       "   'text': 'Rome is full of good restaurants, many in attractive settings, particularly when you sit outside in the evening. No one location can be recommended to search for a good restaurant: some of the best places to eat are in the most unpromising locations while well-situated restaurants can often live on their reputation rather than the quality of their food. Restaurants in guidebooks can be good but prices can be inflated because it is more than likely a \"tourist trap\". To find an authentic restaurant that won\\'t break the bank, try to find a place in a more residential area or somewhere that isn\\'t in the middle of the tourist locations.'}},\n",
       " {'_index': 'travel_assistant',\n",
       "  '_id': 'NxhIe5kBylxcUMKEai-L',\n",
       "  '_score': 10.185687,\n",
       "  '_source': {'id': 135,\n",
       "   'city': 'London',\n",
       "   'section': 'Eat',\n",
       "   'subsection': 'Religious',\n",
       "   'text': 'Due to the mix of cultures and religions, many London restaurants cater well for religious dietary requirements. The most common signs are for Halal and Kosher meat, from burger joints to nice restaurants. There are lots of Halal restaurants and shops all over London including Whitechapel Rd and Brick Lane in the East End , Bayswater, Edgware Rd and Paddington and in many parts of north London . There are plenty of Kosher restaurants in Golders Green , Edgware and Stamford Hill along with some central delis such as on Charing Cross Road.'}},\n",
       " {'_index': 'travel_assistant',\n",
       "  '_id': 'DhhIe5kBylxcUMKEQy9e',\n",
       "  '_score': 10.150402,\n",
       "  '_source': {'id': 94,\n",
       "   'city': 'London',\n",
       "   'section': 'Eat',\n",
       "   'subsection': 'Restaurant areas',\n",
       "   'text': \"As one of the world's most cosmopolitan cities, you can find restaurants serving food cuisine from nearly every country, some of it as good as, if not better than in the countries of origin. Indian food in London is especially famous and there is hardly a district without at least one notable Indian restaurant. London also has excellent options for Chinese, in particular Cantonese food; local chain Royal China is an excellent option if you are looking for high-end fine dining dim sum.\"}},\n",
       " {'_index': 'travel_assistant',\n",
       "  '_id': 'RBhIe5kBylxcUMKEeS_p',\n",
       "  '_score': 9.64108,\n",
       "  '_source': {'id': 148,\n",
       "   'city': 'London',\n",
       "   'section': 'Eat',\n",
       "   'subsection': None,\n",
       "   'text': 'For more authentic Cockney food, try pie and mash , which originates from the working-class in the East End. Usually minced beef and cold water pastry pie served with mashed potato, mushy peas and \"liquor\" gravy, it tastes a lot better than it sounds. Some of the best pie houses are M. Manze in Peckham or F. Cooke in Hackney Broadway Market. Water Souchet and London Particular (green-pea and ham) are classic Cockney soups, though hard to find on menus. For those game, jellied eels , pickled-cockles and whelks are all traditional London seafood. It\\'s people\\'s experiences in these kind of places that gives Britain a bad name for food!'}}]"
      ]
     },
     "execution_count": 32,
     "metadata": {},
     "output_type": "execute_result"
    }
   ],
   "source": [
    "# Searching \n",
    "f_query = \"where can I find the best halal food in London?\"\n",
    "elastic_search(query=f_query, size=5, city_filter=None)"
   ]
  },
  {
   "cell_type": "code",
   "execution_count": 33,
   "id": "3005e48f-dfc7-44b3-b213-f36760a2c439",
   "metadata": {},
   "outputs": [
    {
     "data": {
      "text/plain": [
       "True"
      ]
     },
     "execution_count": 33,
     "metadata": {},
     "output_type": "execute_result"
    }
   ],
   "source": [
    "# loads variables from .env\n",
    "load_dotenv()  "
   ]
  },
  {
   "cell_type": "code",
   "execution_count": 34,
   "id": "4445b8be-d4cd-4e96-8aac-0d8696cf3a7c",
   "metadata": {},
   "outputs": [],
   "source": [
    "api_key = os.getenv(\"API_KEY\")"
   ]
  },
  {
   "cell_type": "code",
   "execution_count": 36,
   "id": "7c08203e-c8b1-4ca1-874e-335d6ace4369",
   "metadata": {},
   "outputs": [],
   "source": [
    "client = Mistral(api_key = api_key)"
   ]
  },
  {
   "cell_type": "code",
   "execution_count": 41,
   "id": "a2880cc6-2711-48b9-b091-d40eb4662b3f",
   "metadata": {},
   "outputs": [],
   "source": [
    "def build_prompt(query, search_results):\n",
    "    context_template = \"Q: {question}\\n A: {text}\"\n",
    "\n",
    "    context_parts = []\n",
    "    for doc in search_results:\n",
    "        source = doc['_source']\n",
    "        context_parts.append(context_template.format(question=source.get('question', ''), text=source.get('text', '')))\n",
    "\n",
    "    context = \"\\n\\n\".join(context_parts)\n",
    "\n",
    "    prompt_template = \"\"\"\n",
    "You're a travel assistant. Answer the QUESTION based on the CONTEXT from the FAQ database.\n",
    "Use only the facts from the CONTEXT when answering the QUESTION.\n",
    "\n",
    "QUESTION: {question}\n",
    "\n",
    "CONTEXT:\n",
    "{context}\n",
    "\n",
    "    \"\"\".strip()\n",
    "    \n",
    "    prompt = prompt_template.format(question=query, context=context)\n",
    "    print('The length of the resulting prompt:', len(prompt))\n",
    "\n",
    "    encoding = tiktoken.encoding_for_model(\"gpt-4o\")\n",
    "    encoded_prompt = encoding.encode(prompt)\n",
    "    num_token = len(encoded_prompt)\n",
    "\n",
    "    # Number of token\n",
    "    print(\"The number of token\",num_token)\n",
    "    return prompt\n"
   ]
  },
  {
   "cell_type": "code",
   "execution_count": 38,
   "id": "c13bd496-5412-421c-a75e-691cd2adfbe5",
   "metadata": {},
   "outputs": [],
   "source": [
    "def llm(prompt):\n",
    "    response = client.chat.complete(\n",
    "        model= \"mistral-medium-latest\",\n",
    "        messages=[UserMessage(content=prompt)],\n",
    "    )\n",
    "\n",
    "\n",
    "    return response.choices[0].message.content"
   ]
  },
  {
   "cell_type": "code",
   "execution_count": 39,
   "id": "83022759-7b1a-46da-b3f3-057679a90a38",
   "metadata": {},
   "outputs": [],
   "source": [
    "def rag(query):\n",
    "    search_results = elastic_search(query=query, size=5, city_filter=None)\n",
    "    prompt = build_prompt(query, search_results)\n",
    "    answer = llm(prompt)\n",
    "\n",
    "    return answer"
   ]
  },
  {
   "cell_type": "code",
   "execution_count": 42,
   "id": "70b9cce8-5bfd-4085-addf-09c978ccb946",
   "metadata": {},
   "outputs": [
    {
     "name": "stdout",
     "output_type": "stream",
     "text": [
      "The length of the resulting prompt: 2907\n",
      "The number of token 619\n",
      "\n",
      " Answer: Based on the **CONTEXT**, the best areas in London to find **halal food** include:\n",
      "\n",
      "- **Whitechapel Road & Brick Lane** (East End)\n",
      "- **Bayswater, Edgware Road, and Paddington**\n",
      "- **Many parts of North London**\n",
      "\n",
      "These areas have a high concentration of **halal restaurants and shops**, ranging from casual eateries to nicer dining options.\n"
     ]
    }
   ],
   "source": [
    "answer = rag(f_query)\n",
    "print(\"\\n Answer:\", answer)"
   ]
  },
  {
   "cell_type": "code",
   "execution_count": 47,
   "id": "a673eb22-a0e5-4085-8d10-bd1b63edaff2",
   "metadata": {},
   "outputs": [
    {
     "name": "stdout",
     "output_type": "stream",
     "text": [
      "The length of the resulting prompt: 2324\n",
      "The number of token 533\n",
      "\n",
      " Answer: Here’s a well-structured **2-day trip plan for Rome** based on the provided context, optimizing time and cost with the **Roma Pass 48-Hours (€36.50)**:\n",
      "\n",
      "---\n",
      "### **Day 1: Ancient Rome & Iconic Landmarks**\n",
      "**Morning:**\n",
      "- **Colosseum (Colosseo)** – Use your **Roma Pass for free entry + skip-the-line access** (arrive early to avoid crowds).\n",
      "- **Palatine Hill (Palatino Hill)** – Included in the same ticket as the Colosseum (free entry with Roma Pass).\n",
      "- **Roman Forum** – Walk through the heart of ancient Rome (entry included with Colosseum ticket).\n",
      "\n",
      "**Afternoon:**\n",
      "- **Lunch**: Quick bite near **Monti district** (try *La Carbonara* or *Trattoria Da Enzo*).\n",
      "- **Baths of Caracalla (Terme di Caracalla)** – Free entry with Roma Pass (impressive Roman baths).\n",
      "- **Circus Maximus** – Free outdoor site (no pass needed); great for photos.\n",
      "\n",
      "**Evening:**\n",
      "- **Piazza Venezia & Altare della Patria** – Climb the monument for panoramic views (free).\n",
      "- **Dinner**: *Roscioli* (famous for pasta) or *Armando al Pantheon* (reserve ahead).\n",
      "\n",
      "---\n",
      "### **Day 2: Vatican & Artistic Rome**\n",
      "**Morning:**\n",
      "- **Vatican Museums & Sistine Chapel** – *Not covered by Roma Pass*; book a **skip-the-line ticket** (€17–€27) or consider the **OMNIA Pass** (€113 for 3 days) if extending your trip.\n",
      "- **St. Peter’s Basilica** – Free entry (dress modestly); climb the dome (€8) for views.\n",
      "\n",
      "**Afternoon:**\n",
      "- **Lunch**: *Pizzarium Bonci* (near Vatican) for gourmet pizza by the slice.\n",
      "- **Castel Sant’Angelo** – Use Roma Pass for **discounted entry** (€15 → ~€10).\n",
      "- **Piazza Navona & Pantheon** – Free to explore (Pantheon entry is free).\n",
      "\n",
      "**Evening:**\n",
      "- **Trevi Fountain & Spanish Steps** – Visit at sunset for fewer crowds.\n",
      "- **Dinner**: *Tonnarello* (Trastevere) for authentic Roman-Jewish cuisine.\n",
      "\n",
      "---\n",
      "### **Key Tips:**\n",
      "1. **Roma Pass 48-Hours (€36.50)**:\n",
      "   - Covers **1 free museum/archaeological site** (use for Colosseum/Palatine Hill).\n",
      "   - **Unlimited public transport** (metro/buses) for 48 hours.\n",
      "   - Discounts on other sites (e.g., Castel Sant’Angelo).\n",
      "\n",
      "2. **Skip-the-Line**: Roma Pass helps avoid queues at the **Colosseum** (save 1+ hour).\n",
      "\n",
      "3. **Vatican Note**: If visiting the Vatican is a priority, the **OMNIA Pass (€113)** includes Vatican entry + hop-on-hop-off bus, but it’s only cost-effective for 3 days.\n",
      "\n",
      "4. **Transport**: Use metro **Line B** (Colosseo stop) and **Line A** (Ottaviano for Vatican).\n",
      "\n",
      "5. **Book Ahead**: Reserve time slots for **Colosseum** and **Vatican Museums** to guarantee entry.\n",
      "\n",
      "---\n",
      "### **Alternative Itinerary (If Prioritizing Vatican):**\n",
      "- **Day 1**: Vatican (OMNIA Pass) + Trastevere.\n",
      "- **Day 2**: Colosseum, Roman Forum, Palatine Hill (Roma Pass).\n",
      "\n",
      "Would you like adjustments based on specific interests (e.g., food, hidden gems)?\n"
     ]
    }
   ],
   "source": [
    "answer = rag(\"Plan two days trip to Roma\")\n",
    "print(\"\\n Answer:\", answer)"
   ]
  },
  {
   "cell_type": "code",
   "execution_count": 49,
   "id": "b52d911a-9c67-4eea-aebc-a9e2efcfea22",
   "metadata": {},
   "outputs": [
    {
     "name": "stdout",
     "output_type": "stream",
     "text": [
      "The length of the resulting prompt: 1935\n",
      "The number of token 421\n",
      "\n",
      " Answer: I’m unable to provide a three-day itinerary for Dubai based on the given **CONTEXT**, as the provided information only covers topics related to **Rome, London, airport shopping, and Cairo day trips**.\n",
      "\n",
      "For a Dubai itinerary, I would typically include details on attractions like the **Burj Khalifa, Dubai Mall, Palm Jumeirah, Desert Safari, Dubai Marina, and cultural sites like Al Fahidi Historical District**. However, since the **CONTEXT** does not contain any relevant facts about Dubai, I cannot generate an answer.\n",
      "\n",
      "Would you like me to assist with a general Dubai itinerary based on standard travel recommendations? Let me know!\n"
     ]
    }
   ],
   "source": [
    "answer = rag(\"Plan three-day itinerary for Dubai\")\n",
    "print(\"\\n Answer:\", answer)"
   ]
  },
  {
   "cell_type": "code",
   "execution_count": null,
   "id": "8d019a15-13a1-489a-91d1-6b299efec549",
   "metadata": {},
   "outputs": [],
   "source": []
  }
 ],
 "metadata": {
  "kernelspec": {
   "display_name": "Python 3 (ipykernel)",
   "language": "python",
   "name": "python3"
  },
  "language_info": {
   "codemirror_mode": {
    "name": "ipython",
    "version": 3
   },
   "file_extension": ".py",
   "mimetype": "text/x-python",
   "name": "python",
   "nbconvert_exporter": "python",
   "pygments_lexer": "ipython3",
   "version": "3.12.2"
  }
 },
 "nbformat": 4,
 "nbformat_minor": 5
}
