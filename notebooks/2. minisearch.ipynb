{
 "cells": [
  {
   "cell_type": "code",
   "execution_count": 28,
   "id": "b449869e-a5f4-4e9c-86f4-4492fad84aa8",
   "metadata": {},
   "outputs": [],
   "source": [
    "import os\n",
    "os.environ[\"SSL_CERT_FILE\"] = \"/mnt/d/Travel Assistant/Musafir/Fortinet_CA_SSL(15).cer\"\n",
    "os.environ[\"REQUESTS_CA_BUNDLE\"] = \"/mnt/d/Travel Assistant/Musafir/Fortinet_CA_SSL(15).cer\""
   ]
  },
  {
   "cell_type": "code",
   "execution_count": 1,
   "id": "577b72c7-ba1b-4a0f-ad62-18ce2cdad615",
   "metadata": {},
   "outputs": [],
   "source": [
    "import pandas as pd"
   ]
  },
  {
   "cell_type": "code",
   "execution_count": 3,
   "id": "cdabe484-0163-4489-8338-919b7a9b5e5b",
   "metadata": {},
   "outputs": [],
   "source": [
    "df = pd.read_csv(\"../data/processed_data/all_cities_combined_clean.csv\")"
   ]
  },
  {
   "cell_type": "code",
   "execution_count": 5,
   "id": "730ac6f5-412a-44d9-a98b-46e503cfc399",
   "metadata": {},
   "outputs": [
    {
     "data": {
      "text/html": [
       "<div>\n",
       "<style scoped>\n",
       "    .dataframe tbody tr th:only-of-type {\n",
       "        vertical-align: middle;\n",
       "    }\n",
       "\n",
       "    .dataframe tbody tr th {\n",
       "        vertical-align: top;\n",
       "    }\n",
       "\n",
       "    .dataframe thead th {\n",
       "        text-align: right;\n",
       "    }\n",
       "</style>\n",
       "<table border=\"1\" class=\"dataframe\">\n",
       "  <thead>\n",
       "    <tr style=\"text-align: right;\">\n",
       "      <th></th>\n",
       "      <th>id</th>\n",
       "      <th>city</th>\n",
       "      <th>section</th>\n",
       "      <th>subsection</th>\n",
       "      <th>text</th>\n",
       "    </tr>\n",
       "  </thead>\n",
       "  <tbody>\n",
       "    <tr>\n",
       "      <th>0</th>\n",
       "      <td>0</td>\n",
       "      <td>Cairo</td>\n",
       "      <td>See</td>\n",
       "      <td>Further afield</td>\n",
       "      <td>29.8 31.233333 1 Dahshur Pyramids . For a cont...</td>\n",
       "    </tr>\n",
       "    <tr>\n",
       "      <th>1</th>\n",
       "      <td>1</td>\n",
       "      <td>Cairo</td>\n",
       "      <td>See</td>\n",
       "      <td>NaN</td>\n",
       "      <td>29.8 31.233333 5 Dahshur Pyramids . For a cont...</td>\n",
       "    </tr>\n",
       "    <tr>\n",
       "      <th>2</th>\n",
       "      <td>2</td>\n",
       "      <td>Cairo</td>\n",
       "      <td>See</td>\n",
       "      <td>NaN</td>\n",
       "      <td>30.0405 31.2646 2 Al-Azhar Park . A landscaped...</td>\n",
       "    </tr>\n",
       "    <tr>\n",
       "      <th>3</th>\n",
       "      <td>3</td>\n",
       "      <td>Cairo</td>\n",
       "      <td>See</td>\n",
       "      <td>NaN</td>\n",
       "      <td>30.0417 31.2483 4 Abdeen Palace . About 1 km e...</td>\n",
       "    </tr>\n",
       "    <tr>\n",
       "      <th>4</th>\n",
       "      <td>4</td>\n",
       "      <td>Cairo</td>\n",
       "      <td>See</td>\n",
       "      <td>NaN</td>\n",
       "      <td>30.0475 31.262222 3 Khan El Khalily . Cairo's ...</td>\n",
       "    </tr>\n",
       "    <tr>\n",
       "      <th>...</th>\n",
       "      <td>...</td>\n",
       "      <td>...</td>\n",
       "      <td>...</td>\n",
       "      <td>...</td>\n",
       "      <td>...</td>\n",
       "    </tr>\n",
       "    <tr>\n",
       "      <th>539</th>\n",
       "      <td>539</td>\n",
       "      <td>Seoul</td>\n",
       "      <td>Districts</td>\n",
       "      <td>NaN</td>\n",
       "      <td>West ( Gangseo-gu, Yangcheon-gu ) Western area...</td>\n",
       "    </tr>\n",
       "    <tr>\n",
       "      <th>540</th>\n",
       "      <td>540</td>\n",
       "      <td>Seoul</td>\n",
       "      <td>See</td>\n",
       "      <td>NaN</td>\n",
       "      <td>While Seoul today is mostly known as a super-m...</td>\n",
       "    </tr>\n",
       "    <tr>\n",
       "      <th>541</th>\n",
       "      <td>541</td>\n",
       "      <td>Seoul</td>\n",
       "      <td>Districts</td>\n",
       "      <td>NaN</td>\n",
       "      <td>Yeongdeungpo &amp; Guro (영등포 / 구로) ( Yeongdeungpo-...</td>\n",
       "    </tr>\n",
       "    <tr>\n",
       "      <th>542</th>\n",
       "      <td>542</td>\n",
       "      <td>Seoul</td>\n",
       "      <td>Districts</td>\n",
       "      <td>NaN</td>\n",
       "      <td>Yongsan (용산) ( Yongsan-gu ) Yongsan is home to...</td>\n",
       "    </tr>\n",
       "    <tr>\n",
       "      <th>543</th>\n",
       "      <td>543</td>\n",
       "      <td>Seoul</td>\n",
       "      <td>Eat</td>\n",
       "      <td>NaN</td>\n",
       "      <td>₩15,000–35,000</td>\n",
       "    </tr>\n",
       "  </tbody>\n",
       "</table>\n",
       "<p>544 rows × 5 columns</p>\n",
       "</div>"
      ],
      "text/plain": [
       "      id   city    section      subsection  \\\n",
       "0      0  Cairo        See  Further afield   \n",
       "1      1  Cairo        See             NaN   \n",
       "2      2  Cairo        See             NaN   \n",
       "3      3  Cairo        See             NaN   \n",
       "4      4  Cairo        See             NaN   \n",
       "..   ...    ...        ...             ...   \n",
       "539  539  Seoul  Districts             NaN   \n",
       "540  540  Seoul        See             NaN   \n",
       "541  541  Seoul  Districts             NaN   \n",
       "542  542  Seoul  Districts             NaN   \n",
       "543  543  Seoul        Eat             NaN   \n",
       "\n",
       "                                                  text  \n",
       "0    29.8 31.233333 1 Dahshur Pyramids . For a cont...  \n",
       "1    29.8 31.233333 5 Dahshur Pyramids . For a cont...  \n",
       "2    30.0405 31.2646 2 Al-Azhar Park . A landscaped...  \n",
       "3    30.0417 31.2483 4 Abdeen Palace . About 1 km e...  \n",
       "4    30.0475 31.262222 3 Khan El Khalily . Cairo's ...  \n",
       "..                                                 ...  \n",
       "539  West ( Gangseo-gu, Yangcheon-gu ) Western area...  \n",
       "540  While Seoul today is mostly known as a super-m...  \n",
       "541  Yeongdeungpo & Guro (영등포 / 구로) ( Yeongdeungpo-...  \n",
       "542  Yongsan (용산) ( Yongsan-gu ) Yongsan is home to...  \n",
       "543                                     ₩15,000–35,000  \n",
       "\n",
       "[544 rows x 5 columns]"
      ]
     },
     "execution_count": 5,
     "metadata": {},
     "output_type": "execute_result"
    }
   ],
   "source": [
    "df"
   ]
  },
  {
   "cell_type": "code",
   "execution_count": 6,
   "id": "aa5d416c-3f2a-4aa4-b44d-72896c792dd0",
   "metadata": {},
   "outputs": [
    {
     "name": "stdout",
     "output_type": "stream",
     "text": [
      "--2025-09-23 11:07:28--  https://raw.githubusercontent.com/alexeygrigorev/minsearch/main/minsearch.py\n",
      "Resolving raw.githubusercontent.com (raw.githubusercontent.com)... 185.199.110.133, 185.199.111.133, 185.199.108.133, ...\n",
      "Connecting to raw.githubusercontent.com (raw.githubusercontent.com)|185.199.110.133|:443... connected.\n",
      "HTTP request sent, awaiting response... 200 OK\n",
      "Length: 4273 (4.2K) [text/plain]\n",
      "Saving to: ‘minsearch.py’\n",
      "\n",
      "minsearch.py        100%[===================>]   4.17K  --.-KB/s    in 0.002s  \n",
      "\n",
      "2025-09-23 11:07:29 (2.65 MB/s) - ‘minsearch.py’ saved [4273/4273]\n",
      "\n"
     ]
    }
   ],
   "source": [
    "!wget https://raw.githubusercontent.com/alexeygrigorev/minsearch/main/minsearch.py --no-check-certificate"
   ]
  },
  {
   "cell_type": "code",
   "execution_count": 8,
   "id": "de261d38-7aca-4e31-9570-7f1981fa9914",
   "metadata": {},
   "outputs": [
    {
     "name": "stderr",
     "output_type": "stream",
     "text": [
      "/mnt/d/Travel Assistant/Musafir/notebooks/minsearch.py:10: UserWarning: Now minsearch is installable via pip: 'pip install minsearch'. Remove the downloaded file and re-install it with pip.\n",
      "  warnings.warn(\n"
     ]
    }
   ],
   "source": [
    "import minsearch"
   ]
  },
  {
   "cell_type": "code",
   "execution_count": 9,
   "id": "81bc5d00-d3f8-4d7e-8929-22b057d224ca",
   "metadata": {},
   "outputs": [
    {
     "data": {
      "text/plain": [
       "Index(['id', 'city', 'section', 'subsection', 'text'], dtype='object')"
      ]
     },
     "execution_count": 9,
     "metadata": {},
     "output_type": "execute_result"
    }
   ],
   "source": [
    "df.columns"
   ]
  },
  {
   "cell_type": "code",
   "execution_count": 10,
   "id": "fc1d920f-2a48-4624-ab30-4f229b6b48e8",
   "metadata": {},
   "outputs": [],
   "source": [
    "documents = df.to_dict(orient='records')"
   ]
  },
  {
   "cell_type": "code",
   "execution_count": 11,
   "id": "2e553c67-8eed-4fcc-8d89-ddb9b162b047",
   "metadata": {},
   "outputs": [
    {
     "data": {
      "text/plain": [
       "{'id': 15,\n",
       " 'city': 'Cairo',\n",
       " 'section': 'Eat',\n",
       " 'subsection': 'Self-catering',\n",
       " 'text': 'By far the cheapest and most satisfying option, buying from souks and outdoor markets makes for a crash course in Arabic and haggling, not to mention that the produce is often superb! Bread can be found on nearly every corner and comes in two types - whole wheat aysh baladi and white flour aysh shami . Both are baked fresh daily and delivered by thousands of kids on bicycles to every corner of the city. Every neighborhood has a few streets dedicated to produce and other goods. Always wash fruit thoroughly before eating. Eating a fresh Roma tomato in the heat of Summer straight from a market seller after being washed is a delight, hard to match. The fruits and vegetables in Egypt may not conform to EU or US standards of size, but their taste is far superior.'}"
      ]
     },
     "execution_count": 11,
     "metadata": {},
     "output_type": "execute_result"
    }
   ],
   "source": [
    "documents[15]"
   ]
  },
  {
   "cell_type": "code",
   "execution_count": 18,
   "id": "dc646e1b-31a9-4658-b8e8-622be2561088",
   "metadata": {},
   "outputs": [],
   "source": [
    "index = minsearch.Index(\n",
    "    text_fields=['city', 'section', 'text'],\n",
    "    keyword_fields=['id']\n",
    ")"
   ]
  },
  {
   "cell_type": "code",
   "execution_count": 19,
   "id": "a419b317-f90c-4a19-9e95-c7a3a1cbef13",
   "metadata": {},
   "outputs": [
    {
     "data": {
      "text/plain": [
       "<minsearch.Index at 0x7f5ff0de5940>"
      ]
     },
     "execution_count": 19,
     "metadata": {},
     "output_type": "execute_result"
    }
   ],
   "source": [
    "index.fit(documents)"
   ]
  },
  {
   "cell_type": "code",
   "execution_count": 20,
   "id": "0446fcb5-dd6b-40e2-9778-00643721979d",
   "metadata": {},
   "outputs": [],
   "source": [
    "query = \"give me a three-day trip to London\""
   ]
  },
  {
   "cell_type": "code",
   "execution_count": 21,
   "id": "39feafe2-964e-431c-995f-ae2611d151fb",
   "metadata": {},
   "outputs": [
    {
     "data": {
      "text/plain": [
       "[{'id': 317,\n",
       "  'city': 'London',\n",
       "  'section': 'See',\n",
       "  'subsection': 'London Pass',\n",
       "  'text': 'Whereas some London museums offer free entry, some other top London attractions are ridiculously expensive. For example, entry to Westminster Abbey costs £20 per person (adult), and entry to the Tower is £21.50 per adult if bought online (2017). These prices can be sometimes mitigated by a purchase of London Pass, which needs to be done at the London Pass website . The pass comes in several varieties and gives access to over 60 attractions, including both Westminster Abbey and the Tower. For example, a day pass costs £62 for an adult (2017). The best strategy, if one wants to visit several expensive high-profile attractions, is to buy a day pass and to try visiting all of them in the same day. This requires some advanced planning and will not give you much time at each place you visit - for example, it can take an hour on public transport to travel between the Tower of London and London Zoo.'},\n",
       " {'id': 324,\n",
       "  'city': 'London',\n",
       "  'section': 'Eat',\n",
       "  'subsection': nan,\n",
       "  'text': '£15 - some more expensive French, Mediterranean and international restaurants do cheaper two or three course lunch menus.'},\n",
       " {'id': 196,\n",
       "  'city': 'London',\n",
       "  'section': 'Stay safe',\n",
       "  'subsection': 'Scams and cons',\n",
       "  'text': 'London has a large number of con artists around, all trying to convince you to hand over your money one way or another. In general, you should never give cash or your bank/credit card detail to people on the street no matter how genuine they seem.'},\n",
       " {'id': 298,\n",
       "  'city': 'London',\n",
       "  'section': 'See',\n",
       "  'subsection': nan,\n",
       "  'text': 'Transport for London Itineraries Feeling overwhelmed? Not sure how to begin planning your trip? Transport for London have produced their own useful list of itineraries for tourists . They include famous landmarks and iconic transport icons on their various public transport networks, among others.'},\n",
       " {'id': 271,\n",
       "  'city': 'London',\n",
       "  'section': 'Drink',\n",
       "  'subsection': 'Pubs and bars',\n",
       "  'text': 'The \"Bermondsey Beer mile\" is home to many craft breweries which are open in the middle of the day most Saturdays. Situated under the railway arches on lines going to London Bridge, these quaint breweries are home to high quality beer at cheap to average London prices (~£2 per half). Best places include Kernel Brewery and Brew by Numbers.'},\n",
       " {'id': 223,\n",
       "  'city': 'London',\n",
       "  'section': 'Buy',\n",
       "  'subsection': 'Tax-free',\n",
       "  'text': 'Nevertheless, a different matter is tax reclaim . Many big department stores in central London have an information booth where they can give you the paperwork needed to reclaim tax on purchases made at the store when you get to the airport.'},\n",
       " {'id': 143,\n",
       "  'city': 'London',\n",
       "  'section': 'See',\n",
       "  'subsection': nan,\n",
       "  'text': 'Feeling overwhelmed? Not sure how to begin planning your trip? Transport for London have produced their own useful list of itineraries for tourists . They include famous landmarks and iconic transport icons on their various public transport networks, among others.'},\n",
       " {'id': 171,\n",
       "  'city': 'London',\n",
       "  'section': 'Stay safe',\n",
       "  'subsection': nan,\n",
       "  'text': 'In an emergency, telephone 999 or 112 . This number connects to police, ambulance and fire & rescue services. You will be asked which of these three services you require before being connected to the relevant operator.'},\n",
       " {'id': 153,\n",
       "  'city': 'London',\n",
       "  'section': 'Districts',\n",
       "  'subsection': nan,\n",
       "  'text': \"Greater London is most of the area surrounded by the M25 orbital motorway, and consists of 32 London Boroughs and the City of London that, together with the office of the Mayor of London, form the basis for London's local government. The Mayor of London is elected by London residents and should not be confused with the Lord Mayor of the City of London. The names of several boroughs, such as Westminster and Camden , are well-known, others less so, such as Wandsworth and Lewisham . This traveller's guide to London recognises cultural, functional and social districts of varying type and size:\"},\n",
       " {'id': 198,\n",
       "  'city': 'London',\n",
       "  'section': 'Sleep',\n",
       "  'subsection': nan,\n",
       "  'text': 'London has hundreds of options for accommodation to suit all budgets from hostels through historic bed and breakfasts (B&Bs), mainstream chain hotels and apartments all the way to some of the most exclusive luxury hotels in the world such as The Savoy, The Ritz and Claridges where a stay in a top suite will cost upwards of £1,000 per night. The average cost of hotel accommodation in London is higher than in any other major British city. Prices invariably become inflated close to major sporting tournaments (such as the London Marathon, Wimbledon or major England football/rugby fixtures), or other important events taking place in the city - so it pays to plan your trip around such occasions or book your accommodation well in advance.'}]"
      ]
     },
     "execution_count": 21,
     "metadata": {},
     "output_type": "execute_result"
    }
   ],
   "source": [
    "index.search(query, num_results=10)"
   ]
  },
  {
   "cell_type": "code",
   "execution_count": 23,
   "id": "da695d03-aed1-4408-aa5a-7c8a150d86bc",
   "metadata": {},
   "outputs": [],
   "source": [
    "from mistralai import Mistral\n",
    "from mistralai.models import UserMessage\n",
    "import os\n",
    "from dotenv import load_dotenv"
   ]
  },
  {
   "cell_type": "code",
   "execution_count": 24,
   "id": "751388db-a47f-487d-8835-97199244aa71",
   "metadata": {},
   "outputs": [
    {
     "data": {
      "text/plain": [
       "True"
      ]
     },
     "execution_count": 24,
     "metadata": {},
     "output_type": "execute_result"
    }
   ],
   "source": [
    "# loads variables from .env\n",
    "load_dotenv()  "
   ]
  },
  {
   "cell_type": "code",
   "execution_count": 25,
   "id": "8ec54367-728e-492e-b4d1-fb9b165b2e2d",
   "metadata": {},
   "outputs": [],
   "source": [
    "api_key = os.getenv(\"API_KEY\")"
   ]
  },
  {
   "cell_type": "code",
   "execution_count": 29,
   "id": "da3a8a93-71be-4998-b6e2-866e1f92c0ae",
   "metadata": {},
   "outputs": [
    {
     "name": "stdout",
     "output_type": "stream",
     "text": [
      "**Three-Day Trip to London**\n",
      "\n",
      "**Day 1: Iconic Landmarks and History**\n",
      "\n",
      "**Morning:**\n",
      "- Start your day at **Buckingham Palace** to witness the Changing of the Guard ceremony (check the schedule in advance).\n",
      "- Walk to **Westminster Abbey** and explore the historic church where many British monarchs are buried.\n",
      "\n",
      "**Afternoon:**\n",
      "- Head to the **Houses of Parliament** and **Big Ben** (currently under renovation, but still worth a visit).\n",
      "- Cross the **Westminster Bridge** to reach the **London Eye** for a panoramic view of the city.\n",
      "\n",
      "**Evening:**\n",
      "- Enjoy dinner at a traditional British pub, such as **The Lamb & Flag** in Covent Garden.\n",
      "- Take a leisurely stroll through **Covent Garden** and enjoy the street performers.\n",
      "\n",
      "**Day 2: Museums and Culture**\n",
      "\n",
      "**Morning:**\n",
      "- Visit the **British Museum** to explore its vast collection of artifacts from around the world.\n",
      "- Walk to **Trafalgar Square** and see Nelson's Column and the National Gallery.\n",
      "\n",
      "**Afternoon:**\n",
      "- Head to **The Victoria and Albert Museum** to admire its extensive collection of art and design.\n",
      "- Take a break at **Hyde Park** and visit the **Serpentine Lake** and **Diana Memorial Fountain**.\n",
      "\n",
      "**Evening:**\n",
      "- Dine at a restaurant in **Soho**, known for its diverse food scene.\n",
      "- Catch a West End show or a comedy club performance.\n",
      "\n",
      "**Day 3: Royal London and Shopping**\n",
      "\n",
      "**Morning:**\n",
      "- Visit **Kensington Palace** and explore the beautiful gardens.\n",
      "- Walk to **Harrods** for some retail therapy or just to admire the iconic store.\n",
      "\n",
      "**Afternoon:**\n",
      "- Head to **Covent Garden** for lunch and shopping.\n",
      "- Visit **St. Paul's Cathedral** and take a tour of the historic church.\n",
      "\n",
      "**Evening:**\n",
      "- Enjoy a farewell dinner at a restaurant in **Camden Town**, known for its vibrant atmosphere and diverse food options.\n",
      "- Take a nighttime cruise on the **Thames River** to see London's illuminated landmarks.\n",
      "\n",
      "**Transportation Tip:** Consider getting an Oyster Card or using contactless payment for easy and affordable travel on London's public transportation system.\n",
      "\n",
      "**Accommodation Tip:** Stay in central London for easy access to attractions and transportation. Consider areas like Westminster, Covent Garden, or Soho.\n"
     ]
    }
   ],
   "source": [
    "client = Mistral(api_key = api_key)\n",
    "response = client.chat.complete(\n",
    "    model= \"ministral-8b-latest\",\n",
    "    messages=[UserMessage(content=query)],\n",
    ")\n",
    "\n",
    "print(response.choices[0].message.content)"
   ]
  },
  {
   "cell_type": "code",
   "execution_count": 30,
   "id": "9b25b123-4f8a-4cfd-9ad2-6b2bc55cc8f9",
   "metadata": {},
   "outputs": [],
   "source": [
    "def search(query):\n",
    "    boost = {}\n",
    "\n",
    "    results = index.search(\n",
    "        query=query,\n",
    "        filter_dict={},\n",
    "        boost_dict=boost,\n",
    "        num_results=10\n",
    "    )\n",
    "\n",
    "    return results"
   ]
  },
  {
   "cell_type": "code",
   "execution_count": 34,
   "id": "b4043a82-9875-485f-a07a-90e8a0e50653",
   "metadata": {},
   "outputs": [],
   "source": [
    "prompt_template = \"\"\"\n",
    "You're a travel assistant. Answer the QUESTION based on the CONTEXT from our travel database.\n",
    "Use only the facts from the CONTEXT when answering the QUESTION.\n",
    "QUESTION: {question}\n",
    "CONTEXT:\n",
    "{context}\n",
    "\"\"\".strip()\n",
    "\n",
    "entry_template = \"\"\"\n",
    " City: 'city',\n",
    " Section: 'section',\n",
    " Subsection: 'subsection',\n",
    " Text:'text'\n",
    "\"\"\".strip()\n",
    "\n",
    "def build_prompt(query, search_results):\n",
    "    context = \"\"\n",
    "    \n",
    "    for doc in search_results:\n",
    "        context = context + entry_template.format(**doc) + \"\\n\\n\"\n",
    "\n",
    "    prompt = prompt_template.format(question=query, context=context).strip()\n",
    "    return prompt"
   ]
  },
  {
   "cell_type": "code",
   "execution_count": 35,
   "id": "0c9267f4-74bf-4f1c-9b04-2bb9d6bcaef0",
   "metadata": {},
   "outputs": [],
   "source": [
    "search_results = search(query)\n",
    "prompt = build_prompt(query, search_results)"
   ]
  },
  {
   "cell_type": "code",
   "execution_count": 36,
   "id": "3457750b-0936-4b43-8064-78fed5094454",
   "metadata": {},
   "outputs": [
    {
     "name": "stdout",
     "output_type": "stream",
     "text": [
      "You're a travel assistant. Answer the QUESTION based on the CONTEXT from our travel database.\n",
      "Use only the facts from the CONTEXT when answering the QUESTION.\n",
      "QUESTION: give me a three-day trip to London\n",
      "CONTEXT:\n",
      "City: 'city',\n",
      " Section: 'section',\n",
      " Subsection: 'subsection',\n",
      " Text:'text'\n",
      "\n",
      "City: 'city',\n",
      " Section: 'section',\n",
      " Subsection: 'subsection',\n",
      " Text:'text'\n",
      "\n",
      "City: 'city',\n",
      " Section: 'section',\n",
      " Subsection: 'subsection',\n",
      " Text:'text'\n",
      "\n",
      "City: 'city',\n",
      " Section: 'section',\n",
      " Subsection: 'subsection',\n",
      " Text:'text'\n",
      "\n",
      "City: 'city',\n",
      " Section: 'section',\n",
      " Subsection: 'subsection',\n",
      " Text:'text'\n",
      "\n",
      "City: 'city',\n",
      " Section: 'section',\n",
      " Subsection: 'subsection',\n",
      " Text:'text'\n",
      "\n",
      "City: 'city',\n",
      " Section: 'section',\n",
      " Subsection: 'subsection',\n",
      " Text:'text'\n",
      "\n",
      "City: 'city',\n",
      " Section: 'section',\n",
      " Subsection: 'subsection',\n",
      " Text:'text'\n",
      "\n",
      "City: 'city',\n",
      " Section: 'section',\n",
      " Subsection: 'subsection',\n",
      " Text:'text'\n",
      "\n",
      "City: 'city',\n",
      " Section: 'section',\n",
      " Subsection: 'subsection',\n",
      " Text:'text'\n"
     ]
    }
   ],
   "source": [
    "print(prompt)"
   ]
  },
  {
   "cell_type": "code",
   "execution_count": 37,
   "id": "4fb48339-0475-4802-9fd1-5eef9a34867a",
   "metadata": {},
   "outputs": [],
   "source": [
    "def llm(prompt, model='ministral-8b-latest'):\n",
    "    client = Mistral(api_key = api_key)\n",
    "    response = client.chat.complete(\n",
    "        model= model,\n",
    "        messages=[UserMessage(content=prompt)],\n",
    "    )    \n",
    "    return response.choices[0].message.content"
   ]
  },
  {
   "cell_type": "code",
   "execution_count": 38,
   "id": "8421d14a-5061-494f-b2cf-4b9d7d4a28dc",
   "metadata": {},
   "outputs": [],
   "source": [
    "def rag(query):\n",
    "    search_results = search(query)\n",
    "    prompt = build_prompt(query, search_results)\n",
    "    answer = llm(prompt)\n",
    "    return answer"
   ]
  },
  {
   "cell_type": "code",
   "execution_count": 39,
   "id": "abec722c-54f6-4e9d-b827-bee118572ace",
   "metadata": {},
   "outputs": [
    {
     "name": "stdout",
     "output_type": "stream",
     "text": [
      "Based on the provided context, here's a suggested three-day trip to London:\n",
      "\n",
      "**Day 1: Explore Central London**\n",
      "- Morning: Visit the British Museum to see the Rosetta Stone and other ancient artifacts.\n",
      "- Afternoon: Walk along the River Thames and visit the Houses of Parliament and Big Ben.\n",
      "- Evening: Explore Covent Garden and enjoy a West End show.\n",
      "\n",
      "**Day 2: Historic Sites and Museums**\n",
      "- Morning: Visit the Tower of London and see the Crown Jewels.\n",
      "- Afternoon: Head to the Victoria and Albert Museum to explore art and design.\n",
      "- Evening: Take a stroll through Hyde Park and visit the Serpentine Lake.\n",
      "\n",
      "**Day 3: Cultural London**\n",
      "- Morning: Visit the National Gallery to see works by famous artists like Van Gogh and Monet.\n",
      "- Afternoon: Explore Camden Market for unique shopping and street food.\n",
      "- Evening: Take a cruise on the River Thames to see London's landmarks from the water.\n"
     ]
    }
   ],
   "source": [
    "answer = rag(query)\n",
    "print(answer)"
   ]
  },
  {
   "cell_type": "code",
   "execution_count": 40,
   "id": "a2714a40-a683-462d-b2a6-c3ef1e317e69",
   "metadata": {},
   "outputs": [
    {
     "name": "stdout",
     "output_type": "stream",
     "text": [
      "Based on the provided context, here are some tips for visiting Cairo:\n",
      "\n",
      "1. **Best Time to Visit**: The best time to visit Cairo is during the fall (September to November) or spring (March to May) when the weather is pleasant and temperatures are mild.\n",
      "\n",
      "2. **Dress Code**: Dress modestly, especially when visiting religious sites. Women should cover their shoulders and knees, and both men and women should avoid wearing shorts or sleeveless tops.\n",
      "\n",
      "3. **Safety**: Cairo is generally safe, but pickpocketing can occur in crowded areas. Keep your belongings secure and be cautious in tourist areas.\n",
      "\n",
      "4. **Transportation**: Taxis are widely available and relatively inexpensive. However, it's recommended to use licensed taxis or ride-hailing services like Uber or Careem for safety and convenience.\n",
      "\n",
      "5. **Must-See Attractions**:\n",
      "   - The Great Pyramids of Giza\n",
      "   - The Egyptian Museum\n",
      "   - The Citadel of Saladin\n",
      "   - Khan el-Khalili Bazaar\n",
      "   - The Hanging Church (Church of St. Sergius)\n",
      "\n",
      "6. **Food**: Try local Egyptian dishes like koshary, ful medames, and shawarma. Street food is popular and delicious, but be cautious with hygiene.\n",
      "\n",
      "7. **Language**: Arabic is the official language, but English is widely spoken, especially in tourist areas.\n",
      "\n",
      "8. **Currency**: The Egyptian Pound (EGP) is the official currency. Credit cards are accepted in many places, but it's a good idea to have some cash on hand.\n",
      "\n",
      "9. **Health**: Stay hydrated, especially during the hotter months. Drink bottled water and avoid ice in drinks. Also, be cautious with street food and ensure it's cooked thoroughly.\n",
      "\n",
      "10. **Respect Local Culture**: Be respectful of local customs and traditions. Greetings are important, and it's considered rude to show the soles of your feet.\n"
     ]
    }
   ],
   "source": [
    "# Ask another question \n",
    "answer = rag('I want some tips before visting cairo')\n",
    "print(answer)"
   ]
  },
  {
   "cell_type": "code",
   "execution_count": null,
   "id": "359c300b-76f0-4573-acce-79a4a19395a7",
   "metadata": {},
   "outputs": [],
   "source": []
  },
  {
   "cell_type": "code",
   "execution_count": null,
   "id": "99c85485-87c2-4e21-b35d-8f4f9ed9e901",
   "metadata": {},
   "outputs": [],
   "source": []
  },
  {
   "cell_type": "code",
   "execution_count": null,
   "id": "414e7880-b5a1-4387-8177-239cb55fd628",
   "metadata": {},
   "outputs": [],
   "source": []
  }
 ],
 "metadata": {
  "kernelspec": {
   "display_name": "Python 3 (ipykernel)",
   "language": "python",
   "name": "python3"
  },
  "language_info": {
   "codemirror_mode": {
    "name": "ipython",
    "version": 3
   },
   "file_extension": ".py",
   "mimetype": "text/x-python",
   "name": "python",
   "nbconvert_exporter": "python",
   "pygments_lexer": "ipython3",
   "version": "3.12.2"
  }
 },
 "nbformat": 4,
 "nbformat_minor": 5
}
