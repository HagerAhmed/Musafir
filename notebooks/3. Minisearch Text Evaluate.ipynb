{
 "cells": [
  {
   "cell_type": "code",
   "execution_count": null,
   "id": "49810fc5-2852-462c-ad5e-74adc8e0a9af",
   "metadata": {},
   "outputs": [],
   "source": [
    "# import os\n",
    "# os.environ[\"SSL_CERT_FILE\"] = \"/mnt/d/Travel Assistant/Musafir/Fortinet_CA_SSL(15).cer\"\n",
    "# os.environ[\"REQUESTS_CA_BUNDLE\"] = \"/mnt/d/Travel Assistant/Musafir/Fortinet_CA_SSL(15).cer\""
   ]
  },
  {
   "cell_type": "code",
   "execution_count": null,
   "id": "d692bb0e-316c-4037-82a1-c6466db600cb",
   "metadata": {},
   "outputs": [
    {
     "name": "stderr",
     "output_type": "stream",
     "text": [
      "/mnt/d/Travel Assistant/Musafir/venv/lib/python3.12/site-packages/tqdm/auto.py:21: TqdmWarning: IProgress not found. Please update jupyter and ipywidgets. See https://ipywidgets.readthedocs.io/en/stable/user_install.html\n",
      "  from .autonotebook import tqdm as notebook_tqdm\n"
     ]
    }
   ],
   "source": [
    "import json\n",
    "import pandas as pd\n",
    "from tqdm.auto import tqdm\n",
    "import os"
   ]
  },
  {
   "cell_type": "code",
   "execution_count": 3,
   "id": "a0d389a4-97fc-4040-95cc-9b6cbd307dfc",
   "metadata": {},
   "outputs": [],
   "source": [
    "with open('../data/processed_data/documents-with-ids.json', 'rt') as f_in:\n",
    "    documents = json.load(f_in)\n"
   ]
  },
  {
   "cell_type": "code",
   "execution_count": 4,
   "id": "5a0a6e74-4fba-40b6-ad15-c009c95cb09c",
   "metadata": {},
   "outputs": [
    {
     "data": {
      "text/plain": [
       "{'city': 'Seoul',\n",
       " 'section': 'See',\n",
       " 'subsection': 'Parks and mountains',\n",
       " 'text': \"Hangang Citizen's Park . Alongside the Han River through 13 districts: Gwangnaru, Jamsil, Gangdong, Ttukseom, Jamwon, Banpo, Ichon, Yeouido, Yanghwa, Mangwon, Seonyudo, Nanji, and Gangseojigu. You can see many people strolling or jogging along the trail paths, as well as in-line skaters, bicyclists, and soccer fields or basketball courts. Yeouido, Jamsil, and Ttukseom districts are especially popular because of the cruise services on the Han River.\",\n",
       " 'id': '9a39d77f'}"
      ]
     },
     "execution_count": 4,
     "metadata": {},
     "output_type": "execute_result"
    }
   ],
   "source": [
    "documents[500]"
   ]
  },
  {
   "cell_type": "code",
   "execution_count": 5,
   "id": "847dc9f5-ec08-49b2-92c6-2d33d40689e6",
   "metadata": {},
   "outputs": [
    {
     "name": "stdout",
     "output_type": "stream",
     "text": [
      "--2025-09-28 14:15:36--  https://raw.githubusercontent.com/alexeygrigorev/minsearch/main/minsearch.py\n",
      "Resolving raw.githubusercontent.com (raw.githubusercontent.com)... 185.199.110.133, 185.199.108.133, 185.199.111.133, ...\n",
      "Connecting to raw.githubusercontent.com (raw.githubusercontent.com)|185.199.110.133|:443... connected.\n",
      "HTTP request sent, awaiting response... 200 OK\n",
      "Length: 4350 (4.2K) [text/plain]\n",
      "Saving to: ‘minsearch.py.2’\n",
      "\n",
      "minsearch.py.2      100%[===================>]   4.25K  --.-KB/s    in 0.002s  \n",
      "\n",
      "2025-09-28 14:15:36 (2.47 MB/s) - ‘minsearch.py.2’ saved [4350/4350]\n",
      "\n"
     ]
    }
   ],
   "source": [
    "!wget https://raw.githubusercontent.com/alexeygrigorev/minsearch/main/minsearch.py"
   ]
  },
  {
   "cell_type": "code",
   "execution_count": 6,
   "id": "8fdc6f2f-0559-480b-8541-7da5e8da0812",
   "metadata": {},
   "outputs": [
    {
     "name": "stderr",
     "output_type": "stream",
     "text": [
      "/mnt/d/Travel Assistant/Musafir/notebooks/minsearch.py:10: UserWarning: Now minsearch is installable via pip: 'pip install minsearch'. Remove the downloaded file and re-install it with pip.\n",
      "  warnings.warn(\n"
     ]
    }
   ],
   "source": [
    "import minsearch"
   ]
  },
  {
   "cell_type": "code",
   "execution_count": 7,
   "id": "8253b577-304e-45fd-bf6f-55cfcdf2ae42",
   "metadata": {},
   "outputs": [],
   "source": [
    "df_gt = pd.read_csv('../data/result/groud-truth-retrieval.csv')"
   ]
  },
  {
   "cell_type": "code",
   "execution_count": 8,
   "id": "b613e636-3a1c-4a41-92fa-596bbe034290",
   "metadata": {},
   "outputs": [
    {
     "data": {
      "text/html": [
       "<div>\n",
       "<style scoped>\n",
       "    .dataframe tbody tr th:only-of-type {\n",
       "        vertical-align: middle;\n",
       "    }\n",
       "\n",
       "    .dataframe tbody tr th {\n",
       "        vertical-align: top;\n",
       "    }\n",
       "\n",
       "    .dataframe thead th {\n",
       "        text-align: right;\n",
       "    }\n",
       "</style>\n",
       "<table border=\"1\" class=\"dataframe\">\n",
       "  <thead>\n",
       "    <tr style=\"text-align: right;\">\n",
       "      <th></th>\n",
       "      <th>id</th>\n",
       "      <th>city</th>\n",
       "      <th>question</th>\n",
       "    </tr>\n",
       "  </thead>\n",
       "  <tbody>\n",
       "    <tr>\n",
       "      <th>0</th>\n",
       "      <td>f7845786</td>\n",
       "      <td>Cairo</td>\n",
       "      <td>What is the name of the oldest known pyramid i...</td>\n",
       "    </tr>\n",
       "    <tr>\n",
       "      <th>1</th>\n",
       "      <td>f7845786</td>\n",
       "      <td>Cairo</td>\n",
       "      <td>Which pyramid in Dahshur has an entrance to th...</td>\n",
       "    </tr>\n",
       "    <tr>\n",
       "      <th>2</th>\n",
       "      <td>f7845786</td>\n",
       "      <td>Cairo</td>\n",
       "      <td>What is the distinctive feature of the Bent Py...</td>\n",
       "    </tr>\n",
       "    <tr>\n",
       "      <th>3</th>\n",
       "      <td>f7845786</td>\n",
       "      <td>Cairo</td>\n",
       "      <td>How many pyramids are mentioned to be in the D...</td>\n",
       "    </tr>\n",
       "    <tr>\n",
       "      <th>4</th>\n",
       "      <td>f7845786</td>\n",
       "      <td>Cairo</td>\n",
       "      <td>What is the atmosphere around Dahshur Pyramids...</td>\n",
       "    </tr>\n",
       "  </tbody>\n",
       "</table>\n",
       "</div>"
      ],
      "text/plain": [
       "         id   city                                           question\n",
       "0  f7845786  Cairo  What is the name of the oldest known pyramid i...\n",
       "1  f7845786  Cairo  Which pyramid in Dahshur has an entrance to th...\n",
       "2  f7845786  Cairo  What is the distinctive feature of the Bent Py...\n",
       "3  f7845786  Cairo  How many pyramids are mentioned to be in the D...\n",
       "4  f7845786  Cairo  What is the atmosphere around Dahshur Pyramids..."
      ]
     },
     "execution_count": 8,
     "metadata": {},
     "output_type": "execute_result"
    }
   ],
   "source": [
    "df_gt.head()"
   ]
  },
  {
   "cell_type": "code",
   "execution_count": 9,
   "id": "409abfd1-b3af-445c-a2f6-ef6cd06078e5",
   "metadata": {},
   "outputs": [],
   "source": [
    "ground_truth = df_gt.to_dict(orient='records')\n"
   ]
  },
  {
   "cell_type": "code",
   "execution_count": 10,
   "id": "1eeeb736-d2db-4369-bb4c-b36dd3ef407e",
   "metadata": {},
   "outputs": [
    {
     "data": {
      "text/plain": [
       "[{'id': 'f7845786',\n",
       "  'city': 'Cairo',\n",
       "  'question': 'What is the name of the oldest known pyramid in Dahshur?'},\n",
       " {'id': 'f7845786',\n",
       "  'city': 'Cairo',\n",
       "  'question': 'Which pyramid in Dahshur has an entrance to the inside?'},\n",
       " {'id': 'f7845786',\n",
       "  'city': 'Cairo',\n",
       "  'question': 'What is the distinctive feature of the Bent Pyramid?'},\n",
       " {'id': 'f7845786',\n",
       "  'city': 'Cairo',\n",
       "  'question': 'How many pyramids are mentioned to be in the Dahshur area?'},\n",
       " {'id': 'f7845786',\n",
       "  'city': 'Cairo',\n",
       "  'question': 'What is the atmosphere around Dahshur Pyramids like compared to Giza?'}]"
      ]
     },
     "execution_count": 10,
     "metadata": {},
     "output_type": "execute_result"
    }
   ],
   "source": [
    "ground_truth[:5]"
   ]
  },
  {
   "cell_type": "code",
   "execution_count": 11,
   "id": "57032854-84da-457c-9a23-e5b674772b4d",
   "metadata": {},
   "outputs": [
    {
     "data": {
      "text/plain": [
       "<minsearch.Index at 0x701d32fae480>"
      ]
     },
     "execution_count": 11,
     "metadata": {},
     "output_type": "execute_result"
    }
   ],
   "source": [
    "index = minsearch.Index(\n",
    "    text_fields=['section', 'text'],\n",
    "    keyword_fields=['id', 'city']\n",
    ")\n",
    "\n",
    "index.fit(documents)"
   ]
  },
  {
   "cell_type": "code",
   "execution_count": 12,
   "id": "e90e2a12-c044-4397-95da-afee875d0a57",
   "metadata": {},
   "outputs": [],
   "source": [
    "# Recall\n",
    "def recall(relevance_total):\n",
    "    scores = []\n",
    "    for line in relevance_total:\n",
    "        total_relevant = sum(line)\n",
    "        if total_relevant == 0:\n",
    "            scores.append(0)\n",
    "        else:\n",
    "            retrieved_relevant = sum(line)\n",
    "            scores.append(retrieved_relevant / total_relevant)\n",
    "    return sum(scores) / len(scores)"
   ]
  },
  {
   "cell_type": "code",
   "execution_count": 13,
   "id": "7007f32b-1aec-4a08-8cf0-37574ad5122e",
   "metadata": {},
   "outputs": [],
   "source": [
    "#Hit Rate (HR) or Recall at k\n",
    "def hit_rate(relevance_total):\n",
    "    cnt = 0\n",
    "\n",
    "    for line in relevance_total:\n",
    "        if True in line:\n",
    "            cnt = cnt + 1\n",
    "\n",
    "    return cnt / len(relevance_total)"
   ]
  },
  {
   "cell_type": "code",
   "execution_count": 14,
   "id": "770d48df-7b71-415e-b771-04ad89ae53ad",
   "metadata": {},
   "outputs": [],
   "source": [
    "# Mean Reciprocal Rank (MRR)\n",
    "def mrr(relevance_total):\n",
    "    total_score = 0.0\n",
    "\n",
    "    for line in relevance_total:\n",
    "        for rank in range(len(line)):\n",
    "            if line[rank] == True:\n",
    "                total_score = total_score + 1 / (rank + 1)\n",
    "\n",
    "    return total_score / len(relevance_total)"
   ]
  },
  {
   "cell_type": "code",
   "execution_count": 15,
   "id": "b670be0a-737f-4a16-ba5b-9f6c724d761c",
   "metadata": {},
   "outputs": [],
   "source": [
    "def minsearch_search(query):\n",
    "    boost = {}\n",
    "\n",
    "    results = index.search(\n",
    "        query=query,\n",
    "        filter_dict={},\n",
    "        boost_dict=boost,\n",
    "        num_results=10\n",
    "    )\n",
    "\n",
    "    return results\n"
   ]
  },
  {
   "cell_type": "code",
   "execution_count": 16,
   "id": "429d5133-4e34-4826-a80e-bd031e0e3b41",
   "metadata": {},
   "outputs": [],
   "source": [
    "def evaluate(ground_truth, search_function):\n",
    "    relevance_total = []\n",
    "\n",
    "    for q in tqdm(ground_truth):\n",
    "        doc_id = q['id']\n",
    "        results = search_function(q)\n",
    "        relevance = [d['id'] == doc_id for d in results]\n",
    "        relevance_total.append(relevance)\n",
    "\n",
    "    return {\n",
    "        'Recall': recall(relevance_total),\n",
    "        'hit_rate': hit_rate(relevance_total),\n",
    "        'mrr': mrr(relevance_total),\n",
    "    }\n",
    "        "
   ]
  },
  {
   "cell_type": "code",
   "execution_count": 17,
   "id": "c9bf9281-3002-4d1c-a9b8-9b296c96902f",
   "metadata": {},
   "outputs": [
    {
     "name": "stderr",
     "output_type": "stream",
     "text": [
      "100%|█████████████████████████████████████████████████████████████████████████████████████████████████████████████████████████████████████████████████████████| 2715/2715 [00:09<00:00, 277.06it/s]\n"
     ]
    },
    {
     "data": {
      "text/plain": [
       "{'Recall': 0.8552486187845304,\n",
       " 'hit_rate': 0.8552486187845304,\n",
       " 'mrr': 0.7135870677307133}"
      ]
     },
     "execution_count": 17,
     "metadata": {},
     "output_type": "execute_result"
    }
   ],
   "source": [
    "evaluate(ground_truth, lambda q: minsearch_search(q['question']))"
   ]
  },
  {
   "cell_type": "code",
   "execution_count": 18,
   "id": "3c01987e-6aa3-49df-9302-bfe7eaa19d39",
   "metadata": {},
   "outputs": [],
   "source": [
    "def minsearch_search_filter(query, city):\n",
    "    boost = {'text': 3.0, 'section': 0.5}\n",
    "\n",
    "    results = index.search(\n",
    "        query=query,\n",
    "        filter_dict={'city': city},\n",
    "        boost_dict=boost,\n",
    "        num_results=5\n",
    "    )\n",
    "\n",
    "    return results\n",
    "    "
   ]
  },
  {
   "cell_type": "code",
   "execution_count": 19,
   "id": "bb993fc0-c345-43d9-a61a-62754df846c3",
   "metadata": {},
   "outputs": [
    {
     "name": "stderr",
     "output_type": "stream",
     "text": [
      "100%|█████████████████████████████████████████████████████████████████████████████████████████████████████████████████████████████████████████████████████████| 2715/2715 [00:10<00:00, 268.85it/s]\n"
     ]
    },
    {
     "data": {
      "text/plain": [
       "{'Recall': 0.8589318600368324,\n",
       " 'hit_rate': 0.8589318600368324,\n",
       " 'mrr': 0.7564702271332095}"
      ]
     },
     "execution_count": 19,
     "metadata": {},
     "output_type": "execute_result"
    }
   ],
   "source": [
    "evaluate(ground_truth, lambda q: minsearch_search_filter(q['question'], q['city']))"
   ]
  },
  {
   "cell_type": "markdown",
   "id": "1b243e1e-7343-4e82-bf9e-b911d8e275a6",
   "metadata": {},
   "source": [
    "### Baseline Minsearch\n",
    "{'Recall': 0.8552486187845304,\n",
    "\n",
    " 'hit_rate': 0.8552486187845304,\n",
    " \n",
    " 'mrr': 0.7135870677307133}"
   ]
  },
  {
   "cell_type": "markdown",
   "id": "dd3dd69a-dae5-42c5-8c0e-0a7199edb2db",
   "metadata": {},
   "source": [
    "## Finding the best paramters\n"
   ]
  },
  {
   "cell_type": "code",
   "execution_count": 20,
   "id": "69584bca-0bf3-4571-8f05-b84a3856fe1a",
   "metadata": {},
   "outputs": [],
   "source": [
    "df_validation = df_gt[:150]\n",
    "df_test = df_gt[150:]"
   ]
  },
  {
   "cell_type": "code",
   "execution_count": 21,
   "id": "e7c8b2ae-23c9-4cfa-b769-94f0ed5b37ce",
   "metadata": {},
   "outputs": [],
   "source": [
    "import random\n",
    "\n",
    "def simple_optimize(param_ranges, objective_function, n_iterations=10):\n",
    "    best_params = None\n",
    "    best_score = float('-inf')  # Assuming we're minimizing. Use float('-inf') if maximizing.\n",
    "\n",
    "    for _ in range(n_iterations):\n",
    "        # Generate random parameters\n",
    "        current_params = {}\n",
    "        for param, (min_val, max_val) in param_ranges.items():\n",
    "            if isinstance(min_val, int) and isinstance(max_val, int):\n",
    "                current_params[param] = random.randint(min_val, max_val)\n",
    "            else:\n",
    "                current_params[param] = random.uniform(min_val, max_val)\n",
    "        \n",
    "        # Evaluate the objective function\n",
    "        current_score = objective_function(current_params)\n",
    "        \n",
    "        # Update best if current is better\n",
    "        if current_score > best_score:  # Change to > if maximizing\n",
    "            best_score = current_score\n",
    "            best_params = current_params\n",
    "    \n",
    "    return best_params, best_score"
   ]
  },
  {
   "cell_type": "code",
   "execution_count": 22,
   "id": "0b21d207-5f1f-4b52-bcae-4cae8f34d6b6",
   "metadata": {},
   "outputs": [],
   "source": [
    "gt_val = df_validation.to_dict(orient='records')"
   ]
  },
  {
   "cell_type": "code",
   "execution_count": 23,
   "id": "e8bf2280-9a82-42f7-9434-9ee0b1ab0e7b",
   "metadata": {},
   "outputs": [],
   "source": [
    "param_ranges = {\n",
    " 'city': (0.0, 3.0),\n",
    " 'section': (0.0, 3.0),\n",
    " 'text': (0.0, 3.0),\n",
    "}"
   ]
  },
  {
   "cell_type": "code",
   "execution_count": 24,
   "id": "f9d51b0b-c6e5-42e4-92bf-74f5374abac4",
   "metadata": {},
   "outputs": [],
   "source": [
    "def minsearch_search_par(query, boost=None):\n",
    "    \n",
    "    if boost is None:\n",
    "        boost = {}\n",
    "\n",
    "    results = index.search(\n",
    "        query=query,\n",
    "        filter_dict={},\n",
    "        boost_dict=boost,\n",
    "        num_results=10\n",
    "    )\n",
    "\n",
    "    return results"
   ]
  },
  {
   "cell_type": "code",
   "execution_count": 25,
   "id": "1707a19f-7c44-40f9-9a72-77ef8999dd54",
   "metadata": {},
   "outputs": [],
   "source": [
    "def objective(boost_params):\n",
    "    def search_function(q):\n",
    "        return minsearch_search_par(q['question'], boost_params)\n",
    "\n",
    "    results = evaluate(gt_val, search_function)\n",
    "    return results['mrr']"
   ]
  },
  {
   "cell_type": "code",
   "execution_count": 26,
   "id": "70c69976-e964-482b-a281-22895f954c02",
   "metadata": {},
   "outputs": [
    {
     "name": "stderr",
     "output_type": "stream",
     "text": [
      "100%|███████████████████████████████████████████████████████████████████████████████████████████████████████████████████████████████████████████████████████████| 150/150 [00:00<00:00, 272.94it/s]\n",
      "100%|███████████████████████████████████████████████████████████████████████████████████████████████████████████████████████████████████████████████████████████| 150/150 [00:00<00:00, 268.15it/s]\n",
      "100%|███████████████████████████████████████████████████████████████████████████████████████████████████████████████████████████████████████████████████████████| 150/150 [00:00<00:00, 264.57it/s]\n",
      "100%|███████████████████████████████████████████████████████████████████████████████████████████████████████████████████████████████████████████████████████████| 150/150 [00:00<00:00, 279.16it/s]\n",
      "100%|███████████████████████████████████████████████████████████████████████████████████████████████████████████████████████████████████████████████████████████| 150/150 [00:00<00:00, 275.78it/s]\n",
      "100%|███████████████████████████████████████████████████████████████████████████████████████████████████████████████████████████████████████████████████████████| 150/150 [00:00<00:00, 266.61it/s]\n",
      "100%|███████████████████████████████████████████████████████████████████████████████████████████████████████████████████████████████████████████████████████████| 150/150 [00:00<00:00, 222.44it/s]\n",
      "100%|███████████████████████████████████████████████████████████████████████████████████████████████████████████████████████████████████████████████████████████| 150/150 [00:00<00:00, 280.68it/s]\n",
      "100%|███████████████████████████████████████████████████████████████████████████████████████████████████████████████████████████████████████████████████████████| 150/150 [00:00<00:00, 300.78it/s]\n",
      "100%|███████████████████████████████████████████████████████████████████████████████████████████████████████████████████████████████████████████████████████████| 150/150 [00:00<00:00, 282.72it/s]\n",
      "100%|███████████████████████████████████████████████████████████████████████████████████████████████████████████████████████████████████████████████████████████| 150/150 [00:00<00:00, 254.69it/s]\n",
      "100%|███████████████████████████████████████████████████████████████████████████████████████████████████████████████████████████████████████████████████████████| 150/150 [00:00<00:00, 276.92it/s]\n",
      "100%|███████████████████████████████████████████████████████████████████████████████████████████████████████████████████████████████████████████████████████████| 150/150 [00:00<00:00, 259.43it/s]\n",
      "100%|███████████████████████████████████████████████████████████████████████████████████████████████████████████████████████████████████████████████████████████| 150/150 [00:00<00:00, 305.10it/s]\n",
      "100%|███████████████████████████████████████████████████████████████████████████████████████████████████████████████████████████████████████████████████████████| 150/150 [00:00<00:00, 255.88it/s]\n",
      "100%|███████████████████████████████████████████████████████████████████████████████████████████████████████████████████████████████████████████████████████████| 150/150 [00:00<00:00, 251.67it/s]\n",
      "100%|███████████████████████████████████████████████████████████████████████████████████████████████████████████████████████████████████████████████████████████| 150/150 [00:00<00:00, 296.09it/s]\n",
      "100%|███████████████████████████████████████████████████████████████████████████████████████████████████████████████████████████████████████████████████████████| 150/150 [00:00<00:00, 297.60it/s]\n",
      "100%|███████████████████████████████████████████████████████████████████████████████████████████████████████████████████████████████████████████████████████████| 150/150 [00:00<00:00, 257.10it/s]\n",
      "100%|███████████████████████████████████████████████████████████████████████████████████████████████████████████████████████████████████████████████████████████| 150/150 [00:00<00:00, 315.76it/s]\n",
      "100%|███████████████████████████████████████████████████████████████████████████████████████████████████████████████████████████████████████████████████████████| 150/150 [00:00<00:00, 305.41it/s]\n",
      "100%|███████████████████████████████████████████████████████████████████████████████████████████████████████████████████████████████████████████████████████████| 150/150 [00:00<00:00, 312.71it/s]\n",
      "100%|███████████████████████████████████████████████████████████████████████████████████████████████████████████████████████████████████████████████████████████| 150/150 [00:00<00:00, 277.84it/s]\n",
      "100%|███████████████████████████████████████████████████████████████████████████████████████████████████████████████████████████████████████████████████████████| 150/150 [00:00<00:00, 302.36it/s]\n",
      "100%|███████████████████████████████████████████████████████████████████████████████████████████████████████████████████████████████████████████████████████████| 150/150 [00:00<00:00, 284.77it/s]\n",
      "100%|███████████████████████████████████████████████████████████████████████████████████████████████████████████████████████████████████████████████████████████| 150/150 [00:00<00:00, 266.98it/s]\n",
      "100%|███████████████████████████████████████████████████████████████████████████████████████████████████████████████████████████████████████████████████████████| 150/150 [00:00<00:00, 269.76it/s]\n",
      "100%|███████████████████████████████████████████████████████████████████████████████████████████████████████████████████████████████████████████████████████████| 150/150 [00:00<00:00, 282.28it/s]\n",
      "100%|███████████████████████████████████████████████████████████████████████████████████████████████████████████████████████████████████████████████████████████| 150/150 [00:00<00:00, 310.57it/s]\n",
      "100%|███████████████████████████████████████████████████████████████████████████████████████████████████████████████████████████████████████████████████████████| 150/150 [00:00<00:00, 314.99it/s]\n",
      "100%|███████████████████████████████████████████████████████████████████████████████████████████████████████████████████████████████████████████████████████████| 150/150 [00:00<00:00, 298.57it/s]\n",
      "100%|███████████████████████████████████████████████████████████████████████████████████████████████████████████████████████████████████████████████████████████| 150/150 [00:00<00:00, 265.15it/s]\n",
      "100%|███████████████████████████████████████████████████████████████████████████████████████████████████████████████████████████████████████████████████████████| 150/150 [00:00<00:00, 301.12it/s]\n",
      "100%|███████████████████████████████████████████████████████████████████████████████████████████████████████████████████████████████████████████████████████████| 150/150 [00:00<00:00, 299.05it/s]\n",
      "100%|███████████████████████████████████████████████████████████████████████████████████████████████████████████████████████████████████████████████████████████| 150/150 [00:00<00:00, 262.50it/s]\n",
      "100%|███████████████████████████████████████████████████████████████████████████████████████████████████████████████████████████████████████████████████████████| 150/150 [00:00<00:00, 276.08it/s]\n",
      "100%|███████████████████████████████████████████████████████████████████████████████████████████████████████████████████████████████████████████████████████████| 150/150 [00:00<00:00, 308.52it/s]\n",
      "100%|███████████████████████████████████████████████████████████████████████████████████████████████████████████████████████████████████████████████████████████| 150/150 [00:00<00:00, 312.99it/s]\n",
      "100%|███████████████████████████████████████████████████████████████████████████████████████████████████████████████████████████████████████████████████████████| 150/150 [00:00<00:00, 307.24it/s]\n",
      "100%|███████████████████████████████████████████████████████████████████████████████████████████████████████████████████████████████████████████████████████████| 150/150 [00:00<00:00, 282.21it/s]\n"
     ]
    },
    {
     "data": {
      "text/plain": [
       "({'city': 2.9131687940774844,\n",
       "  'section': 0.17011655692307248,\n",
       "  'text': 2.930460033292322},\n",
       " 0.7959894179894179)"
      ]
     },
     "execution_count": 26,
     "metadata": {},
     "output_type": "execute_result"
    }
   ],
   "source": [
    "simple_optimize(param_ranges, objective, n_iterations=40)"
   ]
  },
  {
   "cell_type": "code",
   "execution_count": 28,
   "id": "fa98ac0b-bd37-47bd-9a83-c15a10fd9712",
   "metadata": {},
   "outputs": [],
   "source": [
    "# Apply the boost params in the whole dataset\n",
    "def minsearh_improved(query):\n",
    "    \n",
    "    boost = {\n",
    "          'city': 2.91,\n",
    "          'section': 0.17,\n",
    "          'text': 2.93,\n",
    "    }\n",
    "\n",
    "    results = index.search(\n",
    "        query=query,\n",
    "        filter_dict={},\n",
    "        boost_dict=boost,\n",
    "        num_results=10\n",
    "    )\n",
    "\n",
    "    return results\n"
   ]
  },
  {
   "cell_type": "code",
   "execution_count": 29,
   "id": "8e1ffa26-4b1f-40e7-9657-adc1c9579b35",
   "metadata": {},
   "outputs": [
    {
     "name": "stderr",
     "output_type": "stream",
     "text": [
      "100%|█████████████████████████████████████████████████████████████████████████████████████████████████████████████████████████████████████████████████████████| 2715/2715 [00:09<00:00, 280.24it/s]\n"
     ]
    },
    {
     "data": {
      "text/plain": [
       "{'Recall': 0.8718232044198895,\n",
       " 'hit_rate': 0.8718232044198895,\n",
       " 'mrr': 0.7258835394194502}"
      ]
     },
     "execution_count": 29,
     "metadata": {},
     "output_type": "execute_result"
    }
   ],
   "source": [
    "evaluate(ground_truth, lambda q: minsearh_improved(q['question']))"
   ]
  },
  {
   "cell_type": "markdown",
   "id": "c32f88f7-cb6a-4fe6-a90e-7231ab2dd65e",
   "metadata": {},
   "source": [
    "### minsearch with filter \n",
    "\n",
    "{'Recall': 0.8589318600368324,\n",
    "\n",
    " 'hit_rate': 0.8589318600368324,\n",
    " \n",
    " 'mrr': 0.7564702271332095}\n",
    "\n",
    "\n",
    "### Baseline Minsearch\n",
    "{'Recall': 0.8552486187845304,\n",
    "\n",
    " 'hit_rate': 0.8552486187845304,\n",
    " \n",
    " 'mrr': 0.7135870677307133}\n",
    " "
   ]
  },
  {
   "cell_type": "markdown",
   "id": "11898e23-59b8-4730-af3e-224ed7aa4107",
   "metadata": {},
   "source": [
    "### If the travel assistant is Q&A style (users ask short questions, expect the first result to be correct quickly), go with minsearch with filter → best MRR."
   ]
  },
  {
   "cell_type": "markdown",
   "id": "e932c228-36f3-43b4-ad4d-05bdfb360dcc",
   "metadata": {},
   "source": [
    "## RAG Flow "
   ]
  },
  {
   "cell_type": "code",
   "execution_count": 35,
   "id": "7b5b33f3-5f37-4ce8-8b5d-492aaa8fd497",
   "metadata": {},
   "outputs": [
    {
     "data": {
      "text/plain": [
       "[{'city': 'London',\n",
       "  'section': 'Eat',\n",
       "  'subsection': 'Religious',\n",
       "  'text': 'Due to the mix of cultures and religions, many London restaurants cater well for religious dietary requirements. The most common signs are for Halal and Kosher meat, from burger joints to nice restaurants. There are lots of Halal restaurants and shops all over London including Whitechapel Rd and Brick Lane in the East End , Bayswater, Edgware Rd and Paddington and in many parts of north London . There are plenty of Kosher restaurants in Golders Green , Edgware and Stamford Hill along with some central delis such as on Charing Cross Road.',\n",
       "  'id': '70718ca8'},\n",
       " {'city': 'London',\n",
       "  'section': 'Eat',\n",
       "  'subsection': 'Restaurant areas',\n",
       "  'text': \"As one of the world's most cosmopolitan cities, you can find restaurants serving food cuisine from nearly every country, some of it as good as, if not better than in the countries of origin. Indian food in London is especially famous and there is hardly a district without at least one notable Indian restaurant. London also has excellent options for Chinese, in particular Cantonese food; local chain Royal China is an excellent option if you are looking for high-end fine dining dim sum.\",\n",
       "  'id': 'd5828b53'},\n",
       " {'city': 'London',\n",
       "  'section': 'Eat',\n",
       "  'subsection': 'Convenience stores and supermarkets',\n",
       "  'text': 'Marks & Spencer , an upmarket retailer, also operate food halls branded as \"Simply Food\". They can be found across central London . The smaller stores, such as those found in train stations, tend to focus mostly on ready-to-eat food such as sandwiches, drinks, snacks, and also essentials such as bread and milk.',\n",
       "  'id': 'ee13b6ac'},\n",
       " {'city': 'London',\n",
       "  'section': 'Drink',\n",
       "  'subsection': 'Gay and lesbian',\n",
       "  'text': \"The nucleus of London's gay scene is undoubtedly Old Compton St and the surrounding area in Soho but over the last couple of years Vauxhall has seen a boom in Gay venues. You will find that many areas, particularly in Camden Town and Shoreditch , that straight bars will have a mixed clientele. To find out what is going on during your visit, you can check:\",\n",
       "  'id': '6128c4a6'},\n",
       " {'city': 'London',\n",
       "  'section': 'Eat',\n",
       "  'subsection': nan,\n",
       "  'text': '£8 - will buy you a couple of sandwiches and a soft drink, some takeaway fish and chips, or a fast food meal. There are also mostly Chinese restaurants which serve an all-you-can-eat buffet for around this price. These are dotted about the West End and it is well worth asking a member of public or a shopkeeper where the nearest one is. These restaurants make much of their revenue on drinks although these are usually still moderately priced. The food while not being of the finest standard is usually very tasty and the range of dishes available is excellent. There are literally thousands of so-called takeaways in London and are a cheap alternative to a restaurant meal. Check with your hotel management if they allow food deliveries before ordering in. Most takeaways offer some form of seating, but this is usually very limited.',\n",
       "  'id': 'c49bdbfb'}]"
      ]
     },
     "execution_count": 35,
     "metadata": {},
     "output_type": "execute_result"
    }
   ],
   "source": [
    "minsearch_search_filter(\"Can I find halal food?\", 'London')\n"
   ]
  },
  {
   "cell_type": "code",
   "execution_count": 64,
   "id": "64836cb2-44e6-4c9f-bf78-e2e36aebad41",
   "metadata": {},
   "outputs": [],
   "source": [
    "def build_prompt(query, search_results):\n",
    "    prompt_template = \"\"\"\n",
    "You're a travel assistant. Answer the QUESTION based on the CONTEXT from our travel database.\n",
    "Use only the facts from the CONTEXT when answering the QUESTION.\n",
    "\n",
    "QUESTION: {question}\n",
    "\n",
    "CONTEXT:\n",
    "{context}\n",
    "\"\"\".strip()\n",
    "\n",
    "    entry_template = \"\"\"\n",
    "City: {city}\n",
    "Section: {section}\n",
    "Subsection: {subsection}\n",
    "Text: {text}\n",
    "\"\"\".strip()\n",
    "\n",
    "    context = \"\"\n",
    "    for doc in search_results:\n",
    "        context += entry_template.format(**doc) + \"\\n\\n\"\n",
    "\n",
    "    prompt = prompt_template.format(question=query, context=context.strip())\n",
    "    return prompt\n"
   ]
  },
  {
   "cell_type": "code",
   "execution_count": 65,
   "id": "6abc45e2-7975-46dd-8b91-cb293f750c92",
   "metadata": {},
   "outputs": [],
   "source": [
    "from mistralai import Mistral\n",
    "from mistralai.models import UserMessage\n",
    "import os\n",
    "from dotenv import load_dotenv"
   ]
  },
  {
   "cell_type": "code",
   "execution_count": 66,
   "id": "5b2738ea-0e6b-49d7-8958-f1da5fe302e0",
   "metadata": {},
   "outputs": [
    {
     "data": {
      "text/plain": [
       "True"
      ]
     },
     "execution_count": 66,
     "metadata": {},
     "output_type": "execute_result"
    }
   ],
   "source": [
    "# loads variables from .env\n",
    "load_dotenv()  "
   ]
  },
  {
   "cell_type": "code",
   "execution_count": 67,
   "id": "eeaba858-7bb1-408e-8b1b-9016a69566d3",
   "metadata": {},
   "outputs": [],
   "source": [
    "api_key = os.getenv(\"API_KEY\")"
   ]
  },
  {
   "cell_type": "code",
   "execution_count": 68,
   "id": "aa7f6e70-7dc1-4a74-b9c5-c387720b8994",
   "metadata": {},
   "outputs": [],
   "source": [
    "llm_client = Mistral(api_key = api_key)"
   ]
  },
  {
   "cell_type": "code",
   "execution_count": 69,
   "id": "72efefee-34a9-4a57-a73d-9c899afc4b38",
   "metadata": {},
   "outputs": [],
   "source": [
    "def llm(prompt):\n",
    "    response = llm_client.chat.complete(\n",
    "        model= \"ministral-8b-latest\",\n",
    "        messages=[UserMessage(content=prompt)],\n",
    "    )\n",
    "\n",
    "    return response.choices[0].message.content"
   ]
  },
  {
   "cell_type": "code",
   "execution_count": 70,
   "id": "d0dd5420-652e-41ba-beae-d2d5baa24c82",
   "metadata": {},
   "outputs": [],
   "source": [
    "def rag(query, city):\n",
    "    search_results = minsearch_search_filter(query=query, city=city)\n",
    "    prompt = build_prompt(query, search_results)\n",
    "    answer = llm(prompt)\n",
    "\n",
    "    return answer"
   ]
  },
  {
   "cell_type": "code",
   "execution_count": 75,
   "id": "b0db2a01-ad0b-40a1-9dc3-c34714e4423b",
   "metadata": {},
   "outputs": [
    {
     "name": "stdout",
     "output_type": "stream",
     "text": [
      "Sure, here's a 3-day itinerary for Rome based on the provided context:\n",
      "\n",
      "**Day 1: Ancient Rome**\n",
      "- Morning:\n",
      "  - Start at the Colosseum. Explore the ancient amphitheater and its history.\n",
      "  - Walk to the Roman Forum, the political and commercial center of the Roman Republic.\n",
      "- Afternoon:\n",
      "  - Visit the Palatine Hill, one of the Seven Hills of Rome.\n",
      "  - Head to the Circus Maximus, the ancient chariot-racing stadium.\n",
      "- Evening:\n",
      "  - Enjoy dinner at a local trattoria in the Trastevere neighborhood.\n",
      "\n",
      "**Day 2: Vatican City**\n",
      "- Morning:\n",
      "  - Visit the Vatican Museums, including the Sistine Chapel.\n",
      "  - Explore St. Peter's Basilica and climb the dome for a panoramic view of Rome.\n",
      "- Afternoon:\n",
      "  - Visit the Vatican Gardens and the Vatican Library.\n",
      "- Evening:\n",
      "  - Enjoy a leisurely dinner at a restaurant near the Vatican.\n",
      "\n",
      "**Day 3: Historic Center and Modern Rome**\n",
      "- Morning:\n",
      "  - Visit the Pantheon, a former Roman temple, now a church.\n",
      "  - Walk to Piazza Navona and see Bernini's Fountain of the Four Rivers.\n",
      "- Afternoon:\n",
      "  - Explore the Trevi Fountain and throw a coin into the fountain for good luck.\n",
      "  - Visit the Spanish Steps and the Keats-Shelley House.\n",
      "- Evening:\n",
      "  - Enjoy a farewell dinner at a restaurant in the Campo de' Fiori area.\n",
      "\n",
      "This itinerary covers the major historical and cultural sites in Rome. Enjoy your trip!\n"
     ]
    }
   ],
   "source": [
    "answer = rag(\"Plan 3-day itinerary for Rome?\", 'Roma')\n",
    "print(answer)"
   ]
  },
  {
   "cell_type": "markdown",
   "id": "a6e63ef4-f780-4ed9-a81b-8777796b72c2",
   "metadata": {},
   "source": [
    "### Use minsearch with best paramters"
   ]
  },
  {
   "cell_type": "code",
   "execution_count": 85,
   "id": "601e9bb1-9522-4f53-93d5-bbddd1ae5e65",
   "metadata": {},
   "outputs": [],
   "source": [
    "def rag_improved(query):\n",
    "    search_results = minsearh_improved(query=query)\n",
    "    prompt = build_prompt(query, search_results)\n",
    "    answer = llm(prompt)\n",
    "\n",
    "    return answer"
   ]
  },
  {
   "cell_type": "code",
   "execution_count": 86,
   "id": "19ea2d28-62b4-4e1f-93b8-ffc42ae1dca5",
   "metadata": {},
   "outputs": [
    {
     "name": "stdout",
     "output_type": "stream",
     "text": [
      "To visit the Pyramids in Cairo, you can follow these steps:\n",
      "\n",
      "1. **Location**: The Pyramids of Giza are located on the Giza Plateau, about 15 kilometers southwest of Cairo's city center.\n",
      "\n",
      "2. **Transportation**:\n",
      "   - **Taxi**: You can take a taxi from downtown Cairo. The journey should take around 30-45 minutes, depending on traffic.\n",
      "   - **Bus**: There are public buses that go to the Pyramids. You can take bus number 355 from downtown Cairo.\n",
      "   - **Organized Tour**: Many tour operators offer day trips to the Pyramids from Cairo.\n",
      "\n",
      "3. **Entrance**: The entrance fee for the Pyramids is 200 Egyptian Pounds (EGP) for adults and 100 EGP for students. Children under 12 enter for free.\n",
      "\n",
      "4. **Opening Hours**: The Pyramids are open from 8:00 AM to 5:00 PM daily.\n"
     ]
    }
   ],
   "source": [
    "answer = rag_improved(\"How I can Visit pyrimads in Cairo?\")\n",
    "print(answer)"
   ]
  },
  {
   "cell_type": "code",
   "execution_count": null,
   "id": "86a1ee9e-08cd-46ae-b263-aeb5fc360ffe",
   "metadata": {},
   "outputs": [],
   "source": []
  }
 ],
 "metadata": {
  "kernelspec": {
   "display_name": "Python 3 (ipykernel)",
   "language": "python",
   "name": "python3"
  },
  "language_info": {
   "codemirror_mode": {
    "name": "ipython",
    "version": 3
   },
   "file_extension": ".py",
   "mimetype": "text/x-python",
   "name": "python",
   "nbconvert_exporter": "python",
   "pygments_lexer": "ipython3",
   "version": "3.12.2"
  }
 },
 "nbformat": 4,
 "nbformat_minor": 5
}
