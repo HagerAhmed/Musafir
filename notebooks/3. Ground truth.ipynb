{
 "cells": [
  {
   "cell_type": "code",
   "execution_count": 1,
   "id": "b449869e-a5f4-4e9c-86f4-4492fad84aa8",
   "metadata": {},
   "outputs": [],
   "source": [
    "import os\n",
    "os.environ[\"SSL_CERT_FILE\"] = \"/mnt/d/Travel Assistant/Musafir/Fortinet_CA_SSL(15).cer\"\n",
    "os.environ[\"REQUESTS_CA_BUNDLE\"] = \"/mnt/d/Travel Assistant/Musafir/Fortinet_CA_SSL(15).cer\""
   ]
  },
  {
   "cell_type": "code",
   "execution_count": 2,
   "id": "577b72c7-ba1b-4a0f-ad62-18ce2cdad615",
   "metadata": {},
   "outputs": [],
   "source": [
    "import pandas as pd"
   ]
  },
  {
   "cell_type": "code",
   "execution_count": 3,
   "id": "cdabe484-0163-4489-8338-919b7a9b5e5b",
   "metadata": {},
   "outputs": [],
   "source": [
    "df = pd.read_csv(\"../data/processed_data/all_cities_combined_clean.csv\")"
   ]
  },
  {
   "cell_type": "code",
   "execution_count": 4,
   "id": "730ac6f5-412a-44d9-a98b-46e503cfc399",
   "metadata": {},
   "outputs": [
    {
     "data": {
      "text/html": [
       "<div>\n",
       "<style scoped>\n",
       "    .dataframe tbody tr th:only-of-type {\n",
       "        vertical-align: middle;\n",
       "    }\n",
       "\n",
       "    .dataframe tbody tr th {\n",
       "        vertical-align: top;\n",
       "    }\n",
       "\n",
       "    .dataframe thead th {\n",
       "        text-align: right;\n",
       "    }\n",
       "</style>\n",
       "<table border=\"1\" class=\"dataframe\">\n",
       "  <thead>\n",
       "    <tr style=\"text-align: right;\">\n",
       "      <th></th>\n",
       "      <th>id</th>\n",
       "      <th>city</th>\n",
       "      <th>section</th>\n",
       "      <th>subsection</th>\n",
       "      <th>text</th>\n",
       "    </tr>\n",
       "  </thead>\n",
       "  <tbody>\n",
       "    <tr>\n",
       "      <th>0</th>\n",
       "      <td>0</td>\n",
       "      <td>Cairo</td>\n",
       "      <td>See</td>\n",
       "      <td>Further afield</td>\n",
       "      <td>29.8 31.233333 1 Dahshur Pyramids . For a cont...</td>\n",
       "    </tr>\n",
       "    <tr>\n",
       "      <th>1</th>\n",
       "      <td>1</td>\n",
       "      <td>Cairo</td>\n",
       "      <td>See</td>\n",
       "      <td>NaN</td>\n",
       "      <td>29.8 31.233333 5 Dahshur Pyramids . For a cont...</td>\n",
       "    </tr>\n",
       "    <tr>\n",
       "      <th>2</th>\n",
       "      <td>2</td>\n",
       "      <td>Cairo</td>\n",
       "      <td>See</td>\n",
       "      <td>NaN</td>\n",
       "      <td>30.0405 31.2646 2 Al-Azhar Park . A landscaped...</td>\n",
       "    </tr>\n",
       "    <tr>\n",
       "      <th>3</th>\n",
       "      <td>3</td>\n",
       "      <td>Cairo</td>\n",
       "      <td>See</td>\n",
       "      <td>NaN</td>\n",
       "      <td>30.0417 31.2483 4 Abdeen Palace . About 1 km e...</td>\n",
       "    </tr>\n",
       "    <tr>\n",
       "      <th>4</th>\n",
       "      <td>4</td>\n",
       "      <td>Cairo</td>\n",
       "      <td>See</td>\n",
       "      <td>NaN</td>\n",
       "      <td>30.0475 31.262222 3 Khan El Khalily . Cairo's ...</td>\n",
       "    </tr>\n",
       "    <tr>\n",
       "      <th>...</th>\n",
       "      <td>...</td>\n",
       "      <td>...</td>\n",
       "      <td>...</td>\n",
       "      <td>...</td>\n",
       "      <td>...</td>\n",
       "    </tr>\n",
       "    <tr>\n",
       "      <th>539</th>\n",
       "      <td>539</td>\n",
       "      <td>Seoul</td>\n",
       "      <td>Districts</td>\n",
       "      <td>NaN</td>\n",
       "      <td>West ( Gangseo-gu, Yangcheon-gu ) Western area...</td>\n",
       "    </tr>\n",
       "    <tr>\n",
       "      <th>540</th>\n",
       "      <td>540</td>\n",
       "      <td>Seoul</td>\n",
       "      <td>See</td>\n",
       "      <td>NaN</td>\n",
       "      <td>While Seoul today is mostly known as a super-m...</td>\n",
       "    </tr>\n",
       "    <tr>\n",
       "      <th>541</th>\n",
       "      <td>541</td>\n",
       "      <td>Seoul</td>\n",
       "      <td>Districts</td>\n",
       "      <td>NaN</td>\n",
       "      <td>Yeongdeungpo &amp; Guro (영등포 / 구로) ( Yeongdeungpo-...</td>\n",
       "    </tr>\n",
       "    <tr>\n",
       "      <th>542</th>\n",
       "      <td>542</td>\n",
       "      <td>Seoul</td>\n",
       "      <td>Districts</td>\n",
       "      <td>NaN</td>\n",
       "      <td>Yongsan (용산) ( Yongsan-gu ) Yongsan is home to...</td>\n",
       "    </tr>\n",
       "    <tr>\n",
       "      <th>543</th>\n",
       "      <td>543</td>\n",
       "      <td>Seoul</td>\n",
       "      <td>Eat</td>\n",
       "      <td>NaN</td>\n",
       "      <td>₩15,000–35,000</td>\n",
       "    </tr>\n",
       "  </tbody>\n",
       "</table>\n",
       "<p>544 rows × 5 columns</p>\n",
       "</div>"
      ],
      "text/plain": [
       "      id   city    section      subsection  \\\n",
       "0      0  Cairo        See  Further afield   \n",
       "1      1  Cairo        See             NaN   \n",
       "2      2  Cairo        See             NaN   \n",
       "3      3  Cairo        See             NaN   \n",
       "4      4  Cairo        See             NaN   \n",
       "..   ...    ...        ...             ...   \n",
       "539  539  Seoul  Districts             NaN   \n",
       "540  540  Seoul        See             NaN   \n",
       "541  541  Seoul  Districts             NaN   \n",
       "542  542  Seoul  Districts             NaN   \n",
       "543  543  Seoul        Eat             NaN   \n",
       "\n",
       "                                                  text  \n",
       "0    29.8 31.233333 1 Dahshur Pyramids . For a cont...  \n",
       "1    29.8 31.233333 5 Dahshur Pyramids . For a cont...  \n",
       "2    30.0405 31.2646 2 Al-Azhar Park . A landscaped...  \n",
       "3    30.0417 31.2483 4 Abdeen Palace . About 1 km e...  \n",
       "4    30.0475 31.262222 3 Khan El Khalily . Cairo's ...  \n",
       "..                                                 ...  \n",
       "539  West ( Gangseo-gu, Yangcheon-gu ) Western area...  \n",
       "540  While Seoul today is mostly known as a super-m...  \n",
       "541  Yeongdeungpo & Guro (영등포 / 구로) ( Yeongdeungpo-...  \n",
       "542  Yongsan (용산) ( Yongsan-gu ) Yongsan is home to...  \n",
       "543                                     ₩15,000–35,000  \n",
       "\n",
       "[544 rows x 5 columns]"
      ]
     },
     "execution_count": 4,
     "metadata": {},
     "output_type": "execute_result"
    }
   ],
   "source": [
    "df"
   ]
  },
  {
   "cell_type": "code",
   "execution_count": 5,
   "id": "aa5d416c-3f2a-4aa4-b44d-72896c792dd0",
   "metadata": {},
   "outputs": [
    {
     "name": "stdout",
     "output_type": "stream",
     "text": [
      "--2025-09-23 13:11:03--  https://raw.githubusercontent.com/alexeygrigorev/minsearch/main/minsearch.py\n",
      "Resolving raw.githubusercontent.com (raw.githubusercontent.com)... 185.199.109.133, 185.199.110.133, 185.199.108.133, ...\n",
      "Connecting to raw.githubusercontent.com (raw.githubusercontent.com)|185.199.109.133|:443... connected.\n",
      "HTTP request sent, awaiting response... 200 OK\n",
      "Length: 4273 (4.2K) [text/plain]\n",
      "Saving to: ‘minsearch.py.1’\n",
      "\n",
      "minsearch.py.1      100%[===================>]   4.17K  --.-KB/s    in 0.002s  \n",
      "\n",
      "2025-09-23 13:11:04 (1.75 MB/s) - ‘minsearch.py.1’ saved [4273/4273]\n",
      "\n"
     ]
    }
   ],
   "source": [
    "!wget https://raw.githubusercontent.com/alexeygrigorev/minsearch/main/minsearch.py --no-check-certificate"
   ]
  },
  {
   "cell_type": "code",
   "execution_count": 6,
   "id": "de261d38-7aca-4e31-9570-7f1981fa9914",
   "metadata": {},
   "outputs": [
    {
     "name": "stderr",
     "output_type": "stream",
     "text": [
      "/mnt/d/Travel Assistant/Musafir/notebooks/minsearch.py:10: UserWarning: Now minsearch is installable via pip: 'pip install minsearch'. Remove the downloaded file and re-install it with pip.\n",
      "  warnings.warn(\n"
     ]
    }
   ],
   "source": [
    "import minsearch"
   ]
  },
  {
   "cell_type": "code",
   "execution_count": 7,
   "id": "81bc5d00-d3f8-4d7e-8929-22b057d224ca",
   "metadata": {},
   "outputs": [
    {
     "data": {
      "text/plain": [
       "Index(['id', 'city', 'section', 'subsection', 'text'], dtype='object')"
      ]
     },
     "execution_count": 7,
     "metadata": {},
     "output_type": "execute_result"
    }
   ],
   "source": [
    "df.columns"
   ]
  },
  {
   "cell_type": "code",
   "execution_count": 8,
   "id": "fc1d920f-2a48-4624-ab30-4f229b6b48e8",
   "metadata": {},
   "outputs": [],
   "source": [
    "documents = df.to_dict(orient='records')"
   ]
  },
  {
   "cell_type": "code",
   "execution_count": 9,
   "id": "2e553c67-8eed-4fcc-8d89-ddb9b162b047",
   "metadata": {},
   "outputs": [
    {
     "data": {
      "text/plain": [
       "{'id': 15,\n",
       " 'city': 'Cairo',\n",
       " 'section': 'Eat',\n",
       " 'subsection': 'Self-catering',\n",
       " 'text': 'By far the cheapest and most satisfying option, buying from souks and outdoor markets makes for a crash course in Arabic and haggling, not to mention that the produce is often superb! Bread can be found on nearly every corner and comes in two types - whole wheat aysh baladi and white flour aysh shami . Both are baked fresh daily and delivered by thousands of kids on bicycles to every corner of the city. Every neighborhood has a few streets dedicated to produce and other goods. Always wash fruit thoroughly before eating. Eating a fresh Roma tomato in the heat of Summer straight from a market seller after being washed is a delight, hard to match. The fruits and vegetables in Egypt may not conform to EU or US standards of size, but their taste is far superior.'}"
      ]
     },
     "execution_count": 9,
     "metadata": {},
     "output_type": "execute_result"
    }
   ],
   "source": [
    "documents[15]"
   ]
  },
  {
   "cell_type": "code",
   "execution_count": 10,
   "id": "dc646e1b-31a9-4658-b8e8-622be2561088",
   "metadata": {},
   "outputs": [],
   "source": [
    "index = minsearch.Index(\n",
    "    text_fields=['city', 'section', 'text'],\n",
    "    keyword_fields=['id']\n",
    ")"
   ]
  },
  {
   "cell_type": "code",
   "execution_count": 11,
   "id": "a419b317-f90c-4a19-9e95-c7a3a1cbef13",
   "metadata": {},
   "outputs": [
    {
     "data": {
      "text/plain": [
       "<minsearch.Index at 0x7a324215a540>"
      ]
     },
     "execution_count": 11,
     "metadata": {},
     "output_type": "execute_result"
    }
   ],
   "source": [
    "index.fit(documents)"
   ]
  },
  {
   "cell_type": "code",
   "execution_count": 12,
   "id": "5adb59ac-93b8-433d-af4e-5dbb79c0ba60",
   "metadata": {},
   "outputs": [],
   "source": [
    "prompt_template = \"\"\"\n",
    "You emulate a user of our travel assistant application.\n",
    "Formulate 5 questions this user might ask based on a provided text.\n",
    "Make the questions specific to this text.\n",
    "The record should contain the answer to the questions, and the questions should be \n",
    "complete and not too short. Use as fewer words as possible from the record. \n",
    "\n",
    "The record: \n",
    "City: {city},\n",
    "Section: {section},\n",
    "Subsection: {subsection},\n",
    "Text: {text}\n",
    "\n",
    "Provide the output in parsable JSON without using code blocks:\n",
    "\n",
    "{{\"questions\": [\"question1\", \"question2\", ..., \"question5\"]}}\n",
    "\"\"\".strip()"
   ]
  },
  {
   "cell_type": "code",
   "execution_count": 18,
   "id": "084587ac-834b-418c-883f-d8544f867998",
   "metadata": {},
   "outputs": [],
   "source": [
    "prompt = prompt_template.format(**documents[0])"
   ]
  },
  {
   "cell_type": "code",
   "execution_count": 19,
   "id": "d8f57ba8-46ad-4d4e-8927-957dd1348899",
   "metadata": {},
   "outputs": [
    {
     "name": "stdout",
     "output_type": "stream",
     "text": [
      "You emulate a user of our travel assistant application.\n",
      "Formulate 5 questions this user might ask based on a provided text.\n",
      "Make the questions specific to this text.\n",
      "The record should contain the answer to the questions, and the questions should be \n",
      "complete and not too short. Use as fewer words as possible from the record. \n",
      "\n",
      "The record: \n",
      "City: Cairo,\n",
      "Section: See,\n",
      "Subsection: Further afield,\n",
      "Text: 29.8 31.233333 1 Dahshur Pyramids . For a contrast to touristy Pyramids of Giza, head south to the oldest known pyramid, the Red Pyramid. The neglected Dahshur Pyramids are interesting and worth a visit, considering its history and the hassle-free atmosphere. Also, see the weird Bent Pyramid there and hike around the area to the Black Pyramid. The Red Pyramid has an entrance to the inside, which you can climb down. ( updated Jan 2018 )\n",
      "\n",
      "Provide the output in parsable JSON without using code blocks:\n",
      "\n",
      "{\"questions\": [\"question1\", \"question2\", ..., \"question5\"]}\n"
     ]
    }
   ],
   "source": [
    "print(prompt)"
   ]
  },
  {
   "cell_type": "markdown",
   "id": "6c6777bc-dd52-4812-b19d-6c6a89b60745",
   "metadata": {},
   "source": [
    "# RAG Flow\n"
   ]
  },
  {
   "cell_type": "code",
   "execution_count": 20,
   "id": "da695d03-aed1-4408-aa5a-7c8a150d86bc",
   "metadata": {},
   "outputs": [],
   "source": [
    "from mistralai import Mistral\n",
    "from mistralai.models import UserMessage\n",
    "import os\n",
    "from dotenv import load_dotenv"
   ]
  },
  {
   "cell_type": "code",
   "execution_count": 21,
   "id": "751388db-a47f-487d-8835-97199244aa71",
   "metadata": {},
   "outputs": [
    {
     "data": {
      "text/plain": [
       "True"
      ]
     },
     "execution_count": 21,
     "metadata": {},
     "output_type": "execute_result"
    }
   ],
   "source": [
    "# loads variables from .env\n",
    "load_dotenv()  "
   ]
  },
  {
   "cell_type": "code",
   "execution_count": 22,
   "id": "8ec54367-728e-492e-b4d1-fb9b165b2e2d",
   "metadata": {},
   "outputs": [],
   "source": [
    "api_key = os.getenv(\"API_KEY\")"
   ]
  },
  {
   "cell_type": "code",
   "execution_count": 24,
   "id": "da3a8a93-71be-4998-b6e2-866e1f92c0ae",
   "metadata": {},
   "outputs": [
    {
     "name": "stdout",
     "output_type": "stream",
     "text": [
      "{\"questions\": [\n",
      "  \"What are the coordinates of the Dahshur Pyramids?\",\n",
      "  \"Which pyramid is the oldest known pyramid at Dahshur?\",\n",
      "  \"Can I enter the Red Pyramid and climb down inside?\",\n",
      "  \"What is the Bent Pyramid like?\",\n",
      "  \"Is there a Black Pyramid at Dahshur?\"\n",
      "]}\n"
     ]
    }
   ],
   "source": [
    "client = Mistral(api_key = api_key)\n",
    "response = client.chat.complete(\n",
    "    model= \"ministral-8b-latest\",\n",
    "    messages=[UserMessage(content=prompt)],\n",
    ")\n",
    "\n",
    "print(response.choices[0].message.content)"
   ]
  },
  {
   "cell_type": "markdown",
   "id": "5f1cf43e-a244-4445-bb57-dab9d9eada37",
   "metadata": {},
   "source": [
    "# Generate Questions\n"
   ]
  },
  {
   "cell_type": "code",
   "execution_count": 26,
   "id": "385d0d1e-2be7-43ef-aa91-ca83e4ff23fc",
   "metadata": {},
   "outputs": [],
   "source": [
    "def generate_question(doc):\n",
    "    prompt = prompt_template.format(**doc)\n",
    "    client = Mistral(api_key = api_key)\n",
    "    response = client.chat.complete(\n",
    "        model= 'mistral-large-2411',\n",
    "        messages=[UserMessage(content=prompt)],\n",
    "    )    \n",
    "    json_response = response.choices[0].message.content\n",
    "    return json_response"
   ]
  },
  {
   "cell_type": "code",
   "execution_count": 30,
   "id": "67c7a65b-0850-43c8-8699-a2985ce917c5",
   "metadata": {},
   "outputs": [],
   "source": [
    "from tqdm.auto import tqdm\n",
    "import json"
   ]
  },
  {
   "cell_type": "code",
   "execution_count": 31,
   "id": "8dcb0edb-7ae3-474a-9118-006ebcf2dfcd",
   "metadata": {},
   "outputs": [],
   "source": [
    "results = {}"
   ]
  },
  {
   "cell_type": "code",
   "execution_count": 60,
   "id": "ee3e235c-2fb6-48dc-a54d-1b48ae10ba32",
   "metadata": {},
   "outputs": [
    {
     "name": "stderr",
     "output_type": "stream",
     "text": [
      "100%|███████████████████████████████████████████████████████████████████████████████████████████████████████████████████████████████████████| 544/544 [00:47<00:00, 11.51it/s]\n"
     ]
    }
   ],
   "source": [
    "for doc in tqdm(documents):\n",
    "    doc_id = doc['id']\n",
    "    if doc_id in results:\n",
    "        continue \n",
    "    questions_raw = generate_question(doc)\n",
    "    questions = json.loads(questions_raw)\n",
    "    results[doc_id] = questions['questions']"
   ]
  },
  {
   "cell_type": "code",
   "execution_count": 61,
   "id": "76e9eaee-376e-4d0c-98f9-0aa01abb087a",
   "metadata": {},
   "outputs": [
    {
     "data": {
      "text/plain": [
       "544"
      ]
     },
     "execution_count": 61,
     "metadata": {},
     "output_type": "execute_result"
    }
   ],
   "source": [
    "len(results)"
   ]
  },
  {
   "cell_type": "code",
   "execution_count": 62,
   "id": "32558768-500b-44db-85bb-01e9902b4fa2",
   "metadata": {},
   "outputs": [],
   "source": [
    "# save the results\n",
    "\n",
    "final_results = []\n",
    "for doc_id, qs in results.items():\n",
    "    for q in qs:\n",
    "        final_results.append((doc_id, q))"
   ]
  },
  {
   "cell_type": "code",
   "execution_count": 63,
   "id": "087e25cb-3152-49a4-8c8e-dff7a5feb68b",
   "metadata": {},
   "outputs": [
    {
     "data": {
      "text/plain": [
       "(2, 'What is the name of the landscaped garden in Cairo?')"
      ]
     },
     "execution_count": 63,
     "metadata": {},
     "output_type": "execute_result"
    }
   ],
   "source": [
    "final_results[10]"
   ]
  },
  {
   "cell_type": "code",
   "execution_count": 64,
   "id": "5c48914a-35b7-47ec-be5b-c14f3683adee",
   "metadata": {},
   "outputs": [],
   "source": [
    "df_results = pd.DataFrame(final_results, columns=['id', 'question'])"
   ]
  },
  {
   "cell_type": "code",
   "execution_count": 65,
   "id": "3b001cd1-58bb-4eb4-aafa-c862e26d0bdc",
   "metadata": {},
   "outputs": [],
   "source": [
    "df_results.to_csv('groud-truth-retrieval.csv', index=False)"
   ]
  },
  {
   "cell_type": "code",
   "execution_count": 66,
   "id": "414e7880-b5a1-4387-8177-239cb55fd628",
   "metadata": {},
   "outputs": [
    {
     "name": "stdout",
     "output_type": "stream",
     "text": [
      "id,question\n",
      "0,Can I enter the Red Pyramid?\n",
      "0,What is the main advantage of visiting Dahshur Pyramids over the Pyramids of Giza?\n",
      "0,How many pyramids can be visited in the Dahshur area?\n",
      "0,Is it possible to walk around the area to see the Black Pyramid?\n",
      "0,Which pyramid is noted for its peculiar shape in Dahshur?\n",
      "1,What's an alternative site to visit instead of the Giza Pyramids?\n",
      "1,Which is the oldest known pyramid mentioned?\n",
      "1,What makes the Dahshur Pyramids worth visiting?\n",
      "1,What activities can be done around the Bent Pyramid?\n"
     ]
    }
   ],
   "source": [
    "!head groud-truth-retrieval.csv"
   ]
  },
  {
   "cell_type": "markdown",
   "id": "6cd4f2dc-ca6e-46c9-b11b-796443680b1a",
   "metadata": {},
   "source": [
    "# Retrieval Evaluation\n"
   ]
  },
  {
   "cell_type": "code",
   "execution_count": 67,
   "id": "38448b05-7c27-49ea-aa87-85b18933b3df",
   "metadata": {},
   "outputs": [],
   "source": [
    "df_question = pd.read_csv('groud-truth-retrieval.csv')"
   ]
  },
  {
   "cell_type": "code",
   "execution_count": 68,
   "id": "18e9e291-f237-4d87-8419-92dd92d7b5d2",
   "metadata": {},
   "outputs": [
    {
     "data": {
      "text/html": [
       "<div>\n",
       "<style scoped>\n",
       "    .dataframe tbody tr th:only-of-type {\n",
       "        vertical-align: middle;\n",
       "    }\n",
       "\n",
       "    .dataframe tbody tr th {\n",
       "        vertical-align: top;\n",
       "    }\n",
       "\n",
       "    .dataframe thead th {\n",
       "        text-align: right;\n",
       "    }\n",
       "</style>\n",
       "<table border=\"1\" class=\"dataframe\">\n",
       "  <thead>\n",
       "    <tr style=\"text-align: right;\">\n",
       "      <th></th>\n",
       "      <th>id</th>\n",
       "      <th>question</th>\n",
       "    </tr>\n",
       "  </thead>\n",
       "  <tbody>\n",
       "    <tr>\n",
       "      <th>0</th>\n",
       "      <td>0</td>\n",
       "      <td>Can I enter the Red Pyramid?</td>\n",
       "    </tr>\n",
       "    <tr>\n",
       "      <th>1</th>\n",
       "      <td>0</td>\n",
       "      <td>What is the main advantage of visiting Dahshur...</td>\n",
       "    </tr>\n",
       "    <tr>\n",
       "      <th>2</th>\n",
       "      <td>0</td>\n",
       "      <td>How many pyramids can be visited in the Dahshu...</td>\n",
       "    </tr>\n",
       "    <tr>\n",
       "      <th>3</th>\n",
       "      <td>0</td>\n",
       "      <td>Is it possible to walk around the area to see ...</td>\n",
       "    </tr>\n",
       "    <tr>\n",
       "      <th>4</th>\n",
       "      <td>0</td>\n",
       "      <td>Which pyramid is noted for its peculiar shape ...</td>\n",
       "    </tr>\n",
       "    <tr>\n",
       "      <th>...</th>\n",
       "      <td>...</td>\n",
       "      <td>...</td>\n",
       "    </tr>\n",
       "    <tr>\n",
       "      <th>2715</th>\n",
       "      <td>543</td>\n",
       "      <td>What is the estimated cost of meals in Seoul?</td>\n",
       "    </tr>\n",
       "    <tr>\n",
       "      <th>2716</th>\n",
       "      <td>543</td>\n",
       "      <td>How much should I budget for eating out in Seoul?</td>\n",
       "    </tr>\n",
       "    <tr>\n",
       "      <th>2717</th>\n",
       "      <td>543</td>\n",
       "      <td>What is the price range for dining in Seoul?</td>\n",
       "    </tr>\n",
       "    <tr>\n",
       "      <th>2718</th>\n",
       "      <td>543</td>\n",
       "      <td>Can you tell me the typical cost of a meal in ...</td>\n",
       "    </tr>\n",
       "    <tr>\n",
       "      <th>2719</th>\n",
       "      <td>543</td>\n",
       "      <td>What is the average spending on food in Seoul?</td>\n",
       "    </tr>\n",
       "  </tbody>\n",
       "</table>\n",
       "<p>2720 rows × 2 columns</p>\n",
       "</div>"
      ],
      "text/plain": [
       "       id                                           question\n",
       "0       0                       Can I enter the Red Pyramid?\n",
       "1       0  What is the main advantage of visiting Dahshur...\n",
       "2       0  How many pyramids can be visited in the Dahshu...\n",
       "3       0  Is it possible to walk around the area to see ...\n",
       "4       0  Which pyramid is noted for its peculiar shape ...\n",
       "...   ...                                                ...\n",
       "2715  543      What is the estimated cost of meals in Seoul?\n",
       "2716  543  How much should I budget for eating out in Seoul?\n",
       "2717  543       What is the price range for dining in Seoul?\n",
       "2718  543  Can you tell me the typical cost of a meal in ...\n",
       "2719  543     What is the average spending on food in Seoul?\n",
       "\n",
       "[2720 rows x 2 columns]"
      ]
     },
     "execution_count": 68,
     "metadata": {},
     "output_type": "execute_result"
    }
   ],
   "source": [
    "df_question"
   ]
  },
  {
   "cell_type": "code",
   "execution_count": 69,
   "id": "46accc4e-eb37-47e3-88fb-e95b80fb36c3",
   "metadata": {},
   "outputs": [],
   "source": [
    "ground_truth = df_question.to_dict(orient='records')"
   ]
  },
  {
   "cell_type": "code",
   "execution_count": 70,
   "id": "daffaf86-b75b-482f-9899-831418f9e3e6",
   "metadata": {},
   "outputs": [
    {
     "data": {
      "text/plain": [
       "{'id': 0, 'question': 'Can I enter the Red Pyramid?'}"
      ]
     },
     "execution_count": 70,
     "metadata": {},
     "output_type": "execute_result"
    }
   ],
   "source": [
    "ground_truth[0]"
   ]
  },
  {
   "cell_type": "code",
   "execution_count": 71,
   "id": "a5d54827-4d61-4099-9d79-eba3ac5873b6",
   "metadata": {},
   "outputs": [],
   "source": [
    "def hit_rate(relevance_total):\n",
    "    cnt = 0\n",
    "\n",
    "    for line in relevance_total:\n",
    "        if True in line:\n",
    "            cnt = cnt + 1\n",
    "\n",
    "    return cnt / len(relevance_total)\n",
    "\n",
    "def mrr(relevance_total):\n",
    "    total_score = 0.0\n",
    "\n",
    "    for line in relevance_total:\n",
    "        for rank in range(len(line)):\n",
    "            if line[rank] == True:\n",
    "                total_score = total_score + 1 / (rank + 1)\n",
    "\n",
    "    return total_score / len(relevance_total)"
   ]
  },
  {
   "cell_type": "code",
   "execution_count": 72,
   "id": "4e797ae9-9af6-456d-a4fa-6a7317ff421c",
   "metadata": {},
   "outputs": [],
   "source": [
    "def minsearch_search(query):\n",
    "    boost = {}\n",
    "\n",
    "    results = index.search(\n",
    "        query=query,\n",
    "        filter_dict={},\n",
    "        boost_dict=boost,\n",
    "        num_results=10\n",
    "    )\n",
    "\n",
    "    return results"
   ]
  },
  {
   "cell_type": "code",
   "execution_count": 73,
   "id": "fed0d30b-a506-4120-88b2-044f83a9f0bc",
   "metadata": {},
   "outputs": [],
   "source": [
    "def evaluate(ground_truth, search_function):\n",
    "    relevance_total = []\n",
    "\n",
    "    for q in tqdm(ground_truth):\n",
    "        doc_id = q['id']\n",
    "        results = search_function(q)\n",
    "        relevance = [d['id'] == doc_id for d in results]\n",
    "        relevance_total.append(relevance)\n",
    "\n",
    "    return {\n",
    "        'hit_rate': hit_rate(relevance_total),\n",
    "        'mrr': mrr(relevance_total),\n",
    "    }"
   ]
  },
  {
   "cell_type": "code",
   "execution_count": 74,
   "id": "0f61d0c3-a2e1-40c9-96a3-9878c99bf926",
   "metadata": {},
   "outputs": [
    {
     "name": "stderr",
     "output_type": "stream",
     "text": [
      "100%|████████████████████████████████████████████████████████████████████████████████████████████████████████████████████████████████████| 2720/2720 [00:19<00:00, 137.79it/s]\n"
     ]
    },
    {
     "data": {
      "text/plain": [
       "{'hit_rate': 0.8636029411764706, 'mrr': 0.7254728349673186}"
      ]
     },
     "execution_count": 74,
     "metadata": {},
     "output_type": "execute_result"
    }
   ],
   "source": [
    "evaluate(ground_truth, lambda q: minsearch_search(q['question']))"
   ]
  },
  {
   "cell_type": "markdown",
   "id": "152a9d99-3cc1-4e31-86c1-a74b13b0f29d",
   "metadata": {},
   "source": [
    "# Finding the best paramters\n"
   ]
  },
  {
   "cell_type": "code",
   "execution_count": 75,
   "id": "0d431552-9c43-49d2-adff-6366d6978b4a",
   "metadata": {},
   "outputs": [],
   "source": [
    "df_validation = df_question[:100]\n",
    "df_test = df_question[100:]"
   ]
  },
  {
   "cell_type": "code",
   "execution_count": 76,
   "id": "5d520fed-bc28-4223-ba21-ed3b376dec6c",
   "metadata": {},
   "outputs": [],
   "source": [
    "import random\n",
    "\n",
    "def simple_optimize(param_ranges, objective_function, n_iterations=10):\n",
    "    best_params = None\n",
    "    best_score = float('-inf')  # Assuming we're minimizing. Use float('-inf') if maximizing.\n",
    "\n",
    "    for _ in range(n_iterations):\n",
    "        # Generate random parameters\n",
    "        current_params = {}\n",
    "        for param, (min_val, max_val) in param_ranges.items():\n",
    "            if isinstance(min_val, int) and isinstance(max_val, int):\n",
    "                current_params[param] = random.randint(min_val, max_val)\n",
    "            else:\n",
    "                current_params[param] = random.uniform(min_val, max_val)\n",
    "        \n",
    "        # Evaluate the objective function\n",
    "        current_score = objective_function(current_params)\n",
    "        \n",
    "        # Update best if current is better\n",
    "        if current_score > best_score:  # Change to > if maximizing\n",
    "            best_score = current_score\n",
    "            best_params = current_params\n",
    "    \n",
    "    return best_params, best_score"
   ]
  },
  {
   "cell_type": "code",
   "execution_count": 77,
   "id": "b3371314-c8f9-4778-8209-0b9107e6e582",
   "metadata": {},
   "outputs": [],
   "source": [
    "gt_val = df_validation.to_dict(orient='records')"
   ]
  },
  {
   "cell_type": "code",
   "execution_count": 78,
   "id": "a8006ae4-e9c5-414f-84cf-72f227388344",
   "metadata": {},
   "outputs": [],
   "source": [
    "def minsearch_search(query, boost=None):\n",
    "    \n",
    "    if boost is None:\n",
    "        boost = {}\n",
    "\n",
    "    results = index.search(\n",
    "        query=query,\n",
    "        filter_dict={},\n",
    "        boost_dict=boost,\n",
    "        num_results=10\n",
    "    )\n",
    "\n",
    "    return results"
   ]
  },
  {
   "cell_type": "code",
   "execution_count": 79,
   "id": "8e0c7b85-2517-43f9-a725-66c741917355",
   "metadata": {},
   "outputs": [
    {
     "data": {
      "text/plain": [
       "Index(['id', 'city', 'section', 'subsection', 'text'], dtype='object')"
      ]
     },
     "execution_count": 79,
     "metadata": {},
     "output_type": "execute_result"
    }
   ],
   "source": [
    "df.columns"
   ]
  },
  {
   "cell_type": "code",
   "execution_count": 80,
   "id": "2b3b9961-b335-46e0-a7dc-2e7021d1d995",
   "metadata": {},
   "outputs": [],
   "source": [
    "param_ranges = {\n",
    " 'city': (0.0, 3.0),\n",
    " 'section': (0.0, 3.0),\n",
    " 'subsection': (0.0, 3.0),\n",
    " 'text': (0.0, 3.0),\n",
    "}"
   ]
  },
  {
   "cell_type": "code",
   "execution_count": 81,
   "id": "0a941bd8-26f1-4f8d-8a61-7ee80bb7ecdc",
   "metadata": {},
   "outputs": [],
   "source": [
    "def objective(boost_params):\n",
    "    def search_function(q):\n",
    "        return minsearch_search(q['question'], boost_params)\n",
    "\n",
    "    results = evaluate(gt_val, search_function)\n",
    "    return results['mrr']"
   ]
  },
  {
   "cell_type": "code",
   "execution_count": 82,
   "id": "ba73a8b5-ecd5-490a-b1c1-d090dc307749",
   "metadata": {},
   "outputs": [
    {
     "name": "stderr",
     "output_type": "stream",
     "text": [
      "100%|██████████████████████████████████████████████████████████████████████████████████████████████████████████████████████████████████████| 100/100 [00:00<00:00, 147.27it/s]\n",
      "100%|██████████████████████████████████████████████████████████████████████████████████████████████████████████████████████████████████████| 100/100 [00:00<00:00, 152.46it/s]\n",
      "100%|██████████████████████████████████████████████████████████████████████████████████████████████████████████████████████████████████████| 100/100 [00:00<00:00, 143.66it/s]\n",
      "100%|██████████████████████████████████████████████████████████████████████████████████████████████████████████████████████████████████████| 100/100 [00:00<00:00, 135.92it/s]\n",
      "100%|██████████████████████████████████████████████████████████████████████████████████████████████████████████████████████████████████████| 100/100 [00:00<00:00, 138.74it/s]\n",
      "100%|██████████████████████████████████████████████████████████████████████████████████████████████████████████████████████████████████████| 100/100 [00:00<00:00, 132.25it/s]\n",
      "100%|██████████████████████████████████████████████████████████████████████████████████████████████████████████████████████████████████████| 100/100 [00:00<00:00, 124.46it/s]\n",
      "100%|██████████████████████████████████████████████████████████████████████████████████████████████████████████████████████████████████████| 100/100 [00:00<00:00, 154.14it/s]\n",
      "100%|██████████████████████████████████████████████████████████████████████████████████████████████████████████████████████████████████████| 100/100 [00:00<00:00, 136.00it/s]\n",
      "100%|██████████████████████████████████████████████████████████████████████████████████████████████████████████████████████████████████████| 100/100 [00:00<00:00, 153.36it/s]\n",
      "100%|██████████████████████████████████████████████████████████████████████████████████████████████████████████████████████████████████████| 100/100 [00:00<00:00, 147.47it/s]\n",
      "100%|██████████████████████████████████████████████████████████████████████████████████████████████████████████████████████████████████████| 100/100 [00:00<00:00, 144.04it/s]\n",
      "100%|██████████████████████████████████████████████████████████████████████████████████████████████████████████████████████████████████████| 100/100 [00:00<00:00, 139.73it/s]\n",
      "100%|██████████████████████████████████████████████████████████████████████████████████████████████████████████████████████████████████████| 100/100 [00:00<00:00, 114.84it/s]\n",
      "100%|██████████████████████████████████████████████████████████████████████████████████████████████████████████████████████████████████████| 100/100 [00:00<00:00, 134.70it/s]\n",
      "100%|██████████████████████████████████████████████████████████████████████████████████████████████████████████████████████████████████████| 100/100 [00:00<00:00, 170.86it/s]\n",
      "100%|██████████████████████████████████████████████████████████████████████████████████████████████████████████████████████████████████████| 100/100 [00:00<00:00, 158.48it/s]\n",
      "100%|██████████████████████████████████████████████████████████████████████████████████████████████████████████████████████████████████████| 100/100 [00:00<00:00, 166.99it/s]\n",
      "100%|██████████████████████████████████████████████████████████████████████████████████████████████████████████████████████████████████████| 100/100 [00:00<00:00, 132.21it/s]\n",
      "100%|██████████████████████████████████████████████████████████████████████████████████████████████████████████████████████████████████████| 100/100 [00:00<00:00, 123.05it/s]\n"
     ]
    },
    {
     "data": {
      "text/plain": [
       "({'city': 2.997859127240021,\n",
       "  'section': 0.43974423418358655,\n",
       "  'subsection': 0.0007198525610273565,\n",
       "  'text': 2.6179612958375116},\n",
       " 0.7893571428571429)"
      ]
     },
     "execution_count": 82,
     "metadata": {},
     "output_type": "execute_result"
    }
   ],
   "source": [
    "simple_optimize(param_ranges, objective, n_iterations=20)"
   ]
  },
  {
   "cell_type": "code",
   "execution_count": 85,
   "id": "84c694cb-f1d7-4da4-9e1a-33e1440863e2",
   "metadata": {},
   "outputs": [
    {
     "name": "stderr",
     "output_type": "stream",
     "text": [
      "100%|████████████████████████████████████████████████████████████████████████████████████████████████████████████████████████████████████| 2720/2720 [00:24<00:00, 113.19it/s]\n"
     ]
    },
    {
     "data": {
      "text/plain": [
       "{'hit_rate': 0.8669117647058824, 'mrr': 0.7287146942110163}"
      ]
     },
     "execution_count": 85,
     "metadata": {},
     "output_type": "execute_result"
    }
   ],
   "source": [
    "# Apply the boost params in the whole dataset\n",
    "def minsearh_improved(query):\n",
    "    \n",
    "    boost = {\n",
    "          'city': 2.99,\n",
    "          'section': 0.43,\n",
    "          'subsection': 0.00,\n",
    "          'text': 2.61,\n",
    "    }\n",
    "\n",
    "    results = index.search(\n",
    "        query=query,\n",
    "        filter_dict={},\n",
    "        boost_dict=boost,\n",
    "        num_results=10\n",
    "    )\n",
    "\n",
    "    return results\n",
    "\n",
    "\n",
    "evaluate(ground_truth, lambda q: minsearh_improved(q['question']))"
   ]
  },
  {
   "cell_type": "markdown",
   "id": "2dd4b8e1-0e94-4146-973f-eb222bfdcb42",
   "metadata": {},
   "source": [
    "{'hit_rate': 0.8636029411764706, 'mrr': 0.7254728349673186}"
   ]
  },
  {
   "cell_type": "code",
   "execution_count": null,
   "id": "5a39921e-d226-4d78-b521-ed58a757581d",
   "metadata": {},
   "outputs": [],
   "source": []
  },
  {
   "cell_type": "code",
   "execution_count": null,
   "id": "6a4e3378-59da-4094-9ca1-2f63eacf2296",
   "metadata": {},
   "outputs": [],
   "source": []
  },
  {
   "cell_type": "code",
   "execution_count": null,
   "id": "389cd104-6da7-4f2f-bc0c-89a445a58f9c",
   "metadata": {},
   "outputs": [],
   "source": []
  }
 ],
 "metadata": {
  "kernelspec": {
   "display_name": "Python 3 (ipykernel)",
   "language": "python",
   "name": "python3"
  },
  "language_info": {
   "codemirror_mode": {
    "name": "ipython",
    "version": 3
   },
   "file_extension": ".py",
   "mimetype": "text/x-python",
   "name": "python",
   "nbconvert_exporter": "python",
   "pygments_lexer": "ipython3",
   "version": "3.12.2"
  }
 },
 "nbformat": 4,
 "nbformat_minor": 5
}
