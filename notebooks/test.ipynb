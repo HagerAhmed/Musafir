{
 "cells": [
  {
   "cell_type": "code",
   "execution_count": 9,
   "id": "b449869e-a5f4-4e9c-86f4-4492fad84aa8",
   "metadata": {},
   "outputs": [],
   "source": [
    "import os\n",
    "os.environ[\"SSL_CERT_FILE\"] = \"Fortinet_CA_SSL(15).cer\"\n"
   ]
  },
  {
   "cell_type": "code",
   "execution_count": 10,
   "id": "29d642a8-2857-4307-bbf8-42f8d13264bc",
   "metadata": {},
   "outputs": [],
   "source": [
    "import requests\n",
    "import json\n",
    "from bs4 import BeautifulSoup\n"
   ]
  },
  {
   "cell_type": "code",
   "execution_count": 21,
   "id": "19f49552-46ec-4800-876a-32223950bd6c",
   "metadata": {},
   "outputs": [
    {
     "name": "stdout",
     "output_type": "stream",
     "text": [
      "📍 Fetching data for London...\n",
      "✅ Saved ../data/raw_data/london_subsections.json\n",
      "📍 Fetching data for Rome...\n",
      "✅ Saved ../data/raw_data/rome_subsections.json\n",
      "📍 Fetching data for Seoul...\n",
      "✅ Saved ../data/raw_data/seoul_subsections.json\n",
      "📍 Fetching data for Cairo...\n",
      "✅ Saved ../data/raw_data/cairo_subsections.json\n"
     ]
    }
   ],
   "source": [
    "import requests\n",
    "import json\n",
    "from bs4 import BeautifulSoup\n",
    "\n",
    "def fetch_wikivoyage_sections(page: str, user_agent=\"MyWikiVoyageClient/1.0 (contact: your-email@example.com)\"):\n",
    "    api_url = \"https://en.wikivoyage.org/w/api.php\"\n",
    "    headers = {\"User-Agent\": user_agent}\n",
    "\n",
    "    # Step 1: Get metadata about all sections (top + sub)\n",
    "    params = {\n",
    "        \"action\": \"parse\",\n",
    "        \"page\": page,\n",
    "        \"format\": \"json\",\n",
    "        \"prop\": \"sections\"\n",
    "    }\n",
    "    res = requests.get(api_url, params=params, headers=headers).json()\n",
    "    sections_meta = res[\"parse\"][\"sections\"]\n",
    "\n",
    "    wanted = {\"districts\", \"see\", \"buy\", \"eat\", \"drink\", \"sleep\", \"stay safe\"}\n",
    "    result = {}\n",
    "\n",
    "    # Helper: clean HTML → paragraphs, list items, tables\n",
    "    def html_to_paragraphs(html: str):\n",
    "        soup = BeautifulSoup(html, \"html.parser\")\n",
    "        paragraphs = []\n",
    "\n",
    "        for p in soup.find_all(\"p\"):\n",
    "            text = p.get_text(\" \", strip=True)\n",
    "            if text:\n",
    "                paragraphs.append(text)\n",
    "\n",
    "        for li in soup.find_all(\"li\"):\n",
    "            text = li.get_text(\" \", strip=True)\n",
    "            if text:\n",
    "                paragraphs.append(text)\n",
    "\n",
    "        for td in soup.find_all(\"td\"):\n",
    "            text = td.get_text(\" \", strip=True)\n",
    "            if text:\n",
    "                paragraphs.append(text)\n",
    "\n",
    "        return paragraphs\n",
    "\n",
    "    # Step 2: Grab description (section 0)\n",
    "    lead_params = {\n",
    "        \"action\": \"parse\",\n",
    "        \"page\": page,\n",
    "        \"format\": \"json\",\n",
    "        \"prop\": \"text\",\n",
    "        \"section\": 0\n",
    "    }\n",
    "    lead = requests.get(api_url, params=lead_params, headers=headers).json()\n",
    "    lead_html = lead[\"parse\"][\"text\"][\"*\"]\n",
    "    result[\"description\"] = html_to_paragraphs(lead_html)\n",
    "\n",
    "    # Step 3: Iterate through sections to build nested structure\n",
    "    for sec in sections_meta:\n",
    "        title = sec[\"line\"].strip()\n",
    "        title_lower = title.lower()\n",
    "        number = sec[\"number\"]\n",
    "        index = sec[\"index\"]\n",
    "\n",
    "        if title_lower in wanted and \".\" not in number:\n",
    "            sec_params = {\n",
    "                \"action\": \"parse\",\n",
    "                \"page\": page,\n",
    "                \"format\": \"json\",\n",
    "                \"prop\": \"text\",\n",
    "                \"section\": index\n",
    "            }\n",
    "            sec_data = requests.get(api_url, params=sec_params, headers=headers).json()\n",
    "            html = sec_data[\"parse\"][\"text\"][\"*\"]\n",
    "            result[title] = {\"content\": html_to_paragraphs(html), \"subsections\": {}}\n",
    "\n",
    "        elif \".\" in number:\n",
    "            parent_num = number.split(\".\")[0]\n",
    "            parent_section = next((s for s in sections_meta if s[\"number\"] == parent_num), None)\n",
    "            if parent_section and parent_section[\"line\"].strip().lower() in wanted:\n",
    "                parent_title = parent_section[\"line\"].strip()\n",
    "                sec_params = {\n",
    "                    \"action\": \"parse\",\n",
    "                    \"page\": page,\n",
    "                    \"format\": \"json\",\n",
    "                    \"prop\": \"text\",\n",
    "                    \"section\": index\n",
    "                }\n",
    "                sec_data = requests.get(api_url, params=sec_params, headers=headers).json()\n",
    "                html = sec_data[\"parse\"][\"text\"][\"*\"]\n",
    "                if parent_title in result:\n",
    "                    result[parent_title][\"subsections\"][title] = html_to_paragraphs(html)\n",
    "\n",
    "    return result\n",
    "\n",
    "# === Multiple cities ===\n",
    "cities = [\"London\", \"Rome\", \"Seoul\", \"Cairo\"]\n",
    "\n",
    "for city in cities:\n",
    "    print(f\"📍 Fetching data for {city}...\")\n",
    "    data = fetch_wikivoyage_sections(city)\n",
    "    # Create the directory structure if it doesn't exist\n",
    "    os.makedirs(\"../data/raw_data\", exist_ok=True)\n",
    "    filename = f\"../data/raw_data/{city.lower()}_subsections.json\"\n",
    "    with open(filename, \"w\", encoding=\"utf-8\") as f:\n",
    "        json.dump(data, f, indent=2, ensure_ascii=False)\n",
    "    print(f\"✅ Saved {filename}\")\n"
   ]
  },
  {
   "cell_type": "code",
   "execution_count": 22,
   "id": "831c8206-4631-43f7-a9f2-6e8d5b1d3be0",
   "metadata": {},
   "outputs": [],
   "source": [
    "import json\n",
    "import csv\n",
    "import glob\n",
    "import re\n",
    "import os\n",
    "import requests\n"
   ]
  },
  {
   "cell_type": "code",
   "execution_count": 25,
   "id": "68369c50-96a8-49b4-9164-59ed65cb6093",
   "metadata": {},
   "outputs": [
    {
     "name": "stdout",
     "output_type": "stream",
     "text": [
      "Converting ../data/raw_data/cairo_subsections.json -> ../data/processed_data/cairo_subsections.csv ...\n",
      "  rows written: 109\n",
      "Converting ../data/raw_data/london_subsections.json -> ../data/processed_data/london_subsections.csv ...\n",
      "  rows written: 468\n",
      "Converting ../data/raw_data/rome_subsections.json -> ../data/processed_data/rome_subsections.csv ...\n",
      "  rows written: 252\n",
      "Converting ../data/raw_data/seoul_subsections.json -> ../data/processed_data/seoul_subsections.csv ...\n",
      "  rows written: 71\n",
      "Writing combined CSV: ../data/processed_data/all_cities_combined.csv (total rows: 900)\n",
      "✅ Done. Per-file CSVs plus combined CSV created in processed_data folder.\n"
     ]
    }
   ],
   "source": [
    "# Mapping city to their countries and continent\n",
    "KNOWN_CITY_MAP = {\n",
    "    \"london\": (\"United Kingdom\", \"Europe\"),\n",
    "    \"rome\": (\"Italy\", \"Europe\"),\n",
    "    \"seoul\": (\"South Korea\", \"Asia\"),\n",
    "    \"cairo\": (\"Egypt\", \"Africa\"),\n",
    "    # add more known cities here if you want\n",
    "}\n",
    "\n",
    "RAW_FOLDER = \"../data/raw_data\"\n",
    "PROCESSED_FOLDER = \"../data/processed_data\"\n",
    "os.makedirs(PROCESSED_FOLDER, exist_ok=True)\n",
    "\n",
    "\n",
    "def convert_json_to_csv(json_file, csv_file):\n",
    "    with open(json_file, \"r\", encoding=\"utf-8\") as f:\n",
    "        data = json.load(f)\n",
    "\n",
    "    # Prefer metadata.city if available, else infer from filename\n",
    "    meta_city = data.get(\"metadata\", {}).get(\"city\")\n",
    "    if meta_city:\n",
    "        city = meta_city\n",
    "    else:\n",
    "        base = os.path.basename(json_file)\n",
    "        m = re.match(r'(.+?)_subsections\\.json$', base, flags=re.I)\n",
    "        if m:\n",
    "            city_raw = m.group(1)\n",
    "        else:\n",
    "            city_raw = os.path.splitext(base)[0]\n",
    "        city = city_raw.replace(\"_\", \" \").strip().title()\n",
    "\n",
    "    # Country + continent from known mapping\n",
    "    country, continent = KNOWN_CITY_MAP.get(city.lower(), (\"\", \"\"))\n",
    "\n",
    "    rows = []\n",
    "    # Description rows\n",
    "    for text in data.get(\"description\", []):\n",
    "        rows.append([city, country, continent, \"description\", \"\", text])\n",
    "\n",
    "    # Sections\n",
    "    for section, sec_data in data.items():\n",
    "        if section in (\"description\", \"metadata\"):\n",
    "            continue\n",
    "        if not isinstance(sec_data, dict):\n",
    "            continue\n",
    "        # Top-level content\n",
    "        for txt in sec_data.get(\"content\", []):\n",
    "            rows.append([city, country, continent, section, \"\", txt])\n",
    "        # Subsections\n",
    "        for sub, sub_list in sec_data.get(\"subsections\", {}).items():\n",
    "            for txt in sub_list:\n",
    "                rows.append([city, country, continent, section, sub, txt])\n",
    "\n",
    "    # Write per-file CSV\n",
    "    with open(csv_file, \"w\", newline=\"\", encoding=\"utf-8\") as f:\n",
    "        writer = csv.writer(f)\n",
    "        writer.writerow([\"city\", \"country\", \"continent\", \"section\", \"subsection\", \"text\"])\n",
    "        writer.writerows(rows)\n",
    "\n",
    "    return rows\n",
    "\n",
    "\n",
    "# === main: convert all *_subsections.json files and create combined CSV ===\n",
    "all_rows = []\n",
    "files = glob.glob(os.path.join(RAW_FOLDER, \"*_subsections.json\"))\n",
    "if not files:\n",
    "    print(\"No JSON files found in raw_data folder.\")\n",
    "else:\n",
    "    for jf in files:\n",
    "        base = os.path.basename(jf).replace(\".json\", \".csv\")\n",
    "        csv_name = os.path.join(PROCESSED_FOLDER, base)\n",
    "        print(f\"Converting {jf} -> {csv_name} ...\")\n",
    "        rows = convert_json_to_csv(jf, csv_name)\n",
    "        all_rows.extend(rows)\n",
    "        print(f\"  rows written: {len(rows)}\")\n",
    "\n",
    "    # Write combined CSV\n",
    "    combined_name = os.path.join(PROCESSED_FOLDER, \"all_cities_combined.csv\")\n",
    "    print(f\"Writing combined CSV: {combined_name} (total rows: {len(all_rows)})\")\n",
    "    with open(combined_name, \"w\", newline=\"\", encoding=\"utf-8\") as f:\n",
    "        writer = csv.writer(f)\n",
    "        writer.writerow([\"city\", \"country\", \"continent\", \"section\", \"subsection\", \"text\"])\n",
    "        writer.writerows(all_rows)\n",
    "\n",
    "    print(\"✅ Done. Per-file CSVs plus combined CSV created in processed_data folder.\")\n"
   ]
  },
  {
   "cell_type": "code",
   "execution_count": 28,
   "id": "2a91850a-0742-4798-ade5-bfbe6f05a2b1",
   "metadata": {},
   "outputs": [],
   "source": [
    "df = pd.read_csv(\"../data/processed_data/all_cities_combined.csv\")"
   ]
  },
  {
   "cell_type": "code",
   "execution_count": 29,
   "id": "a342447f-4012-469d-a8f2-7fb8bf7d13bc",
   "metadata": {},
   "outputs": [
    {
     "data": {
      "text/html": [
       "<div>\n",
       "<style scoped>\n",
       "    .dataframe tbody tr th:only-of-type {\n",
       "        vertical-align: middle;\n",
       "    }\n",
       "\n",
       "    .dataframe tbody tr th {\n",
       "        vertical-align: top;\n",
       "    }\n",
       "\n",
       "    .dataframe thead th {\n",
       "        text-align: right;\n",
       "    }\n",
       "</style>\n",
       "<table border=\"1\" class=\"dataframe\">\n",
       "  <thead>\n",
       "    <tr style=\"text-align: right;\">\n",
       "      <th></th>\n",
       "      <th>city</th>\n",
       "      <th>country</th>\n",
       "      <th>continent</th>\n",
       "      <th>section</th>\n",
       "      <th>subsection</th>\n",
       "      <th>text</th>\n",
       "    </tr>\n",
       "  </thead>\n",
       "  <tbody>\n",
       "    <tr>\n",
       "      <th>0</th>\n",
       "      <td>Cairo</td>\n",
       "      <td>Egypt</td>\n",
       "      <td>Africa</td>\n",
       "      <td>description</td>\n",
       "      <td>NaN</td>\n",
       "      <td>Cairo (pronounced KY-roh ; Arabic : القاهرة al...</td>\n",
       "    </tr>\n",
       "    <tr>\n",
       "      <th>1</th>\n",
       "      <td>Cairo</td>\n",
       "      <td>Egypt</td>\n",
       "      <td>Africa</td>\n",
       "      <td>description</td>\n",
       "      <td>NaN</td>\n",
       "      <td>On the Nile river, Cairo is famous for its own...</td>\n",
       "    </tr>\n",
       "    <tr>\n",
       "      <th>2</th>\n",
       "      <td>Cairo</td>\n",
       "      <td>Egypt</td>\n",
       "      <td>Africa</td>\n",
       "      <td>description</td>\n",
       "      <td>NaN</td>\n",
       "      <td>Though firmly attached to the past, Cairo is a...</td>\n",
       "    </tr>\n",
       "    <tr>\n",
       "      <th>3</th>\n",
       "      <td>Cairo</td>\n",
       "      <td>Egypt</td>\n",
       "      <td>Africa</td>\n",
       "      <td>Districts</td>\n",
       "      <td>NaN</td>\n",
       "      <td>Greater Cairo is vast; with more than 20 milli...</td>\n",
       "    </tr>\n",
       "    <tr>\n",
       "      <th>4</th>\n",
       "      <td>Cairo</td>\n",
       "      <td>Egypt</td>\n",
       "      <td>Africa</td>\n",
       "      <td>Districts</td>\n",
       "      <td>NaN</td>\n",
       "      <td>Downtown The modern city centre. Midan Tahrir ...</td>\n",
       "    </tr>\n",
       "    <tr>\n",
       "      <th>...</th>\n",
       "      <td>...</td>\n",
       "      <td>...</td>\n",
       "      <td>...</td>\n",
       "      <td>...</td>\n",
       "      <td>...</td>\n",
       "      <td>...</td>\n",
       "    </tr>\n",
       "    <tr>\n",
       "      <th>895</th>\n",
       "      <td>Seoul</td>\n",
       "      <td>South Korea</td>\n",
       "      <td>Asia</td>\n",
       "      <td>Stay safe</td>\n",
       "      <td>NaN</td>\n",
       "      <td>Do not try to use drones to take pictures in S...</td>\n",
       "    </tr>\n",
       "    <tr>\n",
       "      <th>896</th>\n",
       "      <td>Seoul</td>\n",
       "      <td>South Korea</td>\n",
       "      <td>Asia</td>\n",
       "      <td>Stay safe</td>\n",
       "      <td>NaN</td>\n",
       "      <td>Unfortunately, crimes by American soldiers aga...</td>\n",
       "    </tr>\n",
       "    <tr>\n",
       "      <th>897</th>\n",
       "      <td>Seoul</td>\n",
       "      <td>South Korea</td>\n",
       "      <td>Asia</td>\n",
       "      <td>Stay safe</td>\n",
       "      <td>NaN</td>\n",
       "      <td>Protesting : Large-scale demonstrations agains...</td>\n",
       "    </tr>\n",
       "    <tr>\n",
       "      <th>898</th>\n",
       "      <td>Seoul</td>\n",
       "      <td>South Korea</td>\n",
       "      <td>Asia</td>\n",
       "      <td>Stay safe</td>\n",
       "      <td>NaN</td>\n",
       "      <td>Fake monks have been known to operate in Seoul...</td>\n",
       "    </tr>\n",
       "    <tr>\n",
       "      <th>899</th>\n",
       "      <td>Seoul</td>\n",
       "      <td>South Korea</td>\n",
       "      <td>Asia</td>\n",
       "      <td>Stay safe</td>\n",
       "      <td>NaN</td>\n",
       "      <td>Scams: Be wary of Korean people randomly comin...</td>\n",
       "    </tr>\n",
       "  </tbody>\n",
       "</table>\n",
       "<p>900 rows × 6 columns</p>\n",
       "</div>"
      ],
      "text/plain": [
       "      city      country continent      section subsection  \\\n",
       "0    Cairo        Egypt    Africa  description        NaN   \n",
       "1    Cairo        Egypt    Africa  description        NaN   \n",
       "2    Cairo        Egypt    Africa  description        NaN   \n",
       "3    Cairo        Egypt    Africa    Districts        NaN   \n",
       "4    Cairo        Egypt    Africa    Districts        NaN   \n",
       "..     ...          ...       ...          ...        ...   \n",
       "895  Seoul  South Korea      Asia    Stay safe        NaN   \n",
       "896  Seoul  South Korea      Asia    Stay safe        NaN   \n",
       "897  Seoul  South Korea      Asia    Stay safe        NaN   \n",
       "898  Seoul  South Korea      Asia    Stay safe        NaN   \n",
       "899  Seoul  South Korea      Asia    Stay safe        NaN   \n",
       "\n",
       "                                                  text  \n",
       "0    Cairo (pronounced KY-roh ; Arabic : القاهرة al...  \n",
       "1    On the Nile river, Cairo is famous for its own...  \n",
       "2    Though firmly attached to the past, Cairo is a...  \n",
       "3    Greater Cairo is vast; with more than 20 milli...  \n",
       "4    Downtown The modern city centre. Midan Tahrir ...  \n",
       "..                                                 ...  \n",
       "895  Do not try to use drones to take pictures in S...  \n",
       "896  Unfortunately, crimes by American soldiers aga...  \n",
       "897  Protesting : Large-scale demonstrations agains...  \n",
       "898  Fake monks have been known to operate in Seoul...  \n",
       "899  Scams: Be wary of Korean people randomly comin...  \n",
       "\n",
       "[900 rows x 6 columns]"
      ]
     },
     "execution_count": 29,
     "metadata": {},
     "output_type": "execute_result"
    }
   ],
   "source": [
    "df"
   ]
  },
  {
   "cell_type": "code",
   "execution_count": 30,
   "id": "aa5d416c-3f2a-4aa4-b44d-72896c792dd0",
   "metadata": {},
   "outputs": [
    {
     "name": "stdout",
     "output_type": "stream",
     "text": [
      "--2025-09-22 13:43:08--  https://raw.githubusercontent.com/alexeygrigorev/minsearch/main/minsearch.py\n",
      "Resolving raw.githubusercontent.com (raw.githubusercontent.com)... 185.199.108.133, 185.199.110.133, 185.199.109.133, ...\n",
      "Connecting to raw.githubusercontent.com (raw.githubusercontent.com)|185.199.108.133|:443... connected.\n",
      "HTTP request sent, awaiting response... 200 OK\n",
      "Length: 4273 (4.2K) [text/plain]\n",
      "Saving to: ‘minsearch.py’\n",
      "\n",
      "minsearch.py        100%[===================>]   4.17K  --.-KB/s    in 0.002s  \n",
      "\n",
      "2025-09-22 13:43:09 (2.22 MB/s) - ‘minsearch.py’ saved [4273/4273]\n",
      "\n"
     ]
    }
   ],
   "source": [
    "!wget https://raw.githubusercontent.com/alexeygrigorev/minsearch/main/minsearch.py --no-check-certificate"
   ]
  },
  {
   "cell_type": "code",
   "execution_count": 31,
   "id": "de261d38-7aca-4e31-9570-7f1981fa9914",
   "metadata": {},
   "outputs": [
    {
     "name": "stderr",
     "output_type": "stream",
     "text": [
      "/mnt/d/Travel Assistant/Musafir/notebooks/minsearch.py:10: UserWarning: Now minsearch is installable via pip: 'pip install minsearch'. Remove the downloaded file and re-install it with pip.\n",
      "  warnings.warn(\n"
     ]
    }
   ],
   "source": [
    "import minsearch"
   ]
  },
  {
   "cell_type": "code",
   "execution_count": 32,
   "id": "81bc5d00-d3f8-4d7e-8929-22b057d224ca",
   "metadata": {},
   "outputs": [
    {
     "data": {
      "text/plain": [
       "Index(['city', 'country', 'continent', 'section', 'subsection', 'text'], dtype='object')"
      ]
     },
     "execution_count": 32,
     "metadata": {},
     "output_type": "execute_result"
    }
   ],
   "source": [
    "df.columns"
   ]
  },
  {
   "cell_type": "code",
   "execution_count": 33,
   "id": "fc1d920f-2a48-4624-ab30-4f229b6b48e8",
   "metadata": {},
   "outputs": [],
   "source": [
    "documents = df.to_dict(orient='records')"
   ]
  },
  {
   "cell_type": "code",
   "execution_count": 34,
   "id": "2e553c67-8eed-4fcc-8d89-ddb9b162b047",
   "metadata": {},
   "outputs": [
    {
     "data": {
      "text/plain": [
       "{'city': 'Cairo',\n",
       " 'country': 'Egypt',\n",
       " 'continent': 'Africa',\n",
       " 'section': 'See',\n",
       " 'subsection': nan,\n",
       " 'text': 'Cairo has an overwhelming array of attractions, listed under their individual districts along with transport and other practicalities. Some highlights:'}"
      ]
     },
     "execution_count": 34,
     "metadata": {},
     "output_type": "execute_result"
    }
   ],
   "source": [
    "documents[15]"
   ]
  },
  {
   "cell_type": "code",
   "execution_count": 37,
   "id": "dc646e1b-31a9-4658-b8e8-622be2561088",
   "metadata": {},
   "outputs": [],
   "source": [
    "index = minsearch.Index(\n",
    "    text_fields=['city', 'country', 'continent', 'section',  'text'],\n",
    "    keyword_fields=[]\n",
    ")"
   ]
  },
  {
   "cell_type": "code",
   "execution_count": 38,
   "id": "a419b317-f90c-4a19-9e95-c7a3a1cbef13",
   "metadata": {},
   "outputs": [
    {
     "data": {
      "text/plain": [
       "<minsearch.Index at 0x7f28e5265070>"
      ]
     },
     "execution_count": 38,
     "metadata": {},
     "output_type": "execute_result"
    }
   ],
   "source": [
    "index.fit(documents)"
   ]
  },
  {
   "cell_type": "code",
   "execution_count": 39,
   "id": "0446fcb5-dd6b-40e2-9778-00643721979d",
   "metadata": {},
   "outputs": [],
   "source": [
    "query = \"give me a three-day trip to London\""
   ]
  },
  {
   "cell_type": "code",
   "execution_count": 40,
   "id": "39feafe2-964e-431c-995f-ae2611d151fb",
   "metadata": {},
   "outputs": [
    {
     "data": {
      "text/plain": [
       "[{'city': 'London',\n",
       "  'country': 'United Kingdom',\n",
       "  'continent': 'Europe',\n",
       "  'section': 'See',\n",
       "  'subsection': 'London Pass',\n",
       "  'text': 'Whereas some London museums offer free entry, some other top London attractions are ridiculously expensive. For example, entry to Westminster Abbey costs £20 per person (adult), and entry to the Tower is £21.50 per adult if bought online (2017). These prices can be sometimes mitigated by a purchase of London Pass, which needs to be done at the London Pass website . The pass comes in several varieties and gives access to over 60 attractions, including both Westminster Abbey and the Tower. For example, a day pass costs £62 for an adult (2017). The best strategy, if one wants to visit several expensive high-profile attractions, is to buy a day pass and to try visiting all of them in the same day. This requires some advanced planning and will not give you much time at each place you visit - for example, it can take an hour on public transport to travel between the Tower of London and London Zoo.'},\n",
       " {'city': 'London',\n",
       "  'country': 'United Kingdom',\n",
       "  'continent': 'Europe',\n",
       "  'section': 'See',\n",
       "  'subsection': nan,\n",
       "  'text': 'Whereas some London museums offer free entry, some other top London attractions are ridiculously expensive. For example, entry to Westminster Abbey costs £20 per person (adult), and entry to the Tower is £21.50 per adult if bought online (2017). These prices can be sometimes mitigated by a purchase of London Pass, which needs to be done at the London Pass website . The pass comes in several varieties and gives access to over 60 attractions, including both Westminster Abbey and the Tower. For example, a day pass costs £62 for an adult (2017). The best strategy, if one wants to visit several expensive high-profile attractions, is to buy a day pass and to try visiting all of them in the same day. This requires some advanced planning and will not give you much time at each place you visit - for example, it can take an hour on public transport to travel between the Tower of London and London Zoo.'},\n",
       " {'city': 'London',\n",
       "  'country': 'United Kingdom',\n",
       "  'continent': 'Europe',\n",
       "  'section': 'Eat',\n",
       "  'subsection': nan,\n",
       "  'text': '£15 - some more expensive French, Mediterranean and international restaurants do cheaper two or three course lunch menus.'},\n",
       " {'city': 'London',\n",
       "  'country': 'United Kingdom',\n",
       "  'continent': 'Europe',\n",
       "  'section': 'Stay safe',\n",
       "  'subsection': 'Scams and cons',\n",
       "  'text': 'London has a large number of con artists around, all trying to convince you to hand over your money one way or another. In general, you should never give cash or your bank/credit card detail to people on the street no matter how genuine they seem.'},\n",
       " {'city': 'London',\n",
       "  'country': 'United Kingdom',\n",
       "  'continent': 'Europe',\n",
       "  'section': 'Stay safe',\n",
       "  'subsection': nan,\n",
       "  'text': 'London has a large number of con artists around, all trying to convince you to hand over your money one way or another. In general, you should never give cash or your bank/credit card detail to people on the street no matter how genuine they seem.'},\n",
       " {'city': 'London',\n",
       "  'country': 'United Kingdom',\n",
       "  'continent': 'Europe',\n",
       "  'section': 'See',\n",
       "  'subsection': nan,\n",
       "  'text': 'Transport for London Itineraries Feeling overwhelmed? Not sure how to begin planning your trip? Transport for London have produced their own useful list of itineraries for tourists . They include famous landmarks and iconic transport icons on their various public transport networks, among others.'},\n",
       " {'city': 'London',\n",
       "  'country': 'United Kingdom',\n",
       "  'continent': 'Europe',\n",
       "  'section': 'See',\n",
       "  'subsection': nan,\n",
       "  'text': 'Feeling overwhelmed? Not sure how to begin planning your trip? Transport for London have produced their own useful list of itineraries for tourists . They include famous landmarks and iconic transport icons on their various public transport networks, among others.'},\n",
       " {'city': 'London',\n",
       "  'country': 'United Kingdom',\n",
       "  'continent': 'Europe',\n",
       "  'section': 'Buy',\n",
       "  'subsection': nan,\n",
       "  'text': 'Nevertheless, a different matter is tax reclaim . Many big department stores in central London have an information booth where they can give you the paperwork needed to reclaim tax on purchases made at the store when you get to the airport.'},\n",
       " {'city': 'London',\n",
       "  'country': 'United Kingdom',\n",
       "  'continent': 'Europe',\n",
       "  'section': 'Buy',\n",
       "  'subsection': 'Tax-free',\n",
       "  'text': 'Nevertheless, a different matter is tax reclaim . Many big department stores in central London have an information booth where they can give you the paperwork needed to reclaim tax on purchases made at the store when you get to the airport.'},\n",
       " {'city': 'London',\n",
       "  'country': 'United Kingdom',\n",
       "  'continent': 'Europe',\n",
       "  'section': 'Stay safe',\n",
       "  'subsection': nan,\n",
       "  'text': 'In an emergency, telephone 999 or 112 . This number connects to police, ambulance and fire & rescue services. You will be asked which of these three services you require before being connected to the relevant operator.'}]"
      ]
     },
     "execution_count": 40,
     "metadata": {},
     "output_type": "execute_result"
    }
   ],
   "source": [
    "index.search(query, num_results=10)"
   ]
  },
  {
   "cell_type": "code",
   "execution_count": 41,
   "id": "da695d03-aed1-4408-aa5a-7c8a150d86bc",
   "metadata": {},
   "outputs": [],
   "source": [
    "from mistralai import Mistral\n",
    "from mistralai.models import UserMessage\n",
    "import os\n",
    "from dotenv import load_dotenv"
   ]
  },
  {
   "cell_type": "code",
   "execution_count": 42,
   "id": "751388db-a47f-487d-8835-97199244aa71",
   "metadata": {},
   "outputs": [
    {
     "data": {
      "text/plain": [
       "True"
      ]
     },
     "execution_count": 42,
     "metadata": {},
     "output_type": "execute_result"
    }
   ],
   "source": [
    "# loads variables from .env\n",
    "load_dotenv()  "
   ]
  },
  {
   "cell_type": "code",
   "execution_count": 43,
   "id": "8ec54367-728e-492e-b4d1-fb9b165b2e2d",
   "metadata": {},
   "outputs": [],
   "source": [
    "api_key = os.getenv(\"API_KEY\")"
   ]
  },
  {
   "cell_type": "code",
   "execution_count": 44,
   "id": "da3a8a93-71be-4998-b6e2-866e1f92c0ae",
   "metadata": {},
   "outputs": [
    {
     "name": "stdout",
     "output_type": "stream",
     "text": [
      "Here's a suggested three-day itinerary for a trip to London, covering major attractions, culture, and food:\n",
      "\n",
      "**Day 1: Iconic Landmarks**\n",
      "\n",
      "*Morning:*\n",
      "- Start your day at the **Tower of London**. Explore the historic castle, see the Crown Jewels, and join a guided tour by the Yeoman Warders.\n",
      "- Walk across **Tower Bridge** for panoramic views of the River Thames.\n",
      "\n",
      "*Afternoon:*\n",
      "- Have lunch at **Borough Market**, London's most renowned food market.\n",
      "- Visit **St. Paul's Cathedral** and climb to the dome for breathtaking views of the city.\n",
      "\n",
      "*Evening:*\n",
      "- Take a stroll along the **South Bank** and enjoy street performers, shops, and restaurants.\n",
      "- Have dinner at **Dishoom**, a popular Bombay-style café in Covent Garden.\n",
      "\n",
      "**Day 2: Museums & Parks**\n",
      "\n",
      "*Morning:*\n",
      "- Visit the **British Museum** to explore world history and cultures.\n",
      "\n",
      "*Afternoon:*\n",
      "- Have lunch at **Neal's Yard** in Covent Garden, offering a variety of eateries in a colorful courtyard.\n",
      "- Choose between the **Natural History Museum** or the **Victoria & Albert Museum**, depending on your interests.\n",
      "- Take a leisurely walk through **Hyde Park** and visit the **Serpentine Lake**.\n",
      "\n",
      "*Evening:*\n",
      "- Experience the vibrant **West End** with a theatre performance. Book tickets in advance for the best deals.\n",
      "- Have a late dinner at **The Palomar**, serving modern Israeli cuisine in Soho.\n",
      "\n",
      "**Day 3: Royal London & Shopping**\n",
      "\n",
      "*Morning:*\n",
      "- Begin your day with the **Changing of the Guard** ceremony at **Buckingham Palace** (check the schedule in advance).\n",
      "- Visit **Westminster Abbey** and explore its rich history.\n",
      "\n",
      "*Afternoon:*\n",
      "- Have lunch at **Dalloway Terrace**, a beautiful indoor-outdoor restaurant in Bloomsbury.\n",
      "- Shop at London's famous department stores like **Harrods** or **Selfridges** on Oxford Street.\n",
      "- Explore the picturesque neighborhoods of **Notting Hill** and **Portobello Road Market**.\n",
      "\n",
      "*Evening:*\n",
      "- Take a relaxing **river cruise** on the Thames to see London's landmarks from the water.\n",
      "- End your trip with a farewell dinner at **Sky Garden**, London's highest public garden with stunning city views.\n",
      "\n",
      "**Transportation Tip:** Get an **Oyster card** or use contactless payment cards for easy and discounted travel on London's public transportation network. Consider getting a **London Pass** for free entry to popular attractions and a hop-on-hop-off bus tour.\n",
      "\n",
      "Enjoy your trip to London!\n"
     ]
    }
   ],
   "source": [
    "client = Mistral(api_key = api_key)\n",
    "response = client.chat.complete(\n",
    "    model= \"mistral-large-2411\",\n",
    "    messages=[UserMessage(content=query)],\n",
    ")\n",
    "\n",
    "\n",
    "print(response.choices[0].message.content)"
   ]
  },
  {
   "cell_type": "code",
   "execution_count": 47,
   "id": "9b25b123-4f8a-4cfd-9ad2-6b2bc55cc8f9",
   "metadata": {},
   "outputs": [],
   "source": [
    "def search(query):\n",
    "    boost = {}\n",
    "\n",
    "    results = index.search(\n",
    "        query=query,\n",
    "        filter_dict={},\n",
    "        boost_dict=boost,\n",
    "        num_results=10\n",
    "    )\n",
    "\n",
    "    return results"
   ]
  },
  {
   "cell_type": "code",
   "execution_count": 86,
   "id": "b4043a82-9875-485f-a07a-90e8a0e50653",
   "metadata": {},
   "outputs": [],
   "source": [
    "that prompt \n",
    "prompt_template = \"\"\"\n",
    "You're a travel assistant. Answer the QUESTION based on the CONTEXT from our travel database.\n",
    "Use only the facts from the CONTEXT when answering the QUESTION.\n",
    "QUESTION: {question}\n",
    "CONTEXT:\n",
    "{context}\n",
    "\"\"\".strip()\n",
    "\n",
    "entry_template = \"\"\"\n",
    "City: 'city',\n",
    " Country: 'country',\n",
    " Continent: 'continent',\n",
    " Section: 'section',\n",
    " Subsection: 'subsection',\n",
    " Text:'text'\n",
    "\"\"\".strip()\n",
    "\n",
    "def build_prompt(query, search_results):\n",
    "    context = \"\"\n",
    "    \n",
    "    for doc in search_results:\n",
    "        context = context + entry_template.format(**doc) + \"\\n\\n\"\n",
    "\n",
    "    prompt = prompt_template.format(question=query, context=context).strip()\n",
    "    return prompt"
   ]
  },
  {
   "cell_type": "code",
   "execution_count": 87,
   "id": "0c9267f4-74bf-4f1c-9b04-2bb9d6bcaef0",
   "metadata": {},
   "outputs": [],
   "source": [
    "search_results = search(query)\n",
    "prompt = build_prompt(query, search_results)"
   ]
  },
  {
   "cell_type": "code",
   "execution_count": 88,
   "id": "3457750b-0936-4b43-8064-78fed5094454",
   "metadata": {},
   "outputs": [
    {
     "name": "stdout",
     "output_type": "stream",
     "text": [
      "You're a travel assistant. Answer the QUESTION using ONLY the information from the CONTEXT from our travel database.\n",
      "When asked for itineraries, organize the places, attractions, and activities mentioned in the CONTEXT into a logical day-by-day plan.\n",
      "Do not add any information that is not present in the CONTEXT.\n",
      "\n",
      "QUESTION: give me a three-day trip to London\n",
      "CONTEXT:\n",
      "City: 'city',\n",
      " Country: 'country',\n",
      " Continent: 'continent',\n",
      " Section: 'section',\n",
      " Subsection: 'subsection',\n",
      " Text:'text'\n",
      "\n",
      "City: 'city',\n",
      " Country: 'country',\n",
      " Continent: 'continent',\n",
      " Section: 'section',\n",
      " Subsection: 'subsection',\n",
      " Text:'text'\n",
      "\n",
      "City: 'city',\n",
      " Country: 'country',\n",
      " Continent: 'continent',\n",
      " Section: 'section',\n",
      " Subsection: 'subsection',\n",
      " Text:'text'\n",
      "\n",
      "City: 'city',\n",
      " Country: 'country',\n",
      " Continent: 'continent',\n",
      " Section: 'section',\n",
      " Subsection: 'subsection',\n",
      " Text:'text'\n",
      "\n",
      "City: 'city',\n",
      " Country: 'country',\n",
      " Continent: 'continent',\n",
      " Section: 'section',\n",
      " Subsection: 'subsection',\n",
      " Text:'text'\n",
      "\n",
      "City: 'city',\n",
      " Country: 'country',\n",
      " Continent: 'continent',\n",
      " Section: 'section',\n",
      " Subsection: 'subsection',\n",
      " Text:'text'\n",
      "\n",
      "City: 'city',\n",
      " Country: 'country',\n",
      " Continent: 'continent',\n",
      " Section: 'section',\n",
      " Subsection: 'subsection',\n",
      " Text:'text'\n",
      "\n",
      "City: 'city',\n",
      " Country: 'country',\n",
      " Continent: 'continent',\n",
      " Section: 'section',\n",
      " Subsection: 'subsection',\n",
      " Text:'text'\n",
      "\n",
      "City: 'city',\n",
      " Country: 'country',\n",
      " Continent: 'continent',\n",
      " Section: 'section',\n",
      " Subsection: 'subsection',\n",
      " Text:'text'\n",
      "\n",
      "City: 'city',\n",
      " Country: 'country',\n",
      " Continent: 'continent',\n",
      " Section: 'section',\n",
      " Subsection: 'subsection',\n",
      " Text:'text'\n",
      "\n",
      "\n",
      "\n",
      "If the context contains attractions, restaurants, or activities for the destination, group them into the requested number of days. If there isn't enough information in the context, state what information is available.\n"
     ]
    }
   ],
   "source": [
    "print(prompt)"
   ]
  },
  {
   "cell_type": "code",
   "execution_count": 89,
   "id": "4fb48339-0475-4802-9fd1-5eef9a34867a",
   "metadata": {},
   "outputs": [],
   "source": [
    "def llm(prompt, model='mistral-large-2411'):\n",
    "    client = Mistral(api_key = api_key)\n",
    "    response = client.chat.complete(\n",
    "        model= model,\n",
    "        messages=[UserMessage(content=prompt)],\n",
    "    )    \n",
    "    return response.choices[0].message.content"
   ]
  },
  {
   "cell_type": "code",
   "execution_count": 90,
   "id": "8421d14a-5061-494f-b2cf-4b9d7d4a28dc",
   "metadata": {},
   "outputs": [],
   "source": [
    "def rag(query):\n",
    "    search_results = search(query)\n",
    "    prompt = build_prompt(query, search_results)\n",
    "    answer = llm(prompt)\n",
    "    return answer"
   ]
  },
  {
   "cell_type": "code",
   "execution_count": 91,
   "id": "abec722c-54f6-4e9d-b827-bee118572ace",
   "metadata": {},
   "outputs": [
    {
     "name": "stdout",
     "output_type": "stream",
     "text": [
      "Based on the provided CONTEXT, there is no specific information about attractions, restaurants, or activities for London. Therefore, I cannot create a three-day itinerary for your trip to London.\n"
     ]
    }
   ],
   "source": [
    "answer = rag(query)\n",
    "print(answer)"
   ]
  },
  {
   "cell_type": "code",
   "execution_count": 92,
   "id": "a2714a40-a683-462d-b2a6-c3ef1e317e69",
   "metadata": {},
   "outputs": [
    {
     "name": "stdout",
     "output_type": "stream",
     "text": [
      "Based on the provided CONTEXT, there is no specific information available about Cairo. Therefore, I cannot provide any tips or itineraries for visiting Cairo.\n"
     ]
    }
   ],
   "source": [
    "# Ask another question \n",
    "answer = rag('I want some tips before visting cairo')\n",
    "print(answer)"
   ]
  },
  {
   "cell_type": "code",
   "execution_count": null,
   "id": "359c300b-76f0-4573-acce-79a4a19395a7",
   "metadata": {},
   "outputs": [],
   "source": []
  },
  {
   "cell_type": "code",
   "execution_count": null,
   "id": "99c85485-87c2-4e21-b35d-8f4f9ed9e901",
   "metadata": {},
   "outputs": [],
   "source": []
  }
 ],
 "metadata": {
  "kernelspec": {
   "display_name": "Python 3 (ipykernel)",
   "language": "python",
   "name": "python3"
  },
  "language_info": {
   "codemirror_mode": {
    "name": "ipython",
    "version": 3
   },
   "file_extension": ".py",
   "mimetype": "text/x-python",
   "name": "python",
   "nbconvert_exporter": "python",
   "pygments_lexer": "ipython3",
   "version": "3.12.2"
  }
 },
 "nbformat": 4,
 "nbformat_minor": 5
}
