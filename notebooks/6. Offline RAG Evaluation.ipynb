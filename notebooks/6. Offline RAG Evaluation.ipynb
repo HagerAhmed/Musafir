{
 "cells": [
  {
   "cell_type": "code",
   "execution_count": 1,
   "id": "63662267-6237-4db3-be13-c95b6c3780be",
   "metadata": {},
   "outputs": [],
   "source": [
    "import os\n",
    "os.environ[\"SSL_CERT_FILE\"] = \"/mnt/d/Travel Assistant/Musafir/Fortinet_CA_SSL(15).cer\"\n",
    "os.environ[\"REQUESTS_CA_BUNDLE\"] = \"/mnt/d/Travel Assistant/Musafir/Fortinet_CA_SSL(15).cer\""
   ]
  },
  {
   "cell_type": "code",
   "execution_count": 2,
   "id": "62e9bbc0-1e10-437f-aa15-ac84504c5866",
   "metadata": {},
   "outputs": [
    {
     "name": "stderr",
     "output_type": "stream",
     "text": [
      "/mnt/d/Travel Assistant/Musafir/venv/lib/python3.12/site-packages/tqdm/auto.py:21: TqdmWarning: IProgress not found. Please update jupyter and ipywidgets. See https://ipywidgets.readthedocs.io/en/stable/user_install.html\n",
      "  from .autonotebook import tqdm as notebook_tqdm\n"
     ]
    }
   ],
   "source": [
    "from qdrant_client import QdrantClient, models\n",
    "import requests\n",
    "from fastembed import TextEmbedding\n",
    "import json\n",
    "import random\n",
    "import pandas as pd\n",
    "from tqdm.auto import tqdm\n",
    "import uuid"
   ]
  },
  {
   "cell_type": "code",
   "execution_count": 3,
   "id": "8bc0937b-4369-4bf2-be6e-da9e1c7dc59d",
   "metadata": {},
   "outputs": [],
   "source": [
    "from sentence_transformers import SentenceTransformer"
   ]
  },
  {
   "cell_type": "code",
   "execution_count": 4,
   "id": "2a88f34f-a36c-4f37-93c1-322e2169adcb",
   "metadata": {},
   "outputs": [],
   "source": [
    "# import the data \n",
    "with open('../data/processed_data/documents-with-ids.json', 'rt') as f_in:\n",
    "    documents = json.load(f_in)\n"
   ]
  },
  {
   "cell_type": "code",
   "execution_count": 5,
   "id": "d294eebb-aa02-42d9-921e-370fb9f52fe8",
   "metadata": {},
   "outputs": [],
   "source": [
    "# Ground Truth data\n",
    "df_gt = pd.read_csv('../data/result/groud-truth-retrieval.csv')"
   ]
  },
  {
   "cell_type": "code",
   "execution_count": 6,
   "id": "ce6b19bc-5b80-4edb-a1c9-9362ef81142b",
   "metadata": {},
   "outputs": [],
   "source": [
    "ground_truth =  df_gt.to_dict(orient=\"records\")"
   ]
  },
  {
   "cell_type": "code",
   "execution_count": 7,
   "id": "df619b09-470a-4f34-8acf-8664f09b89b5",
   "metadata": {},
   "outputs": [
    {
     "data": {
      "text/plain": [
       "{'id': '91c82200',\n",
       " 'city': 'Cairo',\n",
       " 'question': 'What was the purpose of Abdeen Palace in Cairo until 1952?'}"
      ]
     },
     "execution_count": 7,
     "metadata": {},
     "output_type": "execute_result"
    }
   ],
   "source": [
    "ground_truth[10]"
   ]
  },
  {
   "cell_type": "code",
   "execution_count": 8,
   "id": "6e0d0eef-d9f2-40dc-9a1f-6681f414b1cd",
   "metadata": {},
   "outputs": [
    {
     "data": {
      "text/plain": [
       "'30.0417 31.2483 4 Abdeen Palace . About 1 km east of Midan El-Tahrir, it was the royal residence until the Egyptian monarchy was deposed in 1952. ( updated Jan 2018 )'"
      ]
     },
     "execution_count": 8,
     "metadata": {},
     "output_type": "execute_result"
    }
   ],
   "source": [
    "doc_idx = {d['id']: d for d in documents}\n",
    "doc_idx['91c82200']['text']\n"
   ]
  },
  {
   "cell_type": "code",
   "execution_count": 9,
   "id": "cb45fc1b-d844-4afe-b1af-22cac4110677",
   "metadata": {},
   "outputs": [],
   "source": [
    "model_name = 'multi-qa-distilbert-cos-v1'\n",
    "model = SentenceTransformer(model_name)"
   ]
  },
  {
   "cell_type": "code",
   "execution_count": 10,
   "id": "8868dd19-5c8d-4442-8136-fce6d7aa74bb",
   "metadata": {},
   "outputs": [
    {
     "data": {
      "text/plain": [
       "SentenceTransformer(\n",
       "  (0): Transformer({'max_seq_length': 512, 'do_lower_case': False, 'architecture': 'DistilBertModel'})\n",
       "  (1): Pooling({'word_embedding_dimension': 768, 'pooling_mode_cls_token': False, 'pooling_mode_mean_tokens': True, 'pooling_mode_max_tokens': False, 'pooling_mode_mean_sqrt_len_tokens': False, 'pooling_mode_weightedmean_tokens': False, 'pooling_mode_lasttoken': False, 'include_prompt': True})\n",
       "  (2): Normalize()\n",
       ")"
      ]
     },
     "execution_count": 10,
     "metadata": {},
     "output_type": "execute_result"
    }
   ],
   "source": [
    "model"
   ]
  },
  {
   "cell_type": "code",
   "execution_count": 11,
   "id": "820d2a96-6d13-40e8-9939-e53479c051fb",
   "metadata": {},
   "outputs": [
    {
     "name": "stderr",
     "output_type": "stream",
     "text": [
      "/tmp/ipykernel_8543/2923977033.py:2: UserWarning: Qdrant client version 1.15.1 is incompatible with server version 1.12.4. Major versions should match and minor version difference must not exceed 1. Set check_compatibility=False to skip version check.\n",
      "  qdrant_client = QdrantClient(url=\"http://localhost:6333\")\n"
     ]
    }
   ],
   "source": [
    "#connecting to local Qdrant instance\n",
    "qdrant_client = QdrantClient(url=\"http://localhost:6333\")"
   ]
  },
  {
   "cell_type": "code",
   "execution_count": 12,
   "id": "9c6e6dbc-8946-497b-baab-a1732aa1dbc3",
   "metadata": {},
   "outputs": [],
   "source": [
    "def rrf_search(query: str, limit: int = 5) -> list[models.ScoredPoint]:\n",
    "    results = qdrant_client.query_points(\n",
    "        collection_name=\"traveller-dense-and-sparse\",\n",
    "        prefetch=[\n",
    "            models.Prefetch(\n",
    "                query=models.Document(\n",
    "                    text=query,\n",
    "                    model=\"jinaai/jina-embeddings-v2-small-en\",\n",
    "                ),\n",
    "                using=\"jina-small\",\n",
    "                limit=(5 * limit),\n",
    "            ),\n",
    "            models.Prefetch(\n",
    "                query=models.Document(\n",
    "                    text=query,\n",
    "                    model=\"Qdrant/bm25\",\n",
    "                ),\n",
    "                using=\"bm25\",\n",
    "                limit=(1 * limit),\n",
    "            ),\n",
    "        ],\n",
    "        query=models.FusionQuery(fusion=models.Fusion.RRF),\n",
    "        with_payload=True,\n",
    "    )\n",
    "\n",
    "    return results.points"
   ]
  },
  {
   "cell_type": "code",
   "execution_count": 13,
   "id": "eb195ffa-6f17-4026-bcd3-d761389c7f0a",
   "metadata": {},
   "outputs": [],
   "source": [
    "from mistralai import Mistral\n",
    "from mistralai.models import UserMessage\n",
    "import os\n",
    "from dotenv import load_dotenv\n"
   ]
  },
  {
   "cell_type": "code",
   "execution_count": 14,
   "id": "a5bd5115-2a4e-4dd2-b358-ea8d11323019",
   "metadata": {},
   "outputs": [
    {
     "data": {
      "text/plain": [
       "True"
      ]
     },
     "execution_count": 14,
     "metadata": {},
     "output_type": "execute_result"
    }
   ],
   "source": [
    "# loads variables from .env\n",
    "load_dotenv()  "
   ]
  },
  {
   "cell_type": "code",
   "execution_count": 15,
   "id": "64b5b337-3de0-4872-8517-3e4cd3a2cabe",
   "metadata": {},
   "outputs": [],
   "source": [
    "api_key = os.getenv(\"API_KEY\")"
   ]
  },
  {
   "cell_type": "code",
   "execution_count": 16,
   "id": "63ae2908-0ea0-4161-b11c-24d1798d5fcc",
   "metadata": {},
   "outputs": [],
   "source": [
    "llm_client = Mistral(api_key = api_key)"
   ]
  },
  {
   "cell_type": "code",
   "execution_count": 17,
   "id": "9a0f38d4-3bf6-40fe-99a4-30d1d20479d1",
   "metadata": {},
   "outputs": [],
   "source": [
    "def build_prompt(query, search_results):\n",
    "    context_template = \"Q: {question}\\n A: {text}\"\n",
    "\n",
    "    context_parts = []\n",
    "    for point in search_results: \n",
    "        payload = point.payload\n",
    "        context_parts.append(\n",
    "            context_template.format(\n",
    "                question=query,\n",
    "                text=payload.get(\"text\", \"\")\n",
    "            )\n",
    "        )\n",
    "\n",
    "    context = \"\\n\\n\".join(context_parts)\n",
    "    \n",
    "    prompt_template = \"\"\"\n",
    "You're a travel assistant. Answer the QUESTION based on the CONTEXT from the traveller database.\n",
    "Use only the facts from the CONTEXT when answering the QUESTION. If the QUESTION doesn't have a CONTEXT in the data just mention\n",
    "you cannot answer the question.\n",
    "\n",
    "QUESTION: {question}\n",
    "\n",
    "CONTEXT:\n",
    "{context}\n",
    "\n",
    "    \"\"\".strip()\n",
    "    \n",
    "    prompt = prompt_template.format(question=query, context=context)\n",
    "    return prompt\n"
   ]
  },
  {
   "cell_type": "code",
   "execution_count": 78,
   "id": "a7b8f4cf-1c0f-4b0e-a579-6f5838ea55a7",
   "metadata": {},
   "outputs": [],
   "source": [
    "def llm(prompt):\n",
    "    response = llm_client.chat.complete(\n",
    "        model= \"mistral-medium-2508\",\n",
    "        messages=[UserMessage(content=prompt)],\n",
    "    )\n",
    "\n",
    "    return response.choices[0].message.content"
   ]
  },
  {
   "cell_type": "code",
   "execution_count": 19,
   "id": "990bfb73-bf14-4e6b-9d82-c15a8e8297d8",
   "metadata": {},
   "outputs": [],
   "source": [
    "def rag(query: dict):\n",
    "    if isinstance(query, dict):\n",
    "        query = query.get(\"question\", \"\")\n",
    "    elif not isinstance(query, str):\n",
    "        raise ValueError(\"Query must be a string or a dictionary with a 'question' key.\")\n",
    "        \n",
    "    search_results = rrf_search(query=query)\n",
    "    prompt = build_prompt(query, search_results)\n",
    "    answer = llm(prompt)\n",
    "    return answer\n"
   ]
  },
  {
   "cell_type": "code",
   "execution_count": 80,
   "id": "cbdc0002-c5f1-4a92-9188-7e609c3746d6",
   "metadata": {},
   "outputs": [
    {
     "name": "stdout",
     "output_type": "stream",
     "text": [
      "Abdeen Palace in Cairo served as the **royal residence** until the Egyptian monarchy was deposed in **1952**.\n"
     ]
    }
   ],
   "source": [
    "answer_llm = rag(ground_truth[10])\n",
    "print(answer_llm)"
   ]
  },
  {
   "cell_type": "code",
   "execution_count": 81,
   "id": "1ed8908b-08da-4f4c-b846-f2a9d43352dd",
   "metadata": {},
   "outputs": [
    {
     "name": "stdout",
     "output_type": "stream",
     "text": [
      "30.0417 31.2483 4 Abdeen Palace . About 1 km east of Midan El-Tahrir, it was the royal residence until the Egyptian monarchy was deposed in 1952. ( updated Jan 2018 )\n"
     ]
    }
   ],
   "source": [
    "answer_org = doc_idx['91c82200']['text']\n",
    "print(answer_org)"
   ]
  },
  {
   "cell_type": "markdown",
   "id": "842c5d30-96ba-413e-b3a4-e8e955b88d76",
   "metadata": {},
   "source": [
    "# Cosine similarity metric"
   ]
  },
  {
   "cell_type": "markdown",
   "id": "6208884d-057b-42bd-8524-f4c748d9a1db",
   "metadata": {},
   "source": [
    "## Using mistral-medium-2508\n",
    "Premier model"
   ]
  },
  {
   "cell_type": "code",
   "execution_count": 82,
   "id": "0bb41a6e-f395-4d1f-9cd4-f03578a9f19f",
   "metadata": {},
   "outputs": [
    {
     "data": {
      "text/plain": [
       "0.8076176"
      ]
     },
     "execution_count": 82,
     "metadata": {},
     "output_type": "execute_result"
    }
   ],
   "source": [
    "v_llm = model.encode(answer_llm)\n",
    "v_org = model.encode(answer_org)\n",
    "\n",
    "v_llm.dot(v_org)"
   ]
  },
  {
   "cell_type": "code",
   "execution_count": 23,
   "id": "ed88df69-163a-4189-8a39-d337dee44cc8",
   "metadata": {},
   "outputs": [],
   "source": [
    "answers = {}\n"
   ]
  },
  {
   "cell_type": "code",
   "execution_count": null,
   "id": "326db335-223d-4216-aba7-367204a68cca",
   "metadata": {},
   "outputs": [
    {
     "name": "stderr",
     "output_type": "stream",
     "text": [
      " 99%|████████████████████████████████████████████████████████████████████████████████████████████████████████████████████████████████████████████████████████▎ | 2685/2715 [00:49<00:01, 17.14it/s]"
     ]
    }
   ],
   "source": [
    "for i, rec in enumerate(tqdm(ground_truth)):\n",
    "    if i in answers:\n",
    "        continue\n",
    "\n",
    "    answer_llm = rag(rec)\n",
    "    doc_id = rec['id']\n",
    "    original_doc = doc_idx[doc_id]\n",
    "    answer_org = original_doc['text']\n",
    "\n",
    "    answers[i] = {\n",
    "        'answer_llm': answer_llm,\n",
    "        'answer_org': answer_org,\n",
    "        'document': doc_id,\n",
    "        'question': rec['question'],\n",
    "        'city': rec['city'],\n",
    "    }\n",
    "    "
   ]
  },
  {
   "cell_type": "code",
   "execution_count": null,
   "id": "d6a130d0-12d8-421b-b08d-1b9807b7c44b",
   "metadata": {},
   "outputs": [],
   "source": [
    "len(answers)"
   ]
  },
  {
   "cell_type": "code",
   "execution_count": null,
   "id": "a30726ce-2744-4b89-8f80-f6ccdc98a954",
   "metadata": {},
   "outputs": [],
   "source": [
    "results_mistral_medium = [None] * len(ground_truth)\n",
    "\n",
    "for i, val in answers.items():\n",
    "    results_mistral_medium[i] = val.copy()\n",
    "    results_mistral_medium[i].update(ground_truth[i])"
   ]
  },
  {
   "cell_type": "code",
   "execution_count": 30,
   "id": "0ae67fa3-3302-4483-a199-48ad00899901",
   "metadata": {},
   "outputs": [],
   "source": [
    "import pandas as pd"
   ]
  },
  {
   "cell_type": "code",
   "execution_count": 32,
   "id": "73d0d365-c04c-42c9-83d9-8d1ebdef69ec",
   "metadata": {},
   "outputs": [],
   "source": [
    "df_mistral_medium = pd.DataFrame(results_mistral_medium)"
   ]
  },
  {
   "cell_type": "code",
   "execution_count": 66,
   "id": "e31b50da-1c5e-4009-8b29-c0ecc90e3c0c",
   "metadata": {},
   "outputs": [],
   "source": [
    "RESULT_FOLDER = \"../data/result\"\n",
    "os.makedirs(RESULT_FOLDER, exist_ok=True)"
   ]
  },
  {
   "cell_type": "code",
   "execution_count": null,
   "id": "679f3d77-e681-46a0-8905-fe3f0b7f4fdb",
   "metadata": {},
   "outputs": [],
   "source": [
    "df_mistral_medium.to_csv(f\"{RESULT_FOLDER}/results-mistral_medium.csv\", index=False)\n"
   ]
  },
  {
   "cell_type": "code",
   "execution_count": 40,
   "id": "80fbdf7d-e760-486e-b59c-2e115e630ff9",
   "metadata": {},
   "outputs": [
    {
     "data": {
      "text/html": [
       "<div>\n",
       "<style scoped>\n",
       "    .dataframe tbody tr th:only-of-type {\n",
       "        vertical-align: middle;\n",
       "    }\n",
       "\n",
       "    .dataframe tbody tr th {\n",
       "        vertical-align: top;\n",
       "    }\n",
       "\n",
       "    .dataframe thead th {\n",
       "        text-align: right;\n",
       "    }\n",
       "</style>\n",
       "<table border=\"1\" class=\"dataframe\">\n",
       "  <thead>\n",
       "    <tr style=\"text-align: right;\">\n",
       "      <th></th>\n",
       "      <th>answer_llm</th>\n",
       "      <th>answer_org</th>\n",
       "      <th>document</th>\n",
       "      <th>question</th>\n",
       "      <th>city</th>\n",
       "      <th>id</th>\n",
       "    </tr>\n",
       "  </thead>\n",
       "  <tbody>\n",
       "    <tr>\n",
       "      <th>0</th>\n",
       "      <td>The name of the oldest known pyramid in Dahshu...</td>\n",
       "      <td>29.8 31.233333 1 Dahshur Pyramids . For a cont...</td>\n",
       "      <td>f7845786</td>\n",
       "      <td>What is the name of the oldest known pyramid i...</td>\n",
       "      <td>Cairo</td>\n",
       "      <td>f7845786</td>\n",
       "    </tr>\n",
       "    <tr>\n",
       "      <th>1</th>\n",
       "      <td>The **Red Pyramid** in Dahshur has an entrance...</td>\n",
       "      <td>29.8 31.233333 1 Dahshur Pyramids . For a cont...</td>\n",
       "      <td>f7845786</td>\n",
       "      <td>Which pyramid in Dahshur has an entrance to th...</td>\n",
       "      <td>Cairo</td>\n",
       "      <td>f7845786</td>\n",
       "    </tr>\n",
       "    <tr>\n",
       "      <th>2</th>\n",
       "      <td>Based on the provided **CONTEXT**, the distinc...</td>\n",
       "      <td>29.8 31.233333 1 Dahshur Pyramids . For a cont...</td>\n",
       "      <td>f7845786</td>\n",
       "      <td>What is the distinctive feature of the Bent Py...</td>\n",
       "      <td>Cairo</td>\n",
       "      <td>f7845786</td>\n",
       "    </tr>\n",
       "    <tr>\n",
       "      <th>3</th>\n",
       "      <td>Based on the provided **CONTEXT**, the followi...</td>\n",
       "      <td>29.8 31.233333 1 Dahshur Pyramids . For a cont...</td>\n",
       "      <td>f7845786</td>\n",
       "      <td>How many pyramids are mentioned to be in the D...</td>\n",
       "      <td>Cairo</td>\n",
       "      <td>f7845786</td>\n",
       "    </tr>\n",
       "    <tr>\n",
       "      <th>4</th>\n",
       "      <td>Based on the **CONTEXT**, the atmosphere aroun...</td>\n",
       "      <td>29.8 31.233333 1 Dahshur Pyramids . For a cont...</td>\n",
       "      <td>f7845786</td>\n",
       "      <td>What is the atmosphere around Dahshur Pyramids...</td>\n",
       "      <td>Cairo</td>\n",
       "      <td>f7845786</td>\n",
       "    </tr>\n",
       "  </tbody>\n",
       "</table>\n",
       "</div>"
      ],
      "text/plain": [
       "                                          answer_llm  \\\n",
       "0  The name of the oldest known pyramid in Dahshu...   \n",
       "1  The **Red Pyramid** in Dahshur has an entrance...   \n",
       "2  Based on the provided **CONTEXT**, the distinc...   \n",
       "3  Based on the provided **CONTEXT**, the followi...   \n",
       "4  Based on the **CONTEXT**, the atmosphere aroun...   \n",
       "\n",
       "                                          answer_org  document  \\\n",
       "0  29.8 31.233333 1 Dahshur Pyramids . For a cont...  f7845786   \n",
       "1  29.8 31.233333 1 Dahshur Pyramids . For a cont...  f7845786   \n",
       "2  29.8 31.233333 1 Dahshur Pyramids . For a cont...  f7845786   \n",
       "3  29.8 31.233333 1 Dahshur Pyramids . For a cont...  f7845786   \n",
       "4  29.8 31.233333 1 Dahshur Pyramids . For a cont...  f7845786   \n",
       "\n",
       "                                            question   city        id  \n",
       "0  What is the name of the oldest known pyramid i...  Cairo  f7845786  \n",
       "1  Which pyramid in Dahshur has an entrance to th...  Cairo  f7845786  \n",
       "2  What is the distinctive feature of the Bent Py...  Cairo  f7845786  \n",
       "3  How many pyramids are mentioned to be in the D...  Cairo  f7845786  \n",
       "4  What is the atmosphere around Dahshur Pyramids...  Cairo  f7845786  "
      ]
     },
     "execution_count": 40,
     "metadata": {},
     "output_type": "execute_result"
    }
   ],
   "source": [
    "medium_df.head()"
   ]
  },
  {
   "cell_type": "code",
   "execution_count": 41,
   "id": "299beb03-519b-408c-a803-a6b9895bba08",
   "metadata": {},
   "outputs": [],
   "source": [
    "medium_df = pd.read_csv(f\"{RESULT_FOLDER}/results-mistral_medium.csv\")"
   ]
  },
  {
   "cell_type": "code",
   "execution_count": null,
   "id": "342b176a-f09b-4c5f-af42-9f501dc4f179",
   "metadata": {},
   "outputs": [],
   "source": []
  },
  {
   "cell_type": "markdown",
   "id": "58fc9357-19cf-433e-a9fc-1740b0c09c78",
   "metadata": {},
   "source": [
    "## mistral-small-2506\n",
    "Open model"
   ]
  },
  {
   "cell_type": "code",
   "execution_count": 18,
   "id": "47a1b3fd-a0c2-4ecd-941b-0ad48e01f8ce",
   "metadata": {},
   "outputs": [],
   "source": [
    "def llm(prompt):\n",
    "    response = llm_client.chat.complete(\n",
    "        model=\"open-mixtral-8x7b\",\n",
    "        messages=[UserMessage(content=prompt)],\n",
    "    )\n",
    "\n",
    "\n",
    "    return response.choices[0].message.content"
   ]
  },
  {
   "cell_type": "code",
   "execution_count": 20,
   "id": "c0e2211d-4ca5-4d36-8fa3-7a7015a6942e",
   "metadata": {},
   "outputs": [
    {
     "name": "stdout",
     "output_type": "stream",
     "text": [
      "The purpose of Abdeen Palace in Cairo until 1952 was as the royal residence.\n"
     ]
    }
   ],
   "source": [
    "answer_llm = rag(ground_truth[10])\n",
    "print(answer_llm)"
   ]
  },
  {
   "cell_type": "code",
   "execution_count": 21,
   "id": "1ed0c132-5ff9-4328-bc55-050b39f6e471",
   "metadata": {},
   "outputs": [
    {
     "name": "stdout",
     "output_type": "stream",
     "text": [
      "30.0417 31.2483 4 Abdeen Palace . About 1 km east of Midan El-Tahrir, it was the royal residence until the Egyptian monarchy was deposed in 1952. ( updated Jan 2018 )\n"
     ]
    }
   ],
   "source": [
    "answer_org = doc_idx['91c82200']['text']\n",
    "print(answer_org)"
   ]
  },
  {
   "cell_type": "code",
   "execution_count": 22,
   "id": "a17e994c-7005-4dff-98af-a66f16ac8aa5",
   "metadata": {},
   "outputs": [
    {
     "data": {
      "text/plain": [
       "0.71375585"
      ]
     },
     "execution_count": 22,
     "metadata": {},
     "output_type": "execute_result"
    }
   ],
   "source": [
    "v_llm = model.encode(answer_llm)\n",
    "v_org = model.encode(answer_org)\n",
    "\n",
    "v_llm.dot(v_org)"
   ]
  },
  {
   "cell_type": "code",
   "execution_count": 30,
   "id": "9329f97c-ac78-4cfd-a07b-d19798681675",
   "metadata": {},
   "outputs": [],
   "source": [
    "from tqdm.auto import tqdm\n",
    "\n",
    "from concurrent.futures import ThreadPoolExecutor\n",
    "\n",
    "pool = ThreadPoolExecutor(max_workers=6)\n",
    "\n",
    "def map_progress(pool, seq, f):\n",
    "    results = []\n",
    "\n",
    "    with tqdm(total=len(seq)) as progress:\n",
    "        futures = []\n",
    "\n",
    "        for el in seq:\n",
    "            future = pool.submit(f, el)\n",
    "            future.add_done_callback(lambda p: progress.update())\n",
    "            futures.append(future)\n",
    "\n",
    "        for future in futures:\n",
    "            result = future.result()\n",
    "            results.append(result)\n",
    "\n",
    "    return results"
   ]
  },
  {
   "cell_type": "code",
   "execution_count": 31,
   "id": "27ac348a-d0a5-48ac-87ac-f4bb14218247",
   "metadata": {},
   "outputs": [],
   "source": [
    "def process_record(rec):\n",
    "    model = \"open-mixtral-8x7b\"\n",
    "    answer_llm = rag(rec)\n",
    "    \n",
    "    doc_id = rec['id']\n",
    "    original_doc = doc_idx[doc_id]\n",
    "    answer_org = original_doc['text']\n",
    "\n",
    "    return {\n",
    "        'answer_llm': answer_llm,\n",
    "        'answer_org': answer_org,\n",
    "        'document': doc_id,\n",
    "        'question': rec['question'],\n",
    "        'city': rec['city'],\n",
    "    }\n",
    "\n"
   ]
  },
  {
   "cell_type": "code",
   "execution_count": 34,
   "id": "ba93ce8f-a44c-4509-a0af-65df77d7610d",
   "metadata": {},
   "outputs": [],
   "source": [
    "# result_mistral_big = map_progress(pool, ground_truth, process_record)\n"
   ]
  },
  {
   "cell_type": "code",
   "execution_count": 36,
   "id": "97d34aa3-60f6-4e8c-8178-5c45f92f0368",
   "metadata": {},
   "outputs": [],
   "source": [
    "answers_big = {}\n"
   ]
  },
  {
   "cell_type": "code",
   "execution_count": 57,
   "id": "ab86e037-4427-4b56-9ec8-3e1f177d35ae",
   "metadata": {},
   "outputs": [
    {
     "name": "stderr",
     "output_type": "stream",
     "text": [
      "100%|█████████████████████████████████████████████████████████████████████████████████████████████████████████████████████████████████████████| 2715/2715 [00:51<00:00, 53.11it/s]\n"
     ]
    }
   ],
   "source": [
    "for i, rec in enumerate(tqdm(ground_truth)):\n",
    "    if i in answers_big:\n",
    "        continue\n",
    "\n",
    "    answer_llm = rag(rec)\n",
    "    doc_id = rec['id']\n",
    "    original_doc = doc_idx[doc_id]\n",
    "    answer_org = original_doc['text']\n",
    "\n",
    "    answers_big[i] = {\n",
    "        'answer_llm': answer_llm,\n",
    "        'answer_org': answer_org,\n",
    "        'document': doc_id,\n",
    "        'question': rec['question'],\n",
    "        'city': rec['city'],\n",
    "    }\n",
    "    "
   ]
  },
  {
   "cell_type": "code",
   "execution_count": 62,
   "id": "64d27b3a-c49a-44ab-936c-2fa8a277f263",
   "metadata": {},
   "outputs": [],
   "source": [
    "results_mistral_big = [None] * len(ground_truth)\n",
    "\n",
    "for i, val in answers_big.items():\n",
    "    results_mistral_big[i] = val.copy()\n",
    "    results_mistral_big[i].update(ground_truth[i])"
   ]
  },
  {
   "cell_type": "code",
   "execution_count": 64,
   "id": "6f8b9b68-ce5c-44a7-a1fc-d9177ebaf3a2",
   "metadata": {},
   "outputs": [],
   "source": [
    "df_mistral_big = pd.DataFrame(results_mistral_big)"
   ]
  },
  {
   "cell_type": "code",
   "execution_count": 67,
   "id": "2d567b8d-2043-46c9-8f99-8ed4f53d4fd2",
   "metadata": {},
   "outputs": [],
   "source": [
    "df_mistral_big.to_csv(f\"{RESULT_FOLDER}/results-mistral_big.csv\", index=False)\n"
   ]
  },
  {
   "cell_type": "code",
   "execution_count": 69,
   "id": "8402ab12-6da6-45b5-a3c4-92f00a46c750",
   "metadata": {},
   "outputs": [
    {
     "name": "stdout",
     "output_type": "stream",
     "text": [
      "head: cannot open 'f../data/result/results-mistral_big.csv' for reading: No such file or directory\n"
     ]
    },
    {
     "name": "stderr",
     "output_type": "stream",
     "text": [
      "huggingface/tokenizers: The current process just got forked, after parallelism has already been used. Disabling parallelism to avoid deadlocks...\n",
      "To disable this warning, you can either:\n",
      "\t- Avoid using `tokenizers` before the fork if possible\n",
      "\t- Explicitly set the environment variable TOKENIZERS_PARALLELISM=(true | false)\n"
     ]
    }
   ],
   "source": [
    "!head f\"{RESULT_FOLDER}/results-mistral_big.csv\""
   ]
  },
  {
   "cell_type": "markdown",
   "id": "a6a1a712-e046-4eaa-b990-30464ef0ab9a",
   "metadata": {},
   "source": [
    "# Code for Evalutaion "
   ]
  },
  {
   "cell_type": "markdown",
   "id": "cdc77f81-d7b0-4339-adbb-1a22be3ee15f",
   "metadata": {},
   "source": [
    "# Cosine smiliartity "
   ]
  },
  {
   "cell_type": "code",
   "execution_count": 45,
   "id": "ea9c3a1d-076b-4056-9289-6f474b32e5ca",
   "metadata": {},
   "outputs": [],
   "source": [
    "results_medium = medium_df.to_dict(orient=\"records\")"
   ]
  },
  {
   "cell_type": "code",
   "execution_count": 47,
   "id": "0cb21fa2-61f7-4f92-b2d6-ff87c50129eb",
   "metadata": {},
   "outputs": [],
   "source": [
    "record = results_medium[2000]"
   ]
  },
  {
   "cell_type": "code",
   "execution_count": 51,
   "id": "df20a385-45de-4fbb-8f82-720cd8a3526c",
   "metadata": {},
   "outputs": [],
   "source": [
    "def compute_similarity(record):\n",
    "\n",
    "    answer_llm = record[\"answer_llm\"]\n",
    "    answer_org = record[\"answer_org\"]\n",
    "    v_llm = model.encode(answer_llm)\n",
    "    v_org = model.encode(answer_org)\n",
    "    \n",
    "    return v_llm.dot(v_org)"
   ]
  },
  {
   "cell_type": "code",
   "execution_count": 53,
   "id": "1fda42d8-cffe-4329-91c4-9054594c62d8",
   "metadata": {},
   "outputs": [
    {
     "name": "stderr",
     "output_type": "stream",
     "text": [
      "100%|██████████████████████████████████████████████████████████████████████████████████████████████████████████████████████████████████████████████████████████| 2715/2715 [04:11<00:00, 10.81it/s]\n"
     ]
    }
   ],
   "source": [
    "similarity = []\n",
    "\n",
    "for record in tqdm(results_medium):\n",
    "    sim = compute_similarity(record)\n",
    "    similarity.append(sim)"
   ]
  },
  {
   "cell_type": "code",
   "execution_count": 54,
   "id": "52ca0353-1a39-445a-99c8-604910d29a1a",
   "metadata": {},
   "outputs": [],
   "source": [
    "medium_df['cosine'] = similarity"
   ]
  },
  {
   "cell_type": "code",
   "execution_count": 55,
   "id": "dfbe4653-2e81-499e-9fdc-c83f43e7850a",
   "metadata": {},
   "outputs": [
    {
     "data": {
      "text/html": [
       "<div>\n",
       "<style scoped>\n",
       "    .dataframe tbody tr th:only-of-type {\n",
       "        vertical-align: middle;\n",
       "    }\n",
       "\n",
       "    .dataframe tbody tr th {\n",
       "        vertical-align: top;\n",
       "    }\n",
       "\n",
       "    .dataframe thead th {\n",
       "        text-align: right;\n",
       "    }\n",
       "</style>\n",
       "<table border=\"1\" class=\"dataframe\">\n",
       "  <thead>\n",
       "    <tr style=\"text-align: right;\">\n",
       "      <th></th>\n",
       "      <th>answer_llm</th>\n",
       "      <th>answer_org</th>\n",
       "      <th>document</th>\n",
       "      <th>question</th>\n",
       "      <th>city</th>\n",
       "      <th>id</th>\n",
       "      <th>cosine</th>\n",
       "    </tr>\n",
       "  </thead>\n",
       "  <tbody>\n",
       "    <tr>\n",
       "      <th>0</th>\n",
       "      <td>The name of the oldest known pyramid in Dahshu...</td>\n",
       "      <td>29.8 31.233333 1 Dahshur Pyramids . For a cont...</td>\n",
       "      <td>f7845786</td>\n",
       "      <td>What is the name of the oldest known pyramid i...</td>\n",
       "      <td>Cairo</td>\n",
       "      <td>f7845786</td>\n",
       "      <td>0.744416</td>\n",
       "    </tr>\n",
       "    <tr>\n",
       "      <th>1</th>\n",
       "      <td>The **Red Pyramid** in Dahshur has an entrance...</td>\n",
       "      <td>29.8 31.233333 1 Dahshur Pyramids . For a cont...</td>\n",
       "      <td>f7845786</td>\n",
       "      <td>Which pyramid in Dahshur has an entrance to th...</td>\n",
       "      <td>Cairo</td>\n",
       "      <td>f7845786</td>\n",
       "      <td>0.649594</td>\n",
       "    </tr>\n",
       "    <tr>\n",
       "      <th>2</th>\n",
       "      <td>Based on the provided **CONTEXT**, the distinc...</td>\n",
       "      <td>29.8 31.233333 1 Dahshur Pyramids . For a cont...</td>\n",
       "      <td>f7845786</td>\n",
       "      <td>What is the distinctive feature of the Bent Py...</td>\n",
       "      <td>Cairo</td>\n",
       "      <td>f7845786</td>\n",
       "      <td>0.465671</td>\n",
       "    </tr>\n",
       "    <tr>\n",
       "      <th>3</th>\n",
       "      <td>Based on the provided **CONTEXT**, the followi...</td>\n",
       "      <td>29.8 31.233333 1 Dahshur Pyramids . For a cont...</td>\n",
       "      <td>f7845786</td>\n",
       "      <td>How many pyramids are mentioned to be in the D...</td>\n",
       "      <td>Cairo</td>\n",
       "      <td>f7845786</td>\n",
       "      <td>0.695287</td>\n",
       "    </tr>\n",
       "    <tr>\n",
       "      <th>4</th>\n",
       "      <td>Based on the **CONTEXT**, the atmosphere aroun...</td>\n",
       "      <td>29.8 31.233333 1 Dahshur Pyramids . For a cont...</td>\n",
       "      <td>f7845786</td>\n",
       "      <td>What is the atmosphere around Dahshur Pyramids...</td>\n",
       "      <td>Cairo</td>\n",
       "      <td>f7845786</td>\n",
       "      <td>0.734467</td>\n",
       "    </tr>\n",
       "    <tr>\n",
       "      <th>...</th>\n",
       "      <td>...</td>\n",
       "      <td>...</td>\n",
       "      <td>...</td>\n",
       "      <td>...</td>\n",
       "      <td>...</td>\n",
       "      <td>...</td>\n",
       "      <td>...</td>\n",
       "    </tr>\n",
       "    <tr>\n",
       "      <th>2710</th>\n",
       "      <td>Based on the provided **CONTEXT**, here is the...</td>\n",
       "      <td>₩15,000–35,000</td>\n",
       "      <td>feb11863</td>\n",
       "      <td>What is the estimated price range for dining o...</td>\n",
       "      <td>Seoul</td>\n",
       "      <td>feb11863</td>\n",
       "      <td>0.492113</td>\n",
       "    </tr>\n",
       "    <tr>\n",
       "      <th>2711</th>\n",
       "      <td>Based on the **CONTEXT**, you **will not** nee...</td>\n",
       "      <td>₩15,000–35,000</td>\n",
       "      <td>feb11863</td>\n",
       "      <td>Will I need more than ₩35,000 for a meal in Se...</td>\n",
       "      <td>Seoul</td>\n",
       "      <td>feb11863</td>\n",
       "      <td>0.547441</td>\n",
       "    </tr>\n",
       "    <tr>\n",
       "      <th>2712</th>\n",
       "      <td>Yes, you can easily find a meal for under ₩15,...</td>\n",
       "      <td>₩15,000–35,000</td>\n",
       "      <td>feb11863</td>\n",
       "      <td>Can I find a meal for under ₩15,000 in Seoul?</td>\n",
       "      <td>Seoul</td>\n",
       "      <td>feb11863</td>\n",
       "      <td>0.481077</td>\n",
       "    </tr>\n",
       "    <tr>\n",
       "      <th>2713</th>\n",
       "      <td>Based on the **CONTEXT**, the **lowest amount ...</td>\n",
       "      <td>₩15,000–35,000</td>\n",
       "      <td>feb11863</td>\n",
       "      <td>What is the lowest amount I can expect to spen...</td>\n",
       "      <td>Seoul</td>\n",
       "      <td>feb11863</td>\n",
       "      <td>0.494290</td>\n",
       "    </tr>\n",
       "    <tr>\n",
       "      <th>2714</th>\n",
       "      <td>Based on the provided **CONTEXT**, there is **...</td>\n",
       "      <td>₩15,000–35,000</td>\n",
       "      <td>feb11863</td>\n",
       "      <td>What is the approximate high-end cost for a me...</td>\n",
       "      <td>Seoul</td>\n",
       "      <td>feb11863</td>\n",
       "      <td>0.454236</td>\n",
       "    </tr>\n",
       "  </tbody>\n",
       "</table>\n",
       "<p>2715 rows × 7 columns</p>\n",
       "</div>"
      ],
      "text/plain": [
       "                                             answer_llm  \\\n",
       "0     The name of the oldest known pyramid in Dahshu...   \n",
       "1     The **Red Pyramid** in Dahshur has an entrance...   \n",
       "2     Based on the provided **CONTEXT**, the distinc...   \n",
       "3     Based on the provided **CONTEXT**, the followi...   \n",
       "4     Based on the **CONTEXT**, the atmosphere aroun...   \n",
       "...                                                 ...   \n",
       "2710  Based on the provided **CONTEXT**, here is the...   \n",
       "2711  Based on the **CONTEXT**, you **will not** nee...   \n",
       "2712  Yes, you can easily find a meal for under ₩15,...   \n",
       "2713  Based on the **CONTEXT**, the **lowest amount ...   \n",
       "2714  Based on the provided **CONTEXT**, there is **...   \n",
       "\n",
       "                                             answer_org  document  \\\n",
       "0     29.8 31.233333 1 Dahshur Pyramids . For a cont...  f7845786   \n",
       "1     29.8 31.233333 1 Dahshur Pyramids . For a cont...  f7845786   \n",
       "2     29.8 31.233333 1 Dahshur Pyramids . For a cont...  f7845786   \n",
       "3     29.8 31.233333 1 Dahshur Pyramids . For a cont...  f7845786   \n",
       "4     29.8 31.233333 1 Dahshur Pyramids . For a cont...  f7845786   \n",
       "...                                                 ...       ...   \n",
       "2710                                     ₩15,000–35,000  feb11863   \n",
       "2711                                     ₩15,000–35,000  feb11863   \n",
       "2712                                     ₩15,000–35,000  feb11863   \n",
       "2713                                     ₩15,000–35,000  feb11863   \n",
       "2714                                     ₩15,000–35,000  feb11863   \n",
       "\n",
       "                                               question   city        id  \\\n",
       "0     What is the name of the oldest known pyramid i...  Cairo  f7845786   \n",
       "1     Which pyramid in Dahshur has an entrance to th...  Cairo  f7845786   \n",
       "2     What is the distinctive feature of the Bent Py...  Cairo  f7845786   \n",
       "3     How many pyramids are mentioned to be in the D...  Cairo  f7845786   \n",
       "4     What is the atmosphere around Dahshur Pyramids...  Cairo  f7845786   \n",
       "...                                                 ...    ...       ...   \n",
       "2710  What is the estimated price range for dining o...  Seoul  feb11863   \n",
       "2711  Will I need more than ₩35,000 for a meal in Se...  Seoul  feb11863   \n",
       "2712      Can I find a meal for under ₩15,000 in Seoul?  Seoul  feb11863   \n",
       "2713  What is the lowest amount I can expect to spen...  Seoul  feb11863   \n",
       "2714  What is the approximate high-end cost for a me...  Seoul  feb11863   \n",
       "\n",
       "        cosine  \n",
       "0     0.744416  \n",
       "1     0.649594  \n",
       "2     0.465671  \n",
       "3     0.695287  \n",
       "4     0.734467  \n",
       "...        ...  \n",
       "2710  0.492113  \n",
       "2711  0.547441  \n",
       "2712  0.481077  \n",
       "2713  0.494290  \n",
       "2714  0.454236  \n",
       "\n",
       "[2715 rows x 7 columns]"
      ]
     },
     "execution_count": 55,
     "metadata": {},
     "output_type": "execute_result"
    }
   ],
   "source": [
    "medium_df"
   ]
  },
  {
   "cell_type": "code",
   "execution_count": 56,
   "id": "26fa0ce1-5575-4096-8e75-5891950683c3",
   "metadata": {},
   "outputs": [
    {
     "data": {
      "text/plain": [
       "{'answer_llm': 'The Vatican is located in the **Vatican** area of Rome. It is described as the **Papal City State** and its surrounding Italian neighborhood.',\n",
       " 'answer_org': 'Modern Centre Old Rome Vatican Colosseo North Centre Trastevere',\n",
       " 'document': '913cf7c3',\n",
       " 'question': 'Which part of Rome is the Vatican located in?',\n",
       " 'city': 'Rome',\n",
       " 'id': '913cf7c3',\n",
       " 'cosine': 0.5046500563621521}"
      ]
     },
     "execution_count": 56,
     "metadata": {},
     "output_type": "execute_result"
    }
   ],
   "source": [
    "medium_df.iloc[2000].to_dict()"
   ]
  },
  {
   "cell_type": "code",
   "execution_count": 57,
   "id": "4e451183-e523-43b9-b014-9ca973dee09a",
   "metadata": {},
   "outputs": [
    {
     "data": {
      "text/plain": [
       "count    2715.000000\n",
       "mean        0.674111\n",
       "std         0.176574\n",
       "min        -0.063424\n",
       "25%         0.609269\n",
       "50%         0.707447\n",
       "75%         0.788128\n",
       "max         1.000000\n",
       "Name: cosine, dtype: float64"
      ]
     },
     "execution_count": 57,
     "metadata": {},
     "output_type": "execute_result"
    }
   ],
   "source": [
    "medium_df['cosine'].describe()"
   ]
  },
  {
   "cell_type": "markdown",
   "id": "c941a854-efad-41cd-9f2c-0382f1731408",
   "metadata": {},
   "source": [
    "## Add rouge "
   ]
  },
  {
   "cell_type": "code",
   "execution_count": 92,
   "id": "f9539d6b-5e6f-42fe-aff0-221abc1dbba6",
   "metadata": {},
   "outputs": [],
   "source": [
    "from rouge import Rouge\n",
    "import numpy as np"
   ]
  },
  {
   "cell_type": "code",
   "execution_count": 87,
   "id": "3b9bb903-ea40-4a75-9b14-f78fd126812f",
   "metadata": {},
   "outputs": [],
   "source": [
    "rouge_score = Rouge()"
   ]
  },
  {
   "cell_type": "code",
   "execution_count": 88,
   "id": "f127242e-8751-400e-9682-a372f0b24b30",
   "metadata": {},
   "outputs": [],
   "source": [
    "r = medium_df.iloc[2000]\n",
    "scores = rouge_score.get_scores(r.answer_llm, r.answer_org)"
   ]
  },
  {
   "cell_type": "code",
   "execution_count": 89,
   "id": "24ee1233-2e33-4e7e-b6d1-ddb6586bc5a4",
   "metadata": {},
   "outputs": [
    {
     "data": {
      "text/plain": [
       "[{'rouge-1': {'r': 0.25, 'p': 0.09523809523809523, 'f': 0.13793103048751498},\n",
       "  'rouge-2': {'r': 0.0, 'p': 0.0, 'f': 0.0},\n",
       "  'rouge-l': {'r': 0.125,\n",
       "   'p': 0.047619047619047616,\n",
       "   'f': 0.06896551324613578}}]"
      ]
     },
     "execution_count": 89,
     "metadata": {},
     "output_type": "execute_result"
    }
   ],
   "source": [
    "scores"
   ]
  },
  {
   "cell_type": "code",
   "execution_count": 95,
   "id": "64fed2ad-ee5e-4e03-94e4-2bf85ca624e5",
   "metadata": {},
   "outputs": [
    {
     "name": "stderr",
     "output_type": "stream",
     "text": [
      "100%|████████████████████████████████████████████████████████████████████████████████████████████████████████████████████████████████████████| 2715/2715 [00:05<00:00, 538.18it/s]"
     ]
    },
    {
     "name": "stdout",
     "output_type": "stream",
     "text": [
      "The average Rouge-1 F1 for the whole DF:  0.24\n"
     ]
    },
    {
     "name": "stderr",
     "output_type": "stream",
     "text": [
      "\n"
     ]
    }
   ],
   "source": [
    "rouge_sim = []\n",
    "\n",
    "for r in tqdm(results_medium):\n",
    "    scores = rouge_score.get_scores(r['answer_llm'], r['answer_org'])\n",
    "    rouge_sim.append(scores[0]['rouge-1']['f'])\n",
    "    \n",
    "avg_rouge_smiliarity=np.mean(rouge_sim)\n",
    "print(f\"The average Rouge-1 F1 for the whole DF: \",avg_rouge_smiliarity.round(2))"
   ]
  },
  {
   "cell_type": "code",
   "execution_count": 96,
   "id": "2627b99a-890c-4dc5-8aaa-df795a52f212",
   "metadata": {},
   "outputs": [
    {
     "name": "stderr",
     "output_type": "stream",
     "text": [
      "100%|████████████████████████████████████████████████████████████████████████████████████████████████████████████████████████████████████████| 2715/2715 [00:04<00:00, 545.88it/s]"
     ]
    },
    {
     "name": "stdout",
     "output_type": "stream",
     "text": [
      "The average Rouge-1 F1 for the whole DF:  0.22\n"
     ]
    },
    {
     "name": "stderr",
     "output_type": "stream",
     "text": [
      "\n"
     ]
    }
   ],
   "source": [
    "rouge_sim = []\n",
    "\n",
    "for r in tqdm(results_medium):\n",
    "    scores = rouge_score.get_scores(r['answer_llm'], r['answer_org'])\n",
    "    rouge_sim.append(scores[0]['rouge-l']['f'])\n",
    "    \n",
    "avg_rouge_smiliarity=np.mean(rouge_sim)\n",
    "print(f\"The average rouge-l F1 for the whole DF: \",avg_rouge_smiliarity.round(2))"
   ]
  },
  {
   "cell_type": "code",
   "execution_count": 63,
   "id": "1bbf493f-7c4d-4768-9797-ed2b8022679b",
   "metadata": {},
   "outputs": [],
   "source": [
    "import seaborn as sns"
   ]
  },
  {
   "cell_type": "code",
   "execution_count": 64,
   "id": "0a11d573-5041-41cf-9e3c-b5d47e6e0cc6",
   "metadata": {},
   "outputs": [],
   "source": [
    "# sns.distplot(df_gpt4o['cosine'], label='4o')\n",
    "# sns.distplot(df_gpt4o_mini['cosine'], label='4o-mini')\n",
    "\n",
    "# plt.title(\"RAG LLM performance\")\n",
    "# plt.xlabel(\"A->Q->A' Cosine Similarity\")\n",
    "# plt.legend()"
   ]
  },
  {
   "cell_type": "code",
   "execution_count": 65,
   "id": "0136c326-4dc9-4899-9ff3-7dadb5105731",
   "metadata": {},
   "outputs": [
    {
     "name": "stderr",
     "output_type": "stream",
     "text": [
      "/tmp/ipykernel_3007/829340080.py:1: UserWarning: \n",
      "\n",
      "`distplot` is a deprecated function and will be removed in seaborn v0.14.0.\n",
      "\n",
      "Please adapt your code to use either `displot` (a figure-level function with\n",
      "similar flexibility) or `histplot` (an axes-level function for histograms).\n",
      "\n",
      "For a guide to updating your code to use the new functions, please see\n",
      "https://gist.github.com/mwaskom/de44147ed2974457ad6372750bbe5751\n",
      "\n",
      "  sns.distplot(medium_df['cosine'], label='medium')\n"
     ]
    },
    {
     "data": {
      "text/plain": [
       "<Axes: xlabel='cosine', ylabel='Density'>"
      ]
     },
     "execution_count": 65,
     "metadata": {},
     "output_type": "execute_result"
    },
    {
     "data": {
      "image/png": "[encoded data removed]",
      "text/plain": [
       "<Figure size 640x480 with 1 Axes>"
      ]
     },
     "metadata": {},
     "output_type": "display_data"
    }
   ],
   "source": [
    "sns.distplot(medium_df['cosine'], label='medium')"
   ]
  },
  {
   "cell_type": "code",
   "execution_count": 66,
   "id": "6620bdcc-5e61-41ed-b626-ad576fabf2ca",
   "metadata": {},
   "outputs": [],
   "source": [
    "## Try the code for other models "
   ]
  },
  {
   "cell_type": "markdown",
   "id": "bcbea9aa-c549-4fde-be26-3831db716c67",
   "metadata": {},
   "source": [
    "# LLM as a judge"
   ]
  },
  {
   "cell_type": "code",
   "execution_count": 132,
   "id": "7c303f7f-76b4-4977-8d9d-56294b9f1695",
   "metadata": {},
   "outputs": [],
   "source": [
    "prompt1_template = \"\"\"\n",
    "You are an expert evaluator for a Retrieval-Augmented Generation (RAG) system.\n",
    "Your task is to analyze the relevance of the generated answer compared to the original answer provided.\n",
    "Based on the relevance and similarity of the generated answer to the original answer, you will classify\n",
    "it as \"NON_RELEVANT\", \"PARTLY_RELEVANT\", or \"RELEVANT\".\n",
    "\n",
    "Here is the data for evaluation:\n",
    "\n",
    "Original Answer: {answer_org}\n",
    "Generated Question: {question}\n",
    "Generated Answer: {answer_llm}\n",
    "\n",
    "Please analyze the content and context of the generated answer in relation to the original\n",
    "answer and provide your evaluation in parsable JSON without using code blocks:\n",
    "\n",
    "{{\n",
    "  \"Relevance\": \"NON_RELEVANT\" | \"PARTLY_RELEVANT\" | \"RELEVANT\",\n",
    "  \"Explanation\": \"[Provide a brief explanation for your evaluation]\"\n",
    "}}\n",
    "\"\"\".strip()\n",
    "\n",
    "prompt2_template = \"\"\"\n",
    "You are an expert evaluator for a Retrieval-Augmented Generation (RAG) system.\n",
    "Your task is to analyze the relevance of the generated answer to the given question.\n",
    "Based on the relevance of the generated answer, you will classify it\n",
    "as \"NON_RELEVANT\", \"PARTLY_RELEVANT\", or \"RELEVANT\".\n",
    "\n",
    "Here is the data for evaluation:\n",
    "\n",
    "Question: {question}\n",
    "Generated Answer: {answer_llm}\n",
    "\n",
    "Please analyze the content and context of the generated answer in relation to the question\n",
    "and provide your evaluation in parsable JSON without using code blocks:\n",
    "\n",
    "{{\n",
    "  \"Relevance\": \"NON_RELEVANT\" | \"PARTLY_RELEVANT\" | \"RELEVANT\",\n",
    "  \"Explanation\": \"[Provide a brief explanation for your evaluation]\"\n",
    "}}\n",
    "\"\"\".strip()"
   ]
  },
  {
   "cell_type": "code",
   "execution_count": 133,
   "id": "8ce452ef-f696-45e6-a537-95bf06b40106",
   "metadata": {},
   "outputs": [
    {
     "data": {
      "text/html": [
       "<div>\n",
       "<style scoped>\n",
       "    .dataframe tbody tr th:only-of-type {\n",
       "        vertical-align: middle;\n",
       "    }\n",
       "\n",
       "    .dataframe tbody tr th {\n",
       "        vertical-align: top;\n",
       "    }\n",
       "\n",
       "    .dataframe thead th {\n",
       "        text-align: right;\n",
       "    }\n",
       "</style>\n",
       "<table border=\"1\" class=\"dataframe\">\n",
       "  <thead>\n",
       "    <tr style=\"text-align: right;\">\n",
       "      <th></th>\n",
       "      <th>answer_llm</th>\n",
       "      <th>answer_org</th>\n",
       "      <th>document</th>\n",
       "      <th>question</th>\n",
       "      <th>city</th>\n",
       "      <th>id</th>\n",
       "      <th>cosine</th>\n",
       "    </tr>\n",
       "  </thead>\n",
       "  <tbody>\n",
       "    <tr>\n",
       "      <th>0</th>\n",
       "      <td>The name of the oldest known pyramid in Dahshu...</td>\n",
       "      <td>29.8 31.233333 1 Dahshur Pyramids . For a cont...</td>\n",
       "      <td>f7845786</td>\n",
       "      <td>What is the name of the oldest known pyramid i...</td>\n",
       "      <td>Cairo</td>\n",
       "      <td>f7845786</td>\n",
       "      <td>0.744416</td>\n",
       "    </tr>\n",
       "    <tr>\n",
       "      <th>1</th>\n",
       "      <td>The **Red Pyramid** in Dahshur has an entrance...</td>\n",
       "      <td>29.8 31.233333 1 Dahshur Pyramids . For a cont...</td>\n",
       "      <td>f7845786</td>\n",
       "      <td>Which pyramid in Dahshur has an entrance to th...</td>\n",
       "      <td>Cairo</td>\n",
       "      <td>f7845786</td>\n",
       "      <td>0.649594</td>\n",
       "    </tr>\n",
       "    <tr>\n",
       "      <th>2</th>\n",
       "      <td>Based on the provided **CONTEXT**, the distinc...</td>\n",
       "      <td>29.8 31.233333 1 Dahshur Pyramids . For a cont...</td>\n",
       "      <td>f7845786</td>\n",
       "      <td>What is the distinctive feature of the Bent Py...</td>\n",
       "      <td>Cairo</td>\n",
       "      <td>f7845786</td>\n",
       "      <td>0.465671</td>\n",
       "    </tr>\n",
       "    <tr>\n",
       "      <th>3</th>\n",
       "      <td>Based on the provided **CONTEXT**, the followi...</td>\n",
       "      <td>29.8 31.233333 1 Dahshur Pyramids . For a cont...</td>\n",
       "      <td>f7845786</td>\n",
       "      <td>How many pyramids are mentioned to be in the D...</td>\n",
       "      <td>Cairo</td>\n",
       "      <td>f7845786</td>\n",
       "      <td>0.695287</td>\n",
       "    </tr>\n",
       "    <tr>\n",
       "      <th>4</th>\n",
       "      <td>Based on the **CONTEXT**, the atmosphere aroun...</td>\n",
       "      <td>29.8 31.233333 1 Dahshur Pyramids . For a cont...</td>\n",
       "      <td>f7845786</td>\n",
       "      <td>What is the atmosphere around Dahshur Pyramids...</td>\n",
       "      <td>Cairo</td>\n",
       "      <td>f7845786</td>\n",
       "      <td>0.734467</td>\n",
       "    </tr>\n",
       "    <tr>\n",
       "      <th>...</th>\n",
       "      <td>...</td>\n",
       "      <td>...</td>\n",
       "      <td>...</td>\n",
       "      <td>...</td>\n",
       "      <td>...</td>\n",
       "      <td>...</td>\n",
       "      <td>...</td>\n",
       "    </tr>\n",
       "    <tr>\n",
       "      <th>2710</th>\n",
       "      <td>Based on the provided **CONTEXT**, here is the...</td>\n",
       "      <td>₩15,000–35,000</td>\n",
       "      <td>feb11863</td>\n",
       "      <td>What is the estimated price range for dining o...</td>\n",
       "      <td>Seoul</td>\n",
       "      <td>feb11863</td>\n",
       "      <td>0.492113</td>\n",
       "    </tr>\n",
       "    <tr>\n",
       "      <th>2711</th>\n",
       "      <td>Based on the **CONTEXT**, you **will not** nee...</td>\n",
       "      <td>₩15,000–35,000</td>\n",
       "      <td>feb11863</td>\n",
       "      <td>Will I need more than ₩35,000 for a meal in Se...</td>\n",
       "      <td>Seoul</td>\n",
       "      <td>feb11863</td>\n",
       "      <td>0.547441</td>\n",
       "    </tr>\n",
       "    <tr>\n",
       "      <th>2712</th>\n",
       "      <td>Yes, you can easily find a meal for under ₩15,...</td>\n",
       "      <td>₩15,000–35,000</td>\n",
       "      <td>feb11863</td>\n",
       "      <td>Can I find a meal for under ₩15,000 in Seoul?</td>\n",
       "      <td>Seoul</td>\n",
       "      <td>feb11863</td>\n",
       "      <td>0.481077</td>\n",
       "    </tr>\n",
       "    <tr>\n",
       "      <th>2713</th>\n",
       "      <td>Based on the **CONTEXT**, the **lowest amount ...</td>\n",
       "      <td>₩15,000–35,000</td>\n",
       "      <td>feb11863</td>\n",
       "      <td>What is the lowest amount I can expect to spen...</td>\n",
       "      <td>Seoul</td>\n",
       "      <td>feb11863</td>\n",
       "      <td>0.494290</td>\n",
       "    </tr>\n",
       "    <tr>\n",
       "      <th>2714</th>\n",
       "      <td>Based on the provided **CONTEXT**, there is **...</td>\n",
       "      <td>₩15,000–35,000</td>\n",
       "      <td>feb11863</td>\n",
       "      <td>What is the approximate high-end cost for a me...</td>\n",
       "      <td>Seoul</td>\n",
       "      <td>feb11863</td>\n",
       "      <td>0.454236</td>\n",
       "    </tr>\n",
       "  </tbody>\n",
       "</table>\n",
       "<p>2715 rows × 7 columns</p>\n",
       "</div>"
      ],
      "text/plain": [
       "                                             answer_llm  \\\n",
       "0     The name of the oldest known pyramid in Dahshu...   \n",
       "1     The **Red Pyramid** in Dahshur has an entrance...   \n",
       "2     Based on the provided **CONTEXT**, the distinc...   \n",
       "3     Based on the provided **CONTEXT**, the followi...   \n",
       "4     Based on the **CONTEXT**, the atmosphere aroun...   \n",
       "...                                                 ...   \n",
       "2710  Based on the provided **CONTEXT**, here is the...   \n",
       "2711  Based on the **CONTEXT**, you **will not** nee...   \n",
       "2712  Yes, you can easily find a meal for under ₩15,...   \n",
       "2713  Based on the **CONTEXT**, the **lowest amount ...   \n",
       "2714  Based on the provided **CONTEXT**, there is **...   \n",
       "\n",
       "                                             answer_org  document  \\\n",
       "0     29.8 31.233333 1 Dahshur Pyramids . For a cont...  f7845786   \n",
       "1     29.8 31.233333 1 Dahshur Pyramids . For a cont...  f7845786   \n",
       "2     29.8 31.233333 1 Dahshur Pyramids . For a cont...  f7845786   \n",
       "3     29.8 31.233333 1 Dahshur Pyramids . For a cont...  f7845786   \n",
       "4     29.8 31.233333 1 Dahshur Pyramids . For a cont...  f7845786   \n",
       "...                                                 ...       ...   \n",
       "2710                                     ₩15,000–35,000  feb11863   \n",
       "2711                                     ₩15,000–35,000  feb11863   \n",
       "2712                                     ₩15,000–35,000  feb11863   \n",
       "2713                                     ₩15,000–35,000  feb11863   \n",
       "2714                                     ₩15,000–35,000  feb11863   \n",
       "\n",
       "                                               question   city        id  \\\n",
       "0     What is the name of the oldest known pyramid i...  Cairo  f7845786   \n",
       "1     Which pyramid in Dahshur has an entrance to th...  Cairo  f7845786   \n",
       "2     What is the distinctive feature of the Bent Py...  Cairo  f7845786   \n",
       "3     How many pyramids are mentioned to be in the D...  Cairo  f7845786   \n",
       "4     What is the atmosphere around Dahshur Pyramids...  Cairo  f7845786   \n",
       "...                                                 ...    ...       ...   \n",
       "2710  What is the estimated price range for dining o...  Seoul  feb11863   \n",
       "2711  Will I need more than ₩35,000 for a meal in Se...  Seoul  feb11863   \n",
       "2712      Can I find a meal for under ₩15,000 in Seoul?  Seoul  feb11863   \n",
       "2713  What is the lowest amount I can expect to spen...  Seoul  feb11863   \n",
       "2714  What is the approximate high-end cost for a me...  Seoul  feb11863   \n",
       "\n",
       "        cosine  \n",
       "0     0.744416  \n",
       "1     0.649594  \n",
       "2     0.465671  \n",
       "3     0.695287  \n",
       "4     0.734467  \n",
       "...        ...  \n",
       "2710  0.492113  \n",
       "2711  0.547441  \n",
       "2712  0.481077  \n",
       "2713  0.494290  \n",
       "2714  0.454236  \n",
       "\n",
       "[2715 rows x 7 columns]"
      ]
     },
     "execution_count": 133,
     "metadata": {},
     "output_type": "execute_result"
    }
   ],
   "source": [
    "medium_df"
   ]
  },
  {
   "cell_type": "code",
   "execution_count": 134,
   "id": "9b763957-58c9-465d-9097-19b6d5f32254",
   "metadata": {},
   "outputs": [],
   "source": [
    "record = results_medium[2000]"
   ]
  },
  {
   "cell_type": "code",
   "execution_count": 135,
   "id": "4d5305a6-f1c5-4db6-b1f7-e64030c2b85a",
   "metadata": {},
   "outputs": [
    {
     "name": "stdout",
     "output_type": "stream",
     "text": [
      "You are an expert evaluator for a Retrieval-Augmented Generation (RAG) system.\n",
      "Your task is to analyze the relevance of the generated answer compared to the original answer provided.\n",
      "Based on the relevance and similarity of the generated answer to the original answer, you will classify\n",
      "it as \"NON_RELEVANT\", \"PARTLY_RELEVANT\", or \"RELEVANT\".\n",
      "\n",
      "Here is the data for evaluation:\n",
      "\n",
      "Original Answer: Modern Centre Old Rome Vatican Colosseo North Centre Trastevere\n",
      "Generated Question: Which part of Rome is the Vatican located in?\n",
      "Generated Answer: The Vatican is located in the **Vatican** area of Rome. It is described as the **Papal City State** and its surrounding Italian neighborhood.\n",
      "\n",
      "Please analyze the content and context of the generated answer in relation to the original\n",
      "answer and provide your evaluation in parsable JSON without using code blocks:\n",
      "\n",
      "{\n",
      "  \"Relevance\": \"NON_RELEVANT\" | \"PARTLY_RELEVANT\" | \"RELEVANT\",\n",
      "  \"Explanation\": \"[Provide a brief explanation for your evaluation]\"\n",
      "}\n"
     ]
    }
   ],
   "source": [
    "prompt  = prompt1_template.format(**record)\n",
    "print(prompt)\n",
    " "
   ]
  },
  {
   "cell_type": "markdown",
   "id": "9c9b98e8-f349-4617-b582-5ba0991c5d9f",
   "metadata": {},
   "source": [
    "## Define the model that has the best perfromance to parce that one"
   ]
  },
  {
   "cell_type": "code",
   "execution_count": 141,
   "id": "bec4912c-c18f-426c-95c6-3e204e35b692",
   "metadata": {},
   "outputs": [],
   "source": [
    "def llm(prompt):\n",
    "    response = llm_client.chat.complete(\n",
    "        model=\"open-mixtral-8x7b\",\n",
    "        messages=[UserMessage(content=prompt)],\n",
    "    )\n",
    "\n",
    "\n",
    "    return response.choices[0].message.content"
   ]
  },
  {
   "cell_type": "code",
   "execution_count": 142,
   "id": "7e784276-950c-4203-8c4b-f28b389dfdef",
   "metadata": {},
   "outputs": [
    {
     "data": {
      "text/plain": [
       "'{\\n  \"Relevance\": \"PARTLY_RELEVANT\",\\n  \"Explanation\": \"The generated answer correctly identifies the location of the Vatican in Rome, but it does not match the exact phrasing or provide the same level of detail as the original answer. The generated answer refers to the Vatican as a \\'city-state\\' and mentions its \\'Italian neighborhood\\', while the original answer simply refers to it as \\'Vatican\\'. However, the key point of the answer is still relevant to the original answer.\"\\n}'"
      ]
     },
     "execution_count": 142,
     "metadata": {},
     "output_type": "execute_result"
    }
   ],
   "source": [
    "answer = llm(prompt)\n",
    "answer"
   ]
  },
  {
   "cell_type": "code",
   "execution_count": 143,
   "id": "7ee26434-b20a-4f09-8aec-cacf46462c3e",
   "metadata": {},
   "outputs": [],
   "source": [
    "import json"
   ]
  },
  {
   "cell_type": "code",
   "execution_count": 144,
   "id": "d3a89ced-2e70-45e1-a5d5-30475d474cb0",
   "metadata": {},
   "outputs": [
    {
     "data": {
      "text/plain": [
       "{'Relevance': 'PARTLY_RELEVANT',\n",
       " 'Explanation': \"The generated answer correctly identifies the location of the Vatican in Rome, but it does not match the exact phrasing or provide the same level of detail as the original answer. The generated answer refers to the Vatican as a 'city-state' and mentions its 'Italian neighborhood', while the original answer simply refers to it as 'Vatican'. However, the key point of the answer is still relevant to the original answer.\"}"
      ]
     },
     "execution_count": 144,
     "metadata": {},
     "output_type": "execute_result"
    }
   ],
   "source": [
    "json.loads(answer)"
   ]
  },
  {
   "cell_type": "code",
   "execution_count": 191,
   "id": "0c2ac4c8-2519-4da6-a35f-dbb9bea71a8d",
   "metadata": {},
   "outputs": [],
   "source": [
    "evaluations = []\n"
   ]
  },
  {
   "cell_type": "code",
   "execution_count": 202,
   "id": "0e9c1c20-101b-421e-b634-764dd918eb20",
   "metadata": {},
   "outputs": [
    {
     "name": "stderr",
     "output_type": "stream",
     "text": [
      " 10%|██████████████▏                                                                                                                           | 278/2715 [06:00<52:35,  1.30s/it]\n"
     ]
    },
    {
     "ename": "SDKError",
     "evalue": "API error occurred: Status 429\n{\"object\":\"error\",\"message\":\"Rate limit exceeded\",\"type\":\"rate_limited\",\"param\":null,\"code\":\"1300\"}",
     "output_type": "error",
     "traceback": [
      "\u001b[31m---------------------------------------------------------------------------\u001b[39m",
      "\u001b[31mSDKError\u001b[39m                                  Traceback (most recent call last)",
      "\u001b[36mCell\u001b[39m\u001b[36m \u001b[39m\u001b[32mIn[202]\u001b[39m\u001b[32m, line 4\u001b[39m\n\u001b[32m      1\u001b[39m \u001b[38;5;28;01mfor\u001b[39;00m record \u001b[38;5;129;01min\u001b[39;00m tqdm(results_medium):\n\u001b[32m      3\u001b[39m     prompt = prompt1_template.format(**record)\n\u001b[32m----> \u001b[39m\u001b[32m4\u001b[39m     evaluation = \u001b[43mllm\u001b[49m\u001b[43m(\u001b[49m\u001b[43mprompt\u001b[49m\u001b[43m)\u001b[49m\n\u001b[32m      5\u001b[39m     evaluations.append(evaluation)\n",
      "\u001b[36mCell\u001b[39m\u001b[36m \u001b[39m\u001b[32mIn[141]\u001b[39m\u001b[32m, line 2\u001b[39m, in \u001b[36mllm\u001b[39m\u001b[34m(prompt)\u001b[39m\n\u001b[32m      1\u001b[39m \u001b[38;5;28;01mdef\u001b[39;00m\u001b[38;5;250m \u001b[39m\u001b[34mllm\u001b[39m(prompt):\n\u001b[32m----> \u001b[39m\u001b[32m2\u001b[39m     response = \u001b[43mllm_client\u001b[49m\u001b[43m.\u001b[49m\u001b[43mchat\u001b[49m\u001b[43m.\u001b[49m\u001b[43mcomplete\u001b[49m\u001b[43m(\u001b[49m\n\u001b[32m      3\u001b[39m \u001b[43m        \u001b[49m\u001b[38;5;66;43;03m# model= \"open-mistral-7b\",\u001b[39;49;00m\n\u001b[32m      4\u001b[39m \u001b[43m        \u001b[49m\u001b[43mmodel\u001b[49m\u001b[43m=\u001b[49m\u001b[33;43m\"\u001b[39;49m\u001b[33;43mopen-mixtral-8x7b\u001b[39;49m\u001b[33;43m\"\u001b[39;49m\u001b[43m,\u001b[49m\n\u001b[32m      5\u001b[39m \u001b[43m        \u001b[49m\u001b[43mmessages\u001b[49m\u001b[43m=\u001b[49m\u001b[43m[\u001b[49m\u001b[43mUserMessage\u001b[49m\u001b[43m(\u001b[49m\u001b[43mcontent\u001b[49m\u001b[43m=\u001b[49m\u001b[43mprompt\u001b[49m\u001b[43m)\u001b[49m\u001b[43m]\u001b[49m\u001b[43m,\u001b[49m\n\u001b[32m      6\u001b[39m \u001b[43m    \u001b[49m\u001b[43m)\u001b[49m\n\u001b[32m      9\u001b[39m     \u001b[38;5;28;01mreturn\u001b[39;00m response.choices[\u001b[32m0\u001b[39m].message.content\n",
      "\u001b[36mFile \u001b[39m\u001b[32m/mnt/d/Travel Assistant/Musafir/venv/lib/python3.12/site-packages/mistralai/chat.py:247\u001b[39m, in \u001b[36mChat.complete\u001b[39m\u001b[34m(self, model, messages, temperature, top_p, max_tokens, stream, stop, random_seed, response_format, tools, tool_choice, presence_penalty, frequency_penalty, n, prediction, parallel_tool_calls, prompt_mode, safe_prompt, retries, server_url, timeout_ms, http_headers)\u001b[39m\n\u001b[32m    245\u001b[39m \u001b[38;5;28;01mif\u001b[39;00m utils.match_response(http_res, \u001b[33m\"\u001b[39m\u001b[33m4XX\u001b[39m\u001b[33m\"\u001b[39m, \u001b[33m\"\u001b[39m\u001b[33m*\u001b[39m\u001b[33m\"\u001b[39m):\n\u001b[32m    246\u001b[39m     http_res_text = utils.stream_to_text(http_res)\n\u001b[32m--> \u001b[39m\u001b[32m247\u001b[39m     \u001b[38;5;28;01mraise\u001b[39;00m models.SDKError(\n\u001b[32m    248\u001b[39m         \u001b[33m\"\u001b[39m\u001b[33mAPI error occurred\u001b[39m\u001b[33m\"\u001b[39m, http_res.status_code, http_res_text, http_res\n\u001b[32m    249\u001b[39m     )\n\u001b[32m    250\u001b[39m \u001b[38;5;28;01mif\u001b[39;00m utils.match_response(http_res, \u001b[33m\"\u001b[39m\u001b[33m5XX\u001b[39m\u001b[33m\"\u001b[39m, \u001b[33m\"\u001b[39m\u001b[33m*\u001b[39m\u001b[33m\"\u001b[39m):\n\u001b[32m    251\u001b[39m     http_res_text = utils.stream_to_text(http_res)\n",
      "\u001b[31mSDKError\u001b[39m: API error occurred: Status 429\n{\"object\":\"error\",\"message\":\"Rate limit exceeded\",\"type\":\"rate_limited\",\"param\":null,\"code\":\"1300\"}"
     ]
    }
   ],
   "source": [
    "for record in tqdm(results_medium):\n",
    "    \n",
    "    prompt = prompt1_template.format(**record)\n",
    "    evaluation = llm(prompt)\n",
    "    evaluations.append(evaluation)"
   ]
  },
  {
   "cell_type": "code",
   "execution_count": 201,
   "id": "0df6d6a9-3611-4f46-b78a-f431e48e1540",
   "metadata": {},
   "outputs": [
    {
     "data": {
      "text/plain": [
       "543"
      ]
     },
     "execution_count": 201,
     "metadata": {},
     "output_type": "execute_result"
    }
   ],
   "source": [
    "len(evaluations)"
   ]
  },
  {
   "cell_type": "code",
   "execution_count": 185,
   "id": "80155148-9a34-466c-8531-411aa55b1f9f",
   "metadata": {},
   "outputs": [],
   "source": [
    "# json_evaluations = []\n",
    "\n",
    "# for i, str_eval in enumerate(evaluations):\n",
    "#     json_eval = json.loads(str_eval)\n",
    "#     json_evaluations.append(json_eval)"
   ]
  },
  {
   "cell_type": "code",
   "execution_count": 187,
   "id": "3772e4c5-5762-4b05-83bd-d9a6cc9444f7",
   "metadata": {},
   "outputs": [
    {
     "data": {
      "text/plain": [
       "[{'index': 0,\n",
       "  'record_id': 'f7845786',\n",
       "  'Relevance': 'RELEVANT',\n",
       "  'Explanation': 'The generated answer correctly identifies the name of the oldest known pyramid in Dahshur as the Red Pyramid, which is consistent with the information provided in the original answer.'},\n",
       " {'index': 5,\n",
       "  'record_id': 'fca551b1',\n",
       "  'Relevance': 'RELEVANT',\n",
       "  'Explanation': 'The generated answer directly provides the coordinates of Al-Azhar Park, which is the same information as the original answer.'}]"
      ]
     },
     "execution_count": 187,
     "metadata": {},
     "output_type": "execute_result"
    }
   ],
   "source": [
    "parsed_evaluations = []\n",
    "\n",
    "for e in evaluations:\n",
    "\n",
    "    eval_json = json.loads(e[\"evaluation\"])\n",
    "    parsed_evaluations.append({\n",
    "        \"index\": e[\"index\"],\n",
    "        \"record_id\": e[\"record_id\"],\n",
    "        \"Relevance\": eval_json.get(\"Relevance\"),\n",
    "        \"Explanation\": eval_json.get(\"Explanation\")\n",
    "    })\n",
    "\n",
    "\n",
    "parsed_evaluations[:2]  "
   ]
  },
  {
   "cell_type": "code",
   "execution_count": 189,
   "id": "202abb79-6989-415d-aeb0-1a4afa35f922",
   "metadata": {},
   "outputs": [
    {
     "data": {
      "text/plain": [
       "543"
      ]
     },
     "execution_count": 189,
     "metadata": {},
     "output_type": "execute_result"
    }
   ],
   "source": [
    "len(parsed_evaluations)"
   ]
  },
  {
   "cell_type": "code",
   "execution_count": 181,
   "id": "c5e5b9e2-7a34-4ccd-bad8-1fa43e930490",
   "metadata": {},
   "outputs": [],
   "source": [
    "df_evaluations = pd.DataFrame(evaluations)"
   ]
  },
  {
   "cell_type": "code",
   "execution_count": 183,
   "id": "7d00884b-cb0b-4420-a5a8-8398e4e1482d",
   "metadata": {},
   "outputs": [
    {
     "data": {
      "text/html": [
       "<div>\n",
       "<style scoped>\n",
       "    .dataframe tbody tr th:only-of-type {\n",
       "        vertical-align: middle;\n",
       "    }\n",
       "\n",
       "    .dataframe tbody tr th {\n",
       "        vertical-align: top;\n",
       "    }\n",
       "\n",
       "    .dataframe thead th {\n",
       "        text-align: right;\n",
       "    }\n",
       "</style>\n",
       "<table border=\"1\" class=\"dataframe\">\n",
       "  <thead>\n",
       "    <tr style=\"text-align: right;\">\n",
       "      <th></th>\n",
       "      <th>index</th>\n",
       "      <th>record_id</th>\n",
       "      <th>evaluation</th>\n",
       "    </tr>\n",
       "  </thead>\n",
       "  <tbody>\n",
       "    <tr>\n",
       "      <th>0</th>\n",
       "      <td>0</td>\n",
       "      <td>f7845786</td>\n",
       "      <td>{\\n  \"Relevance\": \"RELEVANT\",\\n  \"Explanation\"...</td>\n",
       "    </tr>\n",
       "    <tr>\n",
       "      <th>1</th>\n",
       "      <td>5</td>\n",
       "      <td>fca551b1</td>\n",
       "      <td>{\\n  \"Relevance\": \"RELEVANT\",\\n  \"Explanation\"...</td>\n",
       "    </tr>\n",
       "    <tr>\n",
       "      <th>2</th>\n",
       "      <td>10</td>\n",
       "      <td>91c82200</td>\n",
       "      <td>{\\n  \"Relevance\": \"RELEVANT\",\\n  \"Explanation\"...</td>\n",
       "    </tr>\n",
       "    <tr>\n",
       "      <th>3</th>\n",
       "      <td>15</td>\n",
       "      <td>a4b7a503</td>\n",
       "      <td>{\\n  \"Relevance\": \"PARTLY_RELEVANT\",\\n  \"Expla...</td>\n",
       "    </tr>\n",
       "    <tr>\n",
       "      <th>4</th>\n",
       "      <td>20</td>\n",
       "      <td>84d1da2a</td>\n",
       "      <td>{\\n  \"Relevance\": \"RELEVANT\",\\n  \"Explanation\"...</td>\n",
       "    </tr>\n",
       "    <tr>\n",
       "      <th>...</th>\n",
       "      <td>...</td>\n",
       "      <td>...</td>\n",
       "      <td>...</td>\n",
       "    </tr>\n",
       "    <tr>\n",
       "      <th>538</th>\n",
       "      <td>2690</td>\n",
       "      <td>86841f08</td>\n",
       "      <td>{\\n  \"Relevance\": \"RELEVANT\",\\n  \"Explanation\"...</td>\n",
       "    </tr>\n",
       "    <tr>\n",
       "      <th>539</th>\n",
       "      <td>2695</td>\n",
       "      <td>6f81da78</td>\n",
       "      <td>{\\n  \"Relevance\": \"PARTLY_RELEVANT\",\\n  \"Expla...</td>\n",
       "    </tr>\n",
       "    <tr>\n",
       "      <th>540</th>\n",
       "      <td>2700</td>\n",
       "      <td>2bb90712</td>\n",
       "      <td>{\\n  \"Relevance\": \"PARTLY_RELEVANT\",\\n  \"Expla...</td>\n",
       "    </tr>\n",
       "    <tr>\n",
       "      <th>541</th>\n",
       "      <td>2705</td>\n",
       "      <td>7a40c5e2</td>\n",
       "      <td>{\\n  \"Relevance\": \"PARTLY_RELEVANT\",\\n  \"Expla...</td>\n",
       "    </tr>\n",
       "    <tr>\n",
       "      <th>542</th>\n",
       "      <td>2710</td>\n",
       "      <td>feb11863</td>\n",
       "      <td>{\\n  \"Relevance\": \"PARTLY_RELEVANT\",\\n  \"Expla...</td>\n",
       "    </tr>\n",
       "  </tbody>\n",
       "</table>\n",
       "<p>543 rows × 3 columns</p>\n",
       "</div>"
      ],
      "text/plain": [
       "     index record_id                                         evaluation\n",
       "0        0  f7845786  {\\n  \"Relevance\": \"RELEVANT\",\\n  \"Explanation\"...\n",
       "1        5  fca551b1  {\\n  \"Relevance\": \"RELEVANT\",\\n  \"Explanation\"...\n",
       "2       10  91c82200  {\\n  \"Relevance\": \"RELEVANT\",\\n  \"Explanation\"...\n",
       "3       15  a4b7a503  {\\n  \"Relevance\": \"PARTLY_RELEVANT\",\\n  \"Expla...\n",
       "4       20  84d1da2a  {\\n  \"Relevance\": \"RELEVANT\",\\n  \"Explanation\"...\n",
       "..     ...       ...                                                ...\n",
       "538   2690  86841f08  {\\n  \"Relevance\": \"RELEVANT\",\\n  \"Explanation\"...\n",
       "539   2695  6f81da78  {\\n  \"Relevance\": \"PARTLY_RELEVANT\",\\n  \"Expla...\n",
       "540   2700  2bb90712  {\\n  \"Relevance\": \"PARTLY_RELEVANT\",\\n  \"Expla...\n",
       "541   2705  7a40c5e2  {\\n  \"Relevance\": \"PARTLY_RELEVANT\",\\n  \"Expla...\n",
       "542   2710  feb11863  {\\n  \"Relevance\": \"PARTLY_RELEVANT\",\\n  \"Expla...\n",
       "\n",
       "[543 rows x 3 columns]"
      ]
     },
     "execution_count": 183,
     "metadata": {},
     "output_type": "execute_result"
    }
   ],
   "source": [
    "df_evaluations"
   ]
  },
  {
   "cell_type": "code",
   "execution_count": 182,
   "id": "9e19819b-f084-4bc6-a1cb-9c3f2d49d442",
   "metadata": {},
   "outputs": [
    {
     "ename": "AttributeError",
     "evalue": "'DataFrame' object has no attribute 'Relevance'",
     "output_type": "error",
     "traceback": [
      "\u001b[31m---------------------------------------------------------------------------\u001b[39m",
      "\u001b[31mAttributeError\u001b[39m                            Traceback (most recent call last)",
      "\u001b[32m/tmp/ipykernel_3007/3822601223.py\u001b[39m in \u001b[36m?\u001b[39m\u001b[34m()\u001b[39m\n\u001b[32m----> \u001b[39m\u001b[32m1\u001b[39m df_evaluations.Relevance.value_counts()\n",
      "\u001b[32m/mnt/d/Travel Assistant/Musafir/venv/lib/python3.12/site-packages/pandas/core/generic.py\u001b[39m in \u001b[36m?\u001b[39m\u001b[34m(self, name)\u001b[39m\n\u001b[32m   6314\u001b[39m             \u001b[38;5;28;01mand\u001b[39;00m name \u001b[38;5;28;01mnot\u001b[39;00m \u001b[38;5;28;01min\u001b[39;00m self._accessors\n\u001b[32m   6315\u001b[39m             \u001b[38;5;28;01mand\u001b[39;00m self._info_axis._can_hold_identifiers_and_holds_name(name)\n\u001b[32m   6316\u001b[39m         ):\n\u001b[32m   6317\u001b[39m             \u001b[38;5;28;01mreturn\u001b[39;00m self[name]\n\u001b[32m-> \u001b[39m\u001b[32m6318\u001b[39m         \u001b[38;5;28;01mreturn\u001b[39;00m object.__getattribute__(self, name)\n",
      "\u001b[31mAttributeError\u001b[39m: 'DataFrame' object has no attribute 'Relevance'"
     ]
    }
   ],
   "source": [
    "df_evaluations.Relevance.value_counts()"
   ]
  },
  {
   "cell_type": "markdown",
   "id": "f25e97db-2e9c-407e-9cc2-35d6834f446c",
   "metadata": {},
   "source": [
    "## Second prompt "
   ]
  },
  {
   "cell_type": "code",
   "execution_count": null,
   "id": "f01a247f-5d1d-4421-8157-642a5c52c324",
   "metadata": {},
   "outputs": [],
   "source": [
    "evaluations_2 = []\n"
   ]
  },
  {
   "cell_type": "code",
   "execution_count": null,
   "id": "bd497561-3557-44e7-b13c-75201d59bf98",
   "metadata": {},
   "outputs": [],
   "source": [
    "for i, record in enumerate(tqdm(results_medium)):\n",
    "    if i in evaluations:\n",
    "        continue\n",
    "        \n",
    "    prompt = prompt2_template.format(**record)\n",
    "    evaluation = llm(prompt)\n",
    "    evaluations_2.append(evaluation)"
   ]
  },
  {
   "cell_type": "code",
   "execution_count": null,
   "id": "7414799c-8a8c-4c8d-b258-99297dd0f9cb",
   "metadata": {},
   "outputs": [],
   "source": [
    "json_evaluations_2 = []\n",
    "\n",
    "for i, str_eval in enumerate(evaluations_2):\n",
    "    json_eval = json.loads(str_eval)\n",
    "    json_evaluations_2.append(json_eval)"
   ]
  },
  {
   "cell_type": "code",
   "execution_count": null,
   "id": "7643ca9c-a3f9-4168-b05a-236394220a8d",
   "metadata": {},
   "outputs": [],
   "source": [
    "df_evaluations_2 = pd.DataFrame(json_evaluations_2)"
   ]
  },
  {
   "cell_type": "code",
   "execution_count": null,
   "id": "b85f07fe-80cb-4ddd-8f94-33c4ea34a587",
   "metadata": {},
   "outputs": [],
   "source": [
    "df_evaluations_2.Relevance.value_counts()"
   ]
  },
  {
   "cell_type": "code",
   "execution_count": null,
   "id": "62444875-e707-4ded-b202-44295fde43fe",
   "metadata": {},
   "outputs": [],
   "source": []
  },
  {
   "cell_type": "markdown",
   "id": "34edebc5-ef5c-484a-9f3b-1981e45b8478",
   "metadata": {},
   "source": [
    "# Saving all the data"
   ]
  },
  {
   "cell_type": "code",
   "execution_count": null,
   "id": "daf7f5f1-01e8-472a-aae8-a1c0e958904e",
   "metadata": {},
   "outputs": [],
   "source": [
    "df_evaluations.to_csv('data/evaluations-aqa.csv', index=False)\n",
    "df_evaluations_2.to_csv('data/evaluations-qa.csv', index=False)"
   ]
  }
 ],
 "metadata": {
  "kernelspec": {
   "display_name": "Python 3 (ipykernel)",
   "language": "python",
   "name": "python3"
  },
  "language_info": {
   "codemirror_mode": {
    "name": "ipython",
    "version": 3
   },
   "file_extension": ".py",
   "mimetype": "text/x-python",
   "name": "python",
   "nbconvert_exporter": "python",
   "pygments_lexer": "ipython3",
   "version": "3.12.2"
  }
 },
 "nbformat": 4,
 "nbformat_minor": 5
}
